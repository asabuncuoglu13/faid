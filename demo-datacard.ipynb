{
 "cells": [
  {
   "cell_type": "markdown",
   "metadata": {},
   "source": [
    "# Using ML Croissant with FAID\n",
    "\n",
    "ML Croissant is a \n",
    "\n",
    "We can also use directly its RAI specification, if the author of the dataset entered the details.\n",
    "https://docs.mlcommons.org/croissant/docs/croissant-rai-spec.html\n",
    "\n",
    "On their web page, the authors specify the the use cases of Croissant's metadata in RAI as follows:\n",
    "\n",
    "| RAI use case                         | Croissant RAI properties                                                                 | Croissant properties                                                                                                                                                 | Schema.org properties                                                                                                           |\n",
    "|--------------------------------------|------------------------------------------------------------------------------------------|----------------------------------------------------------------------------------------------------------------------------------------------------------------------|-------------------------------------------------------------------------------------------------------------------------------|\n",
    "| Use case 1: The data life cycle      | rai:dataLimitations<br>rai:dataCollection<br>rai:useCases<br>rai:dataReleaseMaintenance   | cr:[distribution](http://schema.org/distribution)<br>cr:[isLiveDataset](https://mlcommons.org/croissant/1.0#modified-and-added-properties)<br>cr:[citeAs](https://mlcommons.org/croissant/1.0#modified-and-added-properties)    | sc:[creator](http://schema.org/creator)<br>sc:[publisher](http://schema.org/publisher)<br>sc:[datePublished](http://schema.org/datePublished)<br>sc:[dateCreated](http://schema.org/dateCreated)<br>sc:[dateModified](http://schema.org/dateModified)<br>sc:[version](http://schema.org/version)<br>sc:[license](http://schema.org/license)<br>sc:[maintainer](https://schema.org/maintainer) |\n",
    "| Use case 2: Data labeling            | rai:annotationPlatform<br>rai:annotationsPerItem<br>rai:annotatorDemographics<br>rai:machineAnnotationTools   | cr:[distribution](http://schema.org/distribution)<br>cr:[isLiveDataset](https://mlcommons.org/croissant/1.0#modified-and-added-properties)<br>[cr:Label](https://mlcommons.org/croissant/1.0#label-data)       |                                                                                                                               |\n",
    "| Use case 3: Participatory data       | rai:annotationPlatform<br>rai:annotatorDemographics                                       |                                                                                                                                                                      | sc:[participant](https://schema.org/participant)<br>sc:[contributor](https://schema.org/contributor)                         |\n",
    "| Use case 4: AI safety and fairness   | rai:dataLimitations<br>rai:dataBiases<br>rai:useCases<br>rai:personalSensitiveInformation |                                                                                                                                                                      | sc:[diversityPolicy](https://schema.org/diversityPolicy)<br>sc:[ethicsPolicy](https://schema.org/ethicsPolicy)<br>sc:[inLanguage](https://schema.org/inLanguage) |\n",
    "| Use case 5: Traceability             |                                                                                          |                                                                                                                                                                      |                                                                                                                               |\n",
    "| Use case 6: Regulatory compliance    | rai:personalSensitiveInformation<br>rai:useCases<br>rai:dataReleaseMaintenance<br>rai:dataManipulationProtocol<br>rai:dataManipulationProtocol |                                                                                                                                                                      |                                                                                                                               |\n",
    "| Use case 7: Inclusion                |                                                                                          |                                                                                                                                                                      |                                                                                                                               |\n",
    "\n"
   ]
  },
  {
   "cell_type": "code",
   "execution_count": 1,
   "metadata": {},
   "outputs": [
    {
     "name": "stderr",
     "output_type": "stream",
     "text": [
      "WARNING:absl:WARNING: The JSON-LD `@context` is not standard. Refer to the official @context (e.g., from the example datasets in https://github.com/mlcommons/croissant/tree/main/datasets/1.0). The different keys are: {'examples', 'rai'}\n",
      "WARNING:absl:Found the following 3 warning(s) during the validation:\n",
      "  -  [Metadata(prism-alignment)] Property \"http://mlcommons.org/croissant/citeAs\" is recommended, but does not exist.\n",
      "  -  [Metadata(prism-alignment)] Property \"https://schema.org/datePublished\" is recommended, but does not exist.\n",
      "  -  [Metadata(prism-alignment)] Property \"https://schema.org/version\" is recommended, but does not exist.\n"
     ]
    }
   ],
   "source": [
    "from mlcroissant import Dataset\n",
    "\n",
    "ds = Dataset(jsonld=\"https://huggingface.co/api/datasets/HannahRoseKirk/prism-alignment/croissant\")\n",
    "records = ds.records(\"conversations\")"
   ]
  },
  {
   "cell_type": "code",
   "execution_count": 2,
   "metadata": {},
   "outputs": [],
   "source": [
    "meta = ds.metadata.to_json()"
   ]
  },
  {
   "cell_type": "code",
   "execution_count": 3,
   "metadata": {},
   "outputs": [
    {
     "data": {
      "text/plain": [
       "dict_keys(['@context', '@type', 'name', 'description', 'conformsTo', 'creator', 'keywords', 'license', 'url', 'distribution', 'recordSet'])"
      ]
     },
     "execution_count": 3,
     "metadata": {},
     "output_type": "execute_result"
    }
   ],
   "source": [
    "meta.keys()"
   ]
  },
  {
   "cell_type": "code",
   "execution_count": 4,
   "metadata": {},
   "outputs": [
    {
     "data": {
      "text/plain": [
       "'http://mlcommons.org/croissant/1.0'"
      ]
     },
     "execution_count": 4,
     "metadata": {},
     "output_type": "execute_result"
    }
   ],
   "source": [
    "meta[\"conformsTo\"] # If dataset conforms to \"http://mlcommons.org/croissant/RAI/1.0\" it includes RAI properties"
   ]
  },
  {
   "cell_type": "code",
   "execution_count": 5,
   "metadata": {},
   "outputs": [
    {
     "name": "stdout",
     "output_type": "stream",
     "text": [
      "prism-alignment\n",
      "-----Dataset Card for PRISM---PRISM is a diverse human feedback dataset for preference and value alignment in Large Language Models (LLMs).-It maps the characteristics and stated preferences of humans from a detailed survey onto their real-time interactions with LLMs and contextual preference ratings------Dataset Details---There are two sequential stages: first, participants complete a Survey where they answer questions about their demographics and stated preferences, then… See the full description on the dataset page: https://huggingface.co/datasets/HannahRoseKirk/prism-alignment.\n",
      "https://choosealicense.com/licenses/cc/\n"
     ]
    }
   ],
   "source": [
    "print(meta[\"name\"])\n",
    "print(meta[\"description\"].replace(\"\\n\", \"-\").replace(\"\\t\", \"\"))\n",
    "print(meta[\"license\"])"
   ]
  },
  {
   "cell_type": "code",
   "execution_count": 6,
   "metadata": {},
   "outputs": [
    {
     "data": {
      "text/html": [
       "<div>\n",
       "<style scoped>\n",
       "    .dataframe tbody tr th:only-of-type {\n",
       "        vertical-align: middle;\n",
       "    }\n",
       "\n",
       "    .dataframe tbody tr th {\n",
       "        vertical-align: top;\n",
       "    }\n",
       "\n",
       "    .dataframe thead th {\n",
       "        text-align: right;\n",
       "    }\n",
       "</style>\n",
       "<table border=\"1\" class=\"dataframe\">\n",
       "  <thead>\n",
       "    <tr style=\"text-align: right;\">\n",
       "      <th></th>\n",
       "      <th>conversations/conversation_id</th>\n",
       "      <th>conversations/user_id</th>\n",
       "      <th>conversations/conversation_type</th>\n",
       "      <th>conversations/opening_prompt</th>\n",
       "      <th>conversations/conversation_turns</th>\n",
       "      <th>conversations/open_feedback</th>\n",
       "      <th>conversations/timing_duration_s</th>\n",
       "      <th>conversations/timing_duration_mins</th>\n",
       "      <th>conversations/included_in_balanced_subset</th>\n",
       "    </tr>\n",
       "  </thead>\n",
       "  <tbody>\n",
       "    <tr>\n",
       "      <th>0</th>\n",
       "      <td>b'c0'</td>\n",
       "      <td>b'user0'</td>\n",
       "      <td>b'unguided'</td>\n",
       "      <td>b'What can you do about the inequality  of wea...</td>\n",
       "      <td>5</td>\n",
       "      <td>b'Shorter blocks would  be nice.  but has  to ...</td>\n",
       "      <td>401.07</td>\n",
       "      <td>6.68</td>\n",
       "      <td>False</td>\n",
       "    </tr>\n",
       "    <tr>\n",
       "      <th>1</th>\n",
       "      <td>b'c1'</td>\n",
       "      <td>b'user1'</td>\n",
       "      <td>b'unguided'</td>\n",
       "      <td>b'What can I do to start making extra money on...</td>\n",
       "      <td>2</td>\n",
       "      <td>b'The first time I responded to the second que...</td>\n",
       "      <td>642.97</td>\n",
       "      <td>10.72</td>\n",
       "      <td>True</td>\n",
       "    </tr>\n",
       "    <tr>\n",
       "      <th>2</th>\n",
       "      <td>b'c2'</td>\n",
       "      <td>b'user4'</td>\n",
       "      <td>b'controversy guided'</td>\n",
       "      <td>b'Who is right in the Hamas-Israeli war?  Hama...</td>\n",
       "      <td>2</td>\n",
       "      <td>b'The AI stance is taking more of a neutral st...</td>\n",
       "      <td>362.35</td>\n",
       "      <td>6.04</td>\n",
       "      <td>True</td>\n",
       "    </tr>\n",
       "    <tr>\n",
       "      <th>3</th>\n",
       "      <td>b'c3'</td>\n",
       "      <td>b'user6'</td>\n",
       "      <td>b'unguided'</td>\n",
       "      <td>b'Hello'</td>\n",
       "      <td>2</td>\n",
       "      <td>b'It would make thing easier if the AI include...</td>\n",
       "      <td>393.35</td>\n",
       "      <td>6.56</td>\n",
       "      <td>True</td>\n",
       "    </tr>\n",
       "    <tr>\n",
       "      <th>4</th>\n",
       "      <td>b'c4'</td>\n",
       "      <td>b'user2'</td>\n",
       "      <td>b'unguided'</td>\n",
       "      <td>b'How do I become financially stable on a low ...</td>\n",
       "      <td>2</td>\n",
       "      <td>b'I had a good conversation overall. It would ...</td>\n",
       "      <td>765.24</td>\n",
       "      <td>12.75</td>\n",
       "      <td>True</td>\n",
       "    </tr>\n",
       "  </tbody>\n",
       "</table>\n",
       "</div>"
      ],
      "text/plain": [
       "  conversations/conversation_id conversations/user_id  \\\n",
       "0                         b'c0'              b'user0'   \n",
       "1                         b'c1'              b'user1'   \n",
       "2                         b'c2'              b'user4'   \n",
       "3                         b'c3'              b'user6'   \n",
       "4                         b'c4'              b'user2'   \n",
       "\n",
       "  conversations/conversation_type  \\\n",
       "0                     b'unguided'   \n",
       "1                     b'unguided'   \n",
       "2           b'controversy guided'   \n",
       "3                     b'unguided'   \n",
       "4                     b'unguided'   \n",
       "\n",
       "                        conversations/opening_prompt  \\\n",
       "0  b'What can you do about the inequality  of wea...   \n",
       "1  b'What can I do to start making extra money on...   \n",
       "2  b'Who is right in the Hamas-Israeli war?  Hama...   \n",
       "3                                           b'Hello'   \n",
       "4  b'How do I become financially stable on a low ...   \n",
       "\n",
       "   conversations/conversation_turns  \\\n",
       "0                                 5   \n",
       "1                                 2   \n",
       "2                                 2   \n",
       "3                                 2   \n",
       "4                                 2   \n",
       "\n",
       "                         conversations/open_feedback  \\\n",
       "0  b'Shorter blocks would  be nice.  but has  to ...   \n",
       "1  b'The first time I responded to the second que...   \n",
       "2  b'The AI stance is taking more of a neutral st...   \n",
       "3  b'It would make thing easier if the AI include...   \n",
       "4  b'I had a good conversation overall. It would ...   \n",
       "\n",
       "   conversations/timing_duration_s  conversations/timing_duration_mins  \\\n",
       "0                           401.07                                6.68   \n",
       "1                           642.97                               10.72   \n",
       "2                           362.35                                6.04   \n",
       "3                           393.35                                6.56   \n",
       "4                           765.24                               12.75   \n",
       "\n",
       "   conversations/included_in_balanced_subset  \n",
       "0                                      False  \n",
       "1                                       True  \n",
       "2                                       True  \n",
       "3                                       True  \n",
       "4                                       True  "
      ]
     },
     "execution_count": 6,
     "metadata": {},
     "output_type": "execute_result"
    }
   ],
   "source": [
    "# You can even directly call rows directly from huggingface using the croissant metadata information\n",
    "import itertools\n",
    "import pandas as pd\n",
    "\n",
    "df = pd.DataFrame(list(itertools.islice(records, 10)))\n",
    "df.head()"
   ]
  },
  {
   "cell_type": "code",
   "execution_count": 7,
   "metadata": {},
   "outputs": [
    {
     "name": "stdout",
     "output_type": "stream",
     "text": [
      "{'dataset_name': 'prism-alignment', 'summary': '\\n\\t\\n\\t\\t\\n\\t\\n\\t\\n\\t\\tDataset Card for PRISM\\n\\t\\n\\nPRISM is a diverse human feedback dataset for preference and value alignment in Large Language Models (LLMs).\\nIt maps the characteristics and stated preferences of humans from a detailed survey onto their real-time interactions with LLMs and contextual preference ratings\\n\\n\\t\\n\\t\\t\\n\\t\\n\\t\\n\\t\\tDataset Details\\n\\t\\n\\nThere are two sequential stages: first, participants complete a Survey where they answer questions about their demographics and stated preferences, then… See the full description on the dataset page: https://huggingface.co/datasets/HannahRoseKirk/prism-alignment.', 'dataset_link': 'https://huggingface.co/datasets/HannahRoseKirk/prism-alignment', 'authors': '', 'publishing_organization': '', 'industry_types': [], 'publishing_poc': {}, 'dataset_owners': {'@type': 'sc:Person', 'name': 'Hannah Rose Kirk', 'url': 'https://huggingface.co/HannahRoseKirk'}, 'dataset_authors': [''], 'funding_sources': [], 'data_subjects': [], 'dataset_snapshot': {'Total Records': '', 'Coverage': '', 'Time Span': ''}, 'content_description': '', 'descriptive_statistics': {'fields': [], 'stats': []}, 'sensitivity_types': [], 'intentional_sensitive_data': [], 'unintentional_sensitive_data': [], 'security_privacy_handling': '', 'risk_types': [], 'risks_mitigations': '', 'maintenance_status': '', 'version_details': {'current_version': '', 'last_updated': '', 'release_date': ''}, 'maintenance_plan': '', 'next_update': {'version_affected': '', 'next_data_update': '', 'next_version': '', 'next_version_update': ''}, 'expected_changes': '', 'primary_data_modality': '', 'sampling_data_points': [{'conversations/conversation_id': {0: b'c0', 1: b'c1', 2: b'c2', 3: b'c3', 4: b'c4'}, 'conversations/user_id': {0: b'user0', 1: b'user1', 2: b'user4', 3: b'user6', 4: b'user2'}, 'conversations/conversation_type': {0: b'unguided', 1: b'unguided', 2: b'controversy guided', 3: b'unguided', 4: b'unguided'}, 'conversations/opening_prompt': {0: b'What can you do about the inequality  of wealth?', 1: b'What can I do to start making extra money on the side to reduce my credit card debt?', 2: b'Who is right in the Hamas-Israeli war?  Hamas or the Israelis?', 3: b'Hello', 4: b'How do I become financially stable on a low income'}, 'conversations/conversation_turns': {0: 5, 1: 2, 2: 2, 3: 2, 4: 2}, 'conversations/open_feedback': {0: b'Shorter blocks would  be nice.  but has  to have enough info.', 1: b'The first time I responded to the second question, it did not return a result and just went back to the same screen like I had not send the request. When it did finally generate the second response, the first option was totally blank. Overall though, on the good choices, I valued the information that was given and can see using it myself.', 2: b'The AI stance is taking more of a neutral stance on this stance.  While it understands that Israel has a right to defend the atrocities that Hamas first initiated, it also recognizes the barbaric targeting and killing of innocent Palestinians.  There is no right side but peace, diplomacy and the well-being of the innocent must be prioritized.', 3: b'It would make thing easier if the AI included its sources when responding', 4: b'I had a good conversation overall. It would be nice if the model could include some personalized questions to help narrow down the results, questions such as age, gender, level of education, basic yearly income '}, 'conversations/timing_duration_s': {0: 401.07, 1: 642.97, 2: 362.35, 3: 393.35, 4: 765.24}, 'conversations/timing_duration_mins': {0: 6.68, 1: 10.72, 2: 6.04, 3: 6.56, 4: 12.75}, 'conversations/included_in_balanced_subset': {0: False, 1: True, 2: True, 3: True, 4: True}}], 'data_fields': ['conversations/conversation_id', 'conversations/user_id', 'conversations/conversation_type', 'conversations/opening_prompt', 'conversations/conversation_turns', 'conversations/open_feedback', 'conversations/timing_duration_s', 'conversations/timing_duration_mins', 'conversations/included_in_balanced_subset'], 'typical_data_point': ''}\n"
     ]
    }
   ],
   "source": [
    "from faid.faidlog import faidlog\n",
    "# Generate a report-friendly summary of the dataset\n",
    "dataset_info = faidlog.pretty_croissant(ds)\n",
    "print(dataset_info)"
   ]
  },
  {
   "cell_type": "code",
   "execution_count": 8,
   "metadata": {},
   "outputs": [],
   "source": [
    "from faid.report.report_utils import generate_data_card\n",
    "generate_data_card(dataset_info, \"prism_alignment_data_card.html\")"
   ]
  },
  {
   "cell_type": "code",
   "execution_count": null,
   "metadata": {},
   "outputs": [],
   "source": []
  }
 ],
 "metadata": {
  "kernelspec": {
   "display_name": ".venv",
   "language": "python",
   "name": "python3"
  },
  "language_info": {
   "codemirror_mode": {
    "name": "ipython",
    "version": 3
   },
   "file_extension": ".py",
   "mimetype": "text/x-python",
   "name": "python",
   "nbconvert_exporter": "python",
   "pygments_lexer": "ipython3",
   "version": "3.10.4"
  }
 },
 "nbformat": 4,
 "nbformat_minor": 2
}
