{
 "cells": [
  {
   "cell_type": "code",
   "execution_count": 22,
   "metadata": {},
   "outputs": [],
   "source": [
    "import pandas\n",
    "\n",
    "csv_path = \"./data/german_credit_data.csv\"\n",
    "dataframe = pandas.read_csv(csv_path)\n",
    "\n",
    "batch_parameters = {\"dataframe\": dataframe}"
   ]
  },
  {
   "cell_type": "code",
   "execution_count": 23,
   "metadata": {},
   "outputs": [],
   "source": [
    "import great_expectations as gx\n",
    "context = gx.get_context()"
   ]
  },
  {
   "cell_type": "code",
   "execution_count": 24,
   "metadata": {},
   "outputs": [
    {
     "data": {
      "application/vnd.jupyter.widget-view+json": {
       "model_id": "91e9bf155d0947e4a74abfa0c2b13928",
       "version_major": 2,
       "version_minor": 0
      },
      "text/plain": [
       "Calculating Metrics:   0%|          | 0/7 [00:00<?, ?it/s]"
      ]
     },
     "metadata": {},
     "output_type": "display_data"
    },
    {
     "name": "stdout",
     "output_type": "stream",
     "text": [
      "{\n",
      "  \"success\": false,\n",
      "  \"expectation_config\": {\n",
      "    \"type\": \"expect_column_proportion_of_unique_values_to_be_between\",\n",
      "    \"kwargs\": {\n",
      "      \"batch_id\": \"credit_score_source-credit_score_data_asset\",\n",
      "      \"column\": \"Sex\",\n",
      "      \"min_value\": 0.4,\n",
      "      \"max_value\": 0.6\n",
      "    },\n",
      "    \"meta\": {}\n",
      "  },\n",
      "  \"result\": {\n",
      "    \"observed_value\": 0.002\n",
      "  },\n",
      "  \"meta\": {},\n",
      "  \"exception_info\": {\n",
      "    \"raised_exception\": false,\n",
      "    \"exception_traceback\": null,\n",
      "    \"exception_message\": null\n",
      "  }\n",
      "}\n"
     ]
    }
   ],
   "source": [
    "# Retrieve the dataframe Batch Definition\n",
    "data_source_name = \"credit_score_source\"\n",
    "data_source = context.data_sources.add_pandas(name=data_source_name)\n",
    "\n",
    "data_asset_name = \"credit_score_data_asset\"\n",
    "data_asset = data_source.add_dataframe_asset(name=data_asset_name)\n",
    "\n",
    "batch_definition_name = \"credit_score_batch_definition\"\n",
    "batch_definition = data_asset.add_batch_definition_whole_dataframe(\n",
    "    batch_definition_name\n",
    ")\n",
    "# Create an Expectation to test\n",
    "exp1 = gx.expectations.ExpectColumnValuesToBeBetween(\n",
    "    column=\"Age\", max_value=100, min_value=18\n",
    ")\n",
    "\n",
    "exp2 = gx.expectations.ExpectColumnProportionOfUniqueValuesToBeBetween(\n",
    "    column=\"Sex\",\n",
    "    min_value=0.4,\n",
    "    max_value=0.6\n",
    ")\n",
    "\n",
    "# Get the dataframe as a Batch\n",
    "batch = batch_definition.get_batch(batch_parameters=batch_parameters)\n",
    "\n",
    "# Test the Expectation\n",
    "validation_results = batch.validate(exp2)\n",
    "print(validation_results)"
   ]
  },
  {
   "cell_type": "code",
   "execution_count": null,
   "metadata": {},
   "outputs": [],
   "source": []
  }
 ],
 "metadata": {
  "kernelspec": {
   "display_name": ".venv",
   "language": "python",
   "name": "python3"
  },
  "language_info": {
   "codemirror_mode": {
    "name": "ipython",
    "version": 3
   },
   "file_extension": ".py",
   "mimetype": "text/x-python",
   "name": "python",
   "nbconvert_exporter": "python",
   "pygments_lexer": "ipython3",
   "version": "3.10.4"
  }
 },
 "nbformat": 4,
 "nbformat_minor": 2
}
