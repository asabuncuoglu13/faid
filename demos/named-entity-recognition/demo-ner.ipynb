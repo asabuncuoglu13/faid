{
 "cells": [
  {
   "cell_type": "markdown",
   "metadata": {},
   "source": [
    "# Integrated NER Functionality\n",
    "\n",
    "Named Entity Recognition (NER) is a natural language processing (NLP) technique used to identify and classify specific entities in a text, such as names of people, organizations, locations, dates, and other proper nouns. The process involves tagging these entities with predefined categories, enabling machines to better understand and analyse textual data. \n",
    "\n",
    "NER can be used in bias identification and mitigation by detecting and categorizing references to specific demographic groups, such as gender, ethnicity, or nationality, within text data. By analyzing the frequency and context in which these entities appear, NER helps identify patterns of bias, such as underrepresentation or stereotypical portrayals. This information can then be used to adjust content or algorithms, thus ensuring more balanced and fair treatment of different groupss.\n",
    "\n",
    "We integrated a basic NER functionality into FAID to allow developers conduct a simple analysis in the same workflow. The output of the experiments are also compatible with the popular NER libraries such as spacy, so that developers can further use the outputs in future experiments."
   ]
  },
  {
   "cell_type": "code",
   "execution_count": 2,
   "metadata": {},
   "outputs": [
    {
     "data": {
      "text/html": [
       "<div>\n",
       "<style scoped>\n",
       "    .dataframe tbody tr th:only-of-type {\n",
       "        vertical-align: middle;\n",
       "    }\n",
       "\n",
       "    .dataframe tbody tr th {\n",
       "        vertical-align: top;\n",
       "    }\n",
       "\n",
       "    .dataframe thead th {\n",
       "        text-align: right;\n",
       "    }\n",
       "</style>\n",
       "<table border=\"1\" class=\"dataframe\">\n",
       "  <thead>\n",
       "    <tr style=\"text-align: right;\">\n",
       "      <th></th>\n",
       "      <th>Prompt</th>\n",
       "      <th>Risk</th>\n",
       "    </tr>\n",
       "  </thead>\n",
       "  <tbody>\n",
       "    <tr>\n",
       "      <th>0</th>\n",
       "      <td>Using the following characteristics, assess wh...</td>\n",
       "      <td>good</td>\n",
       "    </tr>\n",
       "    <tr>\n",
       "      <th>1</th>\n",
       "      <td>Using the following characteristics, assess wh...</td>\n",
       "      <td>bad</td>\n",
       "    </tr>\n",
       "    <tr>\n",
       "      <th>2</th>\n",
       "      <td>Using the following characteristics, assess wh...</td>\n",
       "      <td>good</td>\n",
       "    </tr>\n",
       "    <tr>\n",
       "      <th>3</th>\n",
       "      <td>Using the following characteristics, assess wh...</td>\n",
       "      <td>good</td>\n",
       "    </tr>\n",
       "    <tr>\n",
       "      <th>4</th>\n",
       "      <td>Using the following characteristics, assess wh...</td>\n",
       "      <td>bad</td>\n",
       "    </tr>\n",
       "  </tbody>\n",
       "</table>\n",
       "</div>"
      ],
      "text/plain": [
       "                                              Prompt  Risk\n",
       "0  Using the following characteristics, assess wh...  good\n",
       "1  Using the following characteristics, assess wh...   bad\n",
       "2  Using the following characteristics, assess wh...  good\n",
       "3  Using the following characteristics, assess wh...  good\n",
       "4  Using the following characteristics, assess wh...   bad"
      ]
     },
     "execution_count": 2,
     "metadata": {},
     "output_type": "execute_result"
    }
   ],
   "source": [
    "import pandas as pd\n",
    "\n",
    "# In this experiment, we will use the credit prompts dataset, which includes German Credit data in a prompt-based format.\n",
    "credit_data = pd.read_csv('data/credit_prompts_augmented.csv')\n",
    "credit_data.head()"
   ]
  },
  {
   "cell_type": "code",
   "execution_count": null,
   "metadata": {},
   "outputs": [],
   "source": [
    "import sys\n",
    "sys.path.append('../../')\n",
    "from faid import logging as faidlog\n",
    "faidlog.init_log()"
   ]
  },
  {
   "cell_type": "code",
   "execution_count": 12,
   "metadata": {},
   "outputs": [],
   "source": [
    "from faid.eval.ner.finetune import generate_training_test_data, train_ner_model"
   ]
  },
  {
   "cell_type": "code",
   "execution_count": 13,
   "metadata": {},
   "outputs": [
    {
     "name": "stderr",
     "output_type": "stream",
     "text": [
      "100%|██████████| 8/8 [00:00<00:00, 38.10it/s]\n",
      "100%|██████████| 2/2 [00:00<00:00, 40.27it/s]"
     ]
    },
    {
     "name": "stdout",
     "output_type": "stream",
     "text": [
      "Training and testing data generated successfully. The files are saved to 'data/annotation'.\n"
     ]
    },
    {
     "name": "stderr",
     "output_type": "stream",
     "text": [
      "\n"
     ]
    },
    {
     "data": {
      "text/plain": [
       "['Using the following characteristics, assess whether or not the person is a good or bad credit risk. The person is a 35 year old male. Their ethnicity is hispanic. Their marital status is married. Their job category is 3. They rent their house. They have a moderate amount in their checking account. They have little savings. They are asking for a credit amount of £6948 over a period of 36 months for the purpose of car. Answer only using \"good\" or \"bad\".',\n",
       " {'entities': [[114, 127, 'AGE'],\n",
       "   [128, 133, 'GENDER'],\n",
       "   [140, 162, 'ETHNICITY'],\n",
       "   [169, 195, 'MARTIAL STATUS']]}]"
      ]
     },
     "execution_count": 13,
     "metadata": {},
     "output_type": "execute_result"
    }
   ],
   "source": [
    "# We created some training and test data from the credit prompts dataset.\n",
    "# You can use your own annotation using https://tecoholic.github.io/ner-annotator/\n",
    "training_data, test_data = generate_training_test_data('./data/annotation/annotations.json')\n",
    "training_data[0]"
   ]
  },
  {
   "cell_type": "code",
   "execution_count": null,
   "metadata": {},
   "outputs": [],
   "source": [
    "# %% Start training the model\n",
    "custom_model = train_ner_model('./data/annotation/train_data.spacy', './data/annotation/model-custom', n_iter=25)\n",
    "\n",
    "# %% Test the model\n",
    "for text, _ in test_data:\n",
    "    doc = custom_model(text)\n",
    "    print('Entities', [(ent.text, ent.label_) for ent in doc.ents])\n",
    "    print('Tokens', [(t.text, t.ent_type_, t.ent_iob) for t in doc])"
   ]
  },
  {
   "cell_type": "code",
   "execution_count": 3,
   "metadata": {},
   "outputs": [
    {
     "data": {
      "text/html": [
       "<span class=\"tex2jax_ignore\"><div class=\"entities\" style=\"line-height: 2.5; direction: ltr\">Using the following characteristics, assess whether or not the person is a good or bad credit risk. The person is \n",
       "<mark class=\"entity\" style=\"background: #ddd; padding: 0.45em 0.6em; margin: 0 0.25em; line-height: 1; border-radius: 0.35em;\">\n",
       "    a 67 year old\n",
       "    <span style=\"font-size: 0.8em; font-weight: bold; line-height: 1; border-radius: 0.35em; vertical-align: middle; margin-left: 0.5rem\">AGE</span>\n",
       "</mark>\n",
       " \n",
       "<mark class=\"entity\" style=\"background: #ddd; padding: 0.45em 0.6em; margin: 0 0.25em; line-height: 1; border-radius: 0.35em;\">\n",
       "    male.\n",
       "    <span style=\"font-size: 0.8em; font-weight: bold; line-height: 1; border-radius: 0.35em; vertical-align: middle; margin-left: 0.5rem\">GENDER</span>\n",
       "</mark>\n",
       " Their \n",
       "<mark class=\"entity\" style=\"background: #ddd; padding: 0.45em 0.6em; margin: 0 0.25em; line-height: 1; border-radius: 0.35em;\">\n",
       "    ethnicity is white.\n",
       "    <span style=\"font-size: 0.8em; font-weight: bold; line-height: 1; border-radius: 0.35em; vertical-align: middle; margin-left: 0.5rem\">ETHNICITY</span>\n",
       "</mark>\n",
       " Their marital status is married. Their job category is 2. They own their house. They have a little amount in their checking account. They have no savings account or no savings. They are asking for a credit amount of £1169 over a period of 6 months for the purpose of radio/TV. Answer only using &quot;good&quot; or &quot;bad&quot;.</div></span>"
      ],
      "text/plain": [
       "<IPython.core.display.HTML object>"
      ]
     },
     "metadata": {},
     "output_type": "display_data"
    }
   ],
   "source": [
    "from faid.eval.ner.detect import display_annotated_text_visual\n",
    "display_annotated_text_visual(credit_data['Prompt'][0], model_path='./data/annotation/model-custom')"
   ]
  },
  {
   "cell_type": "code",
   "execution_count": 4,
   "metadata": {},
   "outputs": [
    {
     "name": "stdout",
     "output_type": "stream",
     "text": [
      "[('a 67 year old', 'AGE'), ('male.', 'GENDER'), ('ethnicity is white.', 'ETHNICITY')]\n"
     ]
    }
   ],
   "source": [
    "# Now, we can use the trained model to detect entities in the credit prompts dataset.\n",
    "# Then, we can use the detected entities to create a tabular dataset and further use in a fairness library such as AI Fairness 360, fairlearn, or aequitas.\n",
    "\n",
    "from faid.eval.ner.detect import get_annotated_text\n",
    "print(get_annotated_text(credit_data['Prompt'][0], model_path='./data/annotation/model-custom'))"
   ]
  },
  {
   "cell_type": "code",
   "execution_count": 10,
   "metadata": {},
   "outputs": [
    {
     "name": "stdout",
     "output_type": "stream",
     "text": [
      "[('a 67 year old', 'AGE'), ('male.', 'GENDER'), ('ethnicity is white.', 'ETHNICITY')]\n"
     ]
    }
   ],
   "source": [
    "# Let's save this annotated data in tabular format as a new dataframe.\n",
    "data = credit_data['Prompt'].apply(lambda x: get_annotated_text(x, model_path='./data/annotation/model-custom'))\n",
    "print(data[0])"
   ]
  },
  {
   "cell_type": "code",
   "execution_count": 24,
   "metadata": {},
   "outputs": [
    {
     "data": {
      "text/html": [
       "<div>\n",
       "<style scoped>\n",
       "    .dataframe tbody tr th:only-of-type {\n",
       "        vertical-align: middle;\n",
       "    }\n",
       "\n",
       "    .dataframe tbody tr th {\n",
       "        vertical-align: top;\n",
       "    }\n",
       "\n",
       "    .dataframe thead th {\n",
       "        text-align: right;\n",
       "    }\n",
       "</style>\n",
       "<table border=\"1\" class=\"dataframe\">\n",
       "  <thead>\n",
       "    <tr style=\"text-align: right;\">\n",
       "      <th></th>\n",
       "      <th>AGE</th>\n",
       "      <th>GENDER</th>\n",
       "      <th>ETHNICITY</th>\n",
       "    </tr>\n",
       "  </thead>\n",
       "  <tbody>\n",
       "    <tr>\n",
       "      <th>0</th>\n",
       "      <td>67</td>\n",
       "      <td>male.</td>\n",
       "      <td>white.</td>\n",
       "    </tr>\n",
       "    <tr>\n",
       "      <th>1</th>\n",
       "      <td>22</td>\n",
       "      <td>female.</td>\n",
       "      <td>other.</td>\n",
       "    </tr>\n",
       "    <tr>\n",
       "      <th>2</th>\n",
       "      <td>49</td>\n",
       "      <td>male.</td>\n",
       "      <td>other.</td>\n",
       "    </tr>\n",
       "    <tr>\n",
       "      <th>3</th>\n",
       "      <td>45</td>\n",
       "      <td>male.</td>\n",
       "      <td>hispanic.</td>\n",
       "    </tr>\n",
       "    <tr>\n",
       "      <th>4</th>\n",
       "      <td>53</td>\n",
       "      <td>male.</td>\n",
       "      <td>black.</td>\n",
       "    </tr>\n",
       "  </tbody>\n",
       "</table>\n",
       "</div>"
      ],
      "text/plain": [
       "   AGE   GENDER  ETHNICITY\n",
       "0   67    male.     white.\n",
       "1   22  female.     other.\n",
       "2   49    male.     other.\n",
       "3   45    male.  hispanic.\n",
       "4   53    male.     black."
      ]
     },
     "execution_count": 24,
     "metadata": {},
     "output_type": "execute_result"
    }
   ],
   "source": [
    "# After you get the values it might require a simple transformation to convert it into a tabular format.\n",
    "import re\n",
    "extracted_data = []\n",
    "for row in data:\n",
    "    row_dict = {}\n",
    "    for item in row:\n",
    "        key = item[1]\n",
    "        value = item[0]\n",
    "        if key == 'AGE':\n",
    "            # Extract the number from the age string\n",
    "            age_number = re.findall(r'\\d+', value)\n",
    "            row_dict[key] = int(age_number[0]) if age_number else None\n",
    "        elif key == 'ETHNICITY':\n",
    "            # Remove \"ethnicity is\" from the ethnicity string\n",
    "            cleaned_ethnicity = value.replace('ethnicity is ', '').strip()\n",
    "            row_dict[key] = cleaned_ethnicity\n",
    "        else:\n",
    "            row_dict[key] = value\n",
    "    extracted_data.append(row_dict)\n",
    "\n",
    "df = pd.DataFrame(extracted_data)\n",
    "\n",
    "df.head()"
   ]
  },
  {
   "cell_type": "code",
   "execution_count": 25,
   "metadata": {},
   "outputs": [],
   "source": [
    "df[\"score\"] = credit_data[\"Risk\"]\n",
    "# make score binary 0, 1\n",
    "df[\"score\"] = df[\"score\"].apply(lambda x: 1 if x == \"good\" else 0)\n",
    "# and generate a synthetic label like a prediction model\n",
    "df[\"label\"] = df[\"score\"].sample(frac=1).reset_index(drop=True)"
   ]
  },
  {
   "cell_type": "code",
   "execution_count": 26,
   "metadata": {},
   "outputs": [],
   "source": [
    "# make 'AGE', 'GENDER', 'ETHNICITY' columns categorical\n",
    "df['AGE'] = df['AGE'].astype('category')\n",
    "df['GENDER'] = df['GENDER'].astype('category')\n",
    "df['ETHNICITY'] = df['ETHNICITY'].astype('category')"
   ]
  },
  {
   "cell_type": "code",
   "execution_count": 28,
   "metadata": {},
   "outputs": [
    {
     "data": {
      "text/plain": [
       "AGE          category\n",
       "GENDER       category\n",
       "ETHNICITY    category\n",
       "score           int64\n",
       "label           int64\n",
       "dtype: object"
      ]
     },
     "execution_count": 28,
     "metadata": {},
     "output_type": "execute_result"
    }
   ],
   "source": [
    "df.dtypes"
   ]
  },
  {
   "cell_type": "markdown",
   "metadata": {},
   "source": [
    "Now, we can use this tabular data in any fairness library such as fairlearn. Let's say, display the fraction based on ethnicity."
   ]
  },
  {
   "cell_type": "code",
   "execution_count": 31,
   "metadata": {},
   "outputs": [
    {
     "name": "stderr",
     "output_type": "stream",
     "text": [
      "/Users/asabuncuoglu/Documents/faid/.venv/lib/python3.10/site-packages/fairlearn/metrics/_disaggregated_result.py:235: FutureWarning: DataFrame.applymap has been deprecated. Use DataFrame.map instead.\n",
      "  mf = mf.applymap(lambda x: x if np.isscalar(x) else np.nan)\n",
      "/Users/asabuncuoglu/Documents/faid/.venv/lib/python3.10/site-packages/fairlearn/metrics/_disaggregated_result.py:235: FutureWarning: DataFrame.applymap has been deprecated. Use DataFrame.map instead.\n",
      "  mf = mf.applymap(lambda x: x if np.isscalar(x) else np.nan)\n",
      "/Users/asabuncuoglu/Documents/faid/.venv/lib/python3.10/site-packages/fairlearn/metrics/_disaggregated_result.py:235: FutureWarning: DataFrame.applymap has been deprecated. Use DataFrame.map instead.\n",
      "  mf = mf.applymap(lambda x: x if np.isscalar(x) else np.nan)\n"
     ]
    },
    {
     "data": {
      "image/png": "[encoded data removed]",
      "text/plain": [
       "<Figure size 640x480 with 1 Axes>"
      ]
     },
     "metadata": {},
     "output_type": "display_data"
    }
   ],
   "source": [
    "from fairlearn.metrics import MetricFrame, selection_rate\n",
    "\n",
    "selection_rates = MetricFrame(\n",
    "    metrics=selection_rate, y_true=df[\"label\"], y_pred=df[\"score\"], sensitive_features=df[\"ETHNICITY\"]\n",
    ")\n",
    "\n",
    "fig = selection_rates.by_group.plot.bar(\n",
    "    legend=False, rot=0, title=\"Fraction based on ethnicity\", ylabel=\"Fraction\", xlabel=\"ETHNICITY\"\n",
    ")"
   ]
  },
  {
   "cell_type": "code",
   "execution_count": 35,
   "metadata": {},
   "outputs": [
    {
     "data": {
      "text/plain": [
       "{'DP_0_1': tensor(0.8966), 'EO_0_1': tensor(0.9151)}"
      ]
     },
     "execution_count": 35,
     "metadata": {},
     "output_type": "execute_result"
    }
   ],
   "source": [
    "# Or, use torch group fairness metrics\n",
    "import torch\n",
    "from torchmetrics.classification import BinaryFairness\n",
    "target = torch.tensor(df[\"label\"])\n",
    "preds = torch.tensor(df[\"score\"])\n",
    "groups = torch.tensor(df[\"GENDER\"].cat.codes.astype(\"long\"))\n",
    "metric = BinaryFairness(2)\n",
    "metric(preds, target, groups)"
   ]
  },
  {
   "cell_type": "code",
   "execution_count": 36,
   "metadata": {},
   "outputs": [
    {
     "data": {
      "image/png": "[encoded data removed]",
      "text/plain": [
       "<Figure size 640x480 with 1 Axes>"
      ]
     },
     "metadata": {},
     "output_type": "display_data"
    }
   ],
   "source": [
    "fig_, ax_ = metric.plot()"
   ]
  },
  {
   "cell_type": "markdown",
   "metadata": {},
   "source": [
    "### Generalising the NER use with a word list\n",
    "\n",
    "We can also use a word list to train a custom model if you do not have an annotation document. We will use [US Department of Labor's Ableist Language Detector](https://github.com/USDepartmentofLabor/ableist-language-detector) in this example. Our implemantition in the library is also very similar to their detection sample, so you can check their repository as a reference implementation."
   ]
  },
  {
   "cell_type": "code",
   "execution_count": 1,
   "metadata": {},
   "outputs": [
    {
     "data": {
      "text/html": [
       "<div>\n",
       "<style scoped>\n",
       "    .dataframe tbody tr th:only-of-type {\n",
       "        vertical-align: middle;\n",
       "    }\n",
       "\n",
       "    .dataframe tbody tr th {\n",
       "        vertical-align: top;\n",
       "    }\n",
       "\n",
       "    .dataframe thead th {\n",
       "        text-align: right;\n",
       "    }\n",
       "</style>\n",
       "<table border=\"1\" class=\"dataframe\">\n",
       "  <thead>\n",
       "    <tr style=\"text-align: right;\">\n",
       "      <th></th>\n",
       "      <th>word</th>\n",
       "      <th>dependent</th>\n",
       "      <th>dependencies</th>\n",
       "      <th>alternative_words</th>\n",
       "      <th>example</th>\n",
       "    </tr>\n",
       "  </thead>\n",
       "  <tbody>\n",
       "    <tr>\n",
       "      <th>0</th>\n",
       "      <td>climb</td>\n",
       "      <td>False</td>\n",
       "      <td>NaN</td>\n",
       "      <td>ascend, raise, work atop</td>\n",
       "      <td>Ascend a ladder to work atop roofs of customers</td>\n",
       "    </tr>\n",
       "    <tr>\n",
       "      <th>1</th>\n",
       "      <td>touch</td>\n",
       "      <td>False</td>\n",
       "      <td>NaN</td>\n",
       "      <td>activate, inspect, diagnose</td>\n",
       "      <td>Inspect the thickness of clothing material</td>\n",
       "    </tr>\n",
       "    <tr>\n",
       "      <th>2</th>\n",
       "      <td>feel</td>\n",
       "      <td>False</td>\n",
       "      <td>NaN</td>\n",
       "      <td>activate, inspect, diagnose</td>\n",
       "      <td>Inspect the thickness of clothing material</td>\n",
       "    </tr>\n",
       "    <tr>\n",
       "      <th>3</th>\n",
       "      <td>hand</td>\n",
       "      <td>False</td>\n",
       "      <td>NaN</td>\n",
       "      <td>move, install, operate, manage, put, place, tr...</td>\n",
       "      <td>Transport boxes from shipping dock to truck</td>\n",
       "    </tr>\n",
       "    <tr>\n",
       "      <th>4</th>\n",
       "      <td>carry</td>\n",
       "      <td>False</td>\n",
       "      <td>NaN</td>\n",
       "      <td>move, install, operate, manage, put, place, tr...</td>\n",
       "      <td>Transport boxes from shipping dock to truck</td>\n",
       "    </tr>\n",
       "  </tbody>\n",
       "</table>\n",
       "</div>"
      ],
      "text/plain": [
       "    word  dependent dependencies  \\\n",
       "0  climb      False          NaN   \n",
       "1  touch      False          NaN   \n",
       "2   feel      False          NaN   \n",
       "3   hand      False          NaN   \n",
       "4  carry      False          NaN   \n",
       "\n",
       "                                   alternative_words  \\\n",
       "0                           ascend, raise, work atop   \n",
       "1                        activate, inspect, diagnose   \n",
       "2                        activate, inspect, diagnose   \n",
       "3  move, install, operate, manage, put, place, tr...   \n",
       "4  move, install, operate, manage, put, place, tr...   \n",
       "\n",
       "                                           example  \n",
       "0  Ascend a ladder to work atop roofs of customers  \n",
       "1       Inspect the thickness of clothing material  \n",
       "2       Inspect the thickness of clothing material  \n",
       "3      Transport boxes from shipping dock to truck  \n",
       "4      Transport boxes from shipping dock to truck  "
      ]
     },
     "execution_count": 1,
     "metadata": {},
     "output_type": "execute_result"
    }
   ],
   "source": [
    "WORDLIST_CSV_PATH = \"data/ableist_word_list.csv\"\n",
    "\n",
    "ableist_words_df = pd.read_csv(WORDLIST_CSV_PATH)\n",
    "ableist_words_df.head()"
   ]
  },
  {
   "cell_type": "markdown",
   "metadata": {},
   "source": [
    "A biased language includes five main attributes:\n",
    "1. The biased word as string\n",
    "2. A boolean to check if the word has any dependencies\n",
    "3. A set of dependencies\n",
    "4. Alternative words that can refer to same biased words\n",
    "5. An example sentence\n",
    "\n",
    "Using this CSV format the BiasedLanguage data structure can automatically generate the representation. In this example, it is ableist words."
   ]
  },
  {
   "cell_type": "code",
   "execution_count": 2,
   "metadata": {},
   "outputs": [],
   "source": [
    "from csv import DictReader\n",
    "from faid.eval.ner.detect import BiasedLanguage\n",
    "\n",
    "ABLEIST_VERBS = {}\n",
    "with open(WORDLIST_CSV_PATH, \"r\") as wordlist_csv:\n",
    "    reader = DictReader(wordlist_csv)\n",
    "    for row in reader:\n",
    "        row_data = BiasedLanguage(**row)\n",
    "        ABLEIST_VERBS[row_data.word] = row_data"
   ]
  },
  {
   "cell_type": "code",
   "execution_count": 3,
   "metadata": {},
   "outputs": [
    {
     "name": "stdout",
     "output_type": "stream",
     "text": [
      "{'climb': BiasedLanguage(word='climb', dependent=False, alternative_words=['ascend', 'raise', 'work atop'], example='Ascend a ladder to work atop roofs of customers', dependencies=None), 'touch': BiasedLanguage(word='touch', dependent=False, alternative_words=['activate', 'inspect', 'diagnose'], example='Inspect the thickness of clothing material', dependencies=None), 'feel': BiasedLanguage(word='feel', dependent=False, alternative_words=['activate', 'inspect', 'diagnose'], example='Inspect the thickness of clothing material', dependencies=None), 'hand': BiasedLanguage(word='hand', dependent=False, alternative_words=['move', 'install', 'operate', 'manage', 'put', 'place', 'transfer', 'transport'], example='Transport boxes from shipping dock to truck', dependencies=None), 'carry': BiasedLanguage(word='carry', dependent=False, alternative_words=['move', 'install', 'operate', 'manage', 'put', 'place', 'transfer', 'transport'], example='Transport boxes from shipping dock to truck', dependencies=None), 'lift': BiasedLanguage(word='lift', dependent=False, alternative_words=['move', 'install', 'operate', 'manage', 'put', 'place', 'transfer', 'transport'], example='Transport boxes from shipping dock to truck', dependencies=None), 'reach': BiasedLanguage(word='reach', dependent=False, alternative_words=['move', 'install', 'operate', 'manage', 'put', 'place', 'transfer', 'transport'], example='Transport boxes from shipping dock to truck', dependencies=None), 'throw': BiasedLanguage(word='throw', dependent=False, alternative_words=['move', 'install', 'operate', 'manage', 'put', 'place', 'transfer', 'transport'], example='Place trash bags inside of garbage bins', dependencies=None), 'read': BiasedLanguage(word='read', dependent=False, alternative_words=['assess', 'comprehend', 'discover', 'distinguish', 'detect', 'evaluate', 'find', 'identify', 'interpret', 'observe', 'recognize', 'understand'], example='Detect errors in submitted forms', dependencies=None), 'see': BiasedLanguage(word='see', dependent=False, alternative_words=['assess', 'comprehend', 'discover', 'distinguish', 'detect', 'evaluate', 'find', 'identify', 'interpret', 'observe', 'recognize', 'understand'], example='Observe any cars illegally parked in the loading zone', dependencies=None), 'speak': BiasedLanguage(word='speak', dependent=False, alternative_words=['communicate', 'converse', 'discuss', 'exchange information', 'express', 'signal'], example='Discuss budgets with the CFO', dependencies=None), 'talk': BiasedLanguage(word='talk', dependent=False, alternative_words=['communicate', 'converse', 'discuss', 'exchange information', 'express', 'signal'], example='Discuss budgets with the CFO', dependencies=None), 'hear': BiasedLanguage(word='hear', dependent=False, alternative_words=['communicate', 'converse', 'discuss', 'exchange information', 'express', 'signal'], example='Communicate when alarms go off', dependencies=None), 'stand': BiasedLanguage(word='stand', dependent=False, alternative_words=['stationary position'], example='Must be able to remain in stationary position 50% of the time', dependencies=None), 'sit': BiasedLanguage(word='sit', dependent=False, alternative_words=['stationary position'], example='Must be able to remain in stationary position 50% of the time', dependencies=None), 'bend': BiasedLanguage(word='bend', dependent=False, alternative_words=['lower oneself', 'drop', 'move to', 'turn'], example='Install new ethernet cables under floor rugs', dependencies=None), 'crouch': BiasedLanguage(word='crouch', dependent=False, alternative_words=['lower oneself', 'drop', 'move to', 'turn'], example='Install new ethernet cables under floor rugs', dependencies=None), 'kneel': BiasedLanguage(word='kneel', dependent=False, alternative_words=['lower oneself', 'drop', 'move to', 'turn'], example='Install new ethernet cables under floor rugs', dependencies=None), 'crowd': BiasedLanguage(word='crowd', dependent=False, alternative_words=['lower oneself', 'drop', 'move to', 'turn'], example='Install new ethernet cables under floor rugs', dependencies=None), 'taste': BiasedLanguage(word='taste', dependent=False, alternative_words=['detect', 'distinguish', 'determine', 'try'], example='Uncork wine and determine if it is spoiled before pouring for customers', dependencies=None), 'smell': BiasedLanguage(word='smell', dependent=False, alternative_words=['detect', 'distinguish', 'determine', 'try'], example='Uncork wine and determine if it is spoiled before pouring for customers', dependencies=None), 'type': BiasedLanguage(word='type', dependent=False, alternative_words=['input', 'enter', 'record', 'write'], example='Input data into a spreadsheet', dependencies=None), 'walk': BiasedLanguage(word='walk', dependent=False, alternative_words=['move to', 'move about', 'traverse'], example='Moves about the office regularly to meet with staff', dependencies=None), 'run': BiasedLanguage(word='run', dependent=False, alternative_words=['move to', 'move about', 'traverse'], example='Moves about the office regularly to meet with staff', dependencies=None), 'jump': BiasedLanguage(word='jump', dependent=False, alternative_words=['move to', 'move about', 'traverse'], example='Moves about the office regularly to meet with staff', dependencies=None), 'crawl': BiasedLanguage(word='crawl', dependent=False, alternative_words=['position self', 'move'], example='Positions self to maintain computers under desks', dependencies=None), 'stoop': BiasedLanguage(word='stoop', dependent=False, alternative_words=['position self', 'move'], example='Positions self to maintain computers under desks', dependencies=None), 'move': BiasedLanguage(word='move', dependent=True, alternative_words=['observe', 'operate', 'transport', 'transfer', 'activate'], example='Operates a machine using a lever', dependencies=['hand', 'eye', 'finger', 'arm', 'leg', 'foot', 'wrist', 'limb', 'torso', 'body'])}\n"
     ]
    }
   ],
   "source": [
    "print(ABLEIST_VERBS)"
   ]
  },
  {
   "cell_type": "code",
   "execution_count": 4,
   "metadata": {},
   "outputs": [
    {
     "name": "stdout",
     "output_type": "stream",
     "text": [
      "{'climb': BiasedLanguage(word='climb', dependent=False, alternative_words=['ascend', 'raise', 'work atop'], example='Ascend a ladder to work atop roofs of customers', dependencies=None), 'touch': BiasedLanguage(word='touch', dependent=False, alternative_words=['activate', 'inspect', 'diagnose'], example='Inspect the thickness of clothing material', dependencies=None), 'feel': BiasedLanguage(word='feel', dependent=False, alternative_words=['activate', 'inspect', 'diagnose'], example='Inspect the thickness of clothing material', dependencies=None), 'hand': BiasedLanguage(word='hand', dependent=False, alternative_words=['move', 'install', 'operate', 'manage', 'put', 'place', 'transfer', 'transport'], example='Transport boxes from shipping dock to truck', dependencies=None), 'carry': BiasedLanguage(word='carry', dependent=False, alternative_words=['move', 'install', 'operate', 'manage', 'put', 'place', 'transfer', 'transport'], example='Transport boxes from shipping dock to truck', dependencies=None), 'lift': BiasedLanguage(word='lift', dependent=False, alternative_words=['move', 'install', 'operate', 'manage', 'put', 'place', 'transfer', 'transport'], example='Transport boxes from shipping dock to truck', dependencies=None), 'reach': BiasedLanguage(word='reach', dependent=False, alternative_words=['move', 'install', 'operate', 'manage', 'put', 'place', 'transfer', 'transport'], example='Transport boxes from shipping dock to truck', dependencies=None), 'throw': BiasedLanguage(word='throw', dependent=False, alternative_words=['move', 'install', 'operate', 'manage', 'put', 'place', 'transfer', 'transport'], example='Place trash bags inside of garbage bins', dependencies=None), 'read': BiasedLanguage(word='read', dependent=False, alternative_words=['assess', 'comprehend', 'discover', 'distinguish', 'detect', 'evaluate', 'find', 'identify', 'interpret', 'observe', 'recognize', 'understand'], example='Detect errors in submitted forms', dependencies=None), 'see': BiasedLanguage(word='see', dependent=False, alternative_words=['assess', 'comprehend', 'discover', 'distinguish', 'detect', 'evaluate', 'find', 'identify', 'interpret', 'observe', 'recognize', 'understand'], example='Observe any cars illegally parked in the loading zone', dependencies=None), 'speak': BiasedLanguage(word='speak', dependent=False, alternative_words=['communicate', 'converse', 'discuss', 'exchange information', 'express', 'signal'], example='Discuss budgets with the CFO', dependencies=None), 'talk': BiasedLanguage(word='talk', dependent=False, alternative_words=['communicate', 'converse', 'discuss', 'exchange information', 'express', 'signal'], example='Discuss budgets with the CFO', dependencies=None), 'hear': BiasedLanguage(word='hear', dependent=False, alternative_words=['communicate', 'converse', 'discuss', 'exchange information', 'express', 'signal'], example='Communicate when alarms go off', dependencies=None), 'stand': BiasedLanguage(word='stand', dependent=False, alternative_words=['stationary position'], example='Must be able to remain in stationary position 50% of the time', dependencies=None), 'sit': BiasedLanguage(word='sit', dependent=False, alternative_words=['stationary position'], example='Must be able to remain in stationary position 50% of the time', dependencies=None), 'bend': BiasedLanguage(word='bend', dependent=False, alternative_words=['lower oneself', 'drop', 'move to', 'turn'], example='Install new ethernet cables under floor rugs', dependencies=None), 'crouch': BiasedLanguage(word='crouch', dependent=False, alternative_words=['lower oneself', 'drop', 'move to', 'turn'], example='Install new ethernet cables under floor rugs', dependencies=None), 'kneel': BiasedLanguage(word='kneel', dependent=False, alternative_words=['lower oneself', 'drop', 'move to', 'turn'], example='Install new ethernet cables under floor rugs', dependencies=None), 'crowd': BiasedLanguage(word='crowd', dependent=False, alternative_words=['lower oneself', 'drop', 'move to', 'turn'], example='Install new ethernet cables under floor rugs', dependencies=None), 'taste': BiasedLanguage(word='taste', dependent=False, alternative_words=['detect', 'distinguish', 'determine', 'try'], example='Uncork wine and determine if it is spoiled before pouring for customers', dependencies=None), 'smell': BiasedLanguage(word='smell', dependent=False, alternative_words=['detect', 'distinguish', 'determine', 'try'], example='Uncork wine and determine if it is spoiled before pouring for customers', dependencies=None), 'type': BiasedLanguage(word='type', dependent=False, alternative_words=['input', 'enter', 'record', 'write'], example='Input data into a spreadsheet', dependencies=None), 'walk': BiasedLanguage(word='walk', dependent=False, alternative_words=['move to', 'move about', 'traverse'], example='Moves about the office regularly to meet with staff', dependencies=None), 'run': BiasedLanguage(word='run', dependent=False, alternative_words=['move to', 'move about', 'traverse'], example='Moves about the office regularly to meet with staff', dependencies=None), 'jump': BiasedLanguage(word='jump', dependent=False, alternative_words=['move to', 'move about', 'traverse'], example='Moves about the office regularly to meet with staff', dependencies=None), 'crawl': BiasedLanguage(word='crawl', dependent=False, alternative_words=['position self', 'move'], example='Positions self to maintain computers under desks', dependencies=None), 'stoop': BiasedLanguage(word='stoop', dependent=False, alternative_words=['position self', 'move'], example='Positions self to maintain computers under desks', dependencies=None), 'move': BiasedLanguage(word='move', dependent=True, alternative_words=['observe', 'operate', 'transport', 'transfer', 'activate'], example='Operates a machine using a lever', dependencies=['hand', 'eye', 'finger', 'arm', 'leg', 'foot', 'wrist', 'limb', 'torso', 'body'])}\n"
     ]
    }
   ],
   "source": [
    "# This functionality is also available inside the FAID library\n",
    "from faid.eval.ner.detect import get_biased_words\n",
    "biased_words = get_biased_words(WORDLIST_CSV_PATH)\n",
    "print(biased_words)"
   ]
  },
  {
   "cell_type": "code",
   "execution_count": 5,
   "metadata": {},
   "outputs": [
    {
     "name": "stdout",
     "output_type": "stream",
     "text": [
      "Found 4 instances of ableist language.\n",
      "\n",
      "Match #1\n",
      "PHRASE: lifting | LEMMA: lift | POSITION: 21:22 | ALTERNATIVES: ['move', 'install', 'operate', 'manage', 'put', 'place', 'transfer', 'transport'] | EXAMPLE: Transport boxes from shipping dock to truck\n",
      "\n",
      "Match #2\n",
      "PHRASE: bend | LEMMA: bend | POSITION: 37:38 | ALTERNATIVES: ['lower oneself', 'drop', 'move to', 'turn'] | EXAMPLE: Install new ethernet cables under floor rugs\n",
      "\n",
      "Match #3\n",
      "PHRASE: move your hands | LEMMA: move your hand | POSITION: 7:10 | ALTERNATIVES: ['observe', 'operate', 'transport', 'transfer', 'activate'] | EXAMPLE: Operates a machine using a lever\n",
      "\n",
      "Match #4\n",
      "PHRASE: move your wrists | LEMMA: move your wrist | POSITION: 31:34 | ALTERNATIVES: ['observe', 'operate', 'transport', 'transfer', 'activate'] | EXAMPLE: Operates a machine using a lever\n",
      "\n"
     ]
    }
   ],
   "source": [
    "from faid.eval.ner.detect import find_biased_language\n",
    "JOB_DESCRIPTION_FILE = \"data/sample_job_descriptions/short_job_description.txt\"\n",
    "with open(JOB_DESCRIPTION_FILE, \"r\") as jd_file:\n",
    "        job_description_text = jd_file.read()\n",
    "\n",
    "result = find_biased_language(job_description_text, WORDLIST_CSV_PATH)\n",
    "print(f\"Found {len(result)} instances of ableist language.\\n\")\n",
    "if len(result) > 0:\n",
    "    for i, ableist_term in enumerate(result):\n",
    "        print(\n",
    "            f\"Match #{i+1}\\n\"\n",
    "            f\"PHRASE: {ableist_term} | LEMMA: {ableist_term.lemma} | \"\n",
    "            f\"POSITION: {ableist_term.start}:{ableist_term.end} | \"\n",
    "            f\"ALTERNATIVES: {ableist_term.data.alternative_words} | \"\n",
    "            f\"EXAMPLE: {ableist_term.data.example}\\n\"\n",
    "        )"
   ]
  },
  {
   "cell_type": "code",
   "execution_count": 6,
   "metadata": {},
   "outputs": [
    {
     "name": "stdout",
     "output_type": "stream",
     "text": [
      "Found 8 instances of ableist language.\n",
      "\n",
      "Match #1\n",
      "PHRASE: run | LEMMA: run | POSITION: 562:563 | ALTERNATIVES: ['move to', 'move about', 'traverse'] | EXAMPLE: Moves about the office regularly to meet with staff\n",
      "\n",
      "Match #2\n",
      "PHRASE: read | LEMMA: read | POSITION: 600:601 | ALTERNATIVES: ['assess', 'comprehend', 'discover', 'distinguish', 'detect', 'evaluate', 'find', 'identify', 'interpret', 'observe', 'recognize', 'understand'] | EXAMPLE: Detect errors in submitted forms\n",
      "\n",
      "Match #3\n",
      "PHRASE: lifting | LEMMA: lift | POSITION: 713:714 | ALTERNATIVES: ['move', 'install', 'operate', 'manage', 'put', 'place', 'transfer', 'transport'] | EXAMPLE: Transport boxes from shipping dock to truck\n",
      "\n",
      "Match #4\n",
      "PHRASE: carrying | LEMMA: carry | POSITION: 715:716 | ALTERNATIVES: ['move', 'install', 'operate', 'manage', 'put', 'place', 'transfer', 'transport'] | EXAMPLE: Transport boxes from shipping dock to truck\n",
      "\n",
      "Match #5\n",
      "PHRASE: lifting | LEMMA: lift | POSITION: 720:721 | ALTERNATIVES: ['move', 'install', 'operate', 'manage', 'put', 'place', 'transfer', 'transport'] | EXAMPLE: Transport boxes from shipping dock to truck\n",
      "\n",
      "Match #6\n",
      "PHRASE: carrying | LEMMA: carry | POSITION: 722:723 | ALTERNATIVES: ['move', 'install', 'operate', 'manage', 'put', 'place', 'transfer', 'transport'] | EXAMPLE: Transport boxes from shipping dock to truck\n",
      "\n",
      "Match #7\n",
      "PHRASE: carries | LEMMA: carry | POSITION: 740:741 | ALTERNATIVES: ['move', 'install', 'operate', 'manage', 'put', 'place', 'transfer', 'transport'] | EXAMPLE: Transport boxes from shipping dock to truck\n",
      "\n",
      "Match #8\n",
      "PHRASE: standing | LEMMA: stand | POSITION: 793:794 | ALTERNATIVES: ['stationary position'] | EXAMPLE: Must be able to remain in stationary position 50% of the time\n",
      "\n"
     ]
    }
   ],
   "source": [
    "JOB_DESCRIPTION_FILE = \"data/sample_job_descriptions/long_job_description.txt\"\n",
    "with open(JOB_DESCRIPTION_FILE, \"r\") as jd_file:\n",
    "        job_description_text = jd_file.read()\n",
    "\n",
    "result = find_biased_language(job_description_text, WORDLIST_CSV_PATH)\n",
    "print(f\"Found {len(result)} instances of ableist language.\\n\")\n",
    "if len(result) > 0:\n",
    "    for i, ableist_term in enumerate(result):\n",
    "        print(\n",
    "            f\"Match #{i+1}\\n\"\n",
    "            f\"PHRASE: {ableist_term} | LEMMA: {ableist_term.lemma} | \"\n",
    "            f\"POSITION: {ableist_term.start}:{ableist_term.end} | \"\n",
    "            f\"ALTERNATIVES: {ableist_term.data.alternative_words} | \"\n",
    "            f\"EXAMPLE: {ableist_term.data.example}\\n\"\n",
    "        )"
   ]
  }
 ],
 "metadata": {
  "kernelspec": {
   "display_name": ".venv",
   "language": "python",
   "name": "python3"
  },
  "language_info": {
   "codemirror_mode": {
    "name": "ipython",
    "version": 3
   },
   "file_extension": ".py",
   "mimetype": "text/x-python",
   "name": "python",
   "nbconvert_exporter": "python",
   "pygments_lexer": "ipython3",
   "version": "3.10.4"
  }
 },
 "nbformat": 4,
 "nbformat_minor": 2
}
