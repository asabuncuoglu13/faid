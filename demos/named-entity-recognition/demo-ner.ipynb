{
 "cells": [
  {
   "cell_type": "markdown",
   "metadata": {},
   "source": [
    "# Named Entity Recognition for Text-Sample Characterisation\n",
    "\n",
    "The `demo-ner.ipynb` notebook provides a demonstration of Named Entity Recognition (NER) using a pre-trained model. NER is a natural language processing (NLP) technique used to identify and classify specific entities in a text, such as names of people, organizations, locations, dates, and other proper nouns. The process involves tagging these entities with predefined categories, enabling machines to better understand and analyse textual data.  \n",
    "\n",
    "The notebook is based on [US Department of Labor's Ableist Language Detector](https://github.com/USDepartmentofLabor/ableist-language-detector). It includes steps for loading the model, processing text data, and extracting named entities such as persons, organizations, locations, and more. We can use this information in bias identification and mitigation by detecting and categorising references to specific demographic groups, such as gender, ethnicity, or nationality, within text data. By analysing the frequency and context in which these entities appear, NER helps identify patterns of bias, such as underrepresentation or stereotypical portrayals. This information can then be used to adjust content or algorithms, thus ensuring more balanced and fair treatment of different groupss."
   ]
  },
  {
   "cell_type": "code",
   "execution_count": null,
   "metadata": {},
   "outputs": [],
   "source": [
    "import pandas as pd\n",
    "from csv import DictReader\n",
    "from ner.detect import BiasedLanguage\n",
    "from ner.detect import get_biased_words, find_biased_language"
   ]
  },
  {
   "cell_type": "code",
   "execution_count": 1,
   "metadata": {},
   "outputs": [
    {
     "data": {
      "text/html": [
       "<div>\n",
       "<style scoped>\n",
       "    .dataframe tbody tr th:only-of-type {\n",
       "        vertical-align: middle;\n",
       "    }\n",
       "\n",
       "    .dataframe tbody tr th {\n",
       "        vertical-align: top;\n",
       "    }\n",
       "\n",
       "    .dataframe thead th {\n",
       "        text-align: right;\n",
       "    }\n",
       "</style>\n",
       "<table border=\"1\" class=\"dataframe\">\n",
       "  <thead>\n",
       "    <tr style=\"text-align: right;\">\n",
       "      <th></th>\n",
       "      <th>word</th>\n",
       "      <th>dependent</th>\n",
       "      <th>dependencies</th>\n",
       "      <th>alternative_words</th>\n",
       "      <th>example</th>\n",
       "    </tr>\n",
       "  </thead>\n",
       "  <tbody>\n",
       "    <tr>\n",
       "      <th>0</th>\n",
       "      <td>climb</td>\n",
       "      <td>False</td>\n",
       "      <td>NaN</td>\n",
       "      <td>ascend, raise, work atop</td>\n",
       "      <td>Ascend a ladder to work atop roofs of customers</td>\n",
       "    </tr>\n",
       "    <tr>\n",
       "      <th>1</th>\n",
       "      <td>touch</td>\n",
       "      <td>False</td>\n",
       "      <td>NaN</td>\n",
       "      <td>activate, inspect, diagnose</td>\n",
       "      <td>Inspect the thickness of clothing material</td>\n",
       "    </tr>\n",
       "    <tr>\n",
       "      <th>2</th>\n",
       "      <td>feel</td>\n",
       "      <td>False</td>\n",
       "      <td>NaN</td>\n",
       "      <td>activate, inspect, diagnose</td>\n",
       "      <td>Inspect the thickness of clothing material</td>\n",
       "    </tr>\n",
       "    <tr>\n",
       "      <th>3</th>\n",
       "      <td>hand</td>\n",
       "      <td>False</td>\n",
       "      <td>NaN</td>\n",
       "      <td>move, install, operate, manage, put, place, tr...</td>\n",
       "      <td>Transport boxes from shipping dock to truck</td>\n",
       "    </tr>\n",
       "    <tr>\n",
       "      <th>4</th>\n",
       "      <td>carry</td>\n",
       "      <td>False</td>\n",
       "      <td>NaN</td>\n",
       "      <td>move, install, operate, manage, put, place, tr...</td>\n",
       "      <td>Transport boxes from shipping dock to truck</td>\n",
       "    </tr>\n",
       "  </tbody>\n",
       "</table>\n",
       "</div>"
      ],
      "text/plain": [
       "    word  dependent dependencies  \\\n",
       "0  climb      False          NaN   \n",
       "1  touch      False          NaN   \n",
       "2   feel      False          NaN   \n",
       "3   hand      False          NaN   \n",
       "4  carry      False          NaN   \n",
       "\n",
       "                                   alternative_words  \\\n",
       "0                           ascend, raise, work atop   \n",
       "1                        activate, inspect, diagnose   \n",
       "2                        activate, inspect, diagnose   \n",
       "3  move, install, operate, manage, put, place, tr...   \n",
       "4  move, install, operate, manage, put, place, tr...   \n",
       "\n",
       "                                           example  \n",
       "0  Ascend a ladder to work atop roofs of customers  \n",
       "1       Inspect the thickness of clothing material  \n",
       "2       Inspect the thickness of clothing material  \n",
       "3      Transport boxes from shipping dock to truck  \n",
       "4      Transport boxes from shipping dock to truck  "
      ]
     },
     "execution_count": 1,
     "metadata": {},
     "output_type": "execute_result"
    }
   ],
   "source": [
    "WORDLIST_CSV_PATH = \"data/ableist_word_list.csv\"\n",
    "\n",
    "ableist_words_df = pd.read_csv(WORDLIST_CSV_PATH)\n",
    "ableist_words_df.head()"
   ]
  },
  {
   "cell_type": "markdown",
   "metadata": {},
   "source": [
    "A biased language includes five main attributes:\n",
    "1. The biased word as string\n",
    "2. A boolean to check if the word has any dependencies\n",
    "3. A set of dependencies\n",
    "4. Alternative words that can refer to same biased words\n",
    "5. An example sentence\n",
    "\n",
    "Using this CSV format the BiasedLanguage data structure can automatically generate the representation. In this example, it is ableist words."
   ]
  },
  {
   "cell_type": "code",
   "execution_count": null,
   "metadata": {},
   "outputs": [],
   "source": [
    "ABLEIST_VERBS = {}\n",
    "with open(WORDLIST_CSV_PATH, \"r\") as wordlist_csv:\n",
    "    reader = DictReader(wordlist_csv)\n",
    "    for row in reader:\n",
    "        row_data = BiasedLanguage(**row)\n",
    "        ABLEIST_VERBS[row_data.word] = row_data"
   ]
  },
  {
   "cell_type": "code",
   "execution_count": 3,
   "metadata": {},
   "outputs": [
    {
     "name": "stdout",
     "output_type": "stream",
     "text": [
      "{'climb': BiasedLanguage(word='climb', dependent=False, alternative_words=['ascend', 'raise', 'work atop'], example='Ascend a ladder to work atop roofs of customers', dependencies=None), 'touch': BiasedLanguage(word='touch', dependent=False, alternative_words=['activate', 'inspect', 'diagnose'], example='Inspect the thickness of clothing material', dependencies=None), 'feel': BiasedLanguage(word='feel', dependent=False, alternative_words=['activate', 'inspect', 'diagnose'], example='Inspect the thickness of clothing material', dependencies=None), 'hand': BiasedLanguage(word='hand', dependent=False, alternative_words=['move', 'install', 'operate', 'manage', 'put', 'place', 'transfer', 'transport'], example='Transport boxes from shipping dock to truck', dependencies=None), 'carry': BiasedLanguage(word='carry', dependent=False, alternative_words=['move', 'install', 'operate', 'manage', 'put', 'place', 'transfer', 'transport'], example='Transport boxes from shipping dock to truck', dependencies=None), 'lift': BiasedLanguage(word='lift', dependent=False, alternative_words=['move', 'install', 'operate', 'manage', 'put', 'place', 'transfer', 'transport'], example='Transport boxes from shipping dock to truck', dependencies=None), 'reach': BiasedLanguage(word='reach', dependent=False, alternative_words=['move', 'install', 'operate', 'manage', 'put', 'place', 'transfer', 'transport'], example='Transport boxes from shipping dock to truck', dependencies=None), 'throw': BiasedLanguage(word='throw', dependent=False, alternative_words=['move', 'install', 'operate', 'manage', 'put', 'place', 'transfer', 'transport'], example='Place trash bags inside of garbage bins', dependencies=None), 'read': BiasedLanguage(word='read', dependent=False, alternative_words=['assess', 'comprehend', 'discover', 'distinguish', 'detect', 'evaluate', 'find', 'identify', 'interpret', 'observe', 'recognize', 'understand'], example='Detect errors in submitted forms', dependencies=None), 'see': BiasedLanguage(word='see', dependent=False, alternative_words=['assess', 'comprehend', 'discover', 'distinguish', 'detect', 'evaluate', 'find', 'identify', 'interpret', 'observe', 'recognize', 'understand'], example='Observe any cars illegally parked in the loading zone', dependencies=None), 'speak': BiasedLanguage(word='speak', dependent=False, alternative_words=['communicate', 'converse', 'discuss', 'exchange information', 'express', 'signal'], example='Discuss budgets with the CFO', dependencies=None), 'talk': BiasedLanguage(word='talk', dependent=False, alternative_words=['communicate', 'converse', 'discuss', 'exchange information', 'express', 'signal'], example='Discuss budgets with the CFO', dependencies=None), 'hear': BiasedLanguage(word='hear', dependent=False, alternative_words=['communicate', 'converse', 'discuss', 'exchange information', 'express', 'signal'], example='Communicate when alarms go off', dependencies=None), 'stand': BiasedLanguage(word='stand', dependent=False, alternative_words=['stationary position'], example='Must be able to remain in stationary position 50% of the time', dependencies=None), 'sit': BiasedLanguage(word='sit', dependent=False, alternative_words=['stationary position'], example='Must be able to remain in stationary position 50% of the time', dependencies=None), 'bend': BiasedLanguage(word='bend', dependent=False, alternative_words=['lower oneself', 'drop', 'move to', 'turn'], example='Install new ethernet cables under floor rugs', dependencies=None), 'crouch': BiasedLanguage(word='crouch', dependent=False, alternative_words=['lower oneself', 'drop', 'move to', 'turn'], example='Install new ethernet cables under floor rugs', dependencies=None), 'kneel': BiasedLanguage(word='kneel', dependent=False, alternative_words=['lower oneself', 'drop', 'move to', 'turn'], example='Install new ethernet cables under floor rugs', dependencies=None), 'crowd': BiasedLanguage(word='crowd', dependent=False, alternative_words=['lower oneself', 'drop', 'move to', 'turn'], example='Install new ethernet cables under floor rugs', dependencies=None), 'taste': BiasedLanguage(word='taste', dependent=False, alternative_words=['detect', 'distinguish', 'determine', 'try'], example='Uncork wine and determine if it is spoiled before pouring for customers', dependencies=None), 'smell': BiasedLanguage(word='smell', dependent=False, alternative_words=['detect', 'distinguish', 'determine', 'try'], example='Uncork wine and determine if it is spoiled before pouring for customers', dependencies=None), 'type': BiasedLanguage(word='type', dependent=False, alternative_words=['input', 'enter', 'record', 'write'], example='Input data into a spreadsheet', dependencies=None), 'walk': BiasedLanguage(word='walk', dependent=False, alternative_words=['move to', 'move about', 'traverse'], example='Moves about the office regularly to meet with staff', dependencies=None), 'run': BiasedLanguage(word='run', dependent=False, alternative_words=['move to', 'move about', 'traverse'], example='Moves about the office regularly to meet with staff', dependencies=None), 'jump': BiasedLanguage(word='jump', dependent=False, alternative_words=['move to', 'move about', 'traverse'], example='Moves about the office regularly to meet with staff', dependencies=None), 'crawl': BiasedLanguage(word='crawl', dependent=False, alternative_words=['position self', 'move'], example='Positions self to maintain computers under desks', dependencies=None), 'stoop': BiasedLanguage(word='stoop', dependent=False, alternative_words=['position self', 'move'], example='Positions self to maintain computers under desks', dependencies=None), 'move': BiasedLanguage(word='move', dependent=True, alternative_words=['observe', 'operate', 'transport', 'transfer', 'activate'], example='Operates a machine using a lever', dependencies=['hand', 'eye', 'finger', 'arm', 'leg', 'foot', 'wrist', 'limb', 'torso', 'body'])}\n"
     ]
    }
   ],
   "source": [
    "print(ABLEIST_VERBS)"
   ]
  },
  {
   "cell_type": "code",
   "execution_count": null,
   "metadata": {},
   "outputs": [
    {
     "name": "stdout",
     "output_type": "stream",
     "text": [
      "{'climb': BiasedLanguage(word='climb', dependent=False, alternative_words=['ascend', 'raise', 'work atop'], example='Ascend a ladder to work atop roofs of customers', dependencies=None), 'touch': BiasedLanguage(word='touch', dependent=False, alternative_words=['activate', 'inspect', 'diagnose'], example='Inspect the thickness of clothing material', dependencies=None), 'feel': BiasedLanguage(word='feel', dependent=False, alternative_words=['activate', 'inspect', 'diagnose'], example='Inspect the thickness of clothing material', dependencies=None), 'hand': BiasedLanguage(word='hand', dependent=False, alternative_words=['move', 'install', 'operate', 'manage', 'put', 'place', 'transfer', 'transport'], example='Transport boxes from shipping dock to truck', dependencies=None), 'carry': BiasedLanguage(word='carry', dependent=False, alternative_words=['move', 'install', 'operate', 'manage', 'put', 'place', 'transfer', 'transport'], example='Transport boxes from shipping dock to truck', dependencies=None), 'lift': BiasedLanguage(word='lift', dependent=False, alternative_words=['move', 'install', 'operate', 'manage', 'put', 'place', 'transfer', 'transport'], example='Transport boxes from shipping dock to truck', dependencies=None), 'reach': BiasedLanguage(word='reach', dependent=False, alternative_words=['move', 'install', 'operate', 'manage', 'put', 'place', 'transfer', 'transport'], example='Transport boxes from shipping dock to truck', dependencies=None), 'throw': BiasedLanguage(word='throw', dependent=False, alternative_words=['move', 'install', 'operate', 'manage', 'put', 'place', 'transfer', 'transport'], example='Place trash bags inside of garbage bins', dependencies=None), 'read': BiasedLanguage(word='read', dependent=False, alternative_words=['assess', 'comprehend', 'discover', 'distinguish', 'detect', 'evaluate', 'find', 'identify', 'interpret', 'observe', 'recognize', 'understand'], example='Detect errors in submitted forms', dependencies=None), 'see': BiasedLanguage(word='see', dependent=False, alternative_words=['assess', 'comprehend', 'discover', 'distinguish', 'detect', 'evaluate', 'find', 'identify', 'interpret', 'observe', 'recognize', 'understand'], example='Observe any cars illegally parked in the loading zone', dependencies=None), 'speak': BiasedLanguage(word='speak', dependent=False, alternative_words=['communicate', 'converse', 'discuss', 'exchange information', 'express', 'signal'], example='Discuss budgets with the CFO', dependencies=None), 'talk': BiasedLanguage(word='talk', dependent=False, alternative_words=['communicate', 'converse', 'discuss', 'exchange information', 'express', 'signal'], example='Discuss budgets with the CFO', dependencies=None), 'hear': BiasedLanguage(word='hear', dependent=False, alternative_words=['communicate', 'converse', 'discuss', 'exchange information', 'express', 'signal'], example='Communicate when alarms go off', dependencies=None), 'stand': BiasedLanguage(word='stand', dependent=False, alternative_words=['stationary position'], example='Must be able to remain in stationary position 50% of the time', dependencies=None), 'sit': BiasedLanguage(word='sit', dependent=False, alternative_words=['stationary position'], example='Must be able to remain in stationary position 50% of the time', dependencies=None), 'bend': BiasedLanguage(word='bend', dependent=False, alternative_words=['lower oneself', 'drop', 'move to', 'turn'], example='Install new ethernet cables under floor rugs', dependencies=None), 'crouch': BiasedLanguage(word='crouch', dependent=False, alternative_words=['lower oneself', 'drop', 'move to', 'turn'], example='Install new ethernet cables under floor rugs', dependencies=None), 'kneel': BiasedLanguage(word='kneel', dependent=False, alternative_words=['lower oneself', 'drop', 'move to', 'turn'], example='Install new ethernet cables under floor rugs', dependencies=None), 'crowd': BiasedLanguage(word='crowd', dependent=False, alternative_words=['lower oneself', 'drop', 'move to', 'turn'], example='Install new ethernet cables under floor rugs', dependencies=None), 'taste': BiasedLanguage(word='taste', dependent=False, alternative_words=['detect', 'distinguish', 'determine', 'try'], example='Uncork wine and determine if it is spoiled before pouring for customers', dependencies=None), 'smell': BiasedLanguage(word='smell', dependent=False, alternative_words=['detect', 'distinguish', 'determine', 'try'], example='Uncork wine and determine if it is spoiled before pouring for customers', dependencies=None), 'type': BiasedLanguage(word='type', dependent=False, alternative_words=['input', 'enter', 'record', 'write'], example='Input data into a spreadsheet', dependencies=None), 'walk': BiasedLanguage(word='walk', dependent=False, alternative_words=['move to', 'move about', 'traverse'], example='Moves about the office regularly to meet with staff', dependencies=None), 'run': BiasedLanguage(word='run', dependent=False, alternative_words=['move to', 'move about', 'traverse'], example='Moves about the office regularly to meet with staff', dependencies=None), 'jump': BiasedLanguage(word='jump', dependent=False, alternative_words=['move to', 'move about', 'traverse'], example='Moves about the office regularly to meet with staff', dependencies=None), 'crawl': BiasedLanguage(word='crawl', dependent=False, alternative_words=['position self', 'move'], example='Positions self to maintain computers under desks', dependencies=None), 'stoop': BiasedLanguage(word='stoop', dependent=False, alternative_words=['position self', 'move'], example='Positions self to maintain computers under desks', dependencies=None), 'move': BiasedLanguage(word='move', dependent=True, alternative_words=['observe', 'operate', 'transport', 'transfer', 'activate'], example='Operates a machine using a lever', dependencies=['hand', 'eye', 'finger', 'arm', 'leg', 'foot', 'wrist', 'limb', 'torso', 'body'])}\n"
     ]
    }
   ],
   "source": [
    "# This functionality is also available inside the FAID library\n",
    "biased_words = get_biased_words(WORDLIST_CSV_PATH)\n",
    "print(biased_words)"
   ]
  },
  {
   "cell_type": "code",
   "execution_count": null,
   "metadata": {},
   "outputs": [
    {
     "name": "stdout",
     "output_type": "stream",
     "text": [
      "Found 4 instances of ableist language.\n",
      "\n",
      "Match #1\n",
      "PHRASE: lifting | LEMMA: lift | POSITION: 21:22 | ALTERNATIVES: ['move', 'install', 'operate', 'manage', 'put', 'place', 'transfer', 'transport'] | EXAMPLE: Transport boxes from shipping dock to truck\n",
      "\n",
      "Match #2\n",
      "PHRASE: bend | LEMMA: bend | POSITION: 37:38 | ALTERNATIVES: ['lower oneself', 'drop', 'move to', 'turn'] | EXAMPLE: Install new ethernet cables under floor rugs\n",
      "\n",
      "Match #3\n",
      "PHRASE: move your hands | LEMMA: move your hand | POSITION: 7:10 | ALTERNATIVES: ['observe', 'operate', 'transport', 'transfer', 'activate'] | EXAMPLE: Operates a machine using a lever\n",
      "\n",
      "Match #4\n",
      "PHRASE: move your wrists | LEMMA: move your wrist | POSITION: 31:34 | ALTERNATIVES: ['observe', 'operate', 'transport', 'transfer', 'activate'] | EXAMPLE: Operates a machine using a lever\n",
      "\n"
     ]
    }
   ],
   "source": [
    "JOB_DESCRIPTION_FILE = \"data/sample_job_descriptions/short_job_description.txt\"\n",
    "with open(JOB_DESCRIPTION_FILE, \"r\") as jd_file:\n",
    "        job_description_text = jd_file.read()\n",
    "\n",
    "result = find_biased_language(job_description_text, WORDLIST_CSV_PATH)\n",
    "print(f\"Found {len(result)} instances of ableist language.\\n\")\n",
    "if len(result) > 0:\n",
    "    for i, ableist_term in enumerate(result):\n",
    "        print(\n",
    "            f\"Match #{i+1}\\n\"\n",
    "            f\"PHRASE: {ableist_term} | LEMMA: {ableist_term.lemma} | \"\n",
    "            f\"POSITION: {ableist_term.start}:{ableist_term.end} | \"\n",
    "            f\"ALTERNATIVES: {ableist_term.data.alternative_words} | \"\n",
    "            f\"EXAMPLE: {ableist_term.data.example}\\n\"\n",
    "        )"
   ]
  },
  {
   "cell_type": "code",
   "execution_count": 6,
   "metadata": {},
   "outputs": [
    {
     "name": "stdout",
     "output_type": "stream",
     "text": [
      "Found 8 instances of ableist language.\n",
      "\n",
      "Match #1\n",
      "PHRASE: run | LEMMA: run | POSITION: 562:563 | ALTERNATIVES: ['move to', 'move about', 'traverse'] | EXAMPLE: Moves about the office regularly to meet with staff\n",
      "\n",
      "Match #2\n",
      "PHRASE: read | LEMMA: read | POSITION: 600:601 | ALTERNATIVES: ['assess', 'comprehend', 'discover', 'distinguish', 'detect', 'evaluate', 'find', 'identify', 'interpret', 'observe', 'recognize', 'understand'] | EXAMPLE: Detect errors in submitted forms\n",
      "\n",
      "Match #3\n",
      "PHRASE: lifting | LEMMA: lift | POSITION: 713:714 | ALTERNATIVES: ['move', 'install', 'operate', 'manage', 'put', 'place', 'transfer', 'transport'] | EXAMPLE: Transport boxes from shipping dock to truck\n",
      "\n",
      "Match #4\n",
      "PHRASE: carrying | LEMMA: carry | POSITION: 715:716 | ALTERNATIVES: ['move', 'install', 'operate', 'manage', 'put', 'place', 'transfer', 'transport'] | EXAMPLE: Transport boxes from shipping dock to truck\n",
      "\n",
      "Match #5\n",
      "PHRASE: lifting | LEMMA: lift | POSITION: 720:721 | ALTERNATIVES: ['move', 'install', 'operate', 'manage', 'put', 'place', 'transfer', 'transport'] | EXAMPLE: Transport boxes from shipping dock to truck\n",
      "\n",
      "Match #6\n",
      "PHRASE: carrying | LEMMA: carry | POSITION: 722:723 | ALTERNATIVES: ['move', 'install', 'operate', 'manage', 'put', 'place', 'transfer', 'transport'] | EXAMPLE: Transport boxes from shipping dock to truck\n",
      "\n",
      "Match #7\n",
      "PHRASE: carries | LEMMA: carry | POSITION: 740:741 | ALTERNATIVES: ['move', 'install', 'operate', 'manage', 'put', 'place', 'transfer', 'transport'] | EXAMPLE: Transport boxes from shipping dock to truck\n",
      "\n",
      "Match #8\n",
      "PHRASE: standing | LEMMA: stand | POSITION: 793:794 | ALTERNATIVES: ['stationary position'] | EXAMPLE: Must be able to remain in stationary position 50% of the time\n",
      "\n"
     ]
    }
   ],
   "source": [
    "JOB_DESCRIPTION_FILE = \"data/sample_job_descriptions/long_job_description.txt\"\n",
    "with open(JOB_DESCRIPTION_FILE, \"r\") as jd_file:\n",
    "        job_description_text = jd_file.read()\n",
    "\n",
    "result = find_biased_language(job_description_text, WORDLIST_CSV_PATH)\n",
    "print(f\"Found {len(result)} instances of ableist language.\\n\")\n",
    "if len(result) > 0:\n",
    "    for i, ableist_term in enumerate(result):\n",
    "        print(\n",
    "            f\"Match #{i+1}\\n\"\n",
    "            f\"PHRASE: {ableist_term} | LEMMA: {ableist_term.lemma} | \"\n",
    "            f\"POSITION: {ableist_term.start}:{ableist_term.end} | \"\n",
    "            f\"ALTERNATIVES: {ableist_term.data.alternative_words} | \"\n",
    "            f\"EXAMPLE: {ableist_term.data.example}\\n\"\n",
    "        )"
   ]
  },
  {
   "cell_type": "markdown",
   "metadata": {},
   "source": [
    "## What should we record?\n",
    "\n",
    "- [ ] The word-list creation process. The process of defining and extract the words.\n",
    "- [ ] Data sources reviewed in the sampling process.\n",
    "- [ ] Final list of words\n",
    "\n",
    "## How should we record?\n",
    "\n",
    "Note that, this experiment is not a fairness evaluation or mitigation experiment. It is a new data creation process. The output data is the list of words. So, we focus on creating the data card."
   ]
  },
  {
   "cell_type": "code",
   "execution_count": 1,
   "metadata": {},
   "outputs": [
    {
     "name": "stdout",
     "output_type": "stream",
     "text": [
      "\u001b[92mModel log file created.\u001b[0m\n",
      "\u001b[92mData log file created.\u001b[0m\n",
      "\u001b[92mRisks log file created.\u001b[0m\n",
      "\u001b[92mTransparency log file created.\u001b[0m\n"
     ]
    }
   ],
   "source": [
    "import sys\n",
    "sys.path.append('../../')\n",
    "from faid import logging as faidlog\n",
    "faidlog.init_log()"
   ]
  },
  {
   "cell_type": "code",
   "execution_count": 2,
   "metadata": {},
   "outputs": [],
   "source": [
    "datacard = faidlog.DataCard()"
   ]
  },
  {
   "cell_type": "code",
   "execution_count": null,
   "metadata": {},
   "outputs": [
    {
     "data": {
      "text/plain": [
       "<faid.logging.data_card_utils.DataCard at 0x107bf8970>"
      ]
     },
     "execution_count": 3,
     "metadata": {},
     "output_type": "execute_result"
    }
   ],
   "source": [
    "description = {\n",
    "    'name': 'Ableist Words',\n",
    "    'summary': '',\n",
    "    'dataset_link': '',\n",
    "    'repository_link': '',\n",
    "    'intro_paper': '',\n",
    "    'publishing_organization': '',\n",
    "    'tasks': [],\n",
    "    'characteristics': [\"structured\", \"tabular\"],\n",
    "    'feature_types': [\"numerical\", \"categorical\"],\n",
    "    'target_col': 'N/A',\n",
    "    'index_col': 'N/A',\n",
    "    'year_of_dataset_creation': '2025',\n",
    "    'last_updated': '',\n",
    "    'industry_types': [],\n",
    "    'publishing_poc': {},\n",
    "    'owners': [],\n",
    "    'authors': [],\n",
    "    'funding_sources': []\n",
    " }"
   ]
  },
  {
   "cell_type": "code",
   "execution_count": null,
   "metadata": {},
   "outputs": [],
   "source": [
    "datacard.set_description(description=description)\n",
    "datacard.save()"
   ]
  }
 ],
 "metadata": {
  "kernelspec": {
   "display_name": ".venv",
   "language": "python",
   "name": "python3"
  },
  "language_info": {
   "codemirror_mode": {
    "name": "ipython",
    "version": 3
   },
   "file_extension": ".py",
   "mimetype": "text/x-python",
   "name": "python",
   "nbconvert_exporter": "python",
   "pygments_lexer": "ipython3",
   "version": "3.10.4"
  }
 },
 "nbformat": 4,
 "nbformat_minor": 2
}
