{
 "cells": [
  {
   "cell_type": "markdown",
   "metadata": {},
   "source": [
    "# Transparency Artefacts: Metadata Records and Reports\n",
    "\n",
    "This tutorial demonstrate the use of FAID's metadata recording and reporting formats."
   ]
  },
  {
   "cell_type": "code",
   "execution_count": 1,
   "metadata": {},
   "outputs": [],
   "source": [
    "import sys\n",
    "sys.path.append('../../')\n",
    "# All logging related functions can be called from the faid.logging module\n",
    "# All report related functions can be called from the faid.report module\n",
    "from faid import logging as faidlog\n",
    "from faid.report import generate_model_card_report, generate_data_card_report, generate_risk_register_report, generate_transparency_report, generate_experiment_overview_report, generate_all_reports"
   ]
  },
  {
   "cell_type": "code",
   "execution_count": 2,
   "metadata": {},
   "outputs": [
    {
     "name": "stdout",
     "output_type": "stream",
     "text": [
      "\u001b[93mModel log file already exists.  Logging will be appended to the existing file.\u001b[0m\n",
      "\u001b[93mData log file already exists. Logging will be appended to the existing file.\u001b[0m\n",
      "\u001b[93mRisks log file already exists. Logging will be appended to the existing file.\u001b[0m\n",
      "\u001b[93mTransparency log file already exists. Logging will be appended to the existing file.\u001b[0m\n"
     ]
    }
   ],
   "source": [
    "experiment_name = \"metadata-test\"\n",
    "# Use `test=True` to initiate the log files with sample placeholder values\n",
    "faidlog.init_log(test=True)"
   ]
  },
  {
   "cell_type": "markdown",
   "metadata": {},
   "source": [
    "## Using Model Card and Report"
   ]
  },
  {
   "cell_type": "code",
   "execution_count": 5,
   "metadata": {},
   "outputs": [],
   "source": [
    "model_info = faidlog.ModelCard()"
   ]
  },
  {
   "cell_type": "code",
   "execution_count": 6,
   "metadata": {},
   "outputs": [
    {
     "data": {
      "text/plain": [
       "{'name': 'Example Model',\n",
       " 'overview': 'This model is designed to predict customer churn.',\n",
       " 'documentation': 'https://example.com/model-docs',\n",
       " 'owners': [{'name': 'John Doe', 'contact': 'john.doe@example.com'}],\n",
       " 'version': {'name': 'v1.0', 'date': '2023-10-01', 'diff': 'Initial release.'},\n",
       " 'license': {'identifier': 'MIT',\n",
       "  'custom_text': 'Custom license text if applicable.'},\n",
       " 'references': 'https://example.com/references',\n",
       " 'citation': 'Doe, J. (2023). Example Model. Example Journal.',\n",
       " 'path': '/models/example_model'}"
      ]
     },
     "execution_count": 6,
     "metadata": {},
     "output_type": "execute_result"
    }
   ],
   "source": [
    "model_info.get_model_details()"
   ]
  },
  {
   "cell_type": "code",
   "execution_count": 7,
   "metadata": {},
   "outputs": [],
   "source": [
    "generate_model_card_report()"
   ]
  },
  {
   "cell_type": "markdown",
   "metadata": {},
   "source": [
    "## Using Data Card and Report"
   ]
  },
  {
   "cell_type": "code",
   "execution_count": 8,
   "metadata": {},
   "outputs": [],
   "source": [
    "datacard = faidlog.DataCard()"
   ]
  },
  {
   "cell_type": "code",
   "execution_count": 9,
   "metadata": {},
   "outputs": [
    {
     "data": {
      "text/plain": [
       "{'name': 'Example Dataset',\n",
       " 'summary': 'This dataset contains information about...',\n",
       " 'dataset_link': 'http://example.com/dataset',\n",
       " 'repository_link': 'http://example.com/repository',\n",
       " 'intro_paper': 'http://example.com/paper',\n",
       " 'publishing_organization': 'Example Organization',\n",
       " 'tasks': ['classification', 'regression'],\n",
       " 'characteristics': ['structured', 'time-series'],\n",
       " 'feature_types': ['numerical', 'categorical'],\n",
       " 'target_col': 'target',\n",
       " 'index_col': 'id',\n",
       " 'year_of_dataset_creation': '2023',\n",
       " 'last_updated': '2023-10-01',\n",
       " 'industry_types': ['healthcare', 'finance'],\n",
       " 'publishing_poc': {'name': 'John Doe', 'email': 'john.doe@example.com'},\n",
       " 'owners': [{'name': 'Jane Smith', 'email': 'jane.smith@example.com'}],\n",
       " 'authors': [{'name': 'John Doe', 'email': 'john.doe@example.com'}],\n",
       " 'funding_sources': ['Grant XYZ', 'Organization ABC']}"
      ]
     },
     "execution_count": 9,
     "metadata": {},
     "output_type": "execute_result"
    }
   ],
   "source": [
    "datacard.get_description()"
   ]
  },
  {
   "cell_type": "code",
   "execution_count": 10,
   "metadata": {},
   "outputs": [],
   "source": [
    "generate_data_card_report()"
   ]
  },
  {
   "cell_type": "markdown",
   "metadata": {},
   "source": [
    "## Using the Risk Register\n",
    "\n",
    "Risk register works differently. It doesn't create an object that you need to save to sync it with the metadata record. You can add the risks, issues, assumptions, and dependencies asynchronously."
   ]
  },
  {
   "cell_type": "code",
   "execution_count": 11,
   "metadata": {},
   "outputs": [
    {
     "data": {
      "text/plain": [
       "{0: {'description': 'Potential risk of data breach',\n",
       "  'impact': 'High',\n",
       "  'likelihood': 'Medium',\n",
       "  'mitigation': 'Implement stronger encryption methods'},\n",
       " 1: {'description': 'Test Risk Entry',\n",
       "  'impact': 'Test Impact',\n",
       "  'likelihood': '0.5',\n",
       "  'mitigation': 'Test Mitigation'}}"
      ]
     },
     "execution_count": 11,
     "metadata": {},
     "output_type": "execute_result"
    }
   ],
   "source": [
    "faidlog.get_risk_entries()"
   ]
  },
  {
   "cell_type": "code",
   "execution_count": null,
   "metadata": {},
   "outputs": [],
   "source": [
    "faidlog.add_risk_entry(description=\"Test Risk Entry\", impact=\"Test Impact\", likelihood=\"0.5\", mitigation=\"Test Mitigation\")"
   ]
  },
  {
   "cell_type": "code",
   "execution_count": 13,
   "metadata": {},
   "outputs": [
    {
     "data": {
      "text/plain": [
       "{0: {'description': 'Potential risk of data breach',\n",
       "  'impact': 'High',\n",
       "  'likelihood': 'Medium',\n",
       "  'mitigation': 'Implement stronger encryption methods'},\n",
       " 1: {'description': 'Test Risk Entry',\n",
       "  'impact': 'Test Impact',\n",
       "  'likelihood': '0.5',\n",
       "  'mitigation': 'Test Mitigation'}}"
      ]
     },
     "execution_count": 13,
     "metadata": {},
     "output_type": "execute_result"
    }
   ],
   "source": [
    "faidlog.get_risk_entries()"
   ]
  },
  {
   "cell_type": "markdown",
   "metadata": {},
   "source": [
    "## Transparency Record\n",
    "\n",
    "The transparency record is generated automatially using the all other transparency artefacts including model card, data card, and risk register."
   ]
  },
  {
   "cell_type": "code",
   "execution_count": 14,
   "metadata": {},
   "outputs": [
    {
     "data": {
      "text/plain": [
       "{'information': {'name': 'Algorithm for secondary school place allocation',\n",
       "  'description': 'This algorithmic tool helps the council assign secondary school places to individual children.',\n",
       "  'website_url': 'www.ycouncil.gov.uk/residents/children-education-and-families/school-admissions',\n",
       "  'contact_email': 'school-admissions@ycouncil.co.uk'},\n",
       " 'owner_and_responsibility': {'organisation_or_department': 'Y council',\n",
       "  'team': 'School Admissions Team (Education division)',\n",
       "  'senior_responsible_owner': 'Head of Education Division',\n",
       "  'external_supplier_involvement': 'Yes',\n",
       "  'data_access_terms': 'Data access is restricted to the Y Council’s education department and schools. Data is stored in identifiable format for 4 years after which point it is anonymised.'},\n",
       " 'description_and_rationale': {'detailed_description': 'This algorithmic tool has been designed to apply admissions criteria to automatically assign a school space to each child in the main annual admissions round.',\n",
       "  'scope': 'This tool provides an initial allocation, but some individual circumstances will continue to be dealt with manually.',\n",
       "  'benefit': 'Improve efficiency in allocation of school spaces, reduce error rate, enable potential future changes in admissions criteria.',\n",
       "  'previous_process': 'The current process involves a mixture of manual and automated steps, managed through a complex set of internally developed spreadsheets.',\n",
       "  'alternatives_considered': 'Retaining the current approach was considered, but rejected due to significant risk of failure in the event of staff changes.'},\n",
       " 'decision_making_process': {'process_integration': 'The algorithm replaces the previous system used for managing allocations, adding a significantly greater degree of automation.',\n",
       "  'provided_information': 'The tool provides a recommendation for an allocation of children to available school places.',\n",
       "  'frequency_and_scale_of_usage': 'Each year, the automated process makes approx. 3000 decisions.',\n",
       "  'human_decisions_and_review': 'The automated process is reviewed every year to check its performance.',\n",
       "  'required_training': 'Each officer using the tool goes through an onboarding process that trains them on how to use the tool.',\n",
       "  'appeals_and_review': 'Existing appeals processes for school admissions will continue to apply.'},\n",
       " 'tool_specification': {'system_architecture': 'Find a system architecture diagram on our Github repository. Link: www.github.com/ycouncil/admissions-tool',\n",
       "  'phase': 'Production',\n",
       "  'maintenance': 'Maintenance and review of the tool occurs yearly prior to the operation of the tool.',\n",
       "  'models': 'The tool features two models: Z-NET and Y-Admissions.'},\n",
       " 'model_specification': {'model_name': 'Y-Admissions',\n",
       "  'model_version': 'v4.1',\n",
       "  'model_task': 'To allocate a fixed number of secondary school places to a set of applicants.',\n",
       "  'model_input': 'A dataset containing information about school applicants and a dataset containing the number and types of places offered by local state schools.',\n",
       "  'model_output': 'A dataset with school allocations for every applicant, along with brief written explanations for why each allocation has been given.',\n",
       "  'model_architecture': 'Y-Admissions is an optimisation-based automated planning model.',\n",
       "  'model_performance': 'Regular verification tests to ensure the model is executable and valid.',\n",
       "  'datasets': 'Datasets containing information about school applicants and datasets containing the number and types of places offered by local state schools.',\n",
       "  'dataset_purposes': 'Used to test the robustness and fairness of the model.'},\n",
       " 'data_specification': {'source_data_name': 'Y Council school applicants',\n",
       "  'data_modality': 'Tabular',\n",
       "  'data_description': 'These data provide information about school applicants which is relevant to Y Council’s admissions policy.',\n",
       "  'data_quantities': 'Each year, the dataset contains approximately 3000 samples with around 40 attributes each.',\n",
       "  'sensitive_attributes': 'Name, Age, Address, Sex, Religion, Disability, Parent or guardian name(s)',\n",
       "  'data_completeness_and_representative-ness': 'Datasets are always ensured to be complete before being processed by the model.',\n",
       "  'source_data_url': 'N/A - the data contains personal data and cannot be made public.',\n",
       "  'data_collection': 'Collected retrospectively from existing schools and ongoing year-by-year data from students and schools.',\n",
       "  'data_cleaning': 'Pre-processing and cleaning performed by AI Tools UK.',\n",
       "  'data_sharing_agreements': 'A data sharing agreement has been put in place between Y Council and AI Tools UK.',\n",
       "  'data_access_and_storage': 'Data access is restricted to the Y Council’s education department and schools. Data is stored in identifiable format for 4 years after which point it is anonymised.'},\n",
       " 'risks_mitigations_and_impact_assessments': {'impact_assessment': 'See summary and full assessment under the link provided.',\n",
       "  'risks_and_mitigations': 'The tool’s computation of travel time might not always accurately reflect real world travel times for individual children. The council has set out a clear definition of how travel time is calculated on our website.'}}"
      ]
     },
     "execution_count": 14,
     "metadata": {},
     "output_type": "execute_result"
    }
   ],
   "source": [
    "faidlog.get_transparency_record()"
   ]
  },
  {
   "cell_type": "code",
   "execution_count": 15,
   "metadata": {},
   "outputs": [],
   "source": [
    "generate_transparency_report()"
   ]
  },
  {
   "cell_type": "code",
   "execution_count": null,
   "metadata": {},
   "outputs": [],
   "source": []
  }
 ],
 "metadata": {
  "kernelspec": {
   "display_name": ".venv",
   "language": "python",
   "name": "python3"
  },
  "language_info": {
   "codemirror_mode": {
    "name": "ipython",
    "version": 3
   },
   "file_extension": ".py",
   "mimetype": "text/x-python",
   "name": "python",
   "nbconvert_exporter": "python",
   "pygments_lexer": "ipython3",
   "version": "3.10.4"
  }
 },
 "nbformat": 4,
 "nbformat_minor": 2
}
