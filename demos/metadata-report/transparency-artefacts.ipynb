{
 "cells": [
  {
   "cell_type": "markdown",
   "metadata": {},
   "source": [
    "# Transparency Artefacts: Metadata Records and Reports\n",
    "\n",
    "This tutorial demonstrate the use of FAID's metadata recording and reporting formats."
   ]
  },
  {
   "cell_type": "code",
   "execution_count": null,
   "metadata": {},
   "outputs": [],
   "source": [
    "import sys\n",
    "sys.path.append('../../')\n",
    "# All logging related functions can be called from the faid.logging module\n",
    "# All report related functions can be called from the faid.report module\n",
    "from faid import logging as faidlog\n",
    "from faid.report import generate_model_card_report, generate_data_card_report, generate_risk_register_report, generate_transparency_report, generate_experiment_overview_report, generate_all_reports"
   ]
  },
  {
   "cell_type": "code",
   "execution_count": null,
   "metadata": {},
   "outputs": [
    {
     "name": "stdout",
     "output_type": "stream",
     "text": [
      "\u001b[93mModel log file already exists.  Logging will be appended to the existing file.\u001b[0m\n",
      "\u001b[93mData log file already exists. Logging will be appended to the existing file.\u001b[0m\n",
      "\u001b[93mRisks log file already exists. Logging will be appended to the existing file.\u001b[0m\n",
      "\u001b[93mTransparency log file already exists. Logging will be appended to the existing file.\u001b[0m\n"
     ]
    }
   ],
   "source": [
    "experiment_name = \"metadata-test\"\n",
    "# Use `test=True` to initiate the log files with sample placeholder values\n",
    "faidlog.init_log(test=True)"
   ]
  },
  {
   "cell_type": "code",
   "execution_count": 3,
   "metadata": {},
   "outputs": [],
   "source": [
    "model_info = faidlog.ModelCard()"
   ]
  },
  {
   "cell_type": "code",
   "execution_count": 4,
   "metadata": {},
   "outputs": [
    {
     "data": {
      "text/plain": [
       "{'name': 'Example Model',\n",
       " 'overview': 'This model is designed to predict customer churn.',\n",
       " 'documentation': 'https://example.com/model-docs',\n",
       " 'owners': [{'name': 'John Doe', 'contact': 'john.doe@example.com'}],\n",
       " 'version': {'name': 'v1.0', 'date': '2023-10-01', 'diff': 'Initial release.'},\n",
       " 'license': {'identifier': 'MIT',\n",
       "  'custom_text': 'Custom license text if applicable.'},\n",
       " 'references': 'https://example.com/references',\n",
       " 'citation': 'Doe, J. (2023). Example Model. Example Journal.',\n",
       " 'path': '/models/example_model'}"
      ]
     },
     "execution_count": 4,
     "metadata": {},
     "output_type": "execute_result"
    }
   ],
   "source": [
    "model_info.get_model_details()"
   ]
  },
  {
   "cell_type": "code",
   "execution_count": 6,
   "metadata": {},
   "outputs": [],
   "source": [
    "generate_model_card_report()"
   ]
  },
  {
   "cell_type": "code",
   "execution_count": null,
   "metadata": {},
   "outputs": [],
   "source": []
  }
 ],
 "metadata": {
  "kernelspec": {
   "display_name": ".venv",
   "language": "python",
   "name": "python3"
  },
  "language_info": {
   "codemirror_mode": {
    "name": "ipython",
    "version": 3
   },
   "file_extension": ".py",
   "mimetype": "text/x-python",
   "name": "python",
   "nbconvert_exporter": "python",
   "pygments_lexer": "ipython3",
   "version": "3.10.4"
  }
 },
 "nbformat": 4,
 "nbformat_minor": 2
}
