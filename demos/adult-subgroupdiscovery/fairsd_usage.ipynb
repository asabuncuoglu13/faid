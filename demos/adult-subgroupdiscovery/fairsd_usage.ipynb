{
 "cells": [
  {
   "cell_type": "markdown",
   "id": "4b65438b",
   "metadata": {},
   "source": [
    "# Using Subgroup Discovery for Fairness\n",
    "\n",
    "In Dubowski's thesis [^thesis], fairsd is used to explore fairness in general throughout the ML pipeline. The author presents a conceptual framework with functional requirements to include fairsd as the core component of fairness experiments. In this document, we summarise the approach.\n",
    "\n",
    "The framework emphasizes identifying subgroups with predicted risk scores of lower **epistemic value**. It is model's ability to provide accurate and reliable predictions for those groups is compromised. Framework's key aspects can be listed as follows:\n",
    "\n",
    "- Predictive bias arises from biases in data collection and processing, leads to quality-of-service harms. These harms manifest as discrepancies in the model's performance across different subgroups.\n",
    "- To quantify the harms, a carefully selected quality metric is essential. A good metric is using the average group log loss, as it captures both the model's discriminatory ability (how well it separates different risk levels) and its calibration (how accurately its predicted probabilities align with actual outcomes).\n",
    "- Using subgroup discovery techniques, particularly **fair subgroup discovery (FairSD)**, to automatically identify subgroups that exhibit lower performance compared to the overall dataset. This approach helps uncover potential harms affecting groups defined not just by single attributes, but also by intersections of multiple attributes (addressing the issue of \"fairness gerrymandering\").\n",
    "- Model loss explanations can help to investigate the sources of predictive bias. By analyzing discrepancies in how individual features contribute to the model's loss for different subgroups compared to the baseline (the entire dataset), data scientists can pinpoint features potentially introducing bias.\n",
    "  \n",
    "It is a circular flow encompassing these steps:\n",
    "\n",
    "1. Identify potential harms.\n",
    "2. Select a quality metric.\n",
    "3. Identify relevant harmed subgroups using the chosen metric and SD techniques.\n",
    "4. Identify the most informative features based on model loss explanations.\n",
    "5. Compare loss contribution distributions between the subgroup and full dataset to pinpoint discrepancies indicative of predictive bias.\n",
    "6. Take bias mitigation actions based on the insights gained, which might involve adjusting data collection, preprocessing, or model training. This feeds back into the framework, leading to a new iteration of assessment.\n",
    "\n",
    "[^thesis]: Towards assessment of subgroup harms and predictive bias in risk-scoring models. <https://research.tue.nl/en/studentTheses/towards-assessment-of-subgroup-harms-and-predictive-bias-in-risk->"
   ]
  },
  {
   "cell_type": "markdown",
   "id": "proper-mustang",
   "metadata": {},
   "source": [
    "For this example is used the [UCI adult dataset](https://archive.ics.uci.edu/ml/datasets/Adult) where the objective is to predict whether a person makes more (label 1) or less (0) than $50,000 a year."
   ]
  },
  {
   "cell_type": "code",
   "execution_count": 2,
   "id": "7e21e51a",
   "metadata": {},
   "outputs": [],
   "source": [
    "import pandas as pd\n",
    "from sklearn.datasets import fetch_openml\n",
    "from sklearn.tree import DecisionTreeClassifier\n",
    "\n",
    "import warnings\n",
    "warnings.filterwarnings('ignore')"
   ]
  },
  {
   "cell_type": "code",
   "execution_count": 3,
   "id": "02345713",
   "metadata": {},
   "outputs": [],
   "source": [
    "import sys\n",
    "sys.path.append('../../')"
   ]
  },
  {
   "cell_type": "code",
   "execution_count": 5,
   "id": "1b49a77a",
   "metadata": {},
   "outputs": [],
   "source": [
    "d = fetch_openml(data_id=1590, as_frame=True) # Adult dataset\n",
    "X = d.data\n",
    "y_true = (d.target == '>50K') * 1\n",
    "sens_feats = \"sex\""
   ]
  },
  {
   "cell_type": "code",
   "execution_count": 6,
   "id": "2cc2b5dc",
   "metadata": {},
   "outputs": [
    {
     "data": {
      "text/html": [
       "<div>\n",
       "<style scoped>\n",
       "    .dataframe tbody tr th:only-of-type {\n",
       "        vertical-align: middle;\n",
       "    }\n",
       "\n",
       "    .dataframe tbody tr th {\n",
       "        vertical-align: top;\n",
       "    }\n",
       "\n",
       "    .dataframe thead th {\n",
       "        text-align: right;\n",
       "    }\n",
       "</style>\n",
       "<table border=\"1\" class=\"dataframe\">\n",
       "  <thead>\n",
       "    <tr style=\"text-align: right;\">\n",
       "      <th></th>\n",
       "      <th>age</th>\n",
       "      <th>workclass</th>\n",
       "      <th>fnlwgt</th>\n",
       "      <th>education</th>\n",
       "      <th>education-num</th>\n",
       "      <th>marital-status</th>\n",
       "      <th>occupation</th>\n",
       "      <th>relationship</th>\n",
       "      <th>race</th>\n",
       "      <th>sex</th>\n",
       "      <th>capital-gain</th>\n",
       "      <th>capital-loss</th>\n",
       "      <th>hours-per-week</th>\n",
       "      <th>native-country</th>\n",
       "    </tr>\n",
       "  </thead>\n",
       "  <tbody>\n",
       "    <tr>\n",
       "      <th>0</th>\n",
       "      <td>25</td>\n",
       "      <td>Private</td>\n",
       "      <td>226802</td>\n",
       "      <td>11th</td>\n",
       "      <td>7</td>\n",
       "      <td>Never-married</td>\n",
       "      <td>Machine-op-inspct</td>\n",
       "      <td>Own-child</td>\n",
       "      <td>Black</td>\n",
       "      <td>Male</td>\n",
       "      <td>0</td>\n",
       "      <td>0</td>\n",
       "      <td>40</td>\n",
       "      <td>United-States</td>\n",
       "    </tr>\n",
       "    <tr>\n",
       "      <th>1</th>\n",
       "      <td>38</td>\n",
       "      <td>Private</td>\n",
       "      <td>89814</td>\n",
       "      <td>HS-grad</td>\n",
       "      <td>9</td>\n",
       "      <td>Married-civ-spouse</td>\n",
       "      <td>Farming-fishing</td>\n",
       "      <td>Husband</td>\n",
       "      <td>White</td>\n",
       "      <td>Male</td>\n",
       "      <td>0</td>\n",
       "      <td>0</td>\n",
       "      <td>50</td>\n",
       "      <td>United-States</td>\n",
       "    </tr>\n",
       "    <tr>\n",
       "      <th>2</th>\n",
       "      <td>28</td>\n",
       "      <td>Local-gov</td>\n",
       "      <td>336951</td>\n",
       "      <td>Assoc-acdm</td>\n",
       "      <td>12</td>\n",
       "      <td>Married-civ-spouse</td>\n",
       "      <td>Protective-serv</td>\n",
       "      <td>Husband</td>\n",
       "      <td>White</td>\n",
       "      <td>Male</td>\n",
       "      <td>0</td>\n",
       "      <td>0</td>\n",
       "      <td>40</td>\n",
       "      <td>United-States</td>\n",
       "    </tr>\n",
       "    <tr>\n",
       "      <th>3</th>\n",
       "      <td>44</td>\n",
       "      <td>Private</td>\n",
       "      <td>160323</td>\n",
       "      <td>Some-college</td>\n",
       "      <td>10</td>\n",
       "      <td>Married-civ-spouse</td>\n",
       "      <td>Machine-op-inspct</td>\n",
       "      <td>Husband</td>\n",
       "      <td>Black</td>\n",
       "      <td>Male</td>\n",
       "      <td>7688</td>\n",
       "      <td>0</td>\n",
       "      <td>40</td>\n",
       "      <td>United-States</td>\n",
       "    </tr>\n",
       "    <tr>\n",
       "      <th>4</th>\n",
       "      <td>18</td>\n",
       "      <td>NaN</td>\n",
       "      <td>103497</td>\n",
       "      <td>Some-college</td>\n",
       "      <td>10</td>\n",
       "      <td>Never-married</td>\n",
       "      <td>NaN</td>\n",
       "      <td>Own-child</td>\n",
       "      <td>White</td>\n",
       "      <td>Female</td>\n",
       "      <td>0</td>\n",
       "      <td>0</td>\n",
       "      <td>30</td>\n",
       "      <td>United-States</td>\n",
       "    </tr>\n",
       "  </tbody>\n",
       "</table>\n",
       "</div>"
      ],
      "text/plain": [
       "   age  workclass  fnlwgt     education  education-num      marital-status  \\\n",
       "0   25    Private  226802          11th              7       Never-married   \n",
       "1   38    Private   89814       HS-grad              9  Married-civ-spouse   \n",
       "2   28  Local-gov  336951    Assoc-acdm             12  Married-civ-spouse   \n",
       "3   44    Private  160323  Some-college             10  Married-civ-spouse   \n",
       "4   18        NaN  103497  Some-college             10       Never-married   \n",
       "\n",
       "          occupation relationship   race     sex  capital-gain  capital-loss  \\\n",
       "0  Machine-op-inspct    Own-child  Black    Male             0             0   \n",
       "1    Farming-fishing      Husband  White    Male             0             0   \n",
       "2    Protective-serv      Husband  White    Male             0             0   \n",
       "3  Machine-op-inspct      Husband  Black    Male          7688             0   \n",
       "4                NaN    Own-child  White  Female             0             0   \n",
       "\n",
       "   hours-per-week native-country  \n",
       "0              40  United-States  \n",
       "1              50  United-States  \n",
       "2              40  United-States  \n",
       "3              40  United-States  \n",
       "4              30  United-States  "
      ]
     },
     "execution_count": 6,
     "metadata": {},
     "output_type": "execute_result"
    }
   ],
   "source": [
    "X.head()"
   ]
  },
  {
   "cell_type": "code",
   "execution_count": 6,
   "id": "5c4f12b7",
   "metadata": {},
   "outputs": [
    {
     "data": {
      "text/plain": [
       "{'RandomForest': {'accuracy': sex\n",
       "  0    0.934336\n",
       "  1    0.822734\n",
       "  Name: accuracy, dtype: float64,\n",
       "  'precision': sex\n",
       "  0    0.761566\n",
       "  1    0.742487\n",
       "  Name: precision, dtype: float64,\n",
       "  'false positive rate': sex\n",
       "  0    0.023119\n",
       "  1    0.096404\n",
       "  Name: false positive rate, dtype: float64,\n",
       "  'false negative rate': sex\n",
       "  0    0.407202\n",
       "  1    0.362671\n",
       "  Name: false negative rate, dtype: float64,\n",
       "  'selection rate': sex\n",
       "  0    0.086223\n",
       "  1    0.260676\n",
       "  Name: selection rate, dtype: float64},\n",
       " 'LogisticRegression': {'accuracy': sex\n",
       "  0    0.887082\n",
       "  1    0.742550\n",
       "  Name: accuracy, dtype: float64,\n",
       "  'precision': sex\n",
       "  0    0.484163\n",
       "  1    0.691720\n",
       "  Name: precision, dtype: float64,\n",
       "  'false positive rate': sex\n",
       "  0    0.039337\n",
       "  1    0.053386\n",
       "  Name: false positive rate, dtype: float64,\n",
       "  'false negative rate': sex\n",
       "  0    0.703601\n",
       "  1    0.725341\n",
       "  Name: false negative rate, dtype: float64,\n",
       "  'selection rate': sex\n",
       "  0    0.067812\n",
       "  1    0.120584\n",
       "  Name: selection rate, dtype: float64},\n",
       " 'DecisionTree': {'accuracy': sex\n",
       "  0    0.896287\n",
       "  1    0.776805\n",
       "  Name: accuracy, dtype: float64,\n",
       "  'precision': sex\n",
       "  0    0.530026\n",
       "  1    0.630219\n",
       "  Name: precision, dtype: float64,\n",
       "  'false positive rate': sex\n",
       "  0    0.062112\n",
       "  1    0.164130\n",
       "  Name: false positive rate, dtype: float64,\n",
       "  'false negative rate': sex\n",
       "  0    0.437673\n",
       "  1    0.358624\n",
       "  Name: false negative rate, dtype: float64,\n",
       "  'selection rate': sex\n",
       "  0    0.117521\n",
       "  1    0.309063\n",
       "  Name: selection rate, dtype: float64},\n",
       " 'SVC': {'accuracy': sex\n",
       "  0    0.911322\n",
       "  1    0.745161\n",
       "  Name: accuracy, dtype: float64,\n",
       "  'precision': sex\n",
       "  0    0.909091\n",
       "  1    0.976048\n",
       "  Name: precision, dtype: float64,\n",
       "  'false positive rate': sex\n",
       "  0    0.002761\n",
       "  1    0.001765\n",
       "  Name: false positive rate, dtype: float64,\n",
       "  'false negative rate': sex\n",
       "  0    0.778393\n",
       "  1    0.835104\n",
       "  Name: false negative rate, dtype: float64,\n",
       "  'selection rate': sex\n",
       "  0    0.027002\n",
       "  1    0.051306\n",
       "  Name: selection rate, dtype: float64}}"
      ]
     },
     "execution_count": 6,
     "metadata": {},
     "output_type": "execute_result"
    }
   ],
   "source": [
    "from faid.metrics import benchmark_tabular_classification\n",
    "benchmark_tabular_classification(X, y_true, sens_feats)"
   ]
  },
  {
   "cell_type": "code",
   "execution_count": 7,
   "id": "authorized-better",
   "metadata": {},
   "outputs": [],
   "source": [
    "#Now let's focus on one classifier\n",
    "d_train=pd.get_dummies(X)\n",
    "classifier = DecisionTreeClassifier(min_samples_leaf=10, max_depth=4)\n",
    "classifier.fit(d_train, y_true)\n",
    "\n",
    "#Producing y_pred\n",
    "y_pred = classifier.predict(d_train)"
   ]
  },
  {
   "cell_type": "markdown",
   "id": "e6fa1293",
   "metadata": {},
   "source": [
    "# Bias regarding sub-groups\n",
    "\n",
    "- Predictive bias: *\"Predictive bias (i.e., differential prediction) means that regression equations predicting performance differ across groups based on protected status (e.g., ethnicity, sexual orientation, sexual identity, pregnancy, disability, and religion).\"* [^predictive] \n",
    "- Selection bias: *\"occurs when individuals or groups in a study differ systematically from the population of interest leading to a systematic error in an association or outcome.\"* [^selection]\n",
    "\n",
    "[^predictive]: Aguinis, H., & Culpepper, S. A. (2024). Improving our understanding of predictive bias in testing.Journal of Applied Psychology, 109(3), 402–414. https://doi.org/10.1037/apl0001152\n",
    "[^selection]: https://catalogofbias.org/biases/selection-bias/"
   ]
  },
  {
   "cell_type": "markdown",
   "id": "adolescent-damage",
   "metadata": {},
   "source": [
    "## Use of the FairSD package\n",
    "Here we use the DSSD (Diverse Subgroup Set Discovery) algorithm and the demographic_parity_difference (from Fairlearn) to find the top-k (k = 5 by default) subgroups that exert the greatest disparity.<br/>\n",
    "The execute method return a **ResultSet object**."
   ]
  },
  {
   "cell_type": "code",
   "execution_count": 7,
   "id": "talented-dynamics",
   "metadata": {},
   "outputs": [],
   "source": [
    "import faid.metrics.subgroupdiscovery as fsd\n",
    "task=fsd.SubgroupDiscoveryTask(X=X, \n",
    "                               y_true=y_true, \n",
    "                               y_pred=y_pred, \n",
    "                               qf = \"demographic_parity_difference\")\n",
    "result_set=fsd.DSSD().execute(task)"
   ]
  },
  {
   "cell_type": "markdown",
   "id": "liked-paradise",
   "metadata": {},
   "source": [
    "### ResultSet object"
   ]
  },
  {
   "cell_type": "markdown",
   "id": "blind-official",
   "metadata": {},
   "source": [
    "We can transform the result set into a dataframe as shown below. Each row of this dataframe represents a subgroup."
   ]
  },
  {
   "cell_type": "code",
   "execution_count": 8,
   "id": "european-relaxation",
   "metadata": {
    "scrolled": true
   },
   "outputs": [
    {
     "data": {
      "text/html": [
       "<div>\n",
       "<style scoped>\n",
       "    .dataframe tbody tr th:only-of-type {\n",
       "        vertical-align: middle;\n",
       "    }\n",
       "\n",
       "    .dataframe tbody tr th {\n",
       "        vertical-align: top;\n",
       "    }\n",
       "\n",
       "    .dataframe thead th {\n",
       "        text-align: right;\n",
       "    }\n",
       "</style>\n",
       "<table border=\"1\" class=\"dataframe\">\n",
       "  <thead>\n",
       "    <tr style=\"text-align: right;\">\n",
       "      <th></th>\n",
       "      <th>quality</th>\n",
       "      <th>description</th>\n",
       "      <th>size</th>\n",
       "      <th>proportion</th>\n",
       "    </tr>\n",
       "  </thead>\n",
       "  <tbody>\n",
       "    <tr>\n",
       "      <th>0</th>\n",
       "      <td>0.641066</td>\n",
       "      <td>education-num = (10, 13] AND marital-status = \"Married-civ-spouse\"</td>\n",
       "      <td>5846</td>\n",
       "      <td>0.119692</td>\n",
       "    </tr>\n",
       "    <tr>\n",
       "      <th>1</th>\n",
       "      <td>0.635219</td>\n",
       "      <td>education-num = (10, 13] AND relationship = \"Husband\"</td>\n",
       "      <td>5100</td>\n",
       "      <td>0.104418</td>\n",
       "    </tr>\n",
       "    <tr>\n",
       "      <th>2</th>\n",
       "      <td>0.588991</td>\n",
       "      <td>education = \"Bachelors\" AND sex = \"Male\" AND race = \"White\"</td>\n",
       "      <td>4983</td>\n",
       "      <td>0.102023</td>\n",
       "    </tr>\n",
       "    <tr>\n",
       "      <th>3</th>\n",
       "      <td>0.583581</td>\n",
       "      <td>education = \"Bachelors\" AND sex = \"Male\"</td>\n",
       "      <td>5548</td>\n",
       "      <td>0.113591</td>\n",
       "    </tr>\n",
       "    <tr>\n",
       "      <th>4</th>\n",
       "      <td>0.454152</td>\n",
       "      <td>education = \"Bachelors\" AND race = \"White\"</td>\n",
       "      <td>7034</td>\n",
       "      <td>0.144015</td>\n",
       "    </tr>\n",
       "  </tbody>\n",
       "</table>\n",
       "</div>"
      ],
      "text/plain": [
       "    quality  \\\n",
       "0  0.641066   \n",
       "1  0.635219   \n",
       "2  0.588991   \n",
       "3  0.583581   \n",
       "4  0.454152   \n",
       "\n",
       "                                                           description  size  \\\n",
       "0  education-num = (10, 13] AND marital-status = \"Married-civ-spouse\"   5846   \n",
       "1               education-num = (10, 13] AND relationship = \"Husband\"   5100   \n",
       "2         education = \"Bachelors\" AND sex = \"Male\" AND race = \"White\"   4983   \n",
       "3                            education = \"Bachelors\" AND sex = \"Male\"   5548   \n",
       "4                          education = \"Bachelors\" AND race = \"White\"   7034   \n",
       "\n",
       "   proportion  \n",
       "0    0.119692  \n",
       "1    0.104418  \n",
       "2    0.102023  \n",
       "3    0.113591  \n",
       "4    0.144015  "
      ]
     },
     "metadata": {},
     "output_type": "display_data"
    }
   ],
   "source": [
    "pd.set_option('display.max_colwidth', None)\n",
    "df=result_set.to_dataframe()\n",
    "display(df)\n",
    "# quality is the demographic parity difference in our case, it can be changed to other metrics\n",
    "# the metric is higher for these subgroups, which means if we select these subgroups, the demographic parity difference will be higher"
   ]
  },
  {
   "cell_type": "markdown",
   "id": "steady-version",
   "metadata": {},
   "source": [
    "We can also print the result set or convert it into a string as shown below."
   ]
  },
  {
   "cell_type": "markdown",
   "id": "difficult-rendering",
   "metadata": {},
   "source": [
    "### Generate a feature from a subgroup\n",
    "ResultSet basically contains a list of subgroup descriptions ([Description](https://github.com/MaurizioPulizzi/fairsd/blob/main/fairsd/sgdescription.py#L80) object).<br/>\n",
    "Another intresting method of Resultset object allow us to \n",
    "**select a subgroup X from the result set and automatically generate the feature \"Belong to subgroup X\"**.This is very useful for deepening the analysis on the found subgroups, for example we can use the FairLearn library for this purpose.<br/>\n",
    "An example is shown below:"
   ]
  },
  {
   "cell_type": "code",
   "execution_count": 9,
   "id": "covered-falls",
   "metadata": {},
   "outputs": [
    {
     "name": "stdout",
     "output_type": "stream",
     "text": [
      "sg0\n",
      "False    0.087124\n",
      "True     0.728190\n",
      "Name: selection_rate, dtype: float64\n"
     ]
    }
   ],
   "source": [
    "from fairlearn.metrics import MetricFrame\n",
    "from fairlearn.metrics import selection_rate\n",
    "\n",
    "# Here we generate the feature \"Belong to subgroup n. 0\"\n",
    "# The result is a pandas Series. The name of this Series is \"sg0\".\n",
    "# This series contains an element for each instance of the dataset. Each element is True \n",
    "# iff the istance belong to the subgroup sg0\n",
    "sg_feature = result_set.sg_feature(sg_index=0, X=X)\n",
    "\n",
    "# Here we basically use the FairLearn library to further analyzing the subgroup sg0\n",
    "selection_rate = MetricFrame(selection_rate, y_true, y_pred, sensitive_features=sg_feature)\n",
    "print(selection_rate.by_group)"
   ]
  },
  {
   "cell_type": "markdown",
   "id": "conceptual-battlefield",
   "metadata": {},
   "source": [
    "### Description object\n",
    "We can obtain the subgroup feature also retrieving the relative Description object first:"
   ]
  },
  {
   "cell_type": "code",
   "execution_count": 10,
   "id": "worth-service",
   "metadata": {},
   "outputs": [
    {
     "name": "stdout",
     "output_type": "stream",
     "text": [
      "0        False\n",
      "1        False\n",
      "2         True\n",
      "3        False\n",
      "4        False\n",
      "         ...  \n",
      "48837     True\n",
      "48838    False\n",
      "48839    False\n",
      "48840    False\n",
      "48841    False\n",
      "Length: 48842, dtype: bool\n"
     ]
    }
   ],
   "source": [
    "description0 = result_set.get_description(0)\n",
    "sg_feature = description0.to_boolean_array(dataset = X)\n",
    "print(sg_feature)"
   ]
  },
  {
   "cell_type": "markdown",
   "id": "portuguese-eating",
   "metadata": {},
   "source": [
    "Once we have the Description object of a subgroup, we can also extract other information of the subgroup.<br/>\n",
    "We can:\n",
    " * convert the Description object into a string\n",
    " * retrieve the size of the subgroup\n",
    " * retrieve the quality (fairness measure) of the subgroup\n",
    " * retrieve the names of the attributes that compose the subgroup description"
   ]
  },
  {
   "cell_type": "code",
   "execution_count": 11,
   "id": "pleased-chancellor",
   "metadata": {},
   "outputs": [
    {
     "name": "stdout",
     "output_type": "stream",
     "text": [
      "education-num = (10, 13] AND marital-status = \"Married-civ-spouse\" \n",
      "5846\n",
      "0.6410658318683911\n",
      "['education-num', 'marital-status']\n"
     ]
    }
   ],
   "source": [
    "# String conversion\n",
    "str_descr = description0.to_string()\n",
    "print( str_descr ) # also print(description0) works\n",
    "\n",
    "# Size\n",
    "print( description0.size() )\n",
    "\n",
    "# Quality\n",
    "print( description0.get_quality() )\n",
    "\n",
    "# Attribute names\n",
    "print( description0.get_attributes() )"
   ]
  },
  {
   "cell_type": "markdown",
   "id": "3aacce22",
   "metadata": {},
   "source": [
    "## Interpreting and logging these results\n",
    "\n",
    "**Subgroup discovery (SD) techniques enable us to systematically explorate bias in datasets. Here, we presented an example using Adult datasets by identifying subgroups with distinct performance discrepancies.** \n",
    "\n",
    "A subgroup discovery can reveal these key results:\n",
    "\n",
    "* **Identifying Harmed Subgroups:** Automatically searching for subgroups within the dataset that exhibit the most significant discrepancies in model performance compared to the overall population. This helps pinpoint groups potentially disadvantaged by the model's predictions. \n",
    "* **Addressing Fairness Gerrymandering:** An SG discovery can reveal \"fairness gerrymandering,\" where subgroups experiencing harm may be hidden when only considering individual sensitive attributes like race or gender.\n",
    "* **Choice of Quality Metric:** The choice of quality metric in the subgroup discovery process is crucial for defining and identifying the specific type of harm being assessed. For instance, using average group log loss as the quality metric focuses on identifying subgroups experiencing lower epistemic value in their predicted risk scores, meaning their predictions are less accurate and potentially more miscalibrated.\n",
    "* **Uncovering Predictive Bias:** The discrepancies in model performance revealed by subgroup discovery can point to potential sources of predictive bias. If a subgroup consistently exhibits lower performance, it suggests certain features may be less informative for that group, leading to biased predictions. For example, if the subgroup \"occupation = 'Exec-managerial' AND capital-gain = (-infinite,0]\" shows significant underperformance, it suggests these combined features may be less informative or biased for this specific group.\n",
    "\n",
    "Now, let's assume that, after our analysis, we would like to change the quality metric to average group log loss. We need to link our fairness experiment results to model log in this case. Further, we should select the important findings to the model log so that other developers can also benefit from these findings. For example, comparing the subgroup \"native-country = 'Mexico'\" to \"native-country = 'Mexico' AND race = 'White'\" revealed that the model performed better for white individuals within the Mexican subgroup, highlighting a concerning disparity."
   ]
  },
  {
   "cell_type": "code",
   "execution_count": 4,
   "id": "71193cb0",
   "metadata": {},
   "outputs": [
    {
     "name": "stdout",
     "output_type": "stream",
     "text": [
      "Model log file already exists.\n",
      "Data log file already exists.\n",
      "Fairness experiment log created.\n",
      "Risks log file already exists.\n",
      "Transparency log file already exists.\n"
     ]
    }
   ],
   "source": [
    "from faid import logging as faidlog\n",
    "\n",
    "experiment_name = \"adult-subgroups\"\n",
    "faidlog.init_log()\n",
    "ctx = faidlog.ExperimentContext(name=experiment_name)"
   ]
  },
  {
   "cell_type": "code",
   "execution_count": 5,
   "id": "16f82514",
   "metadata": {},
   "outputs": [
    {
     "name": "stdout",
     "output_type": "stream",
     "text": [
      "Added model_info to model card\n"
     ]
    }
   ],
   "source": [
    "faidlog.add_model_entry({\n",
    "    \"name\": \"baseline-random-forest\",\n",
    "    \"description\": \"Baseline model using a random forest\",\n",
    "    \"details\": \"Random forest with default scikit-learn parameters\",\n",
    "    })"
   ]
  },
  {
   "cell_type": "code",
   "execution_count": 6,
   "id": "359bd27f",
   "metadata": {},
   "outputs": [
    {
     "name": "stdout",
     "output_type": "stream",
     "text": [
      "Added baseline to project metadata under ['bias_metrics']['groups'] and log updated\n",
      "Added occupation=”Exec-managerial” AND capital-gain=(-infinite,0] to project metadata under ['bias_metrics']['groups'] and log updated\n"
     ]
    }
   ],
   "source": [
    "ctx.add_metric_entry(\"baseline\",{\n",
    "    \"description\": \"\",\n",
    "    \"label\": \"\",\n",
    "    \"metrics\": [\n",
    "        {\n",
    "            \"name\": \"AUROC\",\n",
    "            \"description\": \"\",\n",
    "            \"value\": 0.905,\n",
    "            \"threshold\": 0.85,\n",
    "            \"bigger_is_better\": True,\n",
    "            \"label\": \"\",\n",
    "            \"notes\": \"\"\n",
    "        }\n",
    "    ]\n",
    "})\n",
    "ctx.add_metric_entry(\"occupation=”Exec-managerial” AND capital-gain=(-infinite,0]\", {\n",
    "    \"description\": \"\",\n",
    "    \"label\": \"\",\n",
    "    \"metrics\": [\n",
    "        {\n",
    "            \"name\": \"AUROC\",\n",
    "            \"description\": \"\",\n",
    "            \"value\": 0.848,\n",
    "            \"threshold\": 0.85,\n",
    "            \"bigger_is_better\": True,\n",
    "            \"label\": \"\",\n",
    "            \"notes\": \"\"\n",
    "        },\n",
    "        {\n",
    "            \"name\": \"Brier\",\n",
    "            \"description\": \"\",\n",
    "            \"value\": 0.115,\n",
    "            \"threshold\": 0.1,\n",
    "            \"bigger_is_better\": False,\n",
    "            \"label\": \"\",\n",
    "            \"notes\": \"\"\n",
    "        }\n",
    "    ]\n",
    "})"
   ]
  },
  {
   "cell_type": "code",
   "execution_count": null,
   "id": "99abb459",
   "metadata": {},
   "outputs": [],
   "source": []
  }
 ],
 "metadata": {
  "kernelspec": {
   "display_name": ".venv",
   "language": "python",
   "name": "python3"
  },
  "language_info": {
   "codemirror_mode": {
    "name": "ipython",
    "version": 3
   },
   "file_extension": ".py",
   "mimetype": "text/x-python",
   "name": "python",
   "nbconvert_exporter": "python",
   "pygments_lexer": "ipython3",
   "version": "3.10.4"
  }
 },
 "nbformat": 4,
 "nbformat_minor": 5
}
