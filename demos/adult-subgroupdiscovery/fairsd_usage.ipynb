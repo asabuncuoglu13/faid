{
 "cells": [
  {
   "cell_type": "markdown",
   "id": "proper-mustang",
   "metadata": {},
   "source": [
    "# Quick start -- Use Case Example\n",
    "For this example is used the [UCI adult dataset](https://archive.ics.uci.edu/ml/datasets/Adult) where the objective is to predict whether a person makes more (label 1) or less (0) than $50,000 a year."
   ]
  },
  {
   "cell_type": "code",
   "execution_count": 1,
   "id": "authorized-better",
   "metadata": {},
   "outputs": [],
   "source": [
    "import pandas as pd\n",
    "from sklearn.datasets import fetch_openml\n",
    "from sklearn.tree import DecisionTreeClassifier\n",
    "\n",
    "#Import dataset\n",
    "d = fetch_openml(data_id=1590, as_frame=True) # Adult dataset\n",
    "X = d.data\n",
    "d_train=pd.get_dummies(X)\n",
    "y_true = (d.target == '>50K') * 1\n",
    "\n",
    "#training the classifier\n",
    "classifier = DecisionTreeClassifier(min_samples_leaf=10, max_depth=4)\n",
    "classifier.fit(d_train, y_true)\n",
    "\n",
    "#Producing y_pred\n",
    "y_pred = classifier.predict(d_train)"
   ]
  },
  {
   "cell_type": "code",
   "execution_count": 2,
   "id": "2cc2b5dc",
   "metadata": {},
   "outputs": [
    {
     "data": {
      "text/html": [
       "<div>\n",
       "<style scoped>\n",
       "    .dataframe tbody tr th:only-of-type {\n",
       "        vertical-align: middle;\n",
       "    }\n",
       "\n",
       "    .dataframe tbody tr th {\n",
       "        vertical-align: top;\n",
       "    }\n",
       "\n",
       "    .dataframe thead th {\n",
       "        text-align: right;\n",
       "    }\n",
       "</style>\n",
       "<table border=\"1\" class=\"dataframe\">\n",
       "  <thead>\n",
       "    <tr style=\"text-align: right;\">\n",
       "      <th></th>\n",
       "      <th>age</th>\n",
       "      <th>workclass</th>\n",
       "      <th>fnlwgt</th>\n",
       "      <th>education</th>\n",
       "      <th>education-num</th>\n",
       "      <th>marital-status</th>\n",
       "      <th>occupation</th>\n",
       "      <th>relationship</th>\n",
       "      <th>race</th>\n",
       "      <th>sex</th>\n",
       "      <th>capital-gain</th>\n",
       "      <th>capital-loss</th>\n",
       "      <th>hours-per-week</th>\n",
       "      <th>native-country</th>\n",
       "    </tr>\n",
       "  </thead>\n",
       "  <tbody>\n",
       "    <tr>\n",
       "      <th>0</th>\n",
       "      <td>25</td>\n",
       "      <td>Private</td>\n",
       "      <td>226802</td>\n",
       "      <td>11th</td>\n",
       "      <td>7</td>\n",
       "      <td>Never-married</td>\n",
       "      <td>Machine-op-inspct</td>\n",
       "      <td>Own-child</td>\n",
       "      <td>Black</td>\n",
       "      <td>Male</td>\n",
       "      <td>0</td>\n",
       "      <td>0</td>\n",
       "      <td>40</td>\n",
       "      <td>United-States</td>\n",
       "    </tr>\n",
       "    <tr>\n",
       "      <th>1</th>\n",
       "      <td>38</td>\n",
       "      <td>Private</td>\n",
       "      <td>89814</td>\n",
       "      <td>HS-grad</td>\n",
       "      <td>9</td>\n",
       "      <td>Married-civ-spouse</td>\n",
       "      <td>Farming-fishing</td>\n",
       "      <td>Husband</td>\n",
       "      <td>White</td>\n",
       "      <td>Male</td>\n",
       "      <td>0</td>\n",
       "      <td>0</td>\n",
       "      <td>50</td>\n",
       "      <td>United-States</td>\n",
       "    </tr>\n",
       "    <tr>\n",
       "      <th>2</th>\n",
       "      <td>28</td>\n",
       "      <td>Local-gov</td>\n",
       "      <td>336951</td>\n",
       "      <td>Assoc-acdm</td>\n",
       "      <td>12</td>\n",
       "      <td>Married-civ-spouse</td>\n",
       "      <td>Protective-serv</td>\n",
       "      <td>Husband</td>\n",
       "      <td>White</td>\n",
       "      <td>Male</td>\n",
       "      <td>0</td>\n",
       "      <td>0</td>\n",
       "      <td>40</td>\n",
       "      <td>United-States</td>\n",
       "    </tr>\n",
       "    <tr>\n",
       "      <th>3</th>\n",
       "      <td>44</td>\n",
       "      <td>Private</td>\n",
       "      <td>160323</td>\n",
       "      <td>Some-college</td>\n",
       "      <td>10</td>\n",
       "      <td>Married-civ-spouse</td>\n",
       "      <td>Machine-op-inspct</td>\n",
       "      <td>Husband</td>\n",
       "      <td>Black</td>\n",
       "      <td>Male</td>\n",
       "      <td>7688</td>\n",
       "      <td>0</td>\n",
       "      <td>40</td>\n",
       "      <td>United-States</td>\n",
       "    </tr>\n",
       "    <tr>\n",
       "      <th>4</th>\n",
       "      <td>18</td>\n",
       "      <td>NaN</td>\n",
       "      <td>103497</td>\n",
       "      <td>Some-college</td>\n",
       "      <td>10</td>\n",
       "      <td>Never-married</td>\n",
       "      <td>NaN</td>\n",
       "      <td>Own-child</td>\n",
       "      <td>White</td>\n",
       "      <td>Female</td>\n",
       "      <td>0</td>\n",
       "      <td>0</td>\n",
       "      <td>30</td>\n",
       "      <td>United-States</td>\n",
       "    </tr>\n",
       "  </tbody>\n",
       "</table>\n",
       "</div>"
      ],
      "text/plain": [
       "   age  workclass  fnlwgt     education  education-num      marital-status  \\\n",
       "0   25    Private  226802          11th              7       Never-married   \n",
       "1   38    Private   89814       HS-grad              9  Married-civ-spouse   \n",
       "2   28  Local-gov  336951    Assoc-acdm             12  Married-civ-spouse   \n",
       "3   44    Private  160323  Some-college             10  Married-civ-spouse   \n",
       "4   18        NaN  103497  Some-college             10       Never-married   \n",
       "\n",
       "          occupation relationship   race     sex  capital-gain  capital-loss  \\\n",
       "0  Machine-op-inspct    Own-child  Black    Male             0             0   \n",
       "1    Farming-fishing      Husband  White    Male             0             0   \n",
       "2    Protective-serv      Husband  White    Male             0             0   \n",
       "3  Machine-op-inspct      Husband  Black    Male          7688             0   \n",
       "4                NaN    Own-child  White  Female             0             0   \n",
       "\n",
       "   hours-per-week native-country  \n",
       "0              40  United-States  \n",
       "1              50  United-States  \n",
       "2              40  United-States  \n",
       "3              40  United-States  \n",
       "4              30  United-States  "
      ]
     },
     "execution_count": 2,
     "metadata": {},
     "output_type": "execute_result"
    }
   ],
   "source": [
    "X.head()"
   ]
  },
  {
   "cell_type": "code",
   "execution_count": 4,
   "id": "6e19240b",
   "metadata": {},
   "outputs": [
    {
     "data": {
      "text/plain": [
       "array([0, 0, 0, ..., 0, 0, 1])"
      ]
     },
     "execution_count": 4,
     "metadata": {},
     "output_type": "execute_result"
    }
   ],
   "source": [
    "y_pred"
   ]
  },
  {
   "cell_type": "code",
   "execution_count": 5,
   "id": "dacc56cd",
   "metadata": {},
   "outputs": [
    {
     "data": {
      "text/plain": [
       "0        0\n",
       "1        0\n",
       "2        1\n",
       "3        1\n",
       "4        0\n",
       "        ..\n",
       "48837    0\n",
       "48838    1\n",
       "48839    0\n",
       "48840    0\n",
       "48841    1\n",
       "Name: class, Length: 48842, dtype: int64"
      ]
     },
     "execution_count": 5,
     "metadata": {},
     "output_type": "execute_result"
    }
   ],
   "source": [
    "y_true"
   ]
  },
  {
   "cell_type": "markdown",
   "id": "adolescent-damage",
   "metadata": {},
   "source": [
    "## Use of the FairSD package\n",
    "Here we use the DSSD (Diverse Subgroup Set Discovery) algorithm and the demographic_parity_difference (from Fairlearn) to find the top-k (k = 5 by default) subgroups that exert the greatest disparity.<br/>\n",
    "The execute method return a **ResultSet object**."
   ]
  },
  {
   "cell_type": "code",
   "execution_count": null,
   "id": "talented-dynamics",
   "metadata": {},
   "outputs": [],
   "source": [
    "import sys\n",
    "sys.path.append('../..')\n",
    "import faid.metrics.subgroupdiscovery as fsd\n",
    "task=fsd.SubgroupDiscoveryTask(X, y_true, y_pred, qf = \"demographic_parity_difference\")\n",
    "result_set=fsd.DSSD().execute(task)"
   ]
  },
  {
   "cell_type": "markdown",
   "id": "liked-paradise",
   "metadata": {},
   "source": [
    "### ResultSet object"
   ]
  },
  {
   "cell_type": "markdown",
   "id": "blind-official",
   "metadata": {},
   "source": [
    "We can transform the result set into a dataframe as shown below. Each row of this dataframe represents a subgroup."
   ]
  },
  {
   "cell_type": "code",
   "execution_count": 3,
   "id": "european-relaxation",
   "metadata": {
    "scrolled": true
   },
   "outputs": [
    {
     "data": {
      "text/html": [
       "<div>\n",
       "<style scoped>\n",
       "    .dataframe tbody tr th:only-of-type {\n",
       "        vertical-align: middle;\n",
       "    }\n",
       "\n",
       "    .dataframe tbody tr th {\n",
       "        vertical-align: top;\n",
       "    }\n",
       "\n",
       "    .dataframe thead th {\n",
       "        text-align: right;\n",
       "    }\n",
       "</style>\n",
       "<table border=\"1\" class=\"dataframe\">\n",
       "  <thead>\n",
       "    <tr style=\"text-align: right;\">\n",
       "      <th></th>\n",
       "      <th>quality</th>\n",
       "      <th>description</th>\n",
       "      <th>size</th>\n",
       "      <th>proportion</th>\n",
       "    </tr>\n",
       "  </thead>\n",
       "  <tbody>\n",
       "    <tr>\n",
       "      <th>0</th>\n",
       "      <td>0.641066</td>\n",
       "      <td>education-num = (10, 13] AND marital-status = ...</td>\n",
       "      <td>5846</td>\n",
       "      <td>0.119692</td>\n",
       "    </tr>\n",
       "    <tr>\n",
       "      <th>1</th>\n",
       "      <td>0.635219</td>\n",
       "      <td>education-num = (10, 13] AND relationship = \"H...</td>\n",
       "      <td>5100</td>\n",
       "      <td>0.104418</td>\n",
       "    </tr>\n",
       "    <tr>\n",
       "      <th>2</th>\n",
       "      <td>0.588991</td>\n",
       "      <td>education = \"Bachelors\" AND sex = \"Male\" AND r...</td>\n",
       "      <td>4983</td>\n",
       "      <td>0.102023</td>\n",
       "    </tr>\n",
       "    <tr>\n",
       "      <th>3</th>\n",
       "      <td>0.583581</td>\n",
       "      <td>education = \"Bachelors\" AND sex = \"Male\"</td>\n",
       "      <td>5548</td>\n",
       "      <td>0.113591</td>\n",
       "    </tr>\n",
       "    <tr>\n",
       "      <th>4</th>\n",
       "      <td>0.454152</td>\n",
       "      <td>education = \"Bachelors\" AND race = \"White\"</td>\n",
       "      <td>7034</td>\n",
       "      <td>0.144015</td>\n",
       "    </tr>\n",
       "  </tbody>\n",
       "</table>\n",
       "</div>"
      ],
      "text/plain": [
       "    quality                                        description  size  \\\n",
       "0  0.641066  education-num = (10, 13] AND marital-status = ...  5846   \n",
       "1  0.635219  education-num = (10, 13] AND relationship = \"H...  5100   \n",
       "2  0.588991  education = \"Bachelors\" AND sex = \"Male\" AND r...  4983   \n",
       "3  0.583581          education = \"Bachelors\" AND sex = \"Male\"   5548   \n",
       "4  0.454152        education = \"Bachelors\" AND race = \"White\"   7034   \n",
       "\n",
       "   proportion  \n",
       "0    0.119692  \n",
       "1    0.104418  \n",
       "2    0.102023  \n",
       "3    0.113591  \n",
       "4    0.144015  "
      ]
     },
     "metadata": {},
     "output_type": "display_data"
    }
   ],
   "source": [
    "df=result_set.to_dataframe()\n",
    "display(df)"
   ]
  },
  {
   "cell_type": "markdown",
   "id": "steady-version",
   "metadata": {},
   "source": [
    "We can also print the result set or convert it into a string as shown below."
   ]
  },
  {
   "cell_type": "code",
   "execution_count": 4,
   "id": "continuing-quarter",
   "metadata": {},
   "outputs": [
    {
     "name": "stdout",
     "output_type": "stream",
     "text": [
      "education-num = (10, 13] AND marital-status = \"Married-civ-spouse\" \n",
      "education-num = (10, 13] AND relationship = \"Husband\" \n",
      "education = \"Bachelors\" AND sex = \"Male\" AND race = \"White\" \n",
      "education = \"Bachelors\" AND sex = \"Male\" \n",
      "education = \"Bachelors\" AND race = \"White\" \n",
      "\n"
     ]
    }
   ],
   "source": [
    "resultset_string = result_set.to_string()\n",
    "print(result_set)"
   ]
  },
  {
   "cell_type": "markdown",
   "id": "difficult-rendering",
   "metadata": {},
   "source": [
    "### Generate a feature from a subgroup\n",
    "ResultSet basically contains a list of subgroup descriptions ([Description](https://github.com/MaurizioPulizzi/fairsd/blob/main/fairsd/sgdescription.py#L80) object).<br/>\n",
    "Another intresting method of Resultset object allow us to \n",
    "**select a subgroup X from the result set and automatically generate the feature \"Belong to subgroup X\"**.This is very useful for deepening the analysis on the found subgroups, for example we can use the FairLearn library for this purpose.<br/>\n",
    "An example is shown below:"
   ]
  },
  {
   "cell_type": "code",
   "execution_count": null,
   "id": "covered-falls",
   "metadata": {},
   "outputs": [],
   "source": [
    "from fairlearn.metrics import MetricFrame\n",
    "from fairlearn.metrics import selection_rate\n",
    "\n",
    "# Here we generate the feature \"Belong to subgroup n. 0\"\n",
    "# The result is a pandas Series. The name of this Series is \"sg0\".\n",
    "# This series contains an element for each instance of the dataset. Each element is True \n",
    "# iff the istance belong to the subgroup sg0\n",
    "sg_feature = result_set.sg_feature(sg_index=0, X=X)\n",
    "\n",
    "# Here we basically use the FairLearn library to further analyzing the subgroup sg0\n",
    "selection_rate = MetricFrame(selection_rate, y_true, y_pred, sensitive_features=sg_feature)\n",
    "print(selection_rate.by_group)"
   ]
  },
  {
   "cell_type": "markdown",
   "id": "conceptual-battlefield",
   "metadata": {},
   "source": [
    "### Description object\n",
    "We can obtain the subgroup feature also retrieving the relative Description object first:"
   ]
  },
  {
   "cell_type": "code",
   "execution_count": 6,
   "id": "worth-service",
   "metadata": {},
   "outputs": [
    {
     "name": "stdout",
     "output_type": "stream",
     "text": [
      "0        False\n",
      "1        False\n",
      "2        False\n",
      "3        False\n",
      "4        False\n",
      "         ...  \n",
      "48837    False\n",
      "48838    False\n",
      "48839    False\n",
      "48840    False\n",
      "48841    False\n",
      "Length: 48842, dtype: bool\n"
     ]
    }
   ],
   "source": [
    "description0 = result_set.get_description(0)\n",
    "sg_feature = description0.to_boolean_array(dataset = X)\n",
    "print(sg_feature)"
   ]
  },
  {
   "cell_type": "markdown",
   "id": "portuguese-eating",
   "metadata": {},
   "source": [
    "Once we have the Description object of a subgroup, we can also extract other information of the subgroup.<br/>\n",
    "We can:\n",
    " * convert the Description object into a string\n",
    " * retrieve the size of the subgroup\n",
    " * retrieve the quality (fairness measure) of the subgroup\n",
    " * retrieve the names of the attributes that compose the subgroup description"
   ]
  },
  {
   "cell_type": "code",
   "execution_count": 7,
   "id": "pleased-chancellor",
   "metadata": {},
   "outputs": [
    {
     "name": "stdout",
     "output_type": "stream",
     "text": [
      "education = \"Bachelors\" AND marital-status = \"Married-civ-spouse\" \n",
      "4136\n",
      "0.913501543416991\n",
      "['education', 'marital-status']\n"
     ]
    }
   ],
   "source": [
    "# String conversion\n",
    "str_descr = description0.to_string()\n",
    "print( str_descr ) # also print(description0) works\n",
    "\n",
    "# Size\n",
    "print( description0.size() )\n",
    "\n",
    "# Quality\n",
    "print( description0.get_quality() )\n",
    "\n",
    "# Attribute names\n",
    "print( description0.get_attributes() )"
   ]
  }
 ],
 "metadata": {
  "kernelspec": {
   "display_name": ".venv",
   "language": "python",
   "name": "python3"
  },
  "language_info": {
   "codemirror_mode": {
    "name": "ipython",
    "version": 3
   },
   "file_extension": ".py",
   "mimetype": "text/x-python",
   "name": "python",
   "nbconvert_exporter": "python",
   "pygments_lexer": "ipython3",
   "version": "3.10.4"
  }
 },
 "nbformat": 4,
 "nbformat_minor": 5
}
