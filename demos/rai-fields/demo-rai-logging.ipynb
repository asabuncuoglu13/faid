{
 "cells": [
  {
   "cell_type": "markdown",
   "metadata": {},
   "source": [
    "# Using ML Croissant with FAID\n",
    "\n",
    "Croissant is a metadata format designed to standardize the description of machine learning (ML) datasets. It enhances dataset discoverability, portability, and interoperability across ML tools and frameworks. Croissant provides a consistent method to describe and organize data without altering the actual data representation. The 1.0 release includes a complete specification, example datasets, an open-source Python library for validating, consuming, and generating Croissant metadata, and a visual editor for creating dataset descriptions. ([research.google](https://research.google/blog/croissant-a-metadata-format-for-ml-ready-datasets/?utm_source=chatgpt.com)) \n",
    "\n",
    "We can also use directly its RAI specification, if the author of the dataset entered the details.\n",
    "https://docs.mlcommons.org/croissant/docs/croissant-rai-spec.html\n",
    "\n",
    "On their web page, the authors specify the the use cases of Croissant's metadata in RAI as follows:\n",
    "\n",
    "| RAI use case                         | Croissant RAI properties                                                                 | Croissant properties                                                                                                                                                 | Schema.org properties                                                                                                           |\n",
    "|--------------------------------------|------------------------------------------------------------------------------------------|----------------------------------------------------------------------------------------------------------------------------------------------------------------------|-------------------------------------------------------------------------------------------------------------------------------|\n",
    "| Use case 1: The data life cycle      | rai:dataLimitations<br>rai:dataCollection<br>rai:useCases<br>rai:dataReleaseMaintenance   | cr:[distribution](http://schema.org/distribution)<br>cr:[isLiveDataset](https://mlcommons.org/croissant/1.0#modified-and-added-properties)<br>cr:[citeAs](https://mlcommons.org/croissant/1.0#modified-and-added-properties)    | sc:[creator](http://schema.org/creator)<br>sc:[publisher](http://schema.org/publisher)<br>sc:[datePublished](http://schema.org/datePublished)<br>sc:[dateCreated](http://schema.org/dateCreated)<br>sc:[dateModified](http://schema.org/dateModified)<br>sc:[version](http://schema.org/version)<br>sc:[license](http://schema.org/license)<br>sc:[maintainer](https://schema.org/maintainer) |\n",
    "| Use case 2: Data labeling            | rai:annotationPlatform<br>rai:annotationsPerItem<br>rai:annotatorDemographics<br>rai:machineAnnotationTools   | cr:[distribution](http://schema.org/distribution)<br>cr:[isLiveDataset](https://mlcommons.org/croissant/1.0#modified-and-added-properties)<br>[cr:Label](https://mlcommons.org/croissant/1.0#label-data)       |                                                                                                                               |\n",
    "| Use case 3: Participatory data       | rai:annotationPlatform<br>rai:annotatorDemographics                                       |                                                                                                                                                                      | sc:[participant](https://schema.org/participant)<br>sc:[contributor](https://schema.org/contributor)                         |\n",
    "| Use case 4: AI safety and fairness   | rai:dataLimitations<br>rai:dataBiases<br>rai:useCases<br>rai:personalSensitiveInformation |                                                                                                                                                                      | sc:[diversityPolicy](https://schema.org/diversityPolicy)<br>sc:[ethicsPolicy](https://schema.org/ethicsPolicy)<br>sc:[inLanguage](https://schema.org/inLanguage) |\n",
    "| Use case 5: Traceability             |                                                                                          |                                                                                                                                                                      |                                                                                                                               |\n",
    "| Use case 6: Regulatory compliance    | rai:personalSensitiveInformation<br>rai:useCases<br>rai:dataReleaseMaintenance<br>rai:dataManipulationProtocol<br>rai:dataManipulationProtocol |                                                                                                                                                                      |                                                                                                                               |\n",
    "| Use case 7: Inclusion                |                                                                                          |                                                                                                                                                                      |                                                                                                                               |\n",
    "\n"
   ]
  },
  {
   "cell_type": "code",
   "execution_count": 11,
   "metadata": {},
   "outputs": [
    {
     "name": "stdout",
     "output_type": "stream",
     "text": [
      "\u001b[92mModel log file created.\u001b[0m\n",
      "\u001b[92mData log file created.\u001b[0m\n",
      "\u001b[92mRisks log file created.\u001b[0m\n",
      "\u001b[92mTransparency log file created.\u001b[0m\n"
     ]
    }
   ],
   "source": [
    "from mlcroissant import Dataset\n",
    "import itertools\n",
    "import pandas as pd\n",
    "import os\n",
    "import sys\n",
    "sys.path.append('../../')\n",
    "\n",
    "from faid import logging as faidlog\n",
    "from faid import report as faidreport\n",
    "\n",
    "faidlog.init_log()"
   ]
  },
  {
   "cell_type": "code",
   "execution_count": 12,
   "metadata": {},
   "outputs": [
    {
     "name": "stderr",
     "output_type": "stream",
     "text": [
      "WARNING:absl:WARNING: The JSON-LD `@context` is not standard. Refer to the official @context (e.g., from the example datasets in https://github.com/mlcommons/croissant/tree/main/datasets/1.0). The different keys are: {'examples', 'rai'}\n",
      "WARNING:absl:Found the following 3 warning(s) during the validation:\n",
      "  -  [Metadata(prism-alignment)] Property \"http://mlcommons.org/croissant/citeAs\" is recommended, but does not exist.\n",
      "  -  [Metadata(prism-alignment)] Property \"https://schema.org/datePublished\" is recommended, but does not exist.\n",
      "  -  [Metadata(prism-alignment)] Property \"https://schema.org/version\" is recommended, but does not exist.\n"
     ]
    }
   ],
   "source": [
    "ds = Dataset(jsonld=\"https://huggingface.co/api/datasets/HannahRoseKirk/prism-alignment/croissant\")\n",
    "records = ds.records(\"conversations\")"
   ]
  },
  {
   "cell_type": "code",
   "execution_count": 13,
   "metadata": {},
   "outputs": [],
   "source": [
    "meta = ds.metadata.to_json()"
   ]
  },
  {
   "cell_type": "code",
   "execution_count": 14,
   "metadata": {},
   "outputs": [
    {
     "data": {
      "text/plain": [
       "dict_keys(['@context', '@type', 'name', 'description', 'conformsTo', 'creator', 'keywords', 'license', 'url', 'distribution', 'recordSet'])"
      ]
     },
     "execution_count": 14,
     "metadata": {},
     "output_type": "execute_result"
    }
   ],
   "source": [
    "meta.keys()"
   ]
  },
  {
   "cell_type": "code",
   "execution_count": 15,
   "metadata": {},
   "outputs": [
    {
     "data": {
      "text/plain": [
       "'http://mlcommons.org/croissant/1.0'"
      ]
     },
     "execution_count": 15,
     "metadata": {},
     "output_type": "execute_result"
    }
   ],
   "source": [
    "meta[\"conformsTo\"] # If dataset conforms to \"http://mlcommons.org/croissant/RAI/1.0\" it includes RAI properties"
   ]
  },
  {
   "cell_type": "code",
   "execution_count": 16,
   "metadata": {},
   "outputs": [
    {
     "name": "stdout",
     "output_type": "stream",
     "text": [
      "prism-alignment\n",
      "-----Dataset Card for PRISM---PRISM is a diverse human feedback dataset for preference and value alignment in Large Language Models (LLMs).-It maps the characteristics and stated preferences of humans from a detailed survey onto their real-time interactions with LLMs and contextual preference ratings------Dataset Details---There are two sequential stages: first, participants complete a Survey where they answer questions about their demographics and stated preferences, then… See the full description on the dataset page: https://huggingface.co/datasets/HannahRoseKirk/prism-alignment.\n",
      "https://choosealicense.com/licenses/cc/\n"
     ]
    }
   ],
   "source": [
    "print(meta[\"name\"])\n",
    "print(meta[\"description\"].replace(\"\\n\", \"-\").replace(\"\\t\", \"\"))\n",
    "print(meta[\"license\"])"
   ]
  },
  {
   "cell_type": "code",
   "execution_count": 17,
   "metadata": {},
   "outputs": [
    {
     "name": "stderr",
     "output_type": "stream",
     "text": [
      "WARNING:root:Could not match re.compile('conversations/(?:partial-)?(train)/.+parquet$') in train\n",
      "WARNING:root:Could not match re.compile('conversations/(?:partial-)?(train)/.+parquet$') in train\n",
      "WARNING:root:Could not match re.compile('conversations/(?:partial-)?(train)/.+parquet$') in train\n",
      "WARNING:root:Could not match re.compile('conversations/(?:partial-)?(train)/.+parquet$') in train\n",
      "WARNING:root:Could not match re.compile('conversations/(?:partial-)?(train)/.+parquet$') in train\n",
      "WARNING:root:Could not match re.compile('conversations/(?:partial-)?(train)/.+parquet$') in train\n",
      "WARNING:root:Could not match re.compile('conversations/(?:partial-)?(train)/.+parquet$') in train\n",
      "WARNING:root:Could not match re.compile('conversations/(?:partial-)?(train)/.+parquet$') in train\n",
      "WARNING:root:Could not match re.compile('conversations/(?:partial-)?(train)/.+parquet$') in train\n",
      "WARNING:root:Could not match re.compile('conversations/(?:partial-)?(train)/.+parquet$') in train\n",
      "WARNING:root:Could not match re.compile('conversations/(?:partial-)?(train)/.+parquet$') in train\n",
      "WARNING:root:Could not match re.compile('conversations/(?:partial-)?(train)/.+parquet$') in train\n",
      "WARNING:root:Could not match re.compile('conversations/(?:partial-)?(train)/.+parquet$') in train\n",
      "WARNING:root:Could not match re.compile('conversations/(?:partial-)?(train)/.+parquet$') in train\n",
      "WARNING:root:Could not match re.compile('conversations/(?:partial-)?(train)/.+parquet$') in train\n",
      "WARNING:root:Could not match re.compile('conversations/(?:partial-)?(train)/.+parquet$') in train\n",
      "WARNING:root:Could not match re.compile('conversations/(?:partial-)?(train)/.+parquet$') in train\n",
      "WARNING:root:Could not match re.compile('conversations/(?:partial-)?(train)/.+parquet$') in train\n",
      "WARNING:root:Could not match re.compile('conversations/(?:partial-)?(train)/.+parquet$') in train\n",
      "WARNING:root:Could not match re.compile('conversations/(?:partial-)?(train)/.+parquet$') in train\n",
      "WARNING:root:Could not match re.compile('conversations/(?:partial-)?(train)/.+parquet$') in train\n",
      "WARNING:root:Could not match re.compile('conversations/(?:partial-)?(train)/.+parquet$') in train\n",
      "WARNING:root:Could not match re.compile('conversations/(?:partial-)?(train)/.+parquet$') in train\n",
      "WARNING:root:Could not match re.compile('conversations/(?:partial-)?(train)/.+parquet$') in train\n",
      "WARNING:root:Could not match re.compile('conversations/(?:partial-)?(train)/.+parquet$') in train\n",
      "WARNING:root:Could not match re.compile('conversations/(?:partial-)?(train)/.+parquet$') in train\n",
      "WARNING:root:Could not match re.compile('conversations/(?:partial-)?(train)/.+parquet$') in train\n",
      "WARNING:root:Could not match re.compile('conversations/(?:partial-)?(train)/.+parquet$') in train\n",
      "WARNING:root:Could not match re.compile('conversations/(?:partial-)?(train)/.+parquet$') in train\n",
      "WARNING:root:Could not match re.compile('conversations/(?:partial-)?(train)/.+parquet$') in train\n",
      "WARNING:root:Could not match re.compile('conversations/(?:partial-)?(train)/.+parquet$') in train\n",
      "WARNING:root:Could not match re.compile('conversations/(?:partial-)?(train)/.+parquet$') in train\n",
      "WARNING:root:Could not match re.compile('conversations/(?:partial-)?(train)/.+parquet$') in train\n",
      "WARNING:root:Could not match re.compile('conversations/(?:partial-)?(train)/.+parquet$') in train\n",
      "WARNING:root:Could not match re.compile('conversations/(?:partial-)?(train)/.+parquet$') in train\n",
      "WARNING:root:Could not match re.compile('conversations/(?:partial-)?(train)/.+parquet$') in train\n",
      "WARNING:root:Could not match re.compile('conversations/(?:partial-)?(train)/.+parquet$') in train\n",
      "WARNING:root:Could not match re.compile('conversations/(?:partial-)?(train)/.+parquet$') in train\n",
      "WARNING:root:Could not match re.compile('conversations/(?:partial-)?(train)/.+parquet$') in train\n",
      "WARNING:root:Could not match re.compile('conversations/(?:partial-)?(train)/.+parquet$') in train\n",
      "WARNING:root:Could not match re.compile('conversations/(?:partial-)?(train)/.+parquet$') in train\n",
      "WARNING:root:Could not match re.compile('conversations/(?:partial-)?(train)/.+parquet$') in train\n",
      "WARNING:root:Could not match re.compile('conversations/(?:partial-)?(train)/.+parquet$') in train\n",
      "WARNING:root:Could not match re.compile('conversations/(?:partial-)?(train)/.+parquet$') in train\n",
      "WARNING:root:Could not match re.compile('conversations/(?:partial-)?(train)/.+parquet$') in train\n",
      "WARNING:root:Could not match re.compile('conversations/(?:partial-)?(train)/.+parquet$') in train\n",
      "WARNING:root:Could not match re.compile('conversations/(?:partial-)?(train)/.+parquet$') in train\n",
      "WARNING:root:Could not match re.compile('conversations/(?:partial-)?(train)/.+parquet$') in train\n",
      "WARNING:root:Could not match re.compile('conversations/(?:partial-)?(train)/.+parquet$') in train\n",
      "WARNING:root:Could not match re.compile('conversations/(?:partial-)?(train)/.+parquet$') in train\n",
      "WARNING:root:Could not match re.compile('conversations/(?:partial-)?(train)/.+parquet$') in train\n",
      "WARNING:root:Could not match re.compile('conversations/(?:partial-)?(train)/.+parquet$') in train\n",
      "WARNING:root:Could not match re.compile('conversations/(?:partial-)?(train)/.+parquet$') in train\n",
      "WARNING:root:Could not match re.compile('conversations/(?:partial-)?(train)/.+parquet$') in train\n",
      "WARNING:root:Could not match re.compile('conversations/(?:partial-)?(train)/.+parquet$') in train\n",
      "WARNING:root:Could not match re.compile('conversations/(?:partial-)?(train)/.+parquet$') in train\n",
      "WARNING:root:Could not match re.compile('conversations/(?:partial-)?(train)/.+parquet$') in train\n",
      "WARNING:root:Could not match re.compile('conversations/(?:partial-)?(train)/.+parquet$') in train\n",
      "WARNING:root:Could not match re.compile('conversations/(?:partial-)?(train)/.+parquet$') in train\n",
      "WARNING:root:Could not match re.compile('conversations/(?:partial-)?(train)/.+parquet$') in train\n",
      "WARNING:root:Could not match re.compile('conversations/(?:partial-)?(train)/.+parquet$') in train\n",
      "WARNING:root:Could not match re.compile('conversations/(?:partial-)?(train)/.+parquet$') in train\n",
      "WARNING:root:Could not match re.compile('conversations/(?:partial-)?(train)/.+parquet$') in train\n",
      "WARNING:root:Could not match re.compile('conversations/(?:partial-)?(train)/.+parquet$') in train\n",
      "WARNING:root:Could not match re.compile('conversations/(?:partial-)?(train)/.+parquet$') in train\n",
      "WARNING:root:Could not match re.compile('conversations/(?:partial-)?(train)/.+parquet$') in train\n",
      "WARNING:root:Could not match re.compile('conversations/(?:partial-)?(train)/.+parquet$') in train\n",
      "WARNING:root:Could not match re.compile('conversations/(?:partial-)?(train)/.+parquet$') in train\n",
      "WARNING:root:Could not match re.compile('conversations/(?:partial-)?(train)/.+parquet$') in train\n",
      "WARNING:root:Could not match re.compile('conversations/(?:partial-)?(train)/.+parquet$') in train\n",
      "WARNING:root:Could not match re.compile('conversations/(?:partial-)?(train)/.+parquet$') in train\n",
      "WARNING:root:Could not match re.compile('conversations/(?:partial-)?(train)/.+parquet$') in train\n",
      "WARNING:root:Could not match re.compile('conversations/(?:partial-)?(train)/.+parquet$') in train\n",
      "WARNING:root:Could not match re.compile('conversations/(?:partial-)?(train)/.+parquet$') in train\n",
      "WARNING:root:Could not match re.compile('conversations/(?:partial-)?(train)/.+parquet$') in train\n",
      "WARNING:root:Could not match re.compile('conversations/(?:partial-)?(train)/.+parquet$') in train\n",
      "WARNING:root:Could not match re.compile('conversations/(?:partial-)?(train)/.+parquet$') in train\n",
      "WARNING:root:Could not match re.compile('conversations/(?:partial-)?(train)/.+parquet$') in train\n",
      "WARNING:root:Could not match re.compile('conversations/(?:partial-)?(train)/.+parquet$') in train\n",
      "WARNING:root:Could not match re.compile('conversations/(?:partial-)?(train)/.+parquet$') in train\n",
      "WARNING:root:Could not match re.compile('conversations/(?:partial-)?(train)/.+parquet$') in train\n",
      "WARNING:root:Could not match re.compile('conversations/(?:partial-)?(train)/.+parquet$') in train\n",
      "WARNING:root:Could not match re.compile('conversations/(?:partial-)?(train)/.+parquet$') in train\n",
      "WARNING:root:Could not match re.compile('conversations/(?:partial-)?(train)/.+parquet$') in train\n",
      "WARNING:root:Could not match re.compile('conversations/(?:partial-)?(train)/.+parquet$') in train\n",
      "WARNING:root:Could not match re.compile('conversations/(?:partial-)?(train)/.+parquet$') in train\n",
      "WARNING:root:Could not match re.compile('conversations/(?:partial-)?(train)/.+parquet$') in train\n",
      "WARNING:root:Could not match re.compile('conversations/(?:partial-)?(train)/.+parquet$') in train\n",
      "WARNING:root:Could not match re.compile('conversations/(?:partial-)?(train)/.+parquet$') in train\n",
      "WARNING:root:Could not match re.compile('conversations/(?:partial-)?(train)/.+parquet$') in train\n",
      "WARNING:root:Could not match re.compile('conversations/(?:partial-)?(train)/.+parquet$') in train\n",
      "WARNING:root:Could not match re.compile('conversations/(?:partial-)?(train)/.+parquet$') in train\n",
      "WARNING:root:Could not match re.compile('conversations/(?:partial-)?(train)/.+parquet$') in train\n",
      "WARNING:root:Could not match re.compile('conversations/(?:partial-)?(train)/.+parquet$') in train\n",
      "WARNING:root:Could not match re.compile('conversations/(?:partial-)?(train)/.+parquet$') in train\n",
      "WARNING:root:Could not match re.compile('conversations/(?:partial-)?(train)/.+parquet$') in train\n",
      "WARNING:root:Could not match re.compile('conversations/(?:partial-)?(train)/.+parquet$') in train\n",
      "WARNING:root:Could not match re.compile('conversations/(?:partial-)?(train)/.+parquet$') in train\n",
      "WARNING:root:Could not match re.compile('conversations/(?:partial-)?(train)/.+parquet$') in train\n",
      "WARNING:root:Could not match re.compile('conversations/(?:partial-)?(train)/.+parquet$') in train\n"
     ]
    },
    {
     "data": {
      "text/html": [
       "<div>\n",
       "<style scoped>\n",
       "    .dataframe tbody tr th:only-of-type {\n",
       "        vertical-align: middle;\n",
       "    }\n",
       "\n",
       "    .dataframe tbody tr th {\n",
       "        vertical-align: top;\n",
       "    }\n",
       "\n",
       "    .dataframe thead th {\n",
       "        text-align: right;\n",
       "    }\n",
       "</style>\n",
       "<table border=\"1\" class=\"dataframe\">\n",
       "  <thead>\n",
       "    <tr style=\"text-align: right;\">\n",
       "      <th></th>\n",
       "      <th>conversations/split</th>\n",
       "      <th>conversations/conversation_id</th>\n",
       "      <th>conversations/user_id</th>\n",
       "      <th>conversations/conversation_type</th>\n",
       "      <th>conversations/opening_prompt</th>\n",
       "      <th>conversations/conversation_turns</th>\n",
       "      <th>conversations/conversation_history</th>\n",
       "      <th>conversations/performance_attributes</th>\n",
       "      <th>conversations/choice_attributes</th>\n",
       "      <th>conversations/open_feedback</th>\n",
       "      <th>conversations/timing_duration_s</th>\n",
       "      <th>conversations/timing_duration_mins</th>\n",
       "      <th>conversations/included_in_balanced_subset</th>\n",
       "    </tr>\n",
       "  </thead>\n",
       "  <tbody>\n",
       "    <tr>\n",
       "      <th>0</th>\n",
       "      <td>b'train'</td>\n",
       "      <td>b'c0'</td>\n",
       "      <td>b'user0'</td>\n",
       "      <td>b'unguided'</td>\n",
       "      <td>b'What can you do about the inequality  of wea...</td>\n",
       "      <td>5</td>\n",
       "      <td>[{'conversations/conversation_history/turn': 0...</td>\n",
       "      <td>{'conversations/performance_attributes/values'...</td>\n",
       "      <td>{'conversations/choice_attributes/values': Non...</td>\n",
       "      <td>b'Shorter blocks would  be nice.  but has  to ...</td>\n",
       "      <td>401.07</td>\n",
       "      <td>6.68</td>\n",
       "      <td>False</td>\n",
       "    </tr>\n",
       "    <tr>\n",
       "      <th>1</th>\n",
       "      <td>b'train'</td>\n",
       "      <td>b'c1'</td>\n",
       "      <td>b'user1'</td>\n",
       "      <td>b'unguided'</td>\n",
       "      <td>b'What can I do to start making extra money on...</td>\n",
       "      <td>2</td>\n",
       "      <td>[{'conversations/conversation_history/turn': 0...</td>\n",
       "      <td>{'conversations/performance_attributes/values'...</td>\n",
       "      <td>{'conversations/choice_attributes/values': 50,...</td>\n",
       "      <td>b'The first time I responded to the second que...</td>\n",
       "      <td>642.97</td>\n",
       "      <td>10.72</td>\n",
       "      <td>True</td>\n",
       "    </tr>\n",
       "    <tr>\n",
       "      <th>2</th>\n",
       "      <td>b'train'</td>\n",
       "      <td>b'c2'</td>\n",
       "      <td>b'user4'</td>\n",
       "      <td>b'controversy guided'</td>\n",
       "      <td>b'Who is right in the Hamas-Israeli war?  Hama...</td>\n",
       "      <td>2</td>\n",
       "      <td>[{'conversations/conversation_history/turn': 0...</td>\n",
       "      <td>{'conversations/performance_attributes/values'...</td>\n",
       "      <td>{'conversations/choice_attributes/values': 61,...</td>\n",
       "      <td>b'The AI stance is taking more of a neutral st...</td>\n",
       "      <td>362.35</td>\n",
       "      <td>6.04</td>\n",
       "      <td>True</td>\n",
       "    </tr>\n",
       "    <tr>\n",
       "      <th>3</th>\n",
       "      <td>b'train'</td>\n",
       "      <td>b'c3'</td>\n",
       "      <td>b'user6'</td>\n",
       "      <td>b'unguided'</td>\n",
       "      <td>b'Hello'</td>\n",
       "      <td>2</td>\n",
       "      <td>[{'conversations/conversation_history/turn': 0...</td>\n",
       "      <td>{'conversations/performance_attributes/values'...</td>\n",
       "      <td>{'conversations/choice_attributes/values': 81,...</td>\n",
       "      <td>b'It would make thing easier if the AI include...</td>\n",
       "      <td>393.35</td>\n",
       "      <td>6.56</td>\n",
       "      <td>True</td>\n",
       "    </tr>\n",
       "    <tr>\n",
       "      <th>4</th>\n",
       "      <td>b'train'</td>\n",
       "      <td>b'c4'</td>\n",
       "      <td>b'user2'</td>\n",
       "      <td>b'unguided'</td>\n",
       "      <td>b'How do I become financially stable on a low ...</td>\n",
       "      <td>2</td>\n",
       "      <td>[{'conversations/conversation_history/turn': 0...</td>\n",
       "      <td>{'conversations/performance_attributes/values'...</td>\n",
       "      <td>{'conversations/choice_attributes/values': 49,...</td>\n",
       "      <td>b'I had a good conversation overall. It would ...</td>\n",
       "      <td>765.24</td>\n",
       "      <td>12.75</td>\n",
       "      <td>True</td>\n",
       "    </tr>\n",
       "  </tbody>\n",
       "</table>\n",
       "</div>"
      ],
      "text/plain": [
       "  conversations/split conversations/conversation_id conversations/user_id  \\\n",
       "0            b'train'                         b'c0'              b'user0'   \n",
       "1            b'train'                         b'c1'              b'user1'   \n",
       "2            b'train'                         b'c2'              b'user4'   \n",
       "3            b'train'                         b'c3'              b'user6'   \n",
       "4            b'train'                         b'c4'              b'user2'   \n",
       "\n",
       "  conversations/conversation_type  \\\n",
       "0                     b'unguided'   \n",
       "1                     b'unguided'   \n",
       "2           b'controversy guided'   \n",
       "3                     b'unguided'   \n",
       "4                     b'unguided'   \n",
       "\n",
       "                        conversations/opening_prompt  \\\n",
       "0  b'What can you do about the inequality  of wea...   \n",
       "1  b'What can I do to start making extra money on...   \n",
       "2  b'Who is right in the Hamas-Israeli war?  Hama...   \n",
       "3                                           b'Hello'   \n",
       "4  b'How do I become financially stable on a low ...   \n",
       "\n",
       "   conversations/conversation_turns  \\\n",
       "0                                 5   \n",
       "1                                 2   \n",
       "2                                 2   \n",
       "3                                 2   \n",
       "4                                 2   \n",
       "\n",
       "                  conversations/conversation_history  \\\n",
       "0  [{'conversations/conversation_history/turn': 0...   \n",
       "1  [{'conversations/conversation_history/turn': 0...   \n",
       "2  [{'conversations/conversation_history/turn': 0...   \n",
       "3  [{'conversations/conversation_history/turn': 0...   \n",
       "4  [{'conversations/conversation_history/turn': 0...   \n",
       "\n",
       "                conversations/performance_attributes  \\\n",
       "0  {'conversations/performance_attributes/values'...   \n",
       "1  {'conversations/performance_attributes/values'...   \n",
       "2  {'conversations/performance_attributes/values'...   \n",
       "3  {'conversations/performance_attributes/values'...   \n",
       "4  {'conversations/performance_attributes/values'...   \n",
       "\n",
       "                     conversations/choice_attributes  \\\n",
       "0  {'conversations/choice_attributes/values': Non...   \n",
       "1  {'conversations/choice_attributes/values': 50,...   \n",
       "2  {'conversations/choice_attributes/values': 61,...   \n",
       "3  {'conversations/choice_attributes/values': 81,...   \n",
       "4  {'conversations/choice_attributes/values': 49,...   \n",
       "\n",
       "                         conversations/open_feedback  \\\n",
       "0  b'Shorter blocks would  be nice.  but has  to ...   \n",
       "1  b'The first time I responded to the second que...   \n",
       "2  b'The AI stance is taking more of a neutral st...   \n",
       "3  b'It would make thing easier if the AI include...   \n",
       "4  b'I had a good conversation overall. It would ...   \n",
       "\n",
       "   conversations/timing_duration_s  conversations/timing_duration_mins  \\\n",
       "0                           401.07                                6.68   \n",
       "1                           642.97                               10.72   \n",
       "2                           362.35                                6.04   \n",
       "3                           393.35                                6.56   \n",
       "4                           765.24                               12.75   \n",
       "\n",
       "   conversations/included_in_balanced_subset  \n",
       "0                                      False  \n",
       "1                                       True  \n",
       "2                                       True  \n",
       "3                                       True  \n",
       "4                                       True  "
      ]
     },
     "execution_count": 17,
     "metadata": {},
     "output_type": "execute_result"
    }
   ],
   "source": [
    "# You can even directly call rows directly from huggingface using the croissant metadata information\n",
    "df = pd.DataFrame(list(itertools.islice(records, 10)))\n",
    "df.head()"
   ]
  },
  {
   "cell_type": "code",
   "execution_count": 18,
   "metadata": {},
   "outputs": [
    {
     "data": {
      "text/plain": [
       "{'description': {'name': 'prism-alignment',\n",
       "  'summary': '\\n\\t\\n\\t\\t\\n\\t\\n\\t\\n\\t\\tDataset Card for PRISM\\n\\t\\n\\nPRISM is a diverse human feedback dataset for preference and value alignment in Large Language Models (LLMs).\\nIt maps the characteristics and stated preferences of humans from a detailed survey onto their real-time interactions with LLMs and contextual preference ratings\\n\\n\\t\\n\\t\\t\\n\\t\\n\\t\\n\\t\\tDataset Details\\n\\t\\n\\nThere are two sequential stages: first, participants complete a Survey where they answer questions about their demographics and stated preferences, then… See the full description on the dataset page: https://huggingface.co/datasets/HannahRoseKirk/prism-alignment.',\n",
       "  'dataset_link': 'https://huggingface.co/datasets/HannahRoseKirk/prism-alignment',\n",
       "  'authors': '',\n",
       "  'publishing_organization': '',\n",
       "  'owners': {'@type': 'sc:Person',\n",
       "   'name': 'Hannah Rose Kirk',\n",
       "   'url': 'https://huggingface.co/HannahRoseKirk'},\n",
       "  'funding_sources': [],\n",
       "  'publishing_poc': {}},\n",
       " 'content': {'description': '',\n",
       "  'data_subjects': [],\n",
       "  'sampling_data_points': [{}],\n",
       "  'data_fields': [],\n",
       "  'Total Records': '',\n",
       "  'Coverage': '',\n",
       "  'Time Span': ''}}"
      ]
     },
     "execution_count": 18,
     "metadata": {},
     "output_type": "execute_result"
    }
   ],
   "source": [
    "croissant_entry = faidlog.pretty_croissant(ds)\n",
    "croissant_entry"
   ]
  },
  {
   "cell_type": "code",
   "execution_count": 19,
   "metadata": {},
   "outputs": [
    {
     "name": "stdout",
     "output_type": "stream",
     "text": [
      "Added collection_protocol to data card\n"
     ]
    }
   ],
   "source": [
    "# Generate a report-friendly summary of the dataset\n",
    "faidlog.add_data_entry(key=\"collection_protocol\", entry=croissant_entry)"
   ]
  },
  {
   "cell_type": "code",
   "execution_count": 20,
   "metadata": {},
   "outputs": [],
   "source": [
    "custom_file_path = os.path.join(os.path.dirname(\".\"), \"prism_alignment_data_card.html\")\n",
    "\n",
    "faidreport.generate_data_card_report(output_file_path=custom_file_path)"
   ]
  },
  {
   "cell_type": "markdown",
   "metadata": {},
   "source": [
    "## Include RAI Fields\n",
    "\n",
    "An example the authors provided is Google's DICES dataset (https://github.com/google-research-datasets/dices-dataset/). However, the dataset does not include a croissant metadata online. It is just an example illustration:"
   ]
  },
  {
   "cell_type": "code",
   "execution_count": 11,
   "metadata": {},
   "outputs": [],
   "source": [
    "rai_json  = {\n",
    "  \"@context\": {\n",
    "    \"@language\": \"en\",\n",
    "    \"rai\": \"http://mlcommons.org/croissant/RAI/\",\n",
    "    \"sc\": \"https://schema.org/\"\n",
    "  },\n",
    "  \"@type\": \"schema.org/Dataset\",\n",
    "  \"name\": \"DICES-30\",\n",
    "  \"conformsTo\": \"http://mlcommons.org/croissant/RAI/1.0\",\n",
    "  \"dataCollection\": \"The input data was sampled from an 8K multi-turn conversation corpus (comprising 48K turns in total) generated by human agents interacting with a generative AI-chatbot. The human agents were instructed to generate adversarial multi-turn conversations, where they attempt to provoke the chatbot to respond with an undesirable or unsafe answer. All conversations were of maximum five turns and varied in terms of their level of adversariality (i.e., degree of harm) and topics.A subset of the conversations (DICES-350) were annotated with gold safety labels (from trust and safety experts) and all conversations with platinum safety labels (from a diverse rater crowd)\",\n",
    "  \"dataCollectionType\": \"DICES-350 consists of 350 adversarial multi-turn conversations,annotated by a pool of annotators along 16 safety criteria.\",\n",
    "  \"dataCollectionRawData\": \"The input data for this data collection was sampled from an 8K multi-turn conversation corpus (comprising 48K turns in total) generated by human agents interacting with a generative AI-chatbot.\",\n",
    "  \"dataAnnotationProtocol\": \"The annotation task included the following six sets of questions: Q1: addresses the whole conversation and asks the raters to assess the legibility of the conversation - is it (1) in English, (2) comprehensible, (3) on a topic that the rater is familiar with or (4) none of the above. Q2: eight sub-question checks whether the conversation contains any harmful content, i.e., whether it could directly facilitate serious and immediate harm to individuals, groups or animals. Q3: four sub-question checks whether the conversation contains any unfair bias, i.e., whether it incites hatred against an individual or group. Q4: one multiple choice question checks whether the conversation contains any misinformation, i.e., whether it contains theories that are demonstrably false or outdated. Q5: one multiple choice question checks whether the conversation contains any political affiliations, i.e., engaging in or downplaying any controversial topic. Q6: two sub-question checks whether the conversation contains any policy violations for polarising topics and endorsements, i.e., proactively bring up or reactively promoting brands, celebrities, products, etc. All questions included an option 'other' to ensure coverage of possible safety reasons outside this re-defined space. Rating options for Q2 to Q6 were: “No” (i.e., safe), “Yes” (i.e., unsafe) and “Unsure”. In effect, a 'Yes' answer to any of the questions Q2 to Q6 should be seen as an explanation of why a conversation is considered unsafe.\",\n",
    "  \"dataAnnotationPlatform\": \"Crowdworker annotators with task specific UI\",\n",
    "  \"dataAnnotationAnalysis\": \"Initial recruitment of 123 raters for the DICES-350 dataset, after all annotation tasks were completed, a quality assessment was performed on the raters and 19 raters were filtered out due to low quality work (e.g., raters who spent suspiciously little time in comparison to the other raters to complete the task and raters who rated all conversations with the same label), results reported with remaining 104 raters. In order to understand better the conversations in terms of their topics and adversariality type and level, all conversations in DICES-350 were also rated by in-house experts to assess their degree of harm. All conversations in DICES-350 have gold ratings,i.e. they were annotated for safety by a trust and safety expert. Further, aggregated ratings were generated from all granular safety ratings. They include a single aggregated overall safety rating ('Q_overall'), and aggregated ratings for the three safety categories that the 16 more granular safety ratings correspond to: 'Harmful content' ('Q2_harmful_content_overall'), 'Unfair bias' ('Q3_bias_overall') and 'Safety policy violations' ('Q6_policy_guidelines_overall').\",\n",
    "  \"dataUseCases\": \"The dataset is to be used as a shared resource and benchmark that respects diverse perspectives during safety evaluation of conversational AI systems.It can be used to develop metrics to examine and evaluate conversational AI systems in terms of both safety and diversity.\",\n",
    "  \"dataBiases\": \"Dataset includes multiple sub-ratings which specify the type of safety concern, such as type of hate speech and the type of bias or misinformation, for each conversation. A limitation of the dataset is the selection of demographic characteristics. The number of demographic categories was limited to four (race/ethnicity, gender and age group). Within these demographic axes, the number of subgroups was further limited (i.e., two locales, five main ethnicity groups, three age groups and two genders), this constrained the insights from systematic differences between different groupings of raters.\",\n",
    "  \"annotationsPerItem\": \"350 conversations were rated along 16 safety criteria, i.e.,104 unique ratings per conversation.\",\n",
    "  \"annotatorDemographics\": \"DICES-350 was annotated by a pool of 104 raters. The rater breakdown for this pool is: 57 women and 47 men; 27 gen X+, 28 millennial, and 49 gen z; and 21 Asian, 23 Black/African American, 22 Latine/x, 13 multiracial and 25 white. All raters signed a consent form agreeing for the detailed demographics to be collected for this task.\"\n",
    "}"
   ]
  },
  {
   "cell_type": "code",
   "execution_count": 12,
   "metadata": {},
   "outputs": [
    {
     "data": {
      "text/plain": [
       "'http://mlcommons.org/croissant/RAI/1.0'"
      ]
     },
     "execution_count": 12,
     "metadata": {},
     "output_type": "execute_result"
    }
   ],
   "source": [
    "rai_json[\"conformsTo\"]"
   ]
  },
  {
   "cell_type": "code",
   "execution_count": 13,
   "metadata": {},
   "outputs": [
    {
     "name": "stdout",
     "output_type": "stream",
     "text": [
      "Added rai to data card\n"
     ]
    }
   ],
   "source": [
    "# Add this JSON to the dataset metadata\n",
    "# The method automatically checks if it conforms to the RAI schema\n",
    "faidlog.add_data_entry(key=\"rai\", entry=rai_json)"
   ]
  },
  {
   "cell_type": "code",
   "execution_count": 14,
   "metadata": {},
   "outputs": [],
   "source": [
    "faidreport.generate_data_card_report(output_file_path=custom_file_path)"
   ]
  },
  {
   "cell_type": "markdown",
   "metadata": {},
   "source": [
    "# RAI and Fairness Entitites"
   ]
  },
  {
   "cell_type": "code",
   "execution_count": 15,
   "metadata": {},
   "outputs": [],
   "source": [
    "#TODO:\n",
    "#faidreport.generate_fairness_log_completeness_label()"
   ]
  },
  {
   "cell_type": "code",
   "execution_count": 2,
   "metadata": {},
   "outputs": [
    {
     "data": {
      "application/vnd.plotly.v1+json": {
       "config": {
        "plotlyServerURL": "https://plot.ly"
       },
       "data": [
        {
         "labels": [
          "Group Fairness Notion",
          "Independence Class Fairness",
          "Statistical Parity",
          "Conditional Statistical Parity",
          "Separation Class Fairness",
          "Equalized Odds",
          "Equal Opportunity",
          "Predictive Equality",
          "Sufficiency Class Fairness",
          "Conditional Use Accuracy Equality",
          "Predictive Parity",
          "Well Calibration",
          "Relaxed Fairness Notion",
          "Overall Accuracy Equality",
          "Treatment Equality",
          "Thresholded Fairness Notion",
          "Statistical Test Based Fairness"
         ],
         "parents": [
          "",
          "Group Fairness Notion",
          "Independence Class Fairness",
          "Independence Class Fairness",
          "Group Fairness Notion",
          "Separation Class Fairness",
          "Separation Class Fairness",
          "Separation Class Fairness",
          "Group Fairness Notion",
          "Sufficiency Class Fairness",
          "Sufficiency Class Fairness",
          "Sufficiency Class Fairness",
          "",
          "Relaxed Fairness Notion",
          "Relaxed Fairness Notion",
          "Relaxed Fairness Notion",
          "Thresholded Fairness Notion"
         ],
         "type": "treemap"
        }
       ],
       "layout": {
        "margin": {
         "b": 25,
         "l": 25,
         "r": 25,
         "t": 50
        },
        "template": {
         "data": {
          "bar": [
           {
            "error_x": {
             "color": "#2a3f5f"
            },
            "error_y": {
             "color": "#2a3f5f"
            },
            "marker": {
             "line": {
              "color": "#E5ECF6",
              "width": 0.5
             },
             "pattern": {
              "fillmode": "overlay",
              "size": 10,
              "solidity": 0.2
             }
            },
            "type": "bar"
           }
          ],
          "barpolar": [
           {
            "marker": {
             "line": {
              "color": "#E5ECF6",
              "width": 0.5
             },
             "pattern": {
              "fillmode": "overlay",
              "size": 10,
              "solidity": 0.2
             }
            },
            "type": "barpolar"
           }
          ],
          "carpet": [
           {
            "aaxis": {
             "endlinecolor": "#2a3f5f",
             "gridcolor": "white",
             "linecolor": "white",
             "minorgridcolor": "white",
             "startlinecolor": "#2a3f5f"
            },
            "baxis": {
             "endlinecolor": "#2a3f5f",
             "gridcolor": "white",
             "linecolor": "white",
             "minorgridcolor": "white",
             "startlinecolor": "#2a3f5f"
            },
            "type": "carpet"
           }
          ],
          "choropleth": [
           {
            "colorbar": {
             "outlinewidth": 0,
             "ticks": ""
            },
            "type": "choropleth"
           }
          ],
          "contour": [
           {
            "colorbar": {
             "outlinewidth": 0,
             "ticks": ""
            },
            "colorscale": [
             [
              0,
              "#0d0887"
             ],
             [
              0.1111111111111111,
              "#46039f"
             ],
             [
              0.2222222222222222,
              "#7201a8"
             ],
             [
              0.3333333333333333,
              "#9c179e"
             ],
             [
              0.4444444444444444,
              "#bd3786"
             ],
             [
              0.5555555555555556,
              "#d8576b"
             ],
             [
              0.6666666666666666,
              "#ed7953"
             ],
             [
              0.7777777777777778,
              "#fb9f3a"
             ],
             [
              0.8888888888888888,
              "#fdca26"
             ],
             [
              1,
              "#f0f921"
             ]
            ],
            "type": "contour"
           }
          ],
          "contourcarpet": [
           {
            "colorbar": {
             "outlinewidth": 0,
             "ticks": ""
            },
            "type": "contourcarpet"
           }
          ],
          "heatmap": [
           {
            "colorbar": {
             "outlinewidth": 0,
             "ticks": ""
            },
            "colorscale": [
             [
              0,
              "#0d0887"
             ],
             [
              0.1111111111111111,
              "#46039f"
             ],
             [
              0.2222222222222222,
              "#7201a8"
             ],
             [
              0.3333333333333333,
              "#9c179e"
             ],
             [
              0.4444444444444444,
              "#bd3786"
             ],
             [
              0.5555555555555556,
              "#d8576b"
             ],
             [
              0.6666666666666666,
              "#ed7953"
             ],
             [
              0.7777777777777778,
              "#fb9f3a"
             ],
             [
              0.8888888888888888,
              "#fdca26"
             ],
             [
              1,
              "#f0f921"
             ]
            ],
            "type": "heatmap"
           }
          ],
          "heatmapgl": [
           {
            "colorbar": {
             "outlinewidth": 0,
             "ticks": ""
            },
            "colorscale": [
             [
              0,
              "#0d0887"
             ],
             [
              0.1111111111111111,
              "#46039f"
             ],
             [
              0.2222222222222222,
              "#7201a8"
             ],
             [
              0.3333333333333333,
              "#9c179e"
             ],
             [
              0.4444444444444444,
              "#bd3786"
             ],
             [
              0.5555555555555556,
              "#d8576b"
             ],
             [
              0.6666666666666666,
              "#ed7953"
             ],
             [
              0.7777777777777778,
              "#fb9f3a"
             ],
             [
              0.8888888888888888,
              "#fdca26"
             ],
             [
              1,
              "#f0f921"
             ]
            ],
            "type": "heatmapgl"
           }
          ],
          "histogram": [
           {
            "marker": {
             "pattern": {
              "fillmode": "overlay",
              "size": 10,
              "solidity": 0.2
             }
            },
            "type": "histogram"
           }
          ],
          "histogram2d": [
           {
            "colorbar": {
             "outlinewidth": 0,
             "ticks": ""
            },
            "colorscale": [
             [
              0,
              "#0d0887"
             ],
             [
              0.1111111111111111,
              "#46039f"
             ],
             [
              0.2222222222222222,
              "#7201a8"
             ],
             [
              0.3333333333333333,
              "#9c179e"
             ],
             [
              0.4444444444444444,
              "#bd3786"
             ],
             [
              0.5555555555555556,
              "#d8576b"
             ],
             [
              0.6666666666666666,
              "#ed7953"
             ],
             [
              0.7777777777777778,
              "#fb9f3a"
             ],
             [
              0.8888888888888888,
              "#fdca26"
             ],
             [
              1,
              "#f0f921"
             ]
            ],
            "type": "histogram2d"
           }
          ],
          "histogram2dcontour": [
           {
            "colorbar": {
             "outlinewidth": 0,
             "ticks": ""
            },
            "colorscale": [
             [
              0,
              "#0d0887"
             ],
             [
              0.1111111111111111,
              "#46039f"
             ],
             [
              0.2222222222222222,
              "#7201a8"
             ],
             [
              0.3333333333333333,
              "#9c179e"
             ],
             [
              0.4444444444444444,
              "#bd3786"
             ],
             [
              0.5555555555555556,
              "#d8576b"
             ],
             [
              0.6666666666666666,
              "#ed7953"
             ],
             [
              0.7777777777777778,
              "#fb9f3a"
             ],
             [
              0.8888888888888888,
              "#fdca26"
             ],
             [
              1,
              "#f0f921"
             ]
            ],
            "type": "histogram2dcontour"
           }
          ],
          "mesh3d": [
           {
            "colorbar": {
             "outlinewidth": 0,
             "ticks": ""
            },
            "type": "mesh3d"
           }
          ],
          "parcoords": [
           {
            "line": {
             "colorbar": {
              "outlinewidth": 0,
              "ticks": ""
             }
            },
            "type": "parcoords"
           }
          ],
          "pie": [
           {
            "automargin": true,
            "type": "pie"
           }
          ],
          "scatter": [
           {
            "fillpattern": {
             "fillmode": "overlay",
             "size": 10,
             "solidity": 0.2
            },
            "type": "scatter"
           }
          ],
          "scatter3d": [
           {
            "line": {
             "colorbar": {
              "outlinewidth": 0,
              "ticks": ""
             }
            },
            "marker": {
             "colorbar": {
              "outlinewidth": 0,
              "ticks": ""
             }
            },
            "type": "scatter3d"
           }
          ],
          "scattercarpet": [
           {
            "marker": {
             "colorbar": {
              "outlinewidth": 0,
              "ticks": ""
             }
            },
            "type": "scattercarpet"
           }
          ],
          "scattergeo": [
           {
            "marker": {
             "colorbar": {
              "outlinewidth": 0,
              "ticks": ""
             }
            },
            "type": "scattergeo"
           }
          ],
          "scattergl": [
           {
            "marker": {
             "colorbar": {
              "outlinewidth": 0,
              "ticks": ""
             }
            },
            "type": "scattergl"
           }
          ],
          "scattermapbox": [
           {
            "marker": {
             "colorbar": {
              "outlinewidth": 0,
              "ticks": ""
             }
            },
            "type": "scattermapbox"
           }
          ],
          "scatterpolar": [
           {
            "marker": {
             "colorbar": {
              "outlinewidth": 0,
              "ticks": ""
             }
            },
            "type": "scatterpolar"
           }
          ],
          "scatterpolargl": [
           {
            "marker": {
             "colorbar": {
              "outlinewidth": 0,
              "ticks": ""
             }
            },
            "type": "scatterpolargl"
           }
          ],
          "scatterternary": [
           {
            "marker": {
             "colorbar": {
              "outlinewidth": 0,
              "ticks": ""
             }
            },
            "type": "scatterternary"
           }
          ],
          "surface": [
           {
            "colorbar": {
             "outlinewidth": 0,
             "ticks": ""
            },
            "colorscale": [
             [
              0,
              "#0d0887"
             ],
             [
              0.1111111111111111,
              "#46039f"
             ],
             [
              0.2222222222222222,
              "#7201a8"
             ],
             [
              0.3333333333333333,
              "#9c179e"
             ],
             [
              0.4444444444444444,
              "#bd3786"
             ],
             [
              0.5555555555555556,
              "#d8576b"
             ],
             [
              0.6666666666666666,
              "#ed7953"
             ],
             [
              0.7777777777777778,
              "#fb9f3a"
             ],
             [
              0.8888888888888888,
              "#fdca26"
             ],
             [
              1,
              "#f0f921"
             ]
            ],
            "type": "surface"
           }
          ],
          "table": [
           {
            "cells": {
             "fill": {
              "color": "#EBF0F8"
             },
             "line": {
              "color": "white"
             }
            },
            "header": {
             "fill": {
              "color": "#C8D4E3"
             },
             "line": {
              "color": "white"
             }
            },
            "type": "table"
           }
          ]
         },
         "layout": {
          "annotationdefaults": {
           "arrowcolor": "#2a3f5f",
           "arrowhead": 0,
           "arrowwidth": 1
          },
          "autotypenumbers": "strict",
          "coloraxis": {
           "colorbar": {
            "outlinewidth": 0,
            "ticks": ""
           }
          },
          "colorscale": {
           "diverging": [
            [
             0,
             "#8e0152"
            ],
            [
             0.1,
             "#c51b7d"
            ],
            [
             0.2,
             "#de77ae"
            ],
            [
             0.3,
             "#f1b6da"
            ],
            [
             0.4,
             "#fde0ef"
            ],
            [
             0.5,
             "#f7f7f7"
            ],
            [
             0.6,
             "#e6f5d0"
            ],
            [
             0.7,
             "#b8e186"
            ],
            [
             0.8,
             "#7fbc41"
            ],
            [
             0.9,
             "#4d9221"
            ],
            [
             1,
             "#276419"
            ]
           ],
           "sequential": [
            [
             0,
             "#0d0887"
            ],
            [
             0.1111111111111111,
             "#46039f"
            ],
            [
             0.2222222222222222,
             "#7201a8"
            ],
            [
             0.3333333333333333,
             "#9c179e"
            ],
            [
             0.4444444444444444,
             "#bd3786"
            ],
            [
             0.5555555555555556,
             "#d8576b"
            ],
            [
             0.6666666666666666,
             "#ed7953"
            ],
            [
             0.7777777777777778,
             "#fb9f3a"
            ],
            [
             0.8888888888888888,
             "#fdca26"
            ],
            [
             1,
             "#f0f921"
            ]
           ],
           "sequentialminus": [
            [
             0,
             "#0d0887"
            ],
            [
             0.1111111111111111,
             "#46039f"
            ],
            [
             0.2222222222222222,
             "#7201a8"
            ],
            [
             0.3333333333333333,
             "#9c179e"
            ],
            [
             0.4444444444444444,
             "#bd3786"
            ],
            [
             0.5555555555555556,
             "#d8576b"
            ],
            [
             0.6666666666666666,
             "#ed7953"
            ],
            [
             0.7777777777777778,
             "#fb9f3a"
            ],
            [
             0.8888888888888888,
             "#fdca26"
            ],
            [
             1,
             "#f0f921"
            ]
           ]
          },
          "colorway": [
           "#636efa",
           "#EF553B",
           "#00cc96",
           "#ab63fa",
           "#FFA15A",
           "#19d3f3",
           "#FF6692",
           "#B6E880",
           "#FF97FF",
           "#FECB52"
          ],
          "font": {
           "color": "#2a3f5f"
          },
          "geo": {
           "bgcolor": "white",
           "lakecolor": "white",
           "landcolor": "#E5ECF6",
           "showlakes": true,
           "showland": true,
           "subunitcolor": "white"
          },
          "hoverlabel": {
           "align": "left"
          },
          "hovermode": "closest",
          "mapbox": {
           "style": "light"
          },
          "paper_bgcolor": "white",
          "plot_bgcolor": "#E5ECF6",
          "polar": {
           "angularaxis": {
            "gridcolor": "white",
            "linecolor": "white",
            "ticks": ""
           },
           "bgcolor": "#E5ECF6",
           "radialaxis": {
            "gridcolor": "white",
            "linecolor": "white",
            "ticks": ""
           }
          },
          "scene": {
           "xaxis": {
            "backgroundcolor": "#E5ECF6",
            "gridcolor": "white",
            "gridwidth": 2,
            "linecolor": "white",
            "showbackground": true,
            "ticks": "",
            "zerolinecolor": "white"
           },
           "yaxis": {
            "backgroundcolor": "#E5ECF6",
            "gridcolor": "white",
            "gridwidth": 2,
            "linecolor": "white",
            "showbackground": true,
            "ticks": "",
            "zerolinecolor": "white"
           },
           "zaxis": {
            "backgroundcolor": "#E5ECF6",
            "gridcolor": "white",
            "gridwidth": 2,
            "linecolor": "white",
            "showbackground": true,
            "ticks": "",
            "zerolinecolor": "white"
           }
          },
          "shapedefaults": {
           "line": {
            "color": "#2a3f5f"
           }
          },
          "ternary": {
           "aaxis": {
            "gridcolor": "white",
            "linecolor": "white",
            "ticks": ""
           },
           "baxis": {
            "gridcolor": "white",
            "linecolor": "white",
            "ticks": ""
           },
           "bgcolor": "#E5ECF6",
           "caxis": {
            "gridcolor": "white",
            "linecolor": "white",
            "ticks": ""
           }
          },
          "title": {
           "x": 0.05
          },
          "xaxis": {
           "automargin": true,
           "gridcolor": "white",
           "linecolor": "white",
           "ticks": "",
           "title": {
            "standoff": 15
           },
           "zerolinecolor": "white",
           "zerolinewidth": 2
          },
          "yaxis": {
           "automargin": true,
           "gridcolor": "white",
           "linecolor": "white",
           "ticks": "",
           "title": {
            "standoff": 15
           },
           "zerolinecolor": "white",
           "zerolinewidth": 2
          }
         }
        }
       }
      }
     },
     "metadata": {},
     "output_type": "display_data"
    }
   ],
   "source": [
    "ontChart = faidreport.OntologyChart()\n",
    "ontChart.show_fairness_ontology_chart()"
   ]
  },
  {
   "cell_type": "code",
   "execution_count": null,
   "metadata": {},
   "outputs": [],
   "source": []
  }
 ],
 "metadata": {
  "kernelspec": {
   "display_name": ".venv",
   "language": "python",
   "name": "python3"
  },
  "language_info": {
   "codemirror_mode": {
    "name": "ipython",
    "version": 3
   },
   "file_extension": ".py",
   "mimetype": "text/x-python",
   "name": "python",
   "nbconvert_exporter": "python",
   "pygments_lexer": "ipython3",
   "version": "3.10.4"
  }
 },
 "nbformat": 4,
 "nbformat_minor": 2
}
