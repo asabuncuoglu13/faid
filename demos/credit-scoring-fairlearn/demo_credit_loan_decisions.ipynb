{
 "cells": [
  {
   "cell_type": "markdown",
   "metadata": {},
   "source": [
    "Credit Loan Decisions\n",
    "=====================\n"
   ]
  },
  {
   "cell_type": "markdown",
   "metadata": {},
   "source": [
    "This notebook is one of the tutorials from [fairlearn](https://fairlearn.org/) library. See the original tutorial with detailed explanations here: <https://fairlearn.org/main/auto_examples/plot_credit_loan_decisions.html#sphx-glr-download-auto-examples-plot-credit-loan-decisions-py> The original tutorial was using Microsoft's LightGB (which has limited support for Linux and Windows machines). I switched to sklearn's default GB to make it easier (or fairer!) to start development for all users."
   ]
  },
  {
   "cell_type": "markdown",
   "metadata": {},
   "source": [
    "**Check the related standards before the development process**\n",
    "\n",
    "| Fairness terminology| Management and governance | Measurement and test | Performance requirements |\n",
    "---- | ---- | ---- | ----|\n",
    "| IEEE P7003 | ISO/IEC 42001 | ISO/IEC TR 24027 | ISO/IEC TR 24027 |\n",
    "| ISO/IEC TR 24027 | ISO/IEC 23894 | ISO/IEC TS 12791 | ISO/IEC 12791 |\n",
    "| | ISO 31000 | | |"
   ]
  },
  {
   "cell_type": "markdown",
   "metadata": {},
   "source": [
    "Package Imports\n",
    "===============\n"
   ]
  },
  {
   "cell_type": "code",
   "execution_count": 1,
   "metadata": {
    "collapsed": false
   },
   "outputs": [],
   "source": [
    "import numpy as np\n",
    "import pandas as pd\n",
    "import matplotlib.pyplot as plt\n",
    "\n",
    "from sklearn.metrics import balanced_accuracy_score, roc_auc_score\n",
    "from sklearn.metrics import confusion_matrix\n",
    "from sklearn.pipeline import Pipeline\n",
    "from sklearn.preprocessing import StandardScaler\n",
    "from sklearn.ensemble import GradientBoostingClassifier\n",
    "from fairlearn.metrics import MetricFrame\n",
    "from fairlearn.metrics import (\n",
    "    count,\n",
    "    selection_rate,\n",
    "    equalized_odds_difference,\n",
    "    false_positive_rate,\n",
    "    false_negative_rate,\n",
    ")\n",
    "from fairlearn.postprocessing import ThresholdOptimizer\n",
    "from fairlearn.reductions import ExponentiatedGradient\n",
    "from fairlearn.reductions import EqualizedOdds\n",
    "from sklearn.model_selection import train_test_split\n",
    "import warnings\n",
    "\n",
    "warnings.simplefilter(\"ignore\")\n",
    "\n",
    "rand_seed = 1234\n",
    "np.random.seed(rand_seed)"
   ]
  },
  {
   "cell_type": "markdown",
   "metadata": {},
   "source": [
    "## Fairness considerations of credit loan decisions\n",
    "\n",
    "In 2019, Apple received backlash on social media after its newly launched *Apple Card* product appeared to offer higher credit limits to\n",
    "men compared to women.\n",
    "\n",
    "**Check this incident on AI Incidents Database:** <https://incidentdatabase.ai/cite/92/#r2035>\n",
    "\n",
    "From a regulatory perspective, financial institutions are subject to *legal regulations* prohibiting discrimination on the [basis of race, gender, or other protected classes.\n",
    "\n",
    "This case study replicates the work done in a white paper ([Assessing and mitigating unfairness in credit models with the Fairlearn toolkit](https://www.microsoft.com/en-us/research/uploads/prod/2020/09/Fairlearn-EY_WhitePaper-2020-09-22.pdf)), on mitigating gender-related performance disparities in financial lending decisions.\n",
    "\n",
    "### Credit decisions dataset\n",
    "\n",
    "This notebook uses a publicly available dataset of credit card defaults in Taiwan collected in 2005. This dataset represents binary credit card default outcomes for 30,000 applicants with information pertaining to an applicant\\'s payment history and bill statements over a six-month period from April 2005 to September 2005, as well as demographic information, such as *sex*, *age*, *marital status*, and *education level* of the applicant. A full summary of features is provided below:\n",
    "\n",
    "\n",
    "|features | description |\n",
    "---- | ---- |\n",
    "| sex, education, marriage, age                 | demographic features |\n",
    "| pay\\_0, pay\\_2, pay\\_3, pay\\_4, pay\\_5, pay\\_6| repayment status (ordinal) |\n",
    "| bill\\_amt1, bill\\_amt2, bill\\_amt3, bill\\_amt4, bill\\_amt5, bill\\_amt\\_6   | bill statement amount (Taiwan dollars) | \n",
    "| pay\\_amt1, pay\\_amt2, pay\\_amt3, pay\\_amt4, pay\\_amt5, pay\\_amt6           | previous statement amount (Taiwan dollars)| \n",
    "| default payment next month                    | default information (1 = YES, 0 = NO) | \n",
    "\n",
    "\n",
    "A positive prediction by the model means the applicant would default on the credit loan. *Defaulting on a loan* means the client fails to make payments within a 30-day window, and the lender can take legal actions against the client. Although we do not have a dataset of loan default history, we do have this data set of credit card payment history. We assume customers who make monthly credit card payments on time are more *creditworthy*, and thus less likely to default on a personal credit loan.\n",
    "\n",
    "**Decision point: task definition**\n",
    "\n",
    "- **Defaulting on a credit card payment** can be viewed as a proxy for the fact that an applicant might not be a good candidate for a personal loan.\n",
    "- Because most customers did not default on their credit card payment, we will need to take this class imbalance into account during our modeling process.\n",
    "\n",
    "As the data is read in-memory, we will change the column `PAY_0` to `PAY_1` to make the naming more consistent with the naming of the other columns. In addition, the target variable `default payment next month` is changed to `default` to reduce verbosity.\n"
   ]
  },
  {
   "cell_type": "code",
   "execution_count": 2,
   "metadata": {},
   "outputs": [
    {
     "data": {
      "text/html": [
       "<div>\n",
       "<style scoped>\n",
       "    .dataframe tbody tr th:only-of-type {\n",
       "        vertical-align: middle;\n",
       "    }\n",
       "\n",
       "    .dataframe tbody tr th {\n",
       "        vertical-align: top;\n",
       "    }\n",
       "\n",
       "    .dataframe thead th {\n",
       "        text-align: right;\n",
       "    }\n",
       "</style>\n",
       "<table border=\"1\" class=\"dataframe\">\n",
       "  <thead>\n",
       "    <tr style=\"text-align: right;\">\n",
       "      <th></th>\n",
       "      <th>X1</th>\n",
       "      <th>X2</th>\n",
       "      <th>X3</th>\n",
       "      <th>X4</th>\n",
       "      <th>X5</th>\n",
       "      <th>X6</th>\n",
       "      <th>X7</th>\n",
       "      <th>X8</th>\n",
       "      <th>X9</th>\n",
       "      <th>X10</th>\n",
       "      <th>...</th>\n",
       "      <th>X14</th>\n",
       "      <th>X15</th>\n",
       "      <th>X16</th>\n",
       "      <th>X17</th>\n",
       "      <th>X18</th>\n",
       "      <th>X19</th>\n",
       "      <th>X20</th>\n",
       "      <th>X21</th>\n",
       "      <th>X22</th>\n",
       "      <th>X23</th>\n",
       "    </tr>\n",
       "  </thead>\n",
       "  <tbody>\n",
       "    <tr>\n",
       "      <th>0</th>\n",
       "      <td>20000</td>\n",
       "      <td>2</td>\n",
       "      <td>2</td>\n",
       "      <td>1</td>\n",
       "      <td>24</td>\n",
       "      <td>2</td>\n",
       "      <td>2</td>\n",
       "      <td>-1</td>\n",
       "      <td>-1</td>\n",
       "      <td>-2</td>\n",
       "      <td>...</td>\n",
       "      <td>689</td>\n",
       "      <td>0</td>\n",
       "      <td>0</td>\n",
       "      <td>0</td>\n",
       "      <td>0</td>\n",
       "      <td>689</td>\n",
       "      <td>0</td>\n",
       "      <td>0</td>\n",
       "      <td>0</td>\n",
       "      <td>0</td>\n",
       "    </tr>\n",
       "    <tr>\n",
       "      <th>1</th>\n",
       "      <td>120000</td>\n",
       "      <td>2</td>\n",
       "      <td>2</td>\n",
       "      <td>2</td>\n",
       "      <td>26</td>\n",
       "      <td>-1</td>\n",
       "      <td>2</td>\n",
       "      <td>0</td>\n",
       "      <td>0</td>\n",
       "      <td>0</td>\n",
       "      <td>...</td>\n",
       "      <td>2682</td>\n",
       "      <td>3272</td>\n",
       "      <td>3455</td>\n",
       "      <td>3261</td>\n",
       "      <td>0</td>\n",
       "      <td>1000</td>\n",
       "      <td>1000</td>\n",
       "      <td>1000</td>\n",
       "      <td>0</td>\n",
       "      <td>2000</td>\n",
       "    </tr>\n",
       "    <tr>\n",
       "      <th>2</th>\n",
       "      <td>90000</td>\n",
       "      <td>2</td>\n",
       "      <td>2</td>\n",
       "      <td>2</td>\n",
       "      <td>34</td>\n",
       "      <td>0</td>\n",
       "      <td>0</td>\n",
       "      <td>0</td>\n",
       "      <td>0</td>\n",
       "      <td>0</td>\n",
       "      <td>...</td>\n",
       "      <td>13559</td>\n",
       "      <td>14331</td>\n",
       "      <td>14948</td>\n",
       "      <td>15549</td>\n",
       "      <td>1518</td>\n",
       "      <td>1500</td>\n",
       "      <td>1000</td>\n",
       "      <td>1000</td>\n",
       "      <td>1000</td>\n",
       "      <td>5000</td>\n",
       "    </tr>\n",
       "    <tr>\n",
       "      <th>3</th>\n",
       "      <td>50000</td>\n",
       "      <td>2</td>\n",
       "      <td>2</td>\n",
       "      <td>1</td>\n",
       "      <td>37</td>\n",
       "      <td>0</td>\n",
       "      <td>0</td>\n",
       "      <td>0</td>\n",
       "      <td>0</td>\n",
       "      <td>0</td>\n",
       "      <td>...</td>\n",
       "      <td>49291</td>\n",
       "      <td>28314</td>\n",
       "      <td>28959</td>\n",
       "      <td>29547</td>\n",
       "      <td>2000</td>\n",
       "      <td>2019</td>\n",
       "      <td>1200</td>\n",
       "      <td>1100</td>\n",
       "      <td>1069</td>\n",
       "      <td>1000</td>\n",
       "    </tr>\n",
       "    <tr>\n",
       "      <th>4</th>\n",
       "      <td>50000</td>\n",
       "      <td>1</td>\n",
       "      <td>2</td>\n",
       "      <td>1</td>\n",
       "      <td>57</td>\n",
       "      <td>-1</td>\n",
       "      <td>0</td>\n",
       "      <td>-1</td>\n",
       "      <td>0</td>\n",
       "      <td>0</td>\n",
       "      <td>...</td>\n",
       "      <td>35835</td>\n",
       "      <td>20940</td>\n",
       "      <td>19146</td>\n",
       "      <td>19131</td>\n",
       "      <td>2000</td>\n",
       "      <td>36681</td>\n",
       "      <td>10000</td>\n",
       "      <td>9000</td>\n",
       "      <td>689</td>\n",
       "      <td>679</td>\n",
       "    </tr>\n",
       "  </tbody>\n",
       "</table>\n",
       "<p>5 rows × 23 columns</p>\n",
       "</div>"
      ],
      "text/plain": [
       "       X1  X2  X3  X4  X5  X6  X7  X8  X9  X10  ...    X14    X15    X16  \\\n",
       "0   20000   2   2   1  24   2   2  -1  -1   -2  ...    689      0      0   \n",
       "1  120000   2   2   2  26  -1   2   0   0    0  ...   2682   3272   3455   \n",
       "2   90000   2   2   2  34   0   0   0   0    0  ...  13559  14331  14948   \n",
       "3   50000   2   2   1  37   0   0   0   0    0  ...  49291  28314  28959   \n",
       "4   50000   1   2   1  57  -1   0  -1   0    0  ...  35835  20940  19146   \n",
       "\n",
       "     X17   X18    X19    X20   X21   X22   X23  \n",
       "0      0     0    689      0     0     0     0  \n",
       "1   3261     0   1000   1000  1000     0  2000  \n",
       "2  15549  1518   1500   1000  1000  1000  5000  \n",
       "3  29547  2000   2019   1200  1100  1069  1000  \n",
       "4  19131  2000  36681  10000  9000   689   679  \n",
       "\n",
       "[5 rows x 23 columns]"
      ]
     },
     "execution_count": 2,
     "metadata": {},
     "output_type": "execute_result"
    }
   ],
   "source": [
    "from ucimlrepo import fetch_ucirepo \n",
    "# fetch dataset \n",
    "default_of_credit_card_clients = fetch_ucirepo(id=350) \n",
    "\n",
    "default_of_credit_card_clients.data.features.head()"
   ]
  },
  {
   "cell_type": "code",
   "execution_count": 15,
   "metadata": {},
   "outputs": [
    {
     "name": "stdout",
     "output_type": "stream",
     "text": [
      "\u001b[92mModel log file created.\u001b[0m\n",
      "\u001b[92mData log file created.\u001b[0m\n",
      "\u001b[92mRisks log file created.\u001b[0m\n",
      "\u001b[92mTransparency log file created.\u001b[0m\n"
     ]
    }
   ],
   "source": [
    "import sys\n",
    "sys.path.append('../../')\n",
    "from faid import logging as faidlog\n",
    "faidlog.init_log()"
   ]
  },
  {
   "cell_type": "code",
   "execution_count": 4,
   "metadata": {},
   "outputs": [
    {
     "name": "stdout",
     "output_type": "stream",
     "text": [
      "<class 'ucimlrepo.dotdict.dotdict'>\n",
      "<class 'pandas.core.frame.DataFrame'>\n"
     ]
    }
   ],
   "source": [
    "print(type(default_of_credit_card_clients.metadata))\n",
    "print(type(default_of_credit_card_clients.variables))"
   ]
  },
  {
   "cell_type": "code",
   "execution_count": 5,
   "metadata": {},
   "outputs": [
    {
     "data": {
      "text/html": [
       "<div>\n",
       "<style scoped>\n",
       "    .dataframe tbody tr th:only-of-type {\n",
       "        vertical-align: middle;\n",
       "    }\n",
       "\n",
       "    .dataframe tbody tr th {\n",
       "        vertical-align: top;\n",
       "    }\n",
       "\n",
       "    .dataframe thead th {\n",
       "        text-align: right;\n",
       "    }\n",
       "</style>\n",
       "<table border=\"1\" class=\"dataframe\">\n",
       "  <thead>\n",
       "    <tr style=\"text-align: right;\">\n",
       "      <th></th>\n",
       "      <th>name</th>\n",
       "      <th>role</th>\n",
       "      <th>type</th>\n",
       "      <th>demographic</th>\n",
       "      <th>description</th>\n",
       "      <th>units</th>\n",
       "      <th>missing_values</th>\n",
       "    </tr>\n",
       "  </thead>\n",
       "  <tbody>\n",
       "    <tr>\n",
       "      <th>0</th>\n",
       "      <td>ID</td>\n",
       "      <td>ID</td>\n",
       "      <td>Integer</td>\n",
       "      <td>None</td>\n",
       "      <td>None</td>\n",
       "      <td>None</td>\n",
       "      <td>no</td>\n",
       "    </tr>\n",
       "    <tr>\n",
       "      <th>1</th>\n",
       "      <td>X1</td>\n",
       "      <td>Feature</td>\n",
       "      <td>Integer</td>\n",
       "      <td>None</td>\n",
       "      <td>LIMIT_BAL</td>\n",
       "      <td>None</td>\n",
       "      <td>no</td>\n",
       "    </tr>\n",
       "    <tr>\n",
       "      <th>2</th>\n",
       "      <td>X2</td>\n",
       "      <td>Feature</td>\n",
       "      <td>Integer</td>\n",
       "      <td>Sex</td>\n",
       "      <td>SEX</td>\n",
       "      <td>None</td>\n",
       "      <td>no</td>\n",
       "    </tr>\n",
       "    <tr>\n",
       "      <th>3</th>\n",
       "      <td>X3</td>\n",
       "      <td>Feature</td>\n",
       "      <td>Integer</td>\n",
       "      <td>Education Level</td>\n",
       "      <td>EDUCATION</td>\n",
       "      <td>None</td>\n",
       "      <td>no</td>\n",
       "    </tr>\n",
       "    <tr>\n",
       "      <th>4</th>\n",
       "      <td>X4</td>\n",
       "      <td>Feature</td>\n",
       "      <td>Integer</td>\n",
       "      <td>Marital Status</td>\n",
       "      <td>MARRIAGE</td>\n",
       "      <td>None</td>\n",
       "      <td>no</td>\n",
       "    </tr>\n",
       "  </tbody>\n",
       "</table>\n",
       "</div>"
      ],
      "text/plain": [
       "  name     role     type      demographic description units missing_values\n",
       "0   ID       ID  Integer             None        None  None             no\n",
       "1   X1  Feature  Integer             None   LIMIT_BAL  None             no\n",
       "2   X2  Feature  Integer              Sex         SEX  None             no\n",
       "3   X3  Feature  Integer  Education Level   EDUCATION  None             no\n",
       "4   X4  Feature  Integer   Marital Status    MARRIAGE  None             no"
      ]
     },
     "execution_count": 5,
     "metadata": {},
     "output_type": "execute_result"
    }
   ],
   "source": [
    "default_of_credit_card_clients.variables.head()"
   ]
  },
  {
   "cell_type": "code",
   "execution_count": 6,
   "metadata": {},
   "outputs": [
    {
     "data": {
      "text/plain": [
       "[('uci_id', 350),\n",
       " ('name', 'Default of Credit Card Clients'),\n",
       " ('repository_url',\n",
       "  'https://archive.ics.uci.edu/dataset/350/default+of+credit+card+clients'),\n",
       " ('data_url', 'https://archive.ics.uci.edu/static/public/350/data.csv'),\n",
       " ('abstract',\n",
       "  \"This research aimed at the case of customers' default payments in Taiwan and compares the predictive accuracy of probability of default among six data mining methods.\")]"
      ]
     },
     "execution_count": 6,
     "metadata": {},
     "output_type": "execute_result"
    }
   ],
   "source": [
    "import json\n",
    "# Convert metadata to JSON\n",
    "metadata_json = json.dumps(default_of_credit_card_clients.metadata)\n",
    "# Convert JSON back to dictionary\n",
    "metadata_dict = json.loads(metadata_json)\n",
    "\n",
    "# Show first five entities\n",
    "list(metadata_dict.items())[:5]"
   ]
  },
  {
   "cell_type": "code",
   "execution_count": 7,
   "metadata": {},
   "outputs": [
    {
     "data": {
      "text/plain": [
       "[('uci_id', 350),\n",
       " ('name', 'Default of Credit Card Clients'),\n",
       " ('repository_url',\n",
       "  'https://archive.ics.uci.edu/dataset/350/default+of+credit+card+clients'),\n",
       " ('data_url', 'https://archive.ics.uci.edu/static/public/350/data.csv'),\n",
       " ('abstract',\n",
       "  \"This research aimed at the case of customers' default payments in Taiwan and compares the predictive accuracy of probability of default among six data mining methods.\")]"
      ]
     },
     "execution_count": 7,
     "metadata": {},
     "output_type": "execute_result"
    }
   ],
   "source": [
    "list(metadata_dict.items())[:5]"
   ]
  },
  {
   "cell_type": "markdown",
   "metadata": {},
   "source": [
    "When you download a dataset from UCI ML Datasets repository, the dataset record comes with a standardised metadata like above JSON output. You can find details about this standardised format here: <https://github.com/uci-ml-repo/ucimlrepo/blob/main/README.md> \n",
    "\n",
    "Below, we listed fairness-related data you can find in this metadata:\n",
    "\n",
    "| **entity** | **explanation** | **fairness** |\n",
    "| ----------------  | ---------------- | ---------------- |\n",
    "| dataset.headers | Headers of dataset features | protected characteristics can be extracted from features |\n",
    "| dataset.targets   | Dataframe of target columns                     | Representativeness of subgroups based on features can be extracted                 |\n",
    "| variables.demographic                          | Indicates whether the variable represents demographic data                   | If any direct or proxy variable is stored, inform it here                          |\n",
    "| variables. missing_values                      | Whether there are missing values in the variable's column                    | Representativeness should be calculated and normalised based on missing value count|\n",
    "| metadata.additional_info.purpose               | For what purpose was the dataset created?       | Compare it with the EU AI Act risky applications      |\n",
    "| metadata.additional_info.sensitive_data        | Does the dataset contain data that might be considered sensitive in any way? | All sensitive data should be explained here           |\n",
    "| metadata.additional_info.instances_represented | What do the instances in this dataset represent?| I would personally assume you could find most information in purpose and sensitive_data part, but check if any useful information available. |\n",
    "\n",
    "Now, let's see if the metadata is already filled with these information:"
   ]
  },
  {
   "cell_type": "code",
   "execution_count": 8,
   "metadata": {},
   "outputs": [
    {
     "data": {
      "text/plain": [
       "Index(['ID', 'X1', 'X2', 'X3', 'X4', 'X5', 'X6', 'X7', 'X8', 'X9', 'X10',\n",
       "       'X11', 'X12', 'X13', 'X14', 'X15', 'X16', 'X17', 'X18', 'X19', 'X20',\n",
       "       'X21', 'X22', 'X23', 'Y'],\n",
       "      dtype='object')"
      ]
     },
     "execution_count": 8,
     "metadata": {},
     "output_type": "execute_result"
    }
   ],
   "source": [
    "# Represented features\n",
    "default_of_credit_card_clients.data.headers"
   ]
  },
  {
   "cell_type": "code",
   "execution_count": 9,
   "metadata": {},
   "outputs": [
    {
     "data": {
      "text/plain": [
       "Y\n",
       "0    0.7788\n",
       "1    0.2212\n",
       "Name: proportion, dtype: float64"
      ]
     },
     "execution_count": 9,
     "metadata": {},
     "output_type": "execute_result"
    }
   ],
   "source": [
    "# Normalised value counts\n",
    "default_of_credit_card_clients.data.targets.value_counts(normalize=True)"
   ]
  },
  {
   "cell_type": "code",
   "execution_count": 10,
   "metadata": {},
   "outputs": [
    {
     "data": {
      "text/plain": [
       "0                None\n",
       "1                None\n",
       "2                 Sex\n",
       "3     Education Level\n",
       "4      Marital Status\n",
       "5                 Age\n",
       "6                None\n",
       "7                None\n",
       "8                None\n",
       "9                None\n",
       "10               None\n",
       "11               None\n",
       "12               None\n",
       "13               None\n",
       "14               None\n",
       "15               None\n",
       "16               None\n",
       "17               None\n",
       "18               None\n",
       "19               None\n",
       "20               None\n",
       "21               None\n",
       "22               None\n",
       "23               None\n",
       "24               None\n",
       "Name: demographic, dtype: object"
      ]
     },
     "execution_count": 10,
     "metadata": {},
     "output_type": "execute_result"
    }
   ],
   "source": [
    "default_of_credit_card_clients.variables[\"demographic\"]"
   ]
  },
  {
   "cell_type": "code",
   "execution_count": 11,
   "metadata": {},
   "outputs": [
    {
     "data": {
      "text/plain": [
       "0     no\n",
       "1     no\n",
       "2     no\n",
       "3     no\n",
       "4     no\n",
       "5     no\n",
       "6     no\n",
       "7     no\n",
       "8     no\n",
       "9     no\n",
       "10    no\n",
       "11    no\n",
       "12    no\n",
       "13    no\n",
       "14    no\n",
       "15    no\n",
       "16    no\n",
       "17    no\n",
       "18    no\n",
       "19    no\n",
       "20    no\n",
       "21    no\n",
       "22    no\n",
       "23    no\n",
       "24    no\n",
       "Name: missing_values, dtype: object"
      ]
     },
     "execution_count": 11,
     "metadata": {},
     "output_type": "execute_result"
    }
   ],
   "source": [
    "default_of_credit_card_clients.variables[\"missing_values\"]"
   ]
  },
  {
   "cell_type": "code",
   "execution_count": 12,
   "metadata": {},
   "outputs": [
    {
     "name": "stdout",
     "output_type": "stream",
     "text": [
      "None\n",
      "None\n",
      "None\n"
     ]
    }
   ],
   "source": [
    "# Now let's see if we can extract any useful information from the metadata\n",
    "print(metadata_dict[\"additional_info\"][\"purpose\"])\n",
    "print(metadata_dict[\"additional_info\"][\"sensitive_data\"])\n",
    "print(metadata_dict[\"additional_info\"][\"instances_represent\"])"
   ]
  },
  {
   "cell_type": "code",
   "execution_count": 16,
   "metadata": {},
   "outputs": [
    {
     "data": {
      "text/plain": [
       "{'id': 350,\n",
       " 'description': {'dataset_name': 'Default of Credit Card Clients',\n",
       "  'dataset_link': 'https://archive.ics.uci.edu/static/public/350/data.csv',\n",
       "  'repository_url': 'https://archive.ics.uci.edu/dataset/350/default+of+credit+card+clients',\n",
       "  'intro_paper': {'ID': 365,\n",
       "   'type': 'NATIVE',\n",
       "   'title': 'The comparisons of data mining techniques for the predictive accuracy of probability of default of credit card clients',\n",
       "   'authors': 'I. Yeh, Che-hui Lien',\n",
       "   'venue': 'Expert systems with applications',\n",
       "   'year': 2009,\n",
       "   'journal': None,\n",
       "   'DOI': '10.1016/j.eswa.2007.12.020',\n",
       "   'URL': 'https://www.semanticscholar.org/paper/1cacac4f0ea9fdff3cd88c151c94115a9fddcf33',\n",
       "   'sha': None,\n",
       "   'corpus': None,\n",
       "   'arxiv': None,\n",
       "   'mag': None,\n",
       "   'acl': None,\n",
       "   'pmid': None,\n",
       "   'pmcid': None},\n",
       "  'authors': ['I-Cheng Yeh'],\n",
       "  'summary': \"This research aimed at the case of customers' default payments in Taiwan and compares the predictive accuracy of probability of default among six data mining methods.\",\n",
       "  'industry_types': 'Business',\n",
       "  'tasks': ['Classification'],\n",
       "  'characteristics': ['Multivariate'],\n",
       "  'feature_types': ['Integer', 'Real'],\n",
       "  'target_col': ['Y'],\n",
       "  'index_col': ['ID'],\n",
       "  'funding_sources': None},\n",
       " 'content': {'data_fields': 'This research employed a binary variable, default payment (Yes = 1, No = 0), as the response variable. This study reviewed the literature and used the following 23 variables as explanatory variables:\\r\\nX1: Amount of the given credit (NT dollar): it includes both the individual consumer credit and his/her family (supplementary) credit.\\r\\nX2: Gender (1 = male; 2 = female).\\r\\nX3: Education (1 = graduate school; 2 = university; 3 = high school; 4 = others).\\r\\nX4: Marital status (1 = married; 2 = single; 3 = others).\\r\\nX5: Age (year).\\r\\nX6 - X11: History of past payment. We tracked the past monthly payment records (from April to September, 2005) as follows: X6 = the repayment status in September, 2005; X7 = the repayment status in August, 2005; . . .;X11 = the repayment status in April, 2005. The measurement scale for the repayment status is: -1 = pay duly; 1 = payment delay for one month; 2 = payment delay for two months; . . .; 8 = payment delay for eight months; 9 = payment delay for nine months and above.\\r\\nX12-X17: Amount of bill statement (NT dollar). X12 = amount of bill statement in September, 2005; X13 = amount of bill statement in August, 2005; . . .; X17 = amount of bill statement in April, 2005. \\r\\nX18-X23: Amount of previous payment (NT dollar). X18 = amount paid in September, 2005; X19 = amount paid in August, 2005; . . .;X23 = amount paid in April, 2005.\\r\\n'},\n",
       " 'descriptive_statistics': {'num_instances': 30000,\n",
       "  'num_features': 23,\n",
       "  'has_missing_values': 'no',\n",
       "  'missing_values_symbol': None},\n",
       " 'sensitive_data': {'protected_characteristics': ['Sex',\n",
       "   'Education Level',\n",
       "   'Marital Status',\n",
       "   'Age'],\n",
       "  'intentional_sensitive_data': None},\n",
       " 'version_details': {'current_version': '',\n",
       "  'last_updated': 'Fri Mar 29 2024',\n",
       "  'release_date': 2009}}"
      ]
     },
     "execution_count": 16,
     "metadata": {},
     "output_type": "execute_result"
    }
   ],
   "source": [
    "from faid.logging import pretty_uci_metadata\n",
    "\n",
    "pretty_metadata = pretty_uci_metadata(metadata_dict)\n",
    "pretty_metadata"
   ]
  },
  {
   "cell_type": "code",
   "execution_count": null,
   "metadata": {},
   "outputs": [
    {
     "name": "stdout",
     "output_type": "stream",
     "text": [
      "Added id to data card\n",
      "Added description to data card\n",
      "Added content to data card\n",
      "Added descriptive_statistics to data card\n",
      "Added sensitive_data to data card\n",
      "Added version_details to data card\n"
     ]
    }
   ],
   "source": [
    "# For each key value pair in the metadata dictionary, add it to the data log directly, without creating a Data Card object\n",
    "for key, value in pretty_metadata.items():\n",
    "    faidlog.add_data_entry(key=key, entry=value)"
   ]
  },
  {
   "cell_type": "code",
   "execution_count": 16,
   "metadata": {},
   "outputs": [
    {
     "data": {
      "text/plain": [
       "{'summary': \"This research aimed at the case of customers' default payments in Taiwan and compares the predictive accuracy of probability of default among six data mining methods.\",\n",
       " 'protected_characteristics': ['Sex',\n",
       "  'Education Level',\n",
       "  'Marital Status',\n",
       "  'Age'],\n",
       " 'intentional_sensitive_data': None,\n",
       " 'unintentional_sensitive_data': [],\n",
       " 'rai': {'dataCollection': '',\n",
       "  'dataCollectionType': '',\n",
       "  'dataCollectionRawData': '',\n",
       "  'dataAnnotationProtocol': '',\n",
       "  'dataAnnotationPlatform': '',\n",
       "  'dataAnnotationAnalysis': '',\n",
       "  'dataUseCases': '',\n",
       "  'dataBiases': '',\n",
       "  'annotationsPerItem': '',\n",
       "  'annotatorDemographics': ''}}"
      ]
     },
     "execution_count": 16,
     "metadata": {},
     "output_type": "execute_result"
    }
   ],
   "source": [
    "faidlog.get_fairness_entities_from_data()"
   ]
  },
  {
   "cell_type": "code",
   "execution_count": 18,
   "metadata": {
    "collapsed": false
   },
   "outputs": [
    {
     "data": {
      "text/plain": [
       "(30000, 24)"
      ]
     },
     "execution_count": 18,
     "metadata": {},
     "output_type": "execute_result"
    }
   ],
   "source": [
    "data_url = \"http://archive.ics.uci.edu/ml/machine-learning-databases/00350/default%20of%20credit%20card%20clients.xls\"\n",
    "dataset = (\n",
    "    pd.read_excel(io=data_url, header=1)\n",
    "    .drop(columns=[\"ID\"])\n",
    "    .rename(\n",
    "        columns={\"PAY_0\": \"PAY_1\", \"default payment next month\": \"default\"}\n",
    "    )\n",
    ")\n",
    "\n",
    "dataset.shape"
   ]
  },
  {
   "cell_type": "code",
   "execution_count": 19,
   "metadata": {
    "collapsed": false
   },
   "outputs": [
    {
     "data": {
      "text/html": [
       "<div>\n",
       "<style scoped>\n",
       "    .dataframe tbody tr th:only-of-type {\n",
       "        vertical-align: middle;\n",
       "    }\n",
       "\n",
       "    .dataframe tbody tr th {\n",
       "        vertical-align: top;\n",
       "    }\n",
       "\n",
       "    .dataframe thead th {\n",
       "        text-align: right;\n",
       "    }\n",
       "</style>\n",
       "<table border=\"1\" class=\"dataframe\">\n",
       "  <thead>\n",
       "    <tr style=\"text-align: right;\">\n",
       "      <th></th>\n",
       "      <th>LIMIT_BAL</th>\n",
       "      <th>SEX</th>\n",
       "      <th>EDUCATION</th>\n",
       "      <th>MARRIAGE</th>\n",
       "      <th>AGE</th>\n",
       "      <th>PAY_1</th>\n",
       "      <th>PAY_2</th>\n",
       "      <th>PAY_3</th>\n",
       "      <th>PAY_4</th>\n",
       "      <th>PAY_5</th>\n",
       "      <th>...</th>\n",
       "      <th>BILL_AMT4</th>\n",
       "      <th>BILL_AMT5</th>\n",
       "      <th>BILL_AMT6</th>\n",
       "      <th>PAY_AMT1</th>\n",
       "      <th>PAY_AMT2</th>\n",
       "      <th>PAY_AMT3</th>\n",
       "      <th>PAY_AMT4</th>\n",
       "      <th>PAY_AMT5</th>\n",
       "      <th>PAY_AMT6</th>\n",
       "      <th>default</th>\n",
       "    </tr>\n",
       "  </thead>\n",
       "  <tbody>\n",
       "    <tr>\n",
       "      <th>0</th>\n",
       "      <td>20000</td>\n",
       "      <td>2</td>\n",
       "      <td>2</td>\n",
       "      <td>1</td>\n",
       "      <td>24</td>\n",
       "      <td>2</td>\n",
       "      <td>2</td>\n",
       "      <td>-1</td>\n",
       "      <td>-1</td>\n",
       "      <td>-2</td>\n",
       "      <td>...</td>\n",
       "      <td>0</td>\n",
       "      <td>0</td>\n",
       "      <td>0</td>\n",
       "      <td>0</td>\n",
       "      <td>689</td>\n",
       "      <td>0</td>\n",
       "      <td>0</td>\n",
       "      <td>0</td>\n",
       "      <td>0</td>\n",
       "      <td>1</td>\n",
       "    </tr>\n",
       "    <tr>\n",
       "      <th>1</th>\n",
       "      <td>120000</td>\n",
       "      <td>2</td>\n",
       "      <td>2</td>\n",
       "      <td>2</td>\n",
       "      <td>26</td>\n",
       "      <td>-1</td>\n",
       "      <td>2</td>\n",
       "      <td>0</td>\n",
       "      <td>0</td>\n",
       "      <td>0</td>\n",
       "      <td>...</td>\n",
       "      <td>3272</td>\n",
       "      <td>3455</td>\n",
       "      <td>3261</td>\n",
       "      <td>0</td>\n",
       "      <td>1000</td>\n",
       "      <td>1000</td>\n",
       "      <td>1000</td>\n",
       "      <td>0</td>\n",
       "      <td>2000</td>\n",
       "      <td>1</td>\n",
       "    </tr>\n",
       "    <tr>\n",
       "      <th>2</th>\n",
       "      <td>90000</td>\n",
       "      <td>2</td>\n",
       "      <td>2</td>\n",
       "      <td>2</td>\n",
       "      <td>34</td>\n",
       "      <td>0</td>\n",
       "      <td>0</td>\n",
       "      <td>0</td>\n",
       "      <td>0</td>\n",
       "      <td>0</td>\n",
       "      <td>...</td>\n",
       "      <td>14331</td>\n",
       "      <td>14948</td>\n",
       "      <td>15549</td>\n",
       "      <td>1518</td>\n",
       "      <td>1500</td>\n",
       "      <td>1000</td>\n",
       "      <td>1000</td>\n",
       "      <td>1000</td>\n",
       "      <td>5000</td>\n",
       "      <td>0</td>\n",
       "    </tr>\n",
       "    <tr>\n",
       "      <th>3</th>\n",
       "      <td>50000</td>\n",
       "      <td>2</td>\n",
       "      <td>2</td>\n",
       "      <td>1</td>\n",
       "      <td>37</td>\n",
       "      <td>0</td>\n",
       "      <td>0</td>\n",
       "      <td>0</td>\n",
       "      <td>0</td>\n",
       "      <td>0</td>\n",
       "      <td>...</td>\n",
       "      <td>28314</td>\n",
       "      <td>28959</td>\n",
       "      <td>29547</td>\n",
       "      <td>2000</td>\n",
       "      <td>2019</td>\n",
       "      <td>1200</td>\n",
       "      <td>1100</td>\n",
       "      <td>1069</td>\n",
       "      <td>1000</td>\n",
       "      <td>0</td>\n",
       "    </tr>\n",
       "    <tr>\n",
       "      <th>4</th>\n",
       "      <td>50000</td>\n",
       "      <td>1</td>\n",
       "      <td>2</td>\n",
       "      <td>1</td>\n",
       "      <td>57</td>\n",
       "      <td>-1</td>\n",
       "      <td>0</td>\n",
       "      <td>-1</td>\n",
       "      <td>0</td>\n",
       "      <td>0</td>\n",
       "      <td>...</td>\n",
       "      <td>20940</td>\n",
       "      <td>19146</td>\n",
       "      <td>19131</td>\n",
       "      <td>2000</td>\n",
       "      <td>36681</td>\n",
       "      <td>10000</td>\n",
       "      <td>9000</td>\n",
       "      <td>689</td>\n",
       "      <td>679</td>\n",
       "      <td>0</td>\n",
       "    </tr>\n",
       "  </tbody>\n",
       "</table>\n",
       "<p>5 rows × 24 columns</p>\n",
       "</div>"
      ],
      "text/plain": [
       "   LIMIT_BAL  SEX  EDUCATION  MARRIAGE  AGE  PAY_1  PAY_2  PAY_3  PAY_4  \\\n",
       "0      20000    2          2         1   24      2      2     -1     -1   \n",
       "1     120000    2          2         2   26     -1      2      0      0   \n",
       "2      90000    2          2         2   34      0      0      0      0   \n",
       "3      50000    2          2         1   37      0      0      0      0   \n",
       "4      50000    1          2         1   57     -1      0     -1      0   \n",
       "\n",
       "   PAY_5  ...  BILL_AMT4  BILL_AMT5  BILL_AMT6  PAY_AMT1  PAY_AMT2  PAY_AMT3  \\\n",
       "0     -2  ...          0          0          0         0       689         0   \n",
       "1      0  ...       3272       3455       3261         0      1000      1000   \n",
       "2      0  ...      14331      14948      15549      1518      1500      1000   \n",
       "3      0  ...      28314      28959      29547      2000      2019      1200   \n",
       "4      0  ...      20940      19146      19131      2000     36681     10000   \n",
       "\n",
       "   PAY_AMT4  PAY_AMT5  PAY_AMT6  default  \n",
       "0         0         0         0        1  \n",
       "1      1000         0      2000        1  \n",
       "2      1000      1000      5000        0  \n",
       "3      1100      1069      1000        0  \n",
       "4      9000       689       679        0  \n",
       "\n",
       "[5 rows x 24 columns]"
      ]
     },
     "execution_count": 19,
     "metadata": {},
     "output_type": "execute_result"
    }
   ],
   "source": [
    "dataset.head()"
   ]
  },
  {
   "cell_type": "markdown",
   "metadata": {},
   "source": [
    "We see ```metadata_dict[\"demographics\"]``` there are three categorical features related to demographics:\n",
    "-   `SEX`: Sex of the applicant (as a binary feature)\n",
    "-   `EDUCATION`: Highest level of education achieved by the applicant.\n",
    "-   `MARRIAGE`: Marital status of the applicant.\n"
   ]
  },
  {
   "cell_type": "code",
   "execution_count": 20,
   "metadata": {},
   "outputs": [],
   "source": [
    "# Now, let's create a data card object to update the data log in the rest of this notebook\n",
    "datacard = faidlog.DataCard()\n",
    "datacard.set_sensitive_data({\"protected_characteristics\": metadata_dict[\"demographics\"]})"
   ]
  },
  {
   "cell_type": "code",
   "execution_count": 22,
   "metadata": {},
   "outputs": [
    {
     "data": {
      "text/plain": [
       "{'id': 350,\n",
       " 'description': {'name': '',\n",
       "  'summary': \"This research aimed at the case of customers' default payments in Taiwan and compares the predictive accuracy of probability of default among six data mining methods.\",\n",
       "  'dataset_link': 'https://archive.ics.uci.edu/static/public/350/data.csv',\n",
       "  'repository_link': '',\n",
       "  'intro_paper': {'ID': 365,\n",
       "   'type': 'NATIVE',\n",
       "   'title': 'The comparisons of data mining techniques for the predictive accuracy of probability of default of credit card clients',\n",
       "   'authors': 'I. Yeh, Che-hui Lien',\n",
       "   'venue': 'Expert systems with applications',\n",
       "   'year': 2009,\n",
       "   'journal': None,\n",
       "   'DOI': '10.1016/j.eswa.2007.12.020',\n",
       "   'URL': 'https://www.semanticscholar.org/paper/1cacac4f0ea9fdff3cd88c151c94115a9fddcf33',\n",
       "   'sha': None,\n",
       "   'corpus': None,\n",
       "   'arxiv': None,\n",
       "   'mag': None,\n",
       "   'acl': None,\n",
       "   'pmid': None,\n",
       "   'pmcid': None},\n",
       "  'publishing_organization': '',\n",
       "  'tasks': ['Classification'],\n",
       "  'characteristics': ['Multivariate'],\n",
       "  'feature_types': ['Integer', 'Real'],\n",
       "  'target_col': ['Y'],\n",
       "  'index_col': ['ID'],\n",
       "  'year_of_dataset_creation': '',\n",
       "  'last_updated': '',\n",
       "  'industry_types': 'Business',\n",
       "  'publishing_poc': {},\n",
       "  'owners': [],\n",
       "  'authors': ['I-Cheng Yeh'],\n",
       "  'funding_sources': None,\n",
       "  'dataset_name': 'Default of Credit Card Clients',\n",
       "  'repository_url': 'https://archive.ics.uci.edu/dataset/350/default+of+credit+card+clients'},\n",
       " 'content': {'description': '',\n",
       "  'primary_data_modality': '',\n",
       "  'sampling_data_points': [],\n",
       "  'data_fields': 'This research employed a binary variable, default payment (Yes = 1, No = 0), as the response variable. This study reviewed the literature and used the following 23 variables as explanatory variables:\\r\\nX1: Amount of the given credit (NT dollar): it includes both the individual consumer credit and his/her family (supplementary) credit.\\r\\nX2: Gender (1 = male; 2 = female).\\r\\nX3: Education (1 = graduate school; 2 = university; 3 = high school; 4 = others).\\r\\nX4: Marital status (1 = married; 2 = single; 3 = others).\\r\\nX5: Age (year).\\r\\nX6 - X11: History of past payment. We tracked the past monthly payment records (from April to September, 2005) as follows: X6 = the repayment status in September, 2005; X7 = the repayment status in August, 2005; . . .;X11 = the repayment status in April, 2005. The measurement scale for the repayment status is: -1 = pay duly; 1 = payment delay for one month; 2 = payment delay for two months; . . .; 8 = payment delay for eight months; 9 = payment delay for nine months and above.\\r\\nX12-X17: Amount of bill statement (NT dollar). X12 = amount of bill statement in September, 2005; X13 = amount of bill statement in August, 2005; . . .; X17 = amount of bill statement in April, 2005. \\r\\nX18-X23: Amount of previous payment (NT dollar). X18 = amount paid in September, 2005; X19 = amount paid in August, 2005; . . .;X23 = amount paid in April, 2005.\\r\\n',\n",
       "  'typical_data_point': '',\n",
       "  'data_subjects': [],\n",
       "  'dataset_snapshot': {'Total Records': '', 'Coverage': '', 'Time Span': ''}},\n",
       " 'descriptive_statistics': {'num_instances': 30000,\n",
       "  'num_features': 23,\n",
       "  'has_missing_values': 'no',\n",
       "  'missing_values_symbol': None,\n",
       "  'fields': [],\n",
       "  'stats': [{'name': '',\n",
       "    'description': '',\n",
       "    'value': 0,\n",
       "    'threshold': 0,\n",
       "    'bigger_is_better': '',\n",
       "    'label': '',\n",
       "    'notes': '',\n",
       "    'sg_params': {}}]},\n",
       " 'sensitive_data': {'protected_characteristics': ['Sex',\n",
       "   'Education Level',\n",
       "   'Marital Status',\n",
       "   'Age']},\n",
       " 'risks': [{'name': None, 'mitigation_strategy': ''}],\n",
       " 'version_details': {'current_version': '',\n",
       "  'last_updated': 'Fri Mar 29 2024',\n",
       "  'release_date': 2009,\n",
       "  'maintenance_status': '',\n",
       "  'maintenance_plan': '',\n",
       "  'next_update': {'version_affected': '',\n",
       "   'next_data_update': '',\n",
       "   'next_version': '',\n",
       "   'next_version_update': ''},\n",
       "  'expected_changes': ''},\n",
       " 'collection_protocol': {'data_collection': '',\n",
       "  'data_collection_type': '',\n",
       "  'data_collection_raw_data': '',\n",
       "  'data_annotation_protocol': '',\n",
       "  'data_annotation_platform': '',\n",
       "  'data_annotation_analysis': '',\n",
       "  'annotations_per_item': '',\n",
       "  'annotator_demographics': '',\n",
       "  'data_use_cases': ''}}"
      ]
     },
     "execution_count": 22,
     "metadata": {},
     "output_type": "execute_result"
    }
   ],
   "source": [
    "# You can see that data card object initiated with the existing data log and added the sensitive data\n",
    "datacard.to_dict()"
   ]
  },
  {
   "cell_type": "code",
   "execution_count": 23,
   "metadata": {},
   "outputs": [
    {
     "name": "stdout",
     "output_type": "stream",
     "text": [
      "Added protected_characteristics to project metadata under ['data'] and log updated\n"
     ]
    }
   ],
   "source": [
    "fairness_log = faidlog.FairnessExperimentRecord(\"credit-scoring-default\")\n",
    "fairness_log.add_data_entry(key=\"protected_characteristics\", entry=metadata_dict[\"demographics\"])"
   ]
  },
  {
   "cell_type": "code",
   "execution_count": 24,
   "metadata": {
    "collapsed": false
   },
   "outputs": [],
   "source": [
    "categorical_features = [\"SEX\", \"EDUCATION\", \"MARRIAGE\"]\n",
    "\n",
    "for col_name in categorical_features:\n",
    "    dataset[col_name] = dataset[col_name].astype(\"category\")\n",
    "\n",
    "Y, A = dataset.loc[:, \"default\"], dataset.loc[:, \"SEX\"]\n",
    "X = pd.get_dummies(dataset.drop(columns=[\"default\", \"SEX\"]))\n",
    "\n",
    "A_str = A.map({1: \"male\", 2: \"female\"})"
   ]
  },
  {
   "cell_type": "markdown",
   "metadata": {},
   "source": [
    "Dataset imbalances\n",
    "==================\n",
    "\n",
    "Before we start training a classifier model, we want to explore the\n",
    "dataset for any characteristics that may lead to fairness-related harms\n",
    "later on in the modeling process. In particular, we will focus on the\n",
    "distribution of sensitive feature `SEX` and the target label `default`.\n",
    "\n",
    "As part of an exploratory data analysis, let\\'s explore the distribution\n",
    "of our sensitive feature `SEX`. We see that 60% of loan applicants were\n",
    "labeled as [female]{.title-ref} and 40% as [male]{.title-ref}, so we do\n",
    "not need to worry about imbalance in this feature.\n"
   ]
  },
  {
   "cell_type": "code",
   "execution_count": 22,
   "metadata": {
    "collapsed": false
   },
   "outputs": [
    {
     "data": {
      "text/plain": [
       "SEX\n",
       "female    0.603733\n",
       "male      0.396267\n",
       "Name: proportion, dtype: float64"
      ]
     },
     "execution_count": 22,
     "metadata": {},
     "output_type": "execute_result"
    }
   ],
   "source": [
    "A_str.value_counts(normalize=True)"
   ]
  },
  {
   "cell_type": "markdown",
   "metadata": {},
   "source": [
    "Next, let\\'s explore the distribution of the *loan default rate* `Y`. We\n",
    "see that around 78% of individuals in the dataset do not default on\n",
    "their credit loan. While the target label does not display extreme\n",
    "imbalance, we will need to account for this imbalance in our modeling\n",
    "section. As opposed to the *sensitive feature* `SEX`, an imbalance in\n",
    "the target label may result in a classifier that over-optimizes for the\n",
    "majority class. For example, a classifier that predicts an applicant\n",
    "will not default would achieve an accuracy of 78%, so we will use the\n",
    "`balanced_accuracy` score as our evaluation metric to counteract the\n",
    "label imbalance.\n"
   ]
  },
  {
   "cell_type": "code",
   "execution_count": 23,
   "metadata": {
    "collapsed": false
   },
   "outputs": [
    {
     "data": {
      "text/plain": [
       "default\n",
       "0    0.7788\n",
       "1    0.2212\n",
       "Name: proportion, dtype: float64"
      ]
     },
     "execution_count": 23,
     "metadata": {},
     "output_type": "execute_result"
    }
   ],
   "source": [
    "Y.value_counts(normalize=True)"
   ]
  },
  {
   "cell_type": "markdown",
   "metadata": {},
   "source": [
    "Add synthetic noise that is related to the outcome and sex\n",
    "==========================================================\n",
    "\n",
    "For the purpose of this case study, we add a synthetic feature\n",
    "`Interest` that introduces correlation between the `SEX` label of an\n",
    "applicant and the `default` outcome. The purpose of this feature is to\n",
    "replicate outcome disparities present in the original dataset. We can\n",
    "think of this `Interest` feature as the *interest rate* for the\n",
    "applicant. If the applicant has a history of defaulting on credit card\n",
    "payments, the bank will lend to the applicant at a higher interest rate.\n",
    "We also assume because banks have historically lended primarily to men,\n",
    "there is less uncertainty (or variance) in the *interest rate* for these\n",
    "applicants.\n",
    "\n",
    "To reflect the above reasoning, the `Interest` feature is drawn from a\n",
    "*Gaussian distribution* with the following criterion:\n",
    "\n",
    "-   If *Male*, draw `Interest` from\n",
    "    $\\mathcal{N}(2 \\cdot \\text{Default}, 1)$\n",
    "-   If *Female*, draw `Interest` from\n",
    "    $\\mathcal{N}(2 \\cdot \\text{Default}, 2)$\n",
    "\n",
    "This feature is drawn from a *Gaussian distribution* for computational\n",
    "simplicity.\n"
   ]
  },
  {
   "cell_type": "code",
   "execution_count": 24,
   "metadata": {
    "collapsed": false
   },
   "outputs": [],
   "source": [
    "X.loc[:, \"Interest\"] = np.random.normal(loc=2 * Y, scale=A)"
   ]
  },
  {
   "cell_type": "markdown",
   "metadata": {},
   "source": [
    "Check if this will lead to disparity in naive model\n",
    "===================================================\n",
    "\n",
    "Now that we have created our synthetic feature, let\\'s check how this\n",
    "new feature interacts with our *sensitive\\_feature* `Sex` and our target\n",
    "label `default`. We see that for both sexes, the `Interest` feature is\n",
    "higher for individuals who defaulted on their loan.\n"
   ]
  },
  {
   "cell_type": "code",
   "execution_count": 25,
   "metadata": {
    "collapsed": false
   },
   "outputs": [
    {
     "data": {
      "text/plain": [
       "<matplotlib.legend.Legend at 0x2a04dd120>"
      ]
     },
     "execution_count": 25,
     "metadata": {},
     "output_type": "execute_result"
    },
    {
     "data": {
      "image/png": "[encoded data removed]",
      "text/plain": [
       "<Figure size 1000x400 with 2 Axes>"
      ]
     },
     "metadata": {},
     "output_type": "display_data"
    }
   ],
   "source": [
    "fig, (ax_1, ax_2) = plt.subplots(\n",
    "    ncols=2, figsize=(10, 4), sharex=True, sharey=True\n",
    ")\n",
    "X[\"Interest\"][(A == 1) & (Y == 0)].plot(\n",
    "    kind=\"kde\", label=\"Payment on Time\", ax=ax_1, title=\"INTEREST for Men\"\n",
    ")\n",
    "X[\"Interest\"][(A == 1) & (Y == 1)].plot(\n",
    "    kind=\"kde\", label=\"Payment Default\", ax=ax_1\n",
    ")\n",
    "X[\"Interest\"][(A == 2) & (Y == 0)].plot(\n",
    "    kind=\"kde\",\n",
    "    label=\"Payment on Time\",\n",
    "    ax=ax_2,\n",
    "    legend=True,\n",
    "    title=\"INTEREST for Women\",\n",
    ")\n",
    "X[\"Interest\"][(A == 2) & (Y == 1)].plot(\n",
    "    kind=\"kde\", label=\"Payment Default\", ax=ax_2, legend=True\n",
    ").legend(bbox_to_anchor=(1.6, 1))"
   ]
  },
  {
   "cell_type": "markdown",
   "metadata": {},
   "source": [
    "Training an initial model\n",
    "=========================\n",
    "\n",
    "In this section, we will train a fairness-unaware model on the training\n",
    "data. However because of the imbalances in the dataset, we will first\n",
    "resample the training data to produce a new balanced training dataset.\n"
   ]
  },
  {
   "cell_type": "code",
   "execution_count": 26,
   "metadata": {
    "collapsed": false
   },
   "outputs": [],
   "source": [
    "def resample_training_data(X_train, Y_train, A_train):\n",
    "    \"\"\"Down-sample the majority class in the training dataset to produce a\n",
    "    balanced dataset with a 50/50 split in the predictive labels.\n",
    "\n",
    "    Parameters:\n",
    "    X_train: The training split of the features\n",
    "    Y_train: The training split of the target labels\n",
    "    A_train: The training split of the sensitive features\n",
    "\n",
    "    Returns:\n",
    "    Tuple of X_train, Y_train, A_train where each dataset has been re-balanced.\n",
    "    \"\"\"\n",
    "    negative_ids = Y_train[Y_train == 0].index\n",
    "    positive_ids = Y_train[Y_train == 1].index\n",
    "    balanced_ids = positive_ids.union(\n",
    "        np.random.choice(a=negative_ids, size=len(positive_ids))\n",
    "    )\n",
    "\n",
    "    X_train = X_train.loc[balanced_ids, :]\n",
    "    Y_train = Y_train.loc[balanced_ids]\n",
    "    A_train = A_train.loc[balanced_ids]\n",
    "    return X_train, Y_train, A_train"
   ]
  },
  {
   "cell_type": "code",
   "execution_count": 27,
   "metadata": {
    "collapsed": false
   },
   "outputs": [],
   "source": [
    "X_train, X_test, y_train, y_test, A_train, A_test = train_test_split(\n",
    "    X, Y, A_str, test_size=0.35, stratify=Y\n",
    ")\n",
    "\n",
    "X_train, y_train, A_train = resample_training_data(X_train, y_train, A_train)"
   ]
  },
  {
   "cell_type": "markdown",
   "metadata": {},
   "source": [
    "At this stage, we will train a *gradient-boosted tree classifier* using\n",
    "the `lightgbm` package on the balanced training dataset. When we\n",
    "evaluate the model, we will use the unbalanced testing dataset.\n"
   ]
  },
  {
   "cell_type": "code",
   "execution_count": 28,
   "metadata": {
    "collapsed": false
   },
   "outputs": [
    {
     "data": {
      "text/html": [
       "<style>#sk-container-id-1 {\n",
       "  /* Definition of color scheme common for light and dark mode */\n",
       "  --sklearn-color-text: black;\n",
       "  --sklearn-color-line: gray;\n",
       "  /* Definition of color scheme for unfitted estimators */\n",
       "  --sklearn-color-unfitted-level-0: #fff5e6;\n",
       "  --sklearn-color-unfitted-level-1: #f6e4d2;\n",
       "  --sklearn-color-unfitted-level-2: #ffe0b3;\n",
       "  --sklearn-color-unfitted-level-3: chocolate;\n",
       "  /* Definition of color scheme for fitted estimators */\n",
       "  --sklearn-color-fitted-level-0: #f0f8ff;\n",
       "  --sklearn-color-fitted-level-1: #d4ebff;\n",
       "  --sklearn-color-fitted-level-2: #b3dbfd;\n",
       "  --sklearn-color-fitted-level-3: cornflowerblue;\n",
       "\n",
       "  /* Specific color for light theme */\n",
       "  --sklearn-color-text-on-default-background: var(--sg-text-color, var(--theme-code-foreground, var(--jp-content-font-color1, black)));\n",
       "  --sklearn-color-background: var(--sg-background-color, var(--theme-background, var(--jp-layout-color0, white)));\n",
       "  --sklearn-color-border-box: var(--sg-text-color, var(--theme-code-foreground, var(--jp-content-font-color1, black)));\n",
       "  --sklearn-color-icon: #696969;\n",
       "\n",
       "  @media (prefers-color-scheme: dark) {\n",
       "    /* Redefinition of color scheme for dark theme */\n",
       "    --sklearn-color-text-on-default-background: var(--sg-text-color, var(--theme-code-foreground, var(--jp-content-font-color1, white)));\n",
       "    --sklearn-color-background: var(--sg-background-color, var(--theme-background, var(--jp-layout-color0, #111)));\n",
       "    --sklearn-color-border-box: var(--sg-text-color, var(--theme-code-foreground, var(--jp-content-font-color1, white)));\n",
       "    --sklearn-color-icon: #878787;\n",
       "  }\n",
       "}\n",
       "\n",
       "#sk-container-id-1 {\n",
       "  color: var(--sklearn-color-text);\n",
       "}\n",
       "\n",
       "#sk-container-id-1 pre {\n",
       "  padding: 0;\n",
       "}\n",
       "\n",
       "#sk-container-id-1 input.sk-hidden--visually {\n",
       "  border: 0;\n",
       "  clip: rect(1px 1px 1px 1px);\n",
       "  clip: rect(1px, 1px, 1px, 1px);\n",
       "  height: 1px;\n",
       "  margin: -1px;\n",
       "  overflow: hidden;\n",
       "  padding: 0;\n",
       "  position: absolute;\n",
       "  width: 1px;\n",
       "}\n",
       "\n",
       "#sk-container-id-1 div.sk-dashed-wrapped {\n",
       "  border: 1px dashed var(--sklearn-color-line);\n",
       "  margin: 0 0.4em 0.5em 0.4em;\n",
       "  box-sizing: border-box;\n",
       "  padding-bottom: 0.4em;\n",
       "  background-color: var(--sklearn-color-background);\n",
       "}\n",
       "\n",
       "#sk-container-id-1 div.sk-container {\n",
       "  /* jupyter's `normalize.less` sets `[hidden] { display: none; }`\n",
       "     but bootstrap.min.css set `[hidden] { display: none !important; }`\n",
       "     so we also need the `!important` here to be able to override the\n",
       "     default hidden behavior on the sphinx rendered scikit-learn.org.\n",
       "     See: https://github.com/scikit-learn/scikit-learn/issues/21755 */\n",
       "  display: inline-block !important;\n",
       "  position: relative;\n",
       "}\n",
       "\n",
       "#sk-container-id-1 div.sk-text-repr-fallback {\n",
       "  display: none;\n",
       "}\n",
       "\n",
       "div.sk-parallel-item,\n",
       "div.sk-serial,\n",
       "div.sk-item {\n",
       "  /* draw centered vertical line to link estimators */\n",
       "  background-image: linear-gradient(var(--sklearn-color-text-on-default-background), var(--sklearn-color-text-on-default-background));\n",
       "  background-size: 2px 100%;\n",
       "  background-repeat: no-repeat;\n",
       "  background-position: center center;\n",
       "}\n",
       "\n",
       "/* Parallel-specific style estimator block */\n",
       "\n",
       "#sk-container-id-1 div.sk-parallel-item::after {\n",
       "  content: \"\";\n",
       "  width: 100%;\n",
       "  border-bottom: 2px solid var(--sklearn-color-text-on-default-background);\n",
       "  flex-grow: 1;\n",
       "}\n",
       "\n",
       "#sk-container-id-1 div.sk-parallel {\n",
       "  display: flex;\n",
       "  align-items: stretch;\n",
       "  justify-content: center;\n",
       "  background-color: var(--sklearn-color-background);\n",
       "  position: relative;\n",
       "}\n",
       "\n",
       "#sk-container-id-1 div.sk-parallel-item {\n",
       "  display: flex;\n",
       "  flex-direction: column;\n",
       "}\n",
       "\n",
       "#sk-container-id-1 div.sk-parallel-item:first-child::after {\n",
       "  align-self: flex-end;\n",
       "  width: 50%;\n",
       "}\n",
       "\n",
       "#sk-container-id-1 div.sk-parallel-item:last-child::after {\n",
       "  align-self: flex-start;\n",
       "  width: 50%;\n",
       "}\n",
       "\n",
       "#sk-container-id-1 div.sk-parallel-item:only-child::after {\n",
       "  width: 0;\n",
       "}\n",
       "\n",
       "/* Serial-specific style estimator block */\n",
       "\n",
       "#sk-container-id-1 div.sk-serial {\n",
       "  display: flex;\n",
       "  flex-direction: column;\n",
       "  align-items: center;\n",
       "  background-color: var(--sklearn-color-background);\n",
       "  padding-right: 1em;\n",
       "  padding-left: 1em;\n",
       "}\n",
       "\n",
       "\n",
       "/* Toggleable style: style used for estimator/Pipeline/ColumnTransformer box that is\n",
       "clickable and can be expanded/collapsed.\n",
       "- Pipeline and ColumnTransformer use this feature and define the default style\n",
       "- Estimators will overwrite some part of the style using the `sk-estimator` class\n",
       "*/\n",
       "\n",
       "/* Pipeline and ColumnTransformer style (default) */\n",
       "\n",
       "#sk-container-id-1 div.sk-toggleable {\n",
       "  /* Default theme specific background. It is overwritten whether we have a\n",
       "  specific estimator or a Pipeline/ColumnTransformer */\n",
       "  background-color: var(--sklearn-color-background);\n",
       "}\n",
       "\n",
       "/* Toggleable label */\n",
       "#sk-container-id-1 label.sk-toggleable__label {\n",
       "  cursor: pointer;\n",
       "  display: block;\n",
       "  width: 100%;\n",
       "  margin-bottom: 0;\n",
       "  padding: 0.5em;\n",
       "  box-sizing: border-box;\n",
       "  text-align: center;\n",
       "}\n",
       "\n",
       "#sk-container-id-1 label.sk-toggleable__label-arrow:before {\n",
       "  /* Arrow on the left of the label */\n",
       "  content: \"▸\";\n",
       "  float: left;\n",
       "  margin-right: 0.25em;\n",
       "  color: var(--sklearn-color-icon);\n",
       "}\n",
       "\n",
       "#sk-container-id-1 label.sk-toggleable__label-arrow:hover:before {\n",
       "  color: var(--sklearn-color-text);\n",
       "}\n",
       "\n",
       "/* Toggleable content - dropdown */\n",
       "\n",
       "#sk-container-id-1 div.sk-toggleable__content {\n",
       "  max-height: 0;\n",
       "  max-width: 0;\n",
       "  overflow: hidden;\n",
       "  text-align: left;\n",
       "  /* unfitted */\n",
       "  background-color: var(--sklearn-color-unfitted-level-0);\n",
       "}\n",
       "\n",
       "#sk-container-id-1 div.sk-toggleable__content.fitted {\n",
       "  /* fitted */\n",
       "  background-color: var(--sklearn-color-fitted-level-0);\n",
       "}\n",
       "\n",
       "#sk-container-id-1 div.sk-toggleable__content pre {\n",
       "  margin: 0.2em;\n",
       "  border-radius: 0.25em;\n",
       "  color: var(--sklearn-color-text);\n",
       "  /* unfitted */\n",
       "  background-color: var(--sklearn-color-unfitted-level-0);\n",
       "}\n",
       "\n",
       "#sk-container-id-1 div.sk-toggleable__content.fitted pre {\n",
       "  /* unfitted */\n",
       "  background-color: var(--sklearn-color-fitted-level-0);\n",
       "}\n",
       "\n",
       "#sk-container-id-1 input.sk-toggleable__control:checked~div.sk-toggleable__content {\n",
       "  /* Expand drop-down */\n",
       "  max-height: 200px;\n",
       "  max-width: 100%;\n",
       "  overflow: auto;\n",
       "}\n",
       "\n",
       "#sk-container-id-1 input.sk-toggleable__control:checked~label.sk-toggleable__label-arrow:before {\n",
       "  content: \"▾\";\n",
       "}\n",
       "\n",
       "/* Pipeline/ColumnTransformer-specific style */\n",
       "\n",
       "#sk-container-id-1 div.sk-label input.sk-toggleable__control:checked~label.sk-toggleable__label {\n",
       "  color: var(--sklearn-color-text);\n",
       "  background-color: var(--sklearn-color-unfitted-level-2);\n",
       "}\n",
       "\n",
       "#sk-container-id-1 div.sk-label.fitted input.sk-toggleable__control:checked~label.sk-toggleable__label {\n",
       "  background-color: var(--sklearn-color-fitted-level-2);\n",
       "}\n",
       "\n",
       "/* Estimator-specific style */\n",
       "\n",
       "/* Colorize estimator box */\n",
       "#sk-container-id-1 div.sk-estimator input.sk-toggleable__control:checked~label.sk-toggleable__label {\n",
       "  /* unfitted */\n",
       "  background-color: var(--sklearn-color-unfitted-level-2);\n",
       "}\n",
       "\n",
       "#sk-container-id-1 div.sk-estimator.fitted input.sk-toggleable__control:checked~label.sk-toggleable__label {\n",
       "  /* fitted */\n",
       "  background-color: var(--sklearn-color-fitted-level-2);\n",
       "}\n",
       "\n",
       "#sk-container-id-1 div.sk-label label.sk-toggleable__label,\n",
       "#sk-container-id-1 div.sk-label label {\n",
       "  /* The background is the default theme color */\n",
       "  color: var(--sklearn-color-text-on-default-background);\n",
       "}\n",
       "\n",
       "/* On hover, darken the color of the background */\n",
       "#sk-container-id-1 div.sk-label:hover label.sk-toggleable__label {\n",
       "  color: var(--sklearn-color-text);\n",
       "  background-color: var(--sklearn-color-unfitted-level-2);\n",
       "}\n",
       "\n",
       "/* Label box, darken color on hover, fitted */\n",
       "#sk-container-id-1 div.sk-label.fitted:hover label.sk-toggleable__label.fitted {\n",
       "  color: var(--sklearn-color-text);\n",
       "  background-color: var(--sklearn-color-fitted-level-2);\n",
       "}\n",
       "\n",
       "/* Estimator label */\n",
       "\n",
       "#sk-container-id-1 div.sk-label label {\n",
       "  font-family: monospace;\n",
       "  font-weight: bold;\n",
       "  display: inline-block;\n",
       "  line-height: 1.2em;\n",
       "}\n",
       "\n",
       "#sk-container-id-1 div.sk-label-container {\n",
       "  text-align: center;\n",
       "}\n",
       "\n",
       "/* Estimator-specific */\n",
       "#sk-container-id-1 div.sk-estimator {\n",
       "  font-family: monospace;\n",
       "  border: 1px dotted var(--sklearn-color-border-box);\n",
       "  border-radius: 0.25em;\n",
       "  box-sizing: border-box;\n",
       "  margin-bottom: 0.5em;\n",
       "  /* unfitted */\n",
       "  background-color: var(--sklearn-color-unfitted-level-0);\n",
       "}\n",
       "\n",
       "#sk-container-id-1 div.sk-estimator.fitted {\n",
       "  /* fitted */\n",
       "  background-color: var(--sklearn-color-fitted-level-0);\n",
       "}\n",
       "\n",
       "/* on hover */\n",
       "#sk-container-id-1 div.sk-estimator:hover {\n",
       "  /* unfitted */\n",
       "  background-color: var(--sklearn-color-unfitted-level-2);\n",
       "}\n",
       "\n",
       "#sk-container-id-1 div.sk-estimator.fitted:hover {\n",
       "  /* fitted */\n",
       "  background-color: var(--sklearn-color-fitted-level-2);\n",
       "}\n",
       "\n",
       "/* Specification for estimator info (e.g. \"i\" and \"?\") */\n",
       "\n",
       "/* Common style for \"i\" and \"?\" */\n",
       "\n",
       ".sk-estimator-doc-link,\n",
       "a:link.sk-estimator-doc-link,\n",
       "a:visited.sk-estimator-doc-link {\n",
       "  float: right;\n",
       "  font-size: smaller;\n",
       "  line-height: 1em;\n",
       "  font-family: monospace;\n",
       "  background-color: var(--sklearn-color-background);\n",
       "  border-radius: 1em;\n",
       "  height: 1em;\n",
       "  width: 1em;\n",
       "  text-decoration: none !important;\n",
       "  margin-left: 1ex;\n",
       "  /* unfitted */\n",
       "  border: var(--sklearn-color-unfitted-level-1) 1pt solid;\n",
       "  color: var(--sklearn-color-unfitted-level-1);\n",
       "}\n",
       "\n",
       ".sk-estimator-doc-link.fitted,\n",
       "a:link.sk-estimator-doc-link.fitted,\n",
       "a:visited.sk-estimator-doc-link.fitted {\n",
       "  /* fitted */\n",
       "  border: var(--sklearn-color-fitted-level-1) 1pt solid;\n",
       "  color: var(--sklearn-color-fitted-level-1);\n",
       "}\n",
       "\n",
       "/* On hover */\n",
       "div.sk-estimator:hover .sk-estimator-doc-link:hover,\n",
       ".sk-estimator-doc-link:hover,\n",
       "div.sk-label-container:hover .sk-estimator-doc-link:hover,\n",
       ".sk-estimator-doc-link:hover {\n",
       "  /* unfitted */\n",
       "  background-color: var(--sklearn-color-unfitted-level-3);\n",
       "  color: var(--sklearn-color-background);\n",
       "  text-decoration: none;\n",
       "}\n",
       "\n",
       "div.sk-estimator.fitted:hover .sk-estimator-doc-link.fitted:hover,\n",
       ".sk-estimator-doc-link.fitted:hover,\n",
       "div.sk-label-container:hover .sk-estimator-doc-link.fitted:hover,\n",
       ".sk-estimator-doc-link.fitted:hover {\n",
       "  /* fitted */\n",
       "  background-color: var(--sklearn-color-fitted-level-3);\n",
       "  color: var(--sklearn-color-background);\n",
       "  text-decoration: none;\n",
       "}\n",
       "\n",
       "/* Span, style for the box shown on hovering the info icon */\n",
       ".sk-estimator-doc-link span {\n",
       "  display: none;\n",
       "  z-index: 9999;\n",
       "  position: relative;\n",
       "  font-weight: normal;\n",
       "  right: .2ex;\n",
       "  padding: .5ex;\n",
       "  margin: .5ex;\n",
       "  width: min-content;\n",
       "  min-width: 20ex;\n",
       "  max-width: 50ex;\n",
       "  color: var(--sklearn-color-text);\n",
       "  box-shadow: 2pt 2pt 4pt #999;\n",
       "  /* unfitted */\n",
       "  background: var(--sklearn-color-unfitted-level-0);\n",
       "  border: .5pt solid var(--sklearn-color-unfitted-level-3);\n",
       "}\n",
       "\n",
       ".sk-estimator-doc-link.fitted span {\n",
       "  /* fitted */\n",
       "  background: var(--sklearn-color-fitted-level-0);\n",
       "  border: var(--sklearn-color-fitted-level-3);\n",
       "}\n",
       "\n",
       ".sk-estimator-doc-link:hover span {\n",
       "  display: block;\n",
       "}\n",
       "\n",
       "/* \"?\"-specific style due to the `<a>` HTML tag */\n",
       "\n",
       "#sk-container-id-1 a.estimator_doc_link {\n",
       "  float: right;\n",
       "  font-size: 1rem;\n",
       "  line-height: 1em;\n",
       "  font-family: monospace;\n",
       "  background-color: var(--sklearn-color-background);\n",
       "  border-radius: 1rem;\n",
       "  height: 1rem;\n",
       "  width: 1rem;\n",
       "  text-decoration: none;\n",
       "  /* unfitted */\n",
       "  color: var(--sklearn-color-unfitted-level-1);\n",
       "  border: var(--sklearn-color-unfitted-level-1) 1pt solid;\n",
       "}\n",
       "\n",
       "#sk-container-id-1 a.estimator_doc_link.fitted {\n",
       "  /* fitted */\n",
       "  border: var(--sklearn-color-fitted-level-1) 1pt solid;\n",
       "  color: var(--sklearn-color-fitted-level-1);\n",
       "}\n",
       "\n",
       "/* On hover */\n",
       "#sk-container-id-1 a.estimator_doc_link:hover {\n",
       "  /* unfitted */\n",
       "  background-color: var(--sklearn-color-unfitted-level-3);\n",
       "  color: var(--sklearn-color-background);\n",
       "  text-decoration: none;\n",
       "}\n",
       "\n",
       "#sk-container-id-1 a.estimator_doc_link.fitted:hover {\n",
       "  /* fitted */\n",
       "  background-color: var(--sklearn-color-fitted-level-3);\n",
       "}\n",
       "</style><div id=\"sk-container-id-1\" class=\"sk-top-container\"><div class=\"sk-text-repr-fallback\"><pre>Pipeline(steps=[(&#x27;preprocessing&#x27;, StandardScaler()),\n",
       "                (&#x27;classifier&#x27;,\n",
       "                 GradientBoostingClassifier(learning_rate=0.03,\n",
       "                                            min_samples_leaf=10,\n",
       "                                            random_state=1234))])</pre><b>In a Jupyter environment, please rerun this cell to show the HTML representation or trust the notebook. <br />On GitHub, the HTML representation is unable to render, please try loading this page with nbviewer.org.</b></div><div class=\"sk-container\" hidden><div class=\"sk-item sk-dashed-wrapped\"><div class=\"sk-label-container\"><div class=\"sk-label fitted sk-toggleable\"><input class=\"sk-toggleable__control sk-hidden--visually\" id=\"sk-estimator-id-1\" type=\"checkbox\" ><label for=\"sk-estimator-id-1\" class=\"sk-toggleable__label fitted sk-toggleable__label-arrow fitted\">&nbsp;&nbsp;Pipeline<a class=\"sk-estimator-doc-link fitted\" rel=\"noreferrer\" target=\"_blank\" href=\"https://scikit-learn.org/1.5/modules/generated/sklearn.pipeline.Pipeline.html\">?<span>Documentation for Pipeline</span></a><span class=\"sk-estimator-doc-link fitted\">i<span>Fitted</span></span></label><div class=\"sk-toggleable__content fitted\"><pre>Pipeline(steps=[(&#x27;preprocessing&#x27;, StandardScaler()),\n",
       "                (&#x27;classifier&#x27;,\n",
       "                 GradientBoostingClassifier(learning_rate=0.03,\n",
       "                                            min_samples_leaf=10,\n",
       "                                            random_state=1234))])</pre></div> </div></div><div class=\"sk-serial\"><div class=\"sk-item\"><div class=\"sk-estimator fitted sk-toggleable\"><input class=\"sk-toggleable__control sk-hidden--visually\" id=\"sk-estimator-id-2\" type=\"checkbox\" ><label for=\"sk-estimator-id-2\" class=\"sk-toggleable__label fitted sk-toggleable__label-arrow fitted\">&nbsp;StandardScaler<a class=\"sk-estimator-doc-link fitted\" rel=\"noreferrer\" target=\"_blank\" href=\"https://scikit-learn.org/1.5/modules/generated/sklearn.preprocessing.StandardScaler.html\">?<span>Documentation for StandardScaler</span></a></label><div class=\"sk-toggleable__content fitted\"><pre>StandardScaler()</pre></div> </div></div><div class=\"sk-item\"><div class=\"sk-estimator fitted sk-toggleable\"><input class=\"sk-toggleable__control sk-hidden--visually\" id=\"sk-estimator-id-3\" type=\"checkbox\" ><label for=\"sk-estimator-id-3\" class=\"sk-toggleable__label fitted sk-toggleable__label-arrow fitted\">&nbsp;GradientBoostingClassifier<a class=\"sk-estimator-doc-link fitted\" rel=\"noreferrer\" target=\"_blank\" href=\"https://scikit-learn.org/1.5/modules/generated/sklearn.ensemble.GradientBoostingClassifier.html\">?<span>Documentation for GradientBoostingClassifier</span></a></label><div class=\"sk-toggleable__content fitted\"><pre>GradientBoostingClassifier(learning_rate=0.03, min_samples_leaf=10,\n",
       "                           random_state=1234)</pre></div> </div></div></div></div></div></div>"
      ],
      "text/plain": [
       "Pipeline(steps=[('preprocessing', StandardScaler()),\n",
       "                ('classifier',\n",
       "                 GradientBoostingClassifier(learning_rate=0.03,\n",
       "                                            min_samples_leaf=10,\n",
       "                                            random_state=1234))])"
      ]
     },
     "execution_count": 28,
     "metadata": {},
     "output_type": "execute_result"
    }
   ],
   "source": [
    "gb_params = {\n",
    "    \"learning_rate\": 0.03,\n",
    "    \"min_samples_leaf\": 10,\n",
    "    \"max_depth\": 3,\n",
    "    \"random_state\": rand_seed,\n",
    "}\n",
    "\n",
    "estimator = Pipeline(\n",
    "    steps=[\n",
    "        (\"preprocessing\", StandardScaler()),\n",
    "        (\"classifier\", GradientBoostingClassifier(**gb_params)),\n",
    "    ]\n",
    ")\n",
    "\n",
    "estimator.fit(X_train, y_train)"
   ]
  },
  {
   "cell_type": "code",
   "execution_count": 29,
   "metadata": {},
   "outputs": [
    {
     "name": "stdout",
     "output_type": "stream",
     "text": [
      "Model info is loaded from the model log file.\n"
     ]
    }
   ],
   "source": [
    "from faid.logging import ModelCard\n",
    "m = ModelCard()"
   ]
  },
  {
   "cell_type": "code",
   "execution_count": 30,
   "metadata": {},
   "outputs": [
    {
     "data": {
      "text/plain": [
       "{'model_details': {'name': '',\n",
       "  'overview': None,\n",
       "  'documentation': None,\n",
       "  'owners': [{'name': '', 'contact': ''}],\n",
       "  'version': {'name': None, 'date': None, 'diff': None},\n",
       "  'license': {'identifier': None, 'custom_text': None},\n",
       "  'references': None,\n",
       "  'citation': None,\n",
       "  'path': None},\n",
       " 'model_parameters': {'description': None,\n",
       "  'model_architecture': {'learning_rate': 0.03,\n",
       "   'min_samples_leaf': 10,\n",
       "   'max_depth': 3,\n",
       "   'random_state': 1234},\n",
       "  'data': [{'description': '',\n",
       "    'link': None,\n",
       "    'sensitive': None,\n",
       "    'graphics': None}],\n",
       "  'input_format': None,\n",
       "  'output_format': None,\n",
       "  'output_format_map': None},\n",
       " 'quantitative_analysis': {'description': None,\n",
       "  'performance_metrics': [{'description': None,\n",
       "    'value': None,\n",
       "    'slice': None,\n",
       "    'confidence_interval': {'description': 'Explain your interval selection methodology. e.g. <https://fairlearn.org/v0.11/user_guide/assessment/confidence_interval_estimation.html>',\n",
       "     'lower_bound': None,\n",
       "     'upper_bound': None}},\n",
       "   {'description': 'ROC AUC Score is the area under the ROC curve',\n",
       "    'performance_metrics': [...],\n",
       "    'value': '0.878',\n",
       "    'slice': '',\n",
       "    'confidence_interval': {'description': '.95 confidence interval for the ROC AUC score',\n",
       "     'lower_bound': '0.870',\n",
       "     'upper_bound': '0.887'}}]},\n",
       " 'considerations': {'description': None,\n",
       "  'intended_users': '',\n",
       "  'use_cases': '',\n",
       "  'limitations': '',\n",
       "  'tradeoffs': None,\n",
       "  'ethical_considerations': '',\n",
       "  'risks': [{'name': None, 'mitigation_strategy': None}]}}"
      ]
     },
     "execution_count": 30,
     "metadata": {},
     "output_type": "execute_result"
    }
   ],
   "source": [
    "m.to_dict()"
   ]
  },
  {
   "cell_type": "code",
   "execution_count": 31,
   "metadata": {},
   "outputs": [
    {
     "data": {
      "text/plain": [
       "{'description': '',\n",
       " 'model_architecture': '',\n",
       " 'data': [{'description': '', 'link': '', 'sensitive': '', 'graphics': ''}],\n",
       " 'input_format': '',\n",
       " 'output_format': '',\n",
       " 'output_format_map': ''}"
      ]
     },
     "execution_count": 31,
     "metadata": {},
     "output_type": "execute_result"
    }
   ],
   "source": [
    "m.model_params_schema"
   ]
  },
  {
   "cell_type": "code",
   "execution_count": 32,
   "metadata": {},
   "outputs": [],
   "source": [
    "m.set_model_parameters(parameter_key=\"model_architecture\", parameter_value=gb_params)"
   ]
  },
  {
   "cell_type": "code",
   "execution_count": 33,
   "metadata": {},
   "outputs": [
    {
     "name": "stdout",
     "output_type": "stream",
     "text": [
      "\u001b[92mModel info saved to the model log file.\u001b[0m\n"
     ]
    }
   ],
   "source": [
    "m.save()"
   ]
  },
  {
   "cell_type": "markdown",
   "metadata": {},
   "source": [
    "We compute the *binary predictions* and the *prediction probabilities*\n",
    "for the testing data points.\n"
   ]
  },
  {
   "cell_type": "code",
   "execution_count": 34,
   "metadata": {
    "collapsed": false
   },
   "outputs": [],
   "source": [
    "Y_pred_proba = estimator.predict_proba(X_test)[:, 1]\n",
    "Y_pred = estimator.predict(X_test)"
   ]
  },
  {
   "cell_type": "markdown",
   "metadata": {},
   "source": [
    "From the *ROC Score*, we see the model appears to be differentiating\n",
    "between *true positives* and *false positives* well. This is to be\n",
    "expected given the `INTEREST` feature provides a strong discriminant\n",
    "feature for the classification task.\n"
   ]
  },
  {
   "cell_type": "code",
   "execution_count": 35,
   "metadata": {
    "collapsed": false
   },
   "outputs": [
    {
     "data": {
      "text/plain": [
       "0.8783381576296417"
      ]
     },
     "execution_count": 35,
     "metadata": {},
     "output_type": "execute_result"
    }
   ],
   "source": [
    "roc_auc_score(y_test, Y_pred_proba)"
   ]
  },
  {
   "cell_type": "code",
   "execution_count": 36,
   "metadata": {},
   "outputs": [
    {
     "data": {
      "text/plain": [
       "{'description': '',\n",
       " 'value': '',\n",
       " 'slice': '',\n",
       " 'confidence_interval': {'description': '',\n",
       "  'lower_bound': '',\n",
       "  'upper_bound': ''}}"
      ]
     },
     "execution_count": 36,
     "metadata": {},
     "output_type": "execute_result"
    }
   ],
   "source": [
    "m.performance_metric_schema"
   ]
  },
  {
   "cell_type": "code",
   "execution_count": 37,
   "metadata": {},
   "outputs": [
    {
     "name": "stdout",
     "output_type": "stream",
     "text": [
      "95% confidence interval for the ROC AUC score: [0.870 - 0.887]\n"
     ]
    }
   ],
   "source": [
    "from sklearn.utils import resample\n",
    "\n",
    "n_bootstraps = 1000\n",
    "rng_seed = 42  # control reproducibility\n",
    "bootstrapped_scores = []\n",
    "\n",
    "# Bootstrap the ROC AUC score\n",
    "for i in range(n_bootstraps):\n",
    "    indices = resample(range(len(y_test)), random_state=rng_seed + i)\n",
    "    if len(np.unique(y_test.iloc[indices])) < 2:\n",
    "        # We need at least one positive and one negative sample for ROC AUC\n",
    "        continue\n",
    "\n",
    "    score = roc_auc_score(y_test.iloc[indices], Y_pred_proba[indices])\n",
    "    bootstrapped_scores.append(score)\n",
    "\n",
    "# Compute the confidence interval\n",
    "sorted_scores = np.array(bootstrapped_scores)\n",
    "sorted_scores.sort()\n",
    "\n",
    "# 95% confidence interval\n",
    "confidence_lower = sorted_scores[int(0.025 * len(sorted_scores))]\n",
    "confidence_upper = sorted_scores[int(0.975 * len(sorted_scores))]\n",
    "\n",
    "print(f\"95% confidence interval for the ROC AUC score: [{confidence_lower:.3f} - {confidence_upper:.3f}]\")"
   ]
  },
  {
   "cell_type": "code",
   "execution_count": 38,
   "metadata": {},
   "outputs": [],
   "source": [
    "m.add_quantitative_analysis_metric({\n",
    "    'description': 'ROC AUC Score is the area under the ROC curve',\n",
    "    'value': '0.878',\n",
    "    'slice': '',\n",
    "    'confidence_interval': \n",
    "        {'description': '.95 confidence interval for the ROC AUC score',\n",
    "        'lower_bound': '0.870',\n",
    "        'upper_bound': '0.887'}\n",
    "})"
   ]
  },
  {
   "cell_type": "code",
   "execution_count": 39,
   "metadata": {},
   "outputs": [
    {
     "name": "stdout",
     "output_type": "stream",
     "text": [
      "\u001b[92mModel info saved to the model log file.\u001b[0m\n"
     ]
    }
   ],
   "source": [
    "m.save()\n",
    "# Don't forget to save the model card after adding the metric. The following method will automatically scan the model log file."
   ]
  },
  {
   "cell_type": "code",
   "execution_count": null,
   "metadata": {},
   "outputs": [
    {
     "name": "stdout",
     "output_type": "stream",
     "text": [
      "Model info is loaded from the model log file.\n",
      "Model info is loaded from the model log file.\n",
      "model_parameters: {'data': [{'description': '', 'link': '', 'sensitive': '', 'graphics': ''}]}\n",
      "quantitative_analysis: {'description': '', 'performance_metrics': [{'description': '', 'value': '', 'slice': '', 'confidence_interval': {'description': '', 'lower_bound': '', 'upper_bound': ''}}]}\n",
      "considerations: {'description': '', 'intended_users': '', 'use_cases': '', 'limitations': '', 'tradeoffs': '', 'ethical_considerations': '', 'risks': [{'name': '', 'mitigation_strategy': ''}]}\n",
      "Checking metric: None. The metric description: \n",
      "\u001b[92mValue for None is within the confidence interval\u001b[0m\n"
     ]
    }
   ],
   "source": [
    "from faid.scan import test_model_quantitative_metrics\n",
    "\n",
    "test_model_quantitative_metrics()"
   ]
  },
  {
   "cell_type": "code",
   "execution_count": 1,
   "metadata": {},
   "outputs": [],
   "source": [
    "import sys\n",
    "sys.path.append('../../')"
   ]
  },
  {
   "cell_type": "code",
   "execution_count": 2,
   "metadata": {},
   "outputs": [
    {
     "name": "stdout",
     "output_type": "stream",
     "text": [
      "Model info is loaded from the model log file.\n",
      "Model info: {'description': None, 'model_architecture': {'learning_rate': 0.03, 'min_samples_leaf': 10, 'max_depth': 3, 'random_state': 1234}, 'data': [{'description': '', 'link': None, 'sensitive': None, 'graphics': None}], 'input_format': None, 'output_format': None, 'output_format_map': None}\n"
     ]
    },
    {
     "data": {
      "text/plain": [
       "{'model_parameters': {'data': [{'description': '',\n",
       "    'link': None,\n",
       "    'sensitive': None,\n",
       "    'graphics': None}]},\n",
       " 'quantitative_analysis': {'description': None,\n",
       "  'performance_metrics': [{'description': None,\n",
       "    'value': None,\n",
       "    'slice': None,\n",
       "    'confidence_interval': {'description': 'Explain your interval selection methodology. e.g. <https://fairlearn.org/v0.11/user_guide/assessment/confidence_interval_estimation.html>',\n",
       "     'lower_bound': None,\n",
       "     'upper_bound': None}},\n",
       "   {'description': 'ROC AUC Score is the area under the ROC curve',\n",
       "    'performance_metrics': [...],\n",
       "    'value': '0.878',\n",
       "    'slice': '',\n",
       "    'confidence_interval': {'description': '.95 confidence interval for the ROC AUC score',\n",
       "     'lower_bound': '0.870',\n",
       "     'upper_bound': '0.887'}},\n",
       "   {'description': 'ROC AUC Score is the area under the ROC curve',\n",
       "    'performance_metrics': [...],\n",
       "    'value': '0.878',\n",
       "    'slice': '',\n",
       "    'confidence_interval': {'description': '.95 confidence interval for the ROC AUC score',\n",
       "     'lower_bound': '0.870',\n",
       "     'upper_bound': '0.887'}}]},\n",
       " 'considerations': {'description': None,\n",
       "  'intended_users': '',\n",
       "  'use_cases': '',\n",
       "  'limitations': '',\n",
       "  'tradeoffs': None,\n",
       "  'ethical_considerations': '',\n",
       "  'risks': [{'name': None, 'mitigation_strategy': None}]}}"
      ]
     },
     "execution_count": 2,
     "metadata": {},
     "output_type": "execute_result"
    }
   ],
   "source": [
    "from faid.logging import get_fairness_entities_from_model\n",
    "\n",
    "get_fairness_entities_from_model()"
   ]
  },
  {
   "cell_type": "markdown",
   "metadata": {},
   "source": [
    "Feature Importance of the Unmitigated Classifier\n",
    "================================================\n",
    "\n",
    "As a model validation check, let\\'s explore the feature importances of\n",
    "our classifier. As expected, our synthetic feature `INTEREST` has the\n",
    "highest feature importance because it is highly correlated with the\n",
    "target variable, by construction.\n"
   ]
  },
  {
   "cell_type": "code",
   "execution_count": 24,
   "metadata": {
    "collapsed": false
   },
   "outputs": [
    {
     "data": {
      "image/png": "[encoded data removed]",
      "text/plain": [
       "<Figure size 640x480 with 1 Axes>"
      ]
     },
     "metadata": {},
     "output_type": "display_data"
    }
   ],
   "source": [
    "importances = estimator.steps[1][1].feature_importances_\n",
    "std = np.std([tree.feature_importances_ for tree in estimator.steps[1][1].estimators_[0]], axis=0)\n",
    "feature_names = X_train.columns\n",
    "gb_importances = pd.Series(importances, index=feature_names)\n",
    "\n",
    "fig, ax = plt.subplots()\n",
    "gb_importances.plot.bar(yerr=std, ax=ax)\n",
    "ax.set_title(\"Feature importances\")\n",
    "ax.set_ylabel(\"Mean decrease in impurity\")\n",
    "fig.tight_layout()"
   ]
  },
  {
   "cell_type": "markdown",
   "metadata": {},
   "source": [
    "Fairness assessment of unmitigated model\n",
    "========================================\n",
    "\n",
    "Now that we have trained our initial fairness-unaware model, let\\'s\n",
    "perform our fairness assessment for this model. When conducting a\n",
    "fairness assessment, there are three main steps we want to perform:\n",
    "\n",
    "1.  Identify who will be harmed.\n",
    "2.  Identify the types of harms we anticipate.\n",
    "3.  Define fairness metrics based on the anticipated harms.\n",
    "\n",
    "Who will be harmed?\n",
    "-------------------\n",
    "\n",
    "Based on the incident with *Apple* credit card mentioned at the\n",
    "beginning of this notebook, we believe the model may incorrectly predict\n",
    "women will default on the credit loan. The system may unfairly allocate\n",
    "less loans to women and over-allocate loans to men.\n"
   ]
  },
  {
   "cell_type": "markdown",
   "metadata": {},
   "source": [
    "Types of harm experienced\n",
    "=========================\n",
    "\n",
    "When discussing fairness in AI systems, the first step is understanding\n",
    "what types of harms we anticipate the system may produce. Using the\n",
    "`harms taxonomy in the Fairlearn User Guide <types_of_harms>`{.interpreted-text\n",
    "role=\"ref\"}, we expect this system to produce *harms of allocation*. In\n",
    "addition, we also anticipate the long-term impact on an individual\\'s\n",
    "credit score if an individual is unable to repay a loan they receive or\n",
    "if they are rejected for a loan application. A *harm of allocation*\n",
    "occurs when an AI system extends or withholds resources, opportunities,\n",
    "information. In this scenario, the AI system is extending or withholding\n",
    "financial assets from individuals. A review of historical incidents\n",
    "shows these types of automated lending decision systems may discriminate\n",
    "unfairly based on sex.\n",
    "\n",
    "**Negative impact of credit score**\n",
    "\n",
    "A secondary harm that is somewhat unique to credit lending decisions is\n",
    "the long-term impact on an individual\\'s credit score. In the United\n",
    "States, a [FICO credit\n",
    "score](https://www.investopedia.com/terms/c/credit_score.asp) is a\n",
    "number between 300 and 850 that represents a customer\\'s\n",
    "*creditworthiness*. An applicant\\'s *credit score* is used by many\n",
    "financial institutions for lending decisions. An applicant\\'s *credit\n",
    "score* usually increases after a successful repayment of a loan and\n",
    "decreases if the applicant fails to repay the loan.\n",
    "\n",
    "When applying for a credit loan, there are three major outcomes:\n",
    "\n",
    "1.  The individual receives the credit loan and pays back the loan. In\n",
    "    this scenario, we expect the individual\\'s credit score to increase\n",
    "    as a result of the successful repayment of the loan.\n",
    "2.  The individual receives the credit loan but defaults on the loan. In\n",
    "    this scenario, the individual\\'s credit score will drop drastically\n",
    "    due to the failure to repay the loan. In the modeling process, this\n",
    "    outcome is tied to a **false negative** (the model predicts the\n",
    "    individual will repay the loan, but the individual is unsuccessful\n",
    "    in doing so).\n",
    "3.  In certain countries, such as the United States, an individual\n",
    "    receives a small drop (up to five points) to their credit score\n",
    "    after a lender performs a *hard inquiry* on the applicant\\'s credit\n",
    "    history. If the applicant applies for a loan but does not receive\n",
    "    it, the small decrease in their credit score will impact their\n",
    "    ability to successfully apply for a future loan. In the modeling\n",
    "    process, this outcome is tied to the **selection rate** (the\n",
    "    proportion of positive predictions outputted by the model).\n",
    "\n",
    "**Prevention of wealth accumulation**\n",
    "\n",
    "One other type of harm we anticipate in this scenario is the long-term\n",
    "effects of *denying loans to applicants who would have successfully paid\n",
    "back the loan*. By receiving a loan, an applicant is able to purchase a\n",
    "home, start a business, or pursue some other economic activity that they\n",
    "are not able to do otherwise. These outcomes are tied to **false\n",
    "positive error** rates in which the model predicts an applicant will\n",
    "default on the loan, but the individual would have successfully paid the\n",
    "loan back. In the United States, the practice of redlining\n",
    "`peyton2020redlining`{.interpreted-text role=\"footcite\"}, denying\n",
    "mortgage loans and other financial services to predominantly Black or\n",
    "other minority communities, has resulted in a vast racial wealth gap\n",
    "between white and Black Americans. Although the practice of redlining\n",
    "was banned in 1968 with the *Fair Housing Act*, the long-term impact of\n",
    "these practices `jan2018redlining`{.interpreted-text role=\"footcite\"} is\n",
    "reflected in the lack of economic investment in Black communities, and\n",
    "Black applicants are denied loans at a higher rate compared to white\n",
    "Americans.\n",
    "\n",
    "Define fairness metrics based on harms\n",
    "--------------------------------------\n",
    "\n",
    "Now that we have identified the relevant harms we anticipate users will\n",
    "experience, we can define our fairness metrics. In addition to the\n",
    "metrics, we will quantify the uncertainty around each metric using\n",
    "*custom functions* to compute the *standard error* for each metric at\n",
    "the $\\alpha=0.95$ confidence level.\n"
   ]
  },
  {
   "cell_type": "code",
   "execution_count": 25,
   "metadata": {
    "collapsed": false
   },
   "outputs": [],
   "source": [
    "def compute_error_metric(metric_value, sample_size):\n",
    "    \"\"\"Compute standard error of a given metric based on the assumption of\n",
    "    normal distribution.\n",
    "\n",
    "    Parameters:\n",
    "    metric_value: Value of the metric\n",
    "    sample_size: Number of data points associated with the metric\n",
    "\n",
    "    Returns:\n",
    "    The standard error of the metric\n",
    "    \"\"\"\n",
    "    metric_value = metric_value / sample_size\n",
    "    return (\n",
    "        1.96\n",
    "        * np.sqrt(metric_value * (1.0 - metric_value))\n",
    "        / np.sqrt(sample_size)\n",
    "    )\n",
    "\n",
    "\n",
    "def false_positive_error(y_true, y_pred):\n",
    "    \"\"\"Compute the standard error for the false positive rate estimate.\"\"\"\n",
    "    tn, fp, fn, tp = confusion_matrix(y_true, y_pred).ravel()\n",
    "    return compute_error_metric(fp, tn + fp)\n",
    "\n",
    "\n",
    "def false_negative_error(y_true, y_pred):\n",
    "    \"\"\"Compute the standard error for the false negative rate estimate.\"\"\"\n",
    "    tn, fp, fn, tp = confusion_matrix(y_true, y_pred).ravel()\n",
    "    return compute_error_metric(fn, fn + tp)\n",
    "\n",
    "\n",
    "def balanced_accuracy_error(y_true, y_pred):\n",
    "    \"\"\"Compute the standard error for the balanced accuracy estimate.\"\"\"\n",
    "    fpr_error, fnr_error = false_positive_error(\n",
    "        y_true, y_pred\n",
    "    ), false_negative_error(y_true, y_pred)\n",
    "    return np.sqrt(fnr_error**2 + fpr_error**2) / 2\n",
    "\n",
    "\n",
    "fairness_metrics = {\n",
    "    \"count\": count,\n",
    "    \"balanced_accuracy\": balanced_accuracy_score,\n",
    "    \"balanced_acc_error\": balanced_accuracy_error,\n",
    "    \"selection_rate\": selection_rate,\n",
    "    \"false_positive_rate\": false_positive_rate,\n",
    "    \"false_positive_error\": false_positive_error,\n",
    "    \"false_negative_rate\": false_negative_rate,\n",
    "    \"false_negative_error\": false_negative_error,\n",
    "}"
   ]
  },
  {
   "cell_type": "markdown",
   "metadata": {},
   "source": [
    "Select a subset of metrics to report to avoid information overload\n"
   ]
  },
  {
   "cell_type": "code",
   "execution_count": 26,
   "metadata": {
    "collapsed": false
   },
   "outputs": [],
   "source": [
    "metrics_to_report = [\n",
    "    \"balanced_accuracy\",\n",
    "    \"false_positive_rate\",\n",
    "    \"false_negative_rate\",\n",
    "]"
   ]
  },
  {
   "cell_type": "markdown",
   "metadata": {},
   "source": [
    "To compute the disaggregated performance metrics, we will use the\n",
    "`MetricFrame` object within the Fairlearn library. We will pass in our\n",
    "dictionary of metrics `fairness_metrics`, along with our test labels\n",
    "`y_test` and test predictions `Y_pred`. In addition, we pass in the\n",
    "*sensitive\\_features* `A_test` to disaggregate our model results.\n",
    "\n",
    "Instantiate the MetricFrame for the unmitigated model\n"
   ]
  },
  {
   "cell_type": "code",
   "execution_count": 27,
   "metadata": {
    "collapsed": false
   },
   "outputs": [
    {
     "data": {
      "text/plain": [
       "balanced_accuracy      0.801575\n",
       "false_positive_rate    0.213037\n",
       "false_negative_rate    0.183814\n",
       "dtype: float64"
      ]
     },
     "execution_count": 27,
     "metadata": {},
     "output_type": "execute_result"
    }
   ],
   "source": [
    "metricframe_unmitigated = MetricFrame(\n",
    "    metrics=fairness_metrics,\n",
    "    y_true=y_test,\n",
    "    y_pred=Y_pred,\n",
    "    sensitive_features=A_test,\n",
    ")\n",
    "\n",
    "metricframe_unmitigated.by_group[metrics_to_report]\n",
    "\n",
    "metricframe_unmitigated.difference()[metrics_to_report]\n",
    "\n",
    "metricframe_unmitigated.overall[metrics_to_report]"
   ]
  },
  {
   "cell_type": "code",
   "execution_count": 28,
   "metadata": {
    "collapsed": false
   },
   "outputs": [],
   "source": [
    "def plot_group_metrics_with_error_bars(metricframe, metric, error_name):\n",
    "    \"\"\"Plot the disaggregated metric for each group with an associated\n",
    "    error bar. Both metric and the error bar are provided as columns in the\n",
    "    provided MetricFrame.\n",
    "\n",
    "    Parameters\n",
    "    ----------\n",
    "    metricframe : MetricFrame\n",
    "        The MetricFrame containing the metrics and their associated\n",
    "        uncertainty quantification.\n",
    "    metric : str\n",
    "        The metric to plot\n",
    "    error_name : str\n",
    "        The associated standard error for each metric in metric\n",
    "\n",
    "    Returns\n",
    "    -------\n",
    "    Matplotlib Plot of point estimates with error bars\n",
    "    \"\"\"\n",
    "    grouped_metrics = metricframe.by_group\n",
    "    point_estimates = grouped_metrics[metric]\n",
    "    error_bars = grouped_metrics[error_name]\n",
    "    lower_bounds = point_estimates - error_bars\n",
    "    upper_bounds = point_estimates + error_bars\n",
    "\n",
    "    x_axis_names = [\n",
    "        str(name) for name in error_bars.index.to_flat_index().tolist()\n",
    "    ]\n",
    "    plt.vlines(\n",
    "        x_axis_names,\n",
    "        lower_bounds,\n",
    "        upper_bounds,\n",
    "        linestyles=\"dashed\",\n",
    "        alpha=0.45,\n",
    "    )\n",
    "    plt.scatter(x_axis_names, point_estimates, s=25)\n",
    "    plt.xticks(rotation=0)\n",
    "    y_start, y_end = np.round(min(lower_bounds), decimals=2), np.round(\n",
    "        max(upper_bounds), decimals=2\n",
    "    )\n",
    "    plt.yticks(np.arange(y_start, y_end, 0.05))\n",
    "    plt.ylabel(metric)"
   ]
  },
  {
   "cell_type": "code",
   "execution_count": 29,
   "metadata": {
    "collapsed": false
   },
   "outputs": [
    {
     "data": {
      "image/png": "[encoded data removed]",
      "text/plain": [
       "<Figure size 640x480 with 1 Axes>"
      ]
     },
     "metadata": {},
     "output_type": "display_data"
    }
   ],
   "source": [
    "plot_group_metrics_with_error_bars(\n",
    "    metricframe_unmitigated, \"false_positive_rate\", \"false_positive_error\"\n",
    ")"
   ]
  },
  {
   "cell_type": "code",
   "execution_count": 30,
   "metadata": {
    "collapsed": false
   },
   "outputs": [
    {
     "data": {
      "image/png": "[encoded data removed]",
      "text/plain": [
       "<Figure size 640x480 with 1 Axes>"
      ]
     },
     "metadata": {},
     "output_type": "display_data"
    }
   ],
   "source": [
    "plot_group_metrics_with_error_bars(\n",
    "    metricframe_unmitigated, \"false_negative_rate\", \"false_negative_error\"\n",
    ")"
   ]
  },
  {
   "cell_type": "code",
   "execution_count": 31,
   "metadata": {
    "collapsed": false
   },
   "outputs": [
    {
     "data": {
      "text/plain": [
       "array([[<Axes: title={'center': 'balanced_accuracy'}, xlabel='SEX'>,\n",
       "        <Axes: title={'center': 'false_positive_rate'}, xlabel='SEX'>,\n",
       "        <Axes: title={'center': 'false_negative_rate'}, xlabel='SEX'>]],\n",
       "      dtype=object)"
      ]
     },
     "execution_count": 31,
     "metadata": {},
     "output_type": "execute_result"
    },
    {
     "data": {
      "image/png": "[encoded data removed]",
      "text/plain": [
       "<Figure size 1200x400 with 3 Axes>"
      ]
     },
     "metadata": {},
     "output_type": "display_data"
    }
   ],
   "source": [
    "metricframe_unmitigated.by_group[metrics_to_report].plot.bar(\n",
    "    subplots=True, layout=[1, 3], figsize=[12, 4], legend=None, rot=0\n",
    ")"
   ]
  },
  {
   "cell_type": "markdown",
   "metadata": {},
   "source": [
    "Finally, let\\'s compute the `equalized_odds_difference` for this\n",
    "unmitigated model. The `equalized_odds_difference` is the maximum of the\n",
    "`false_positive_rate_difference` and `false_negative_rate_difference`.\n",
    "In our lending context, both *false\\_negative\\_rate\\_disparities* and\n",
    "*false\\_positive\\_rate\\_disparities* result in fairness-related harms.\n",
    "Therefore, we attempt to minimize both of these metrics by minimizing\n",
    "the `equalized_odds_difference`.\n"
   ]
  },
  {
   "cell_type": "code",
   "execution_count": 32,
   "metadata": {
    "collapsed": false
   },
   "outputs": [],
   "source": [
    "balanced_accuracy_unmitigated = balanced_accuracy_score(y_test, Y_pred)\n",
    "equalized_odds_unmitigated = equalized_odds_difference(\n",
    "    y_test, Y_pred, sensitive_features=A_test\n",
    ")"
   ]
  },
  {
   "cell_type": "markdown",
   "metadata": {},
   "source": [
    "One key assumption here is we assume that *false positives* and *false\n",
    "negatives* have the equally adverse costs to each group. In practice, we\n",
    "would develop some weighting mechanism to assign a weight to each *false\n",
    "negative* and *false positive* event."
   ]
  }
 ],
 "metadata": {
  "kernelspec": {
   "display_name": ".venv",
   "language": "python",
   "name": "python3"
  },
  "language_info": {
   "codemirror_mode": {
    "name": "ipython",
    "version": 3
   },
   "file_extension": ".py",
   "mimetype": "text/x-python",
   "name": "python",
   "nbconvert_exporter": "python",
   "pygments_lexer": "ipython3",
   "version": "3.10.4"
  }
 },
 "nbformat": 4,
 "nbformat_minor": 0
}
