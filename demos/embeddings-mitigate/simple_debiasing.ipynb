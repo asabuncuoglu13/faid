{
 "cells": [
  {
   "cell_type": "markdown",
   "id": "1f73ba08",
   "metadata": {},
   "source": [
    "# Iterative Null Space projection\n",
    "\n",
    "A base implementation using the debias function from https://github.com/shauli-ravfogel/nullspace_projection/tree/master/src. \n",
    "\n",
    "Original paper: Null It Out: Guarding Protected Attributes by Iterative Nullspace Projection, S.Ravfogel et al, 2019. \n",
    "\n",
    "Further experiments are outlined in: Study on Iterative Nullspace Projection Debiasing of Multiple Attributes of Word Embeddings, X.Zhang, 2022.\n",
    " \n",
    "Given a set of word embeddings $X = \\{x_1, x_2, \\ldots, x_n\\}$, $x_i \\in \\mathbb{R}^d$, such as professions (doctor, nurse, teacher etc) and attributes $Z = \\{z_1, z_2, \\ldots, z_n\\}$, such as instances of gender (male, female, man, woman etc), we aim to find a transformation $g$ such that $z_i$ cannot be predicted from $g(x_i)$. The first step of INLP is, if we have a classifier $c$ used to predict a persons profession based on some text, we build an auxiliary model $c'$ to predict their gender from the text.\n",
    "\n",
    "If $c'$ is a classifier with parameters $W$ (e.g. the weights in a deep learning model), we want a projection matrix $P$ such that $W(Pz)=0$ for all $z$, rendering the paramters $W$ useless on $Z$. \n",
    "\n",
    "Additional classifiers $W'$ are then trained until no linear information regading $Z$ remains in $X$. $P$ is constructed using nullspace projection, detailed implementation can be found in the original paper. In other words, we train our auxiliary model $c'$ until it predicts the protected attribute from the input text no better than randomly guessing, i.e. $\\leq50 \\%$ accuracy. The projection matrix is then applied to the embeddings used to train the original model with the hope that the dependency of the sensitive attribute with respect to the output is removed.\n",
    "\n",
    "The relationship between $W$ and an input $x$ is that $x$ is projected onto the sub-space of the rows of $W$ and is classified by taking the dot product between $W$ and the components of its rows. Therefore if we zero the components of $x$ in the direction of $W's$ rowspace, we remove the information within $W$ used to make a predcition based on $x$, i.e. the ability to make a prediction based on a sensitive attribute in the set $X$. \n",
    "\n",
    "Algebraically this is equaivalent to projecting $x$ onto the nullspace of $W$, $N(W)$:\n",
    "$$\n",
    "N(W) = \\{ x \\mid Wx = 0 \\}\n",
    "$$\n",
    "\n",
    "In summary, for a task where we are predicting a feature $x_i \\in X$ from a text sample containing sensitive features $z_i \\in Z$, using a classifier $c$, e.g. a person's profession from text containing information about said person, we make a new classifier $c'$ to predict the person's gender (or any other sensitive attribute we want to protect) from the text, and use this to create a projection matrix which is applied to the original text data embeddings, removing the classifiers ability to use gender information when making a prediction."
   ]
  },
  {
   "cell_type": "markdown",
   "id": "6ea843f6",
   "metadata": {},
   "source": [
    "## Implementation in financial tasks\n",
    "\n",
    "The dataset we are using is an augmented version of the German Credit Scoring dataset where each the ethnicity and marital status of each candidate has been randomly generated. The dataset as also been formatted as prompts which could be used with an LLM. Here we are training a SGD classifier to determine whether or not the candidate is a good or bad risk. We attempt to use nullspace projection to remove the dependency of gender in the prediction.\n",
    "\n",
    "**We use a dummy data for this particular use case. INLP requires the training of an auxilliary model with flipped predictors, i.e. in our task we end up training a model to predict the gender from the prompt, however the gender appears in the prompt. Removing the gender from the prompt may make it impossible to predict the gender from the prompt (as there are no real features in the prompts to base a prediciton off) and ironically removes all dependence of gender on the output too, removing the need for INLP. As more use cases appear, we will update this notebook.**"
   ]
  },
  {
   "cell_type": "code",
   "execution_count": 1,
   "id": "5232f126-77b2-4260-b999-d11f60336d34",
   "metadata": {},
   "outputs": [],
   "source": [
    "import debias\n",
    "import numpy as np\n",
    "import pandas as pd\n",
    "import nltk\n",
    "from sklearn.model_selection import train_test_split\n",
    "from sklearn.feature_extraction.text import CountVectorizer\n",
    "from sklearn.feature_selection import SelectKBest\n",
    "from sklearn.feature_selection import chi2\n",
    "from sklearn.pipeline import Pipeline\n",
    "from sklearn.linear_model import SGDClassifier"
   ]
  },
  {
   "cell_type": "code",
   "execution_count": 2,
   "id": "d203a204-8821-4515-b7c3-46956a1d1907",
   "metadata": {},
   "outputs": [],
   "source": [
    "# Load dataset\n",
    "path = \"../../data/credit_prompts_nullspace.csv\"\n",
    "df=pd.read_csv(path)"
   ]
  },
  {
   "cell_type": "code",
   "execution_count": 3,
   "id": "691897fe-cef8-478f-8dd3-594779bd2552",
   "metadata": {},
   "outputs": [
    {
     "data": {
      "text/html": [
       "<div>\n",
       "<style scoped>\n",
       "    .dataframe tbody tr th:only-of-type {\n",
       "        vertical-align: middle;\n",
       "    }\n",
       "\n",
       "    .dataframe tbody tr th {\n",
       "        vertical-align: top;\n",
       "    }\n",
       "\n",
       "    .dataframe thead th {\n",
       "        text-align: right;\n",
       "    }\n",
       "</style>\n",
       "<table border=\"1\" class=\"dataframe\">\n",
       "  <thead>\n",
       "    <tr style=\"text-align: right;\">\n",
       "      <th></th>\n",
       "      <th>Prompt</th>\n",
       "      <th>Risk</th>\n",
       "    </tr>\n",
       "  </thead>\n",
       "  <tbody>\n",
       "    <tr>\n",
       "      <th>0</th>\n",
       "      <td>Using the following characteristics, assess wh...</td>\n",
       "      <td>good</td>\n",
       "    </tr>\n",
       "    <tr>\n",
       "      <th>1</th>\n",
       "      <td>Using the following characteristics, assess wh...</td>\n",
       "      <td>bad</td>\n",
       "    </tr>\n",
       "    <tr>\n",
       "      <th>2</th>\n",
       "      <td>Using the following characteristics, assess wh...</td>\n",
       "      <td>good</td>\n",
       "    </tr>\n",
       "    <tr>\n",
       "      <th>3</th>\n",
       "      <td>Using the following characteristics, assess wh...</td>\n",
       "      <td>good</td>\n",
       "    </tr>\n",
       "    <tr>\n",
       "      <th>4</th>\n",
       "      <td>Using the following characteristics, assess wh...</td>\n",
       "      <td>bad</td>\n",
       "    </tr>\n",
       "  </tbody>\n",
       "</table>\n",
       "</div>"
      ],
      "text/plain": [
       "                                              Prompt  Risk\n",
       "0  Using the following characteristics, assess wh...  good\n",
       "1  Using the following characteristics, assess wh...   bad\n",
       "2  Using the following characteristics, assess wh...  good\n",
       "3  Using the following characteristics, assess wh...  good\n",
       "4  Using the following characteristics, assess wh...   bad"
      ]
     },
     "execution_count": 3,
     "metadata": {},
     "output_type": "execute_result"
    }
   ],
   "source": [
    "# Create training and testing splits\n",
    "data = df.drop('Sex', axis = 1)\n",
    "data.head()"
   ]
  },
  {
   "cell_type": "markdown",
   "id": "3e2a58f5",
   "metadata": {},
   "source": [
    "## Fitting a standard ML model to our data\n",
    "\n",
    "We separate our dataset into the inputs (the prompts) and the outputs (the risk). We later want to check if the gender of the individual has a bearing on the output therefore we isolate this column too."
   ]
  },
  {
   "cell_type": "code",
   "execution_count": 4,
   "id": "aa232e00-07af-461f-bc8a-13a38c47f38d",
   "metadata": {},
   "outputs": [],
   "source": [
    "# Train/Test Splits\n",
    "X = data['Prompt']\n",
    "y = data['Risk']\n",
    "y_gender = df['Sex']\n",
    "X_train, X_test, y_train, y_test = train_test_split(X, y, test_size = 0.2, shuffle = False, stratify = None)"
   ]
  },
  {
   "cell_type": "markdown",
   "id": "084c67a0",
   "metadata": {},
   "source": [
    "Tokenising the text using NLTK"
   ]
  },
  {
   "cell_type": "code",
   "execution_count": 5,
   "id": "200369b1-002f-491c-a71e-fc581e008f29",
   "metadata": {},
   "outputs": [],
   "source": [
    "# Tokenisation\n",
    "def nltk_tokenization(text):\n",
    "    tokens = nltk.word_tokenize(text)\n",
    "    return tokens\n",
    "\n",
    "def built_in_tokenization(text):\n",
    "    tokens = text.split()\n",
    "    return tokens"
   ]
  },
  {
   "cell_type": "code",
   "execution_count": 6,
   "id": "edeb617b-ddc6-48bd-ac98-1466a0c66666",
   "metadata": {},
   "outputs": [
    {
     "name": "stderr",
     "output_type": "stream",
     "text": [
      "/Users/asabuncuoglu/Documents/faid/.venv/lib/python3.10/site-packages/sklearn/feature_extraction/text.py:523: UserWarning: The parameter 'token_pattern' will not be used since 'tokenizer' is not None'\n",
      "  warnings.warn(\n",
      "/Users/asabuncuoglu/Documents/faid/.venv/lib/python3.10/site-packages/sklearn/linear_model/_stochastic_gradient.py:744: ConvergenceWarning: Maximum number of iteration reached before convergence. Consider increasing max_iter to improve the fit.\n",
      "  warnings.warn(\n"
     ]
    },
    {
     "data": {
      "text/html": [
       "<style>#sk-container-id-1 {\n",
       "  /* Definition of color scheme common for light and dark mode */\n",
       "  --sklearn-color-text: black;\n",
       "  --sklearn-color-line: gray;\n",
       "  /* Definition of color scheme for unfitted estimators */\n",
       "  --sklearn-color-unfitted-level-0: #fff5e6;\n",
       "  --sklearn-color-unfitted-level-1: #f6e4d2;\n",
       "  --sklearn-color-unfitted-level-2: #ffe0b3;\n",
       "  --sklearn-color-unfitted-level-3: chocolate;\n",
       "  /* Definition of color scheme for fitted estimators */\n",
       "  --sklearn-color-fitted-level-0: #f0f8ff;\n",
       "  --sklearn-color-fitted-level-1: #d4ebff;\n",
       "  --sklearn-color-fitted-level-2: #b3dbfd;\n",
       "  --sklearn-color-fitted-level-3: cornflowerblue;\n",
       "\n",
       "  /* Specific color for light theme */\n",
       "  --sklearn-color-text-on-default-background: var(--sg-text-color, var(--theme-code-foreground, var(--jp-content-font-color1, black)));\n",
       "  --sklearn-color-background: var(--sg-background-color, var(--theme-background, var(--jp-layout-color0, white)));\n",
       "  --sklearn-color-border-box: var(--sg-text-color, var(--theme-code-foreground, var(--jp-content-font-color1, black)));\n",
       "  --sklearn-color-icon: #696969;\n",
       "\n",
       "  @media (prefers-color-scheme: dark) {\n",
       "    /* Redefinition of color scheme for dark theme */\n",
       "    --sklearn-color-text-on-default-background: var(--sg-text-color, var(--theme-code-foreground, var(--jp-content-font-color1, white)));\n",
       "    --sklearn-color-background: var(--sg-background-color, var(--theme-background, var(--jp-layout-color0, #111)));\n",
       "    --sklearn-color-border-box: var(--sg-text-color, var(--theme-code-foreground, var(--jp-content-font-color1, white)));\n",
       "    --sklearn-color-icon: #878787;\n",
       "  }\n",
       "}\n",
       "\n",
       "#sk-container-id-1 {\n",
       "  color: var(--sklearn-color-text);\n",
       "}\n",
       "\n",
       "#sk-container-id-1 pre {\n",
       "  padding: 0;\n",
       "}\n",
       "\n",
       "#sk-container-id-1 input.sk-hidden--visually {\n",
       "  border: 0;\n",
       "  clip: rect(1px 1px 1px 1px);\n",
       "  clip: rect(1px, 1px, 1px, 1px);\n",
       "  height: 1px;\n",
       "  margin: -1px;\n",
       "  overflow: hidden;\n",
       "  padding: 0;\n",
       "  position: absolute;\n",
       "  width: 1px;\n",
       "}\n",
       "\n",
       "#sk-container-id-1 div.sk-dashed-wrapped {\n",
       "  border: 1px dashed var(--sklearn-color-line);\n",
       "  margin: 0 0.4em 0.5em 0.4em;\n",
       "  box-sizing: border-box;\n",
       "  padding-bottom: 0.4em;\n",
       "  background-color: var(--sklearn-color-background);\n",
       "}\n",
       "\n",
       "#sk-container-id-1 div.sk-container {\n",
       "  /* jupyter's `normalize.less` sets `[hidden] { display: none; }`\n",
       "     but bootstrap.min.css set `[hidden] { display: none !important; }`\n",
       "     so we also need the `!important` here to be able to override the\n",
       "     default hidden behavior on the sphinx rendered scikit-learn.org.\n",
       "     See: https://github.com/scikit-learn/scikit-learn/issues/21755 */\n",
       "  display: inline-block !important;\n",
       "  position: relative;\n",
       "}\n",
       "\n",
       "#sk-container-id-1 div.sk-text-repr-fallback {\n",
       "  display: none;\n",
       "}\n",
       "\n",
       "div.sk-parallel-item,\n",
       "div.sk-serial,\n",
       "div.sk-item {\n",
       "  /* draw centered vertical line to link estimators */\n",
       "  background-image: linear-gradient(var(--sklearn-color-text-on-default-background), var(--sklearn-color-text-on-default-background));\n",
       "  background-size: 2px 100%;\n",
       "  background-repeat: no-repeat;\n",
       "  background-position: center center;\n",
       "}\n",
       "\n",
       "/* Parallel-specific style estimator block */\n",
       "\n",
       "#sk-container-id-1 div.sk-parallel-item::after {\n",
       "  content: \"\";\n",
       "  width: 100%;\n",
       "  border-bottom: 2px solid var(--sklearn-color-text-on-default-background);\n",
       "  flex-grow: 1;\n",
       "}\n",
       "\n",
       "#sk-container-id-1 div.sk-parallel {\n",
       "  display: flex;\n",
       "  align-items: stretch;\n",
       "  justify-content: center;\n",
       "  background-color: var(--sklearn-color-background);\n",
       "  position: relative;\n",
       "}\n",
       "\n",
       "#sk-container-id-1 div.sk-parallel-item {\n",
       "  display: flex;\n",
       "  flex-direction: column;\n",
       "}\n",
       "\n",
       "#sk-container-id-1 div.sk-parallel-item:first-child::after {\n",
       "  align-self: flex-end;\n",
       "  width: 50%;\n",
       "}\n",
       "\n",
       "#sk-container-id-1 div.sk-parallel-item:last-child::after {\n",
       "  align-self: flex-start;\n",
       "  width: 50%;\n",
       "}\n",
       "\n",
       "#sk-container-id-1 div.sk-parallel-item:only-child::after {\n",
       "  width: 0;\n",
       "}\n",
       "\n",
       "/* Serial-specific style estimator block */\n",
       "\n",
       "#sk-container-id-1 div.sk-serial {\n",
       "  display: flex;\n",
       "  flex-direction: column;\n",
       "  align-items: center;\n",
       "  background-color: var(--sklearn-color-background);\n",
       "  padding-right: 1em;\n",
       "  padding-left: 1em;\n",
       "}\n",
       "\n",
       "\n",
       "/* Toggleable style: style used for estimator/Pipeline/ColumnTransformer box that is\n",
       "clickable and can be expanded/collapsed.\n",
       "- Pipeline and ColumnTransformer use this feature and define the default style\n",
       "- Estimators will overwrite some part of the style using the `sk-estimator` class\n",
       "*/\n",
       "\n",
       "/* Pipeline and ColumnTransformer style (default) */\n",
       "\n",
       "#sk-container-id-1 div.sk-toggleable {\n",
       "  /* Default theme specific background. It is overwritten whether we have a\n",
       "  specific estimator or a Pipeline/ColumnTransformer */\n",
       "  background-color: var(--sklearn-color-background);\n",
       "}\n",
       "\n",
       "/* Toggleable label */\n",
       "#sk-container-id-1 label.sk-toggleable__label {\n",
       "  cursor: pointer;\n",
       "  display: block;\n",
       "  width: 100%;\n",
       "  margin-bottom: 0;\n",
       "  padding: 0.5em;\n",
       "  box-sizing: border-box;\n",
       "  text-align: center;\n",
       "}\n",
       "\n",
       "#sk-container-id-1 label.sk-toggleable__label-arrow:before {\n",
       "  /* Arrow on the left of the label */\n",
       "  content: \"▸\";\n",
       "  float: left;\n",
       "  margin-right: 0.25em;\n",
       "  color: var(--sklearn-color-icon);\n",
       "}\n",
       "\n",
       "#sk-container-id-1 label.sk-toggleable__label-arrow:hover:before {\n",
       "  color: var(--sklearn-color-text);\n",
       "}\n",
       "\n",
       "/* Toggleable content - dropdown */\n",
       "\n",
       "#sk-container-id-1 div.sk-toggleable__content {\n",
       "  max-height: 0;\n",
       "  max-width: 0;\n",
       "  overflow: hidden;\n",
       "  text-align: left;\n",
       "  /* unfitted */\n",
       "  background-color: var(--sklearn-color-unfitted-level-0);\n",
       "}\n",
       "\n",
       "#sk-container-id-1 div.sk-toggleable__content.fitted {\n",
       "  /* fitted */\n",
       "  background-color: var(--sklearn-color-fitted-level-0);\n",
       "}\n",
       "\n",
       "#sk-container-id-1 div.sk-toggleable__content pre {\n",
       "  margin: 0.2em;\n",
       "  border-radius: 0.25em;\n",
       "  color: var(--sklearn-color-text);\n",
       "  /* unfitted */\n",
       "  background-color: var(--sklearn-color-unfitted-level-0);\n",
       "}\n",
       "\n",
       "#sk-container-id-1 div.sk-toggleable__content.fitted pre {\n",
       "  /* unfitted */\n",
       "  background-color: var(--sklearn-color-fitted-level-0);\n",
       "}\n",
       "\n",
       "#sk-container-id-1 input.sk-toggleable__control:checked~div.sk-toggleable__content {\n",
       "  /* Expand drop-down */\n",
       "  max-height: 200px;\n",
       "  max-width: 100%;\n",
       "  overflow: auto;\n",
       "}\n",
       "\n",
       "#sk-container-id-1 input.sk-toggleable__control:checked~label.sk-toggleable__label-arrow:before {\n",
       "  content: \"▾\";\n",
       "}\n",
       "\n",
       "/* Pipeline/ColumnTransformer-specific style */\n",
       "\n",
       "#sk-container-id-1 div.sk-label input.sk-toggleable__control:checked~label.sk-toggleable__label {\n",
       "  color: var(--sklearn-color-text);\n",
       "  background-color: var(--sklearn-color-unfitted-level-2);\n",
       "}\n",
       "\n",
       "#sk-container-id-1 div.sk-label.fitted input.sk-toggleable__control:checked~label.sk-toggleable__label {\n",
       "  background-color: var(--sklearn-color-fitted-level-2);\n",
       "}\n",
       "\n",
       "/* Estimator-specific style */\n",
       "\n",
       "/* Colorize estimator box */\n",
       "#sk-container-id-1 div.sk-estimator input.sk-toggleable__control:checked~label.sk-toggleable__label {\n",
       "  /* unfitted */\n",
       "  background-color: var(--sklearn-color-unfitted-level-2);\n",
       "}\n",
       "\n",
       "#sk-container-id-1 div.sk-estimator.fitted input.sk-toggleable__control:checked~label.sk-toggleable__label {\n",
       "  /* fitted */\n",
       "  background-color: var(--sklearn-color-fitted-level-2);\n",
       "}\n",
       "\n",
       "#sk-container-id-1 div.sk-label label.sk-toggleable__label,\n",
       "#sk-container-id-1 div.sk-label label {\n",
       "  /* The background is the default theme color */\n",
       "  color: var(--sklearn-color-text-on-default-background);\n",
       "}\n",
       "\n",
       "/* On hover, darken the color of the background */\n",
       "#sk-container-id-1 div.sk-label:hover label.sk-toggleable__label {\n",
       "  color: var(--sklearn-color-text);\n",
       "  background-color: var(--sklearn-color-unfitted-level-2);\n",
       "}\n",
       "\n",
       "/* Label box, darken color on hover, fitted */\n",
       "#sk-container-id-1 div.sk-label.fitted:hover label.sk-toggleable__label.fitted {\n",
       "  color: var(--sklearn-color-text);\n",
       "  background-color: var(--sklearn-color-fitted-level-2);\n",
       "}\n",
       "\n",
       "/* Estimator label */\n",
       "\n",
       "#sk-container-id-1 div.sk-label label {\n",
       "  font-family: monospace;\n",
       "  font-weight: bold;\n",
       "  display: inline-block;\n",
       "  line-height: 1.2em;\n",
       "}\n",
       "\n",
       "#sk-container-id-1 div.sk-label-container {\n",
       "  text-align: center;\n",
       "}\n",
       "\n",
       "/* Estimator-specific */\n",
       "#sk-container-id-1 div.sk-estimator {\n",
       "  font-family: monospace;\n",
       "  border: 1px dotted var(--sklearn-color-border-box);\n",
       "  border-radius: 0.25em;\n",
       "  box-sizing: border-box;\n",
       "  margin-bottom: 0.5em;\n",
       "  /* unfitted */\n",
       "  background-color: var(--sklearn-color-unfitted-level-0);\n",
       "}\n",
       "\n",
       "#sk-container-id-1 div.sk-estimator.fitted {\n",
       "  /* fitted */\n",
       "  background-color: var(--sklearn-color-fitted-level-0);\n",
       "}\n",
       "\n",
       "/* on hover */\n",
       "#sk-container-id-1 div.sk-estimator:hover {\n",
       "  /* unfitted */\n",
       "  background-color: var(--sklearn-color-unfitted-level-2);\n",
       "}\n",
       "\n",
       "#sk-container-id-1 div.sk-estimator.fitted:hover {\n",
       "  /* fitted */\n",
       "  background-color: var(--sklearn-color-fitted-level-2);\n",
       "}\n",
       "\n",
       "/* Specification for estimator info (e.g. \"i\" and \"?\") */\n",
       "\n",
       "/* Common style for \"i\" and \"?\" */\n",
       "\n",
       ".sk-estimator-doc-link,\n",
       "a:link.sk-estimator-doc-link,\n",
       "a:visited.sk-estimator-doc-link {\n",
       "  float: right;\n",
       "  font-size: smaller;\n",
       "  line-height: 1em;\n",
       "  font-family: monospace;\n",
       "  background-color: var(--sklearn-color-background);\n",
       "  border-radius: 1em;\n",
       "  height: 1em;\n",
       "  width: 1em;\n",
       "  text-decoration: none !important;\n",
       "  margin-left: 1ex;\n",
       "  /* unfitted */\n",
       "  border: var(--sklearn-color-unfitted-level-1) 1pt solid;\n",
       "  color: var(--sklearn-color-unfitted-level-1);\n",
       "}\n",
       "\n",
       ".sk-estimator-doc-link.fitted,\n",
       "a:link.sk-estimator-doc-link.fitted,\n",
       "a:visited.sk-estimator-doc-link.fitted {\n",
       "  /* fitted */\n",
       "  border: var(--sklearn-color-fitted-level-1) 1pt solid;\n",
       "  color: var(--sklearn-color-fitted-level-1);\n",
       "}\n",
       "\n",
       "/* On hover */\n",
       "div.sk-estimator:hover .sk-estimator-doc-link:hover,\n",
       ".sk-estimator-doc-link:hover,\n",
       "div.sk-label-container:hover .sk-estimator-doc-link:hover,\n",
       ".sk-estimator-doc-link:hover {\n",
       "  /* unfitted */\n",
       "  background-color: var(--sklearn-color-unfitted-level-3);\n",
       "  color: var(--sklearn-color-background);\n",
       "  text-decoration: none;\n",
       "}\n",
       "\n",
       "div.sk-estimator.fitted:hover .sk-estimator-doc-link.fitted:hover,\n",
       ".sk-estimator-doc-link.fitted:hover,\n",
       "div.sk-label-container:hover .sk-estimator-doc-link.fitted:hover,\n",
       ".sk-estimator-doc-link.fitted:hover {\n",
       "  /* fitted */\n",
       "  background-color: var(--sklearn-color-fitted-level-3);\n",
       "  color: var(--sklearn-color-background);\n",
       "  text-decoration: none;\n",
       "}\n",
       "\n",
       "/* Span, style for the box shown on hovering the info icon */\n",
       ".sk-estimator-doc-link span {\n",
       "  display: none;\n",
       "  z-index: 9999;\n",
       "  position: relative;\n",
       "  font-weight: normal;\n",
       "  right: .2ex;\n",
       "  padding: .5ex;\n",
       "  margin: .5ex;\n",
       "  width: min-content;\n",
       "  min-width: 20ex;\n",
       "  max-width: 50ex;\n",
       "  color: var(--sklearn-color-text);\n",
       "  box-shadow: 2pt 2pt 4pt #999;\n",
       "  /* unfitted */\n",
       "  background: var(--sklearn-color-unfitted-level-0);\n",
       "  border: .5pt solid var(--sklearn-color-unfitted-level-3);\n",
       "}\n",
       "\n",
       ".sk-estimator-doc-link.fitted span {\n",
       "  /* fitted */\n",
       "  background: var(--sklearn-color-fitted-level-0);\n",
       "  border: var(--sklearn-color-fitted-level-3);\n",
       "}\n",
       "\n",
       ".sk-estimator-doc-link:hover span {\n",
       "  display: block;\n",
       "}\n",
       "\n",
       "/* \"?\"-specific style due to the `<a>` HTML tag */\n",
       "\n",
       "#sk-container-id-1 a.estimator_doc_link {\n",
       "  float: right;\n",
       "  font-size: 1rem;\n",
       "  line-height: 1em;\n",
       "  font-family: monospace;\n",
       "  background-color: var(--sklearn-color-background);\n",
       "  border-radius: 1rem;\n",
       "  height: 1rem;\n",
       "  width: 1rem;\n",
       "  text-decoration: none;\n",
       "  /* unfitted */\n",
       "  color: var(--sklearn-color-unfitted-level-1);\n",
       "  border: var(--sklearn-color-unfitted-level-1) 1pt solid;\n",
       "}\n",
       "\n",
       "#sk-container-id-1 a.estimator_doc_link.fitted {\n",
       "  /* fitted */\n",
       "  border: var(--sklearn-color-fitted-level-1) 1pt solid;\n",
       "  color: var(--sklearn-color-fitted-level-1);\n",
       "}\n",
       "\n",
       "/* On hover */\n",
       "#sk-container-id-1 a.estimator_doc_link:hover {\n",
       "  /* unfitted */\n",
       "  background-color: var(--sklearn-color-unfitted-level-3);\n",
       "  color: var(--sklearn-color-background);\n",
       "  text-decoration: none;\n",
       "}\n",
       "\n",
       "#sk-container-id-1 a.estimator_doc_link.fitted:hover {\n",
       "  /* fitted */\n",
       "  background-color: var(--sklearn-color-fitted-level-3);\n",
       "}\n",
       "</style><div id=\"sk-container-id-1\" class=\"sk-top-container\"><div class=\"sk-text-repr-fallback\"><pre>Pipeline(steps=[(&#x27;vectorizer&#x27;,\n",
       "                 CountVectorizer(tokenizer=&lt;function built_in_tokenization at 0x29f5b6ef0&gt;)),\n",
       "                (&#x27;selection&#x27;,\n",
       "                 SelectKBest(k=894, score_func=&lt;function chi2 at 0x29f591750&gt;)),\n",
       "                (&#x27;classifier&#x27;,\n",
       "                 SGDClassifier(loss=&#x27;log_loss&#x27;, max_iter=75, n_jobs=64,\n",
       "                               random_state=0, warm_start=True))])</pre><b>In a Jupyter environment, please rerun this cell to show the HTML representation or trust the notebook. <br />On GitHub, the HTML representation is unable to render, please try loading this page with nbviewer.org.</b></div><div class=\"sk-container\" hidden><div class=\"sk-item sk-dashed-wrapped\"><div class=\"sk-label-container\"><div class=\"sk-label fitted sk-toggleable\"><input class=\"sk-toggleable__control sk-hidden--visually\" id=\"sk-estimator-id-1\" type=\"checkbox\" ><label for=\"sk-estimator-id-1\" class=\"sk-toggleable__label fitted sk-toggleable__label-arrow fitted\">&nbsp;&nbsp;Pipeline<a class=\"sk-estimator-doc-link fitted\" rel=\"noreferrer\" target=\"_blank\" href=\"https://scikit-learn.org/1.5/modules/generated/sklearn.pipeline.Pipeline.html\">?<span>Documentation for Pipeline</span></a><span class=\"sk-estimator-doc-link fitted\">i<span>Fitted</span></span></label><div class=\"sk-toggleable__content fitted\"><pre>Pipeline(steps=[(&#x27;vectorizer&#x27;,\n",
       "                 CountVectorizer(tokenizer=&lt;function built_in_tokenization at 0x29f5b6ef0&gt;)),\n",
       "                (&#x27;selection&#x27;,\n",
       "                 SelectKBest(k=894, score_func=&lt;function chi2 at 0x29f591750&gt;)),\n",
       "                (&#x27;classifier&#x27;,\n",
       "                 SGDClassifier(loss=&#x27;log_loss&#x27;, max_iter=75, n_jobs=64,\n",
       "                               random_state=0, warm_start=True))])</pre></div> </div></div><div class=\"sk-serial\"><div class=\"sk-item\"><div class=\"sk-estimator fitted sk-toggleable\"><input class=\"sk-toggleable__control sk-hidden--visually\" id=\"sk-estimator-id-2\" type=\"checkbox\" ><label for=\"sk-estimator-id-2\" class=\"sk-toggleable__label fitted sk-toggleable__label-arrow fitted\">&nbsp;CountVectorizer<a class=\"sk-estimator-doc-link fitted\" rel=\"noreferrer\" target=\"_blank\" href=\"https://scikit-learn.org/1.5/modules/generated/sklearn.feature_extraction.text.CountVectorizer.html\">?<span>Documentation for CountVectorizer</span></a></label><div class=\"sk-toggleable__content fitted\"><pre>CountVectorizer(tokenizer=&lt;function built_in_tokenization at 0x29f5b6ef0&gt;)</pre></div> </div></div><div class=\"sk-item\"><div class=\"sk-estimator fitted sk-toggleable\"><input class=\"sk-toggleable__control sk-hidden--visually\" id=\"sk-estimator-id-3\" type=\"checkbox\" ><label for=\"sk-estimator-id-3\" class=\"sk-toggleable__label fitted sk-toggleable__label-arrow fitted\">&nbsp;SelectKBest<a class=\"sk-estimator-doc-link fitted\" rel=\"noreferrer\" target=\"_blank\" href=\"https://scikit-learn.org/1.5/modules/generated/sklearn.feature_selection.SelectKBest.html\">?<span>Documentation for SelectKBest</span></a></label><div class=\"sk-toggleable__content fitted\"><pre>SelectKBest(k=894, score_func=&lt;function chi2 at 0x29f591750&gt;)</pre></div> </div></div><div class=\"sk-item\"><div class=\"sk-estimator fitted sk-toggleable\"><input class=\"sk-toggleable__control sk-hidden--visually\" id=\"sk-estimator-id-4\" type=\"checkbox\" ><label for=\"sk-estimator-id-4\" class=\"sk-toggleable__label fitted sk-toggleable__label-arrow fitted\">&nbsp;SGDClassifier<a class=\"sk-estimator-doc-link fitted\" rel=\"noreferrer\" target=\"_blank\" href=\"https://scikit-learn.org/1.5/modules/generated/sklearn.linear_model.SGDClassifier.html\">?<span>Documentation for SGDClassifier</span></a></label><div class=\"sk-toggleable__content fitted\"><pre>SGDClassifier(loss=&#x27;log_loss&#x27;, max_iter=75, n_jobs=64, random_state=0,\n",
       "              warm_start=True)</pre></div> </div></div></div></div></div></div>"
      ],
      "text/plain": [
       "Pipeline(steps=[('vectorizer',\n",
       "                 CountVectorizer(tokenizer=<function built_in_tokenization at 0x29f5b6ef0>)),\n",
       "                ('selection',\n",
       "                 SelectKBest(k=894, score_func=<function chi2 at 0x29f591750>)),\n",
       "                ('classifier',\n",
       "                 SGDClassifier(loss='log_loss', max_iter=75, n_jobs=64,\n",
       "                               random_state=0, warm_start=True))])"
      ]
     },
     "execution_count": 6,
     "metadata": {},
     "output_type": "execute_result"
    }
   ],
   "source": [
    "# Fit a standard ML model to the data\n",
    "\n",
    "clf = Pipeline([\n",
    "    ('vectorizer', CountVectorizer(tokenizer=built_in_tokenization)),\n",
    "    ('selection', SelectKBest(chi2, k=894)),\n",
    "#     ('classifier', LogisticRegression())\n",
    "    ('classifier', SGDClassifier(warm_start=True, loss='log_loss', n_jobs=64, max_iter=75, random_state=0))\n",
    "])\n",
    "\n",
    "clf.fit(X_train, y_train)\n",
    "   "
   ]
  },
  {
   "cell_type": "markdown",
   "id": "163abb10",
   "metadata": {},
   "source": [
    "Our SGD classifier achieves ~70% accuracy "
   ]
  },
  {
   "cell_type": "code",
   "execution_count": 7,
   "id": "47337939-4bd3-49f2-9fe4-32bf5335515d",
   "metadata": {},
   "outputs": [
    {
     "data": {
      "text/plain": [
       "0.68"
      ]
     },
     "execution_count": 7,
     "metadata": {},
     "output_type": "execute_result"
    }
   ],
   "source": [
    "clf.score(X_test, y_test)"
   ]
  },
  {
   "cell_type": "markdown",
   "id": "c626e365",
   "metadata": {},
   "source": [
    "Debiasing the dataset using Null Space Projection\n",
    "\n",
    "We now train a model to predict the gender based on the prompts. "
   ]
  },
  {
   "cell_type": "code",
   "execution_count": 8,
   "id": "ec30341f-2ff0-47b9-852e-215e8a4d9169",
   "metadata": {},
   "outputs": [],
   "source": [
    "# Debiasing \n",
    "\n",
    "X_train_one_hot = clf.named_steps['selection'].transform(clf.named_steps['vectorizer'].transform(X_train))\n",
    "X_test_one_hot = clf.named_steps['selection'].transform(clf.named_steps['vectorizer'].transform(X_test))\n"
   ]
  },
  {
   "cell_type": "code",
   "execution_count": 9,
   "id": "2bc3c357-6131-4556-a1d6-2dba15f39603",
   "metadata": {},
   "outputs": [],
   "source": [
    "# Arrays for sensitive features\n",
    "\n",
    "X_train_gender, X_test_gender, y_train_gender, y_test_gender = train_test_split(X, y_gender, test_size = 0.2, shuffle = False, stratify = None)"
   ]
  },
  {
   "cell_type": "markdown",
   "id": "edfcdbfc",
   "metadata": {},
   "source": [
    "The projection matrix is produced from training an auxilliary classifier by flipping the target variable, i.e. our initial task was to predict the credit risk based on the prompts, now we are predicting the gender based on the prompts. "
   ]
  },
  {
   "cell_type": "code",
   "execution_count": 10,
   "id": "dc9a940e-2628-4667-b1a5-db404bf30707",
   "metadata": {},
   "outputs": [],
   "source": [
    "def get_projection_matrix(num_clfs, X_train, y_train, X_test, y_test, y_train_main, y_test_main, dim=300):\n",
    "\n",
    "    is_autoregressive = True\n",
    "    min_acc = 0.\n",
    "    \n",
    "    clf = SGDClassifier\n",
    "    params = {'warm_start': True, 'loss': 'log_loss', 'n_jobs': 64, 'max_iter': 100, 'random_state': 0}\n",
    "\n",
    "    P = debias.get_debiasing_projection(clf, params, num_clfs, dim, is_autoregressive,\n",
    "                                           min_acc, X_train, y_train, X_test, y_test,\n",
    "                                           by_class=True, y_train_main=y_train_main, y_test_main=y_test_main)\n",
    "    return P\n",
    "\n",
    "\n",
    "\n",
    "num_clfs = 40\n",
    "y_test_gender = np.array(y_test_gender)\n",
    "y_train_gender = np.array(y_train_gender)\n",
    "y_test = np.array(y_test)\n",
    "y_train = np.array(y_train)\n",
    "\n",
    "n_examples = 1000"
   ]
  },
  {
   "cell_type": "code",
   "execution_count": 11,
   "id": "8bd8916f-faf9-493d-80f7-85f5e0d8631f",
   "metadata": {},
   "outputs": [
    {
     "name": "stderr",
     "output_type": "stream",
     "text": [
      "iteration: 3, accuracy: 0.76:  10%|█         | 4/40 [00:01<00:15,  2.29it/s] /Users/asabuncuoglu/Documents/faid/.venv/lib/python3.10/site-packages/sklearn/linear_model/_stochastic_gradient.py:744: ConvergenceWarning: Maximum number of iteration reached before convergence. Consider increasing max_iter to improve the fit.\n",
      "  warnings.warn(\n",
      "iteration: 5, accuracy: 0.745:  15%|█▌        | 6/40 [00:02<00:16,  2.04it/s]/Users/asabuncuoglu/Documents/faid/.venv/lib/python3.10/site-packages/sklearn/linear_model/_stochastic_gradient.py:744: ConvergenceWarning: Maximum number of iteration reached before convergence. Consider increasing max_iter to improve the fit.\n",
      "  warnings.warn(\n",
      "iteration: 9, accuracy: 0.295:  25%|██▌       | 10/40 [00:04<00:15,  1.96it/s]/Users/asabuncuoglu/Documents/faid/.venv/lib/python3.10/site-packages/sklearn/linear_model/_stochastic_gradient.py:744: ConvergenceWarning: Maximum number of iteration reached before convergence. Consider increasing max_iter to improve the fit.\n",
      "  warnings.warn(\n",
      "iteration: 39, accuracy: 0.725: 100%|██████████| 40/40 [00:19<00:00,  2.00it/s]\n"
     ]
    }
   ],
   "source": [
    "P = get_projection_matrix(40, X_train_one_hot[:n_examples],\n",
    "                          y_train_gender[:n_examples], X_test_one_hot[:n_examples], y_test_gender[:n_examples],\n",
    "                             y_train[:n_examples], y_test[:n_examples], dim = 894)"
   ]
  },
  {
   "cell_type": "markdown",
   "id": "4edae91b",
   "metadata": {},
   "source": [
    "Testing the debiased dataset. The projection matrix $P$ is applied to the testing dataset containing the prompts."
   ]
  },
  {
   "cell_type": "code",
   "execution_count": 12,
   "id": "439a3457-b69f-477b-a50c-53974f7ec2a2",
   "metadata": {},
   "outputs": [],
   "source": [
    "# Apply the projection matrix to testing datasets\n",
    "debiased_train = X_train_one_hot.dot(P)\n",
    "debiased_test = X_test_one_hot.dot(P)"
   ]
  },
  {
   "cell_type": "markdown",
   "id": "8a344fe4",
   "metadata": {},
   "source": [
    "This shows the prediction of the auxiliary model where the input is the prompt and the expected response is the gender. As the gender is actually within the prompt we expect 100% accurary."
   ]
  },
  {
   "cell_type": "code",
   "execution_count": 13,
   "id": "9da46700",
   "metadata": {},
   "outputs": [
    {
     "data": {
      "text/plain": [
       "1.0"
      ]
     },
     "execution_count": 13,
     "metadata": {},
     "output_type": "execute_result"
    }
   ],
   "source": [
    "params = {'warm_start': True, 'loss': 'log_loss', 'n_jobs': 64, 'max_iter': 75, 'random_state': 0}\n",
    "temp = SGDClassifier(**params)\n",
    "\n",
    "temp.fit(X_train_one_hot[:n_examples], y_train_gender[:n_examples])\n",
    "temp.score(X_test_one_hot, y_test_gender)"
   ]
  },
  {
   "cell_type": "markdown",
   "id": "f5a71b42",
   "metadata": {},
   "source": [
    "We apply the projection matrix to the X_test dataset (the prompts) and feed these into our classifier hoping to get the gender from the prompt. The accuracy of this model decreased compared to above indicating the debiasing has worked to some extent, the model is no longer able to predict the gender with complete certainty."
   ]
  },
  {
   "cell_type": "code",
   "execution_count": 14,
   "id": "3fdac87e",
   "metadata": {},
   "outputs": [
    {
     "data": {
      "text/plain": [
       "0.275"
      ]
     },
     "execution_count": 14,
     "metadata": {},
     "output_type": "execute_result"
    }
   ],
   "source": [
    "params = {'warm_start': True, 'loss': 'log_loss', 'n_jobs': 64, 'max_iter': 75, 'random_state': 0}\n",
    "temp = SGDClassifier(**params)\n",
    "\n",
    "temp.fit(debiased_train[:n_examples], y_train_gender[:n_examples])\n",
    "temp.score(debiased_test, y_test_gender)"
   ]
  },
  {
   "cell_type": "markdown",
   "id": "4528074a",
   "metadata": {},
   "source": [
    "The following is the accuracy of the model where the input is the prompt and the output is the credit risk."
   ]
  },
  {
   "cell_type": "code",
   "execution_count": 15,
   "id": "78d587c8",
   "metadata": {},
   "outputs": [
    {
     "name": "stderr",
     "output_type": "stream",
     "text": [
      "/Users/asabuncuoglu/Documents/faid/.venv/lib/python3.10/site-packages/sklearn/linear_model/_stochastic_gradient.py:744: ConvergenceWarning: Maximum number of iteration reached before convergence. Consider increasing max_iter to improve the fit.\n",
      "  warnings.warn(\n"
     ]
    },
    {
     "data": {
      "text/plain": [
       "0.68"
      ]
     },
     "execution_count": 15,
     "metadata": {},
     "output_type": "execute_result"
    }
   ],
   "source": [
    "params = {'warm_start': True, 'loss': 'log_loss', 'n_jobs': 64, 'max_iter': 75, 'random_state': 0}\n",
    "temp = SGDClassifier(**params)\n",
    "\n",
    "temp.fit(X_train_one_hot[:n_examples], y_train[:n_examples])\n",
    "temp.score(X_test_one_hot, y_test)"
   ]
  },
  {
   "cell_type": "markdown",
   "id": "e37d7ecf",
   "metadata": {},
   "source": [
    "The following is the accuracy when the input is the debiased dataset (the prompts with the projection matrix applied) and the output is the risk. We have a slight increase in accuracy here."
   ]
  },
  {
   "cell_type": "code",
   "execution_count": 16,
   "id": "a00b24d2",
   "metadata": {},
   "outputs": [
    {
     "name": "stderr",
     "output_type": "stream",
     "text": [
      "/Users/asabuncuoglu/Documents/faid/.venv/lib/python3.10/site-packages/sklearn/linear_model/_stochastic_gradient.py:744: ConvergenceWarning: Maximum number of iteration reached before convergence. Consider increasing max_iter to improve the fit.\n",
      "  warnings.warn(\n"
     ]
    },
    {
     "data": {
      "text/plain": [
       "0.7"
      ]
     },
     "execution_count": 16,
     "metadata": {},
     "output_type": "execute_result"
    }
   ],
   "source": [
    "params = {'warm_start': True, 'loss': 'log_loss', 'n_jobs': 64, 'max_iter': 75, 'random_state': 0}\n",
    "temp = SGDClassifier(**params)\n",
    "\n",
    "temp.fit(debiased_train[:n_examples], y_train[:n_examples])\n",
    "temp.score(debiased_test, y_test)"
   ]
  },
  {
   "cell_type": "markdown",
   "id": "cdf17ade",
   "metadata": {},
   "source": [
    "Train new model on debiased dataset"
   ]
  },
  {
   "cell_type": "code",
   "execution_count": 17,
   "id": "3fd76712",
   "metadata": {},
   "outputs": [],
   "source": [
    "svc = clf.named_steps['classifier']\n"
   ]
  },
  {
   "cell_type": "code",
   "execution_count": 18,
   "id": "7e5b8ab4",
   "metadata": {},
   "outputs": [],
   "source": [
    "from copy import deepcopy\n",
    "debiased_svc = deepcopy(svc)\n"
   ]
  },
  {
   "cell_type": "code",
   "execution_count": 19,
   "id": "0e36b2f4",
   "metadata": {},
   "outputs": [],
   "source": [
    "debiased_svc.coef_ = svc.coef_.dot(P.T)"
   ]
  },
  {
   "cell_type": "code",
   "execution_count": 20,
   "id": "05e211b4",
   "metadata": {},
   "outputs": [],
   "source": [
    "debias_clf = Pipeline([\n",
    "    ('vectorizer', clf.named_steps['vectorizer']),\n",
    "    ('selection', clf.named_steps['selection']),\n",
    "    ('classifier', debiased_svc),\n",
    "])"
   ]
  },
  {
   "cell_type": "markdown",
   "id": "0a3453fd",
   "metadata": {},
   "source": [
    "This is the accuracy of a new model trained on the debiased datasets."
   ]
  },
  {
   "cell_type": "code",
   "execution_count": 21,
   "id": "c34cca45",
   "metadata": {},
   "outputs": [
    {
     "data": {
      "text/plain": [
       "0.31"
      ]
     },
     "execution_count": 21,
     "metadata": {},
     "output_type": "execute_result"
    }
   ],
   "source": [
    "debias_clf.score(X_test, y_test)"
   ]
  }
 ],
 "metadata": {
  "kernelspec": {
   "display_name": "Python 3 (ipykernel)",
   "language": "python",
   "name": "python3"
  },
  "language_info": {
   "codemirror_mode": {
    "name": "ipython",
    "version": 3
   },
   "file_extension": ".py",
   "mimetype": "text/x-python",
   "name": "python",
   "nbconvert_exporter": "python",
   "pygments_lexer": "ipython3",
   "version": "3.10.4"
  }
 },
 "nbformat": 4,
 "nbformat_minor": 5
}
