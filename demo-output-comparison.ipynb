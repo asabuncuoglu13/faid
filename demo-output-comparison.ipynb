{
 "cells": [
  {
   "cell_type": "markdown",
   "metadata": {},
   "source": [
    "# Report Model Output Comparison for Fairness Evaluation\n",
    "\n",
    "In this notebook, we will use LLM Comparator and other potential model comparison approaches to generate fairness report based on individual samples."
   ]
  },
  {
   "cell_type": "code",
   "execution_count": 1,
   "metadata": {},
   "outputs": [],
   "source": [
    "from faid.viz.llm_comparator import LLMComparator\n",
    "\n",
    "llm_comparator = LLMComparator()"
   ]
  },
  {
   "cell_type": "code",
   "execution_count": 2,
   "metadata": {},
   "outputs": [],
   "source": [
    "# You can use **.jsonl** or **.csv** outputs to generate comparison files compatible with LLM comparator.\n",
    "\n",
    "comparison_result = llm_comparator.create_comparison_json(\n",
    "    'data/llm-comparison/example_llm1.jsonl', 'data/llm-comparison/example_llm2.jsonl', query_key=\"question\", response_key=\"answer\")"
   ]
  },
  {
   "cell_type": "code",
   "execution_count": 3,
   "metadata": {},
   "outputs": [],
   "source": [
    "file_path = llm_comparator.write(comparison_result, 'data/llm-comparison/example_comparison_result.json')\n"
   ]
  },
  {
   "cell_type": "code",
   "execution_count": 4,
   "metadata": {},
   "outputs": [],
   "source": [
    "username = \"asabuncuoglu13\"\n",
    "repository = \"faid\"\n",
    "branch = \"main\"\n",
    "online_path = f\"https://raw.githubusercontent.com/{username}/{repository}/refs/heads/{branch}/{file_path}\""
   ]
  },
  {
   "cell_type": "code",
   "execution_count": 5,
   "metadata": {},
   "outputs": [],
   "source": [
    "llm_comparator.show_in_llm_comparator(online_path)"
   ]
  },
  {
   "cell_type": "code",
   "execution_count": null,
   "metadata": {},
   "outputs": [],
   "source": []
  }
 ],
 "metadata": {
  "kernelspec": {
   "display_name": ".venv",
   "language": "python",
   "name": "python3"
  },
  "language_info": {
   "codemirror_mode": {
    "name": "ipython",
    "version": 3
   },
   "file_extension": ".py",
   "mimetype": "text/x-python",
   "name": "python",
   "nbconvert_exporter": "python",
   "pygments_lexer": "ipython3",
   "version": "3.10.4"
  }
 },
 "nbformat": 4,
 "nbformat_minor": 2
}
