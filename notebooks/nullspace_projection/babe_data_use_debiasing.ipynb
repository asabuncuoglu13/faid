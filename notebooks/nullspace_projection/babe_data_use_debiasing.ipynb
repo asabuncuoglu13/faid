{
 "cells": [
  {
   "cell_type": "markdown",
   "metadata": {},
   "source": [
    "# Iterative Null Space projection\n",
    "\n",
    "A base implementation using the debias function from https://github.com/shauli-ravfogel/nullspace_projection/tree/master/src. \n",
    "\n",
    "Original paper: Null It Out: Guarding Protected Attributes by Iterative Nullspace Projection, S.Ravfogel et al, 2019. \n",
    "\n",
    "Further experiments are outlined in: Study on Iterative Nullspace Projection Debiasing of Multiple Attributes of Word Embeddings, X.Zhang, 2022.\n",
    " \n",
    "Given a set of word embeddings $X = \\{x_1, x_2, \\ldots, x_n\\}$, $x_i \\in \\mathbb{R}^d$, such as professions (doctor, nurse, teacher etc) and attributes $Z = \\{z_1, z_2, \\ldots, z_n\\}$, such as instances of gender (male, female, man, woman etc), we aim to find a transformation $g$ such that $z_i$ cannot be predicted from $g(x_i)$. The first step of INLP is, if we have a classifier $c$ used to predict a persons profession based on some text, we build an auxiliary model $c'$ to predict their gender from the text.\n",
    "\n",
    "If $c'$ is a classifier with parameters $W$ (e.g. the weights in a deep learning model), we want a projection matrix $P$ such that $W(Pz)=0$ for all $z$, rendering the paramters $W$ useless on $Z$. \n",
    "\n",
    "Additional classifiers $W'$ are then trained until no linear information regading $Z$ remains in $X$. $P$ is constructed using nullspace projection, detailed implementation can be found in the original paper. In other words, we train our auxiliary model $c'$ until it predicts the protected attribute from the input text no better than randomly guessing, i.e. $\\leq50 \\%$ accuracy. The projection matrix is then applied to the embeddings used to train the original model with the hope that the dependency of the sensitive attribute with respect to the output is removed.\n",
    "\n",
    "The relationship between $W$ and an input $x$ is that $x$ is projected onto the sub-space of the rows of $W$ and is classified by taking the dot product between $W$ and the components of its rows. Therefore if we zero the components of $x$ in the direction of $W's$ rowspace, we remove the information within $W$ used to make a predcition based on $x$, i.e. the ability to make a prediction based on a sensitive attribute in the set $X$. \n",
    "\n",
    "Algebraically this is equaivalent to projecting $x$ onto the nullspace of $W$, $N(W)$:\n",
    "$$\n",
    "N(W) = \\{ x \\mid Wx = 0 \\}\n",
    "$$\n",
    "\n",
    "In summary, for a task where we are predicting a feature $x_i \\in X$ from a text sample containing sensitive features $z_i \\in Z$, using a classifier $c$, e.g. a person's profession from text containing information about said person, we make a new classifier $c'$ to predict the person's gender (or any other sensitive attribute we want to protect) from the text, and use this to create a projection matrix which is applied to the original text data embeddings, removing the classifiers ability to use gender information when making a prediction."
   ]
  },
  {
   "cell_type": "code",
   "execution_count": 1,
   "metadata": {},
   "outputs": [],
   "source": [
    "# Main imports\n",
    "import debias\n",
    "import numpy as np\n",
    "import pandas as pd\n",
    "from sklearn.metrics import accuracy_score\n",
    "from sklearn.preprocessing import LabelEncoder\n",
    "from sklearn.model_selection import train_test_split\n",
    "from sklearn.svm import SVC\n",
    "from sklearn.linear_model import SGDClassifier\n",
    "import tensorflow as tf\n",
    "import tensorflow_hub as hub\n",
    "import seaborn as sns"
   ]
  },
  {
   "cell_type": "markdown",
   "metadata": {},
   "source": [
    "## Importing Universal Sentence Encoder\n",
    "\n",
    "We use [Universal Sentence Encoder](https://www.tensorflow.org/hub/tutorials/semantic_similarity_with_tf_hub_universal_encoder) (USE) to generate word embeddings. It is a model which takes a string of text as input and returns a vector containing the word embeddings for the input. These word embeddings will be used to train a classifier to predict the risk based on the prompt, and later for the generation of the projection matrix. "
   ]
  },
  {
   "cell_type": "code",
   "execution_count": 2,
   "metadata": {},
   "outputs": [
    {
     "name": "stdout",
     "output_type": "stream",
     "text": [
      "module https://tfhub.dev/google/universal-sentence-encoder/4 loaded\n"
     ]
    }
   ],
   "source": [
    "# Import USE\n",
    "module_url = \"https://tfhub.dev/google/universal-sentence-encoder/4\"\n",
    "model = hub.load(module_url)\n",
    "print (\"module %s loaded\" % module_url)"
   ]
  },
  {
   "cell_type": "code",
   "execution_count": 3,
   "metadata": {},
   "outputs": [],
   "source": [
    "def embed(input):\n",
    "  return model(input)"
   ]
  },
  {
   "cell_type": "markdown",
   "metadata": {},
   "source": [
    "Loading bias in media dataset, which can be found [here](https://github.com/Media-Bias-Group/Neural-Media-Bias-Detection-Using-Distant-Supervision-With-BABE/tree/main/data) as 'final_labels_SG1'"
   ]
  },
  {
   "cell_type": "code",
   "execution_count": 4,
   "metadata": {},
   "outputs": [
    {
     "data": {
      "text/html": [
       "<div>\n",
       "<style scoped>\n",
       "    .dataframe tbody tr th:only-of-type {\n",
       "        vertical-align: middle;\n",
       "    }\n",
       "\n",
       "    .dataframe tbody tr th {\n",
       "        vertical-align: top;\n",
       "    }\n",
       "\n",
       "    .dataframe thead th {\n",
       "        text-align: right;\n",
       "    }\n",
       "</style>\n",
       "<table border=\"1\" class=\"dataframe\">\n",
       "  <thead>\n",
       "    <tr style=\"text-align: right;\">\n",
       "      <th></th>\n",
       "      <th>text</th>\n",
       "      <th>news_link</th>\n",
       "      <th>outlet</th>\n",
       "      <th>topic</th>\n",
       "      <th>type</th>\n",
       "      <th>label_bias</th>\n",
       "      <th>label_opinion</th>\n",
       "      <th>biased_words</th>\n",
       "    </tr>\n",
       "  </thead>\n",
       "  <tbody>\n",
       "    <tr>\n",
       "      <th>0</th>\n",
       "      <td>The Republican president assumed he was helpin...</td>\n",
       "      <td>http://www.msnbc.com/rachel-maddow-show/auto-i...</td>\n",
       "      <td>msnbc</td>\n",
       "      <td>environment</td>\n",
       "      <td>left</td>\n",
       "      <td>Biased</td>\n",
       "      <td>Expresses writer’s opinion</td>\n",
       "      <td>[]</td>\n",
       "    </tr>\n",
       "    <tr>\n",
       "      <th>1</th>\n",
       "      <td>Though the indictment of a woman for her own p...</td>\n",
       "      <td>https://eu.usatoday.com/story/news/nation/2019...</td>\n",
       "      <td>usa-today</td>\n",
       "      <td>abortion</td>\n",
       "      <td>center</td>\n",
       "      <td>Non-biased</td>\n",
       "      <td>Somewhat factual but also opinionated</td>\n",
       "      <td>[]</td>\n",
       "    </tr>\n",
       "    <tr>\n",
       "      <th>2</th>\n",
       "      <td>Ingraham began the exchange by noting American...</td>\n",
       "      <td>https://www.breitbart.com/economy/2020/01/12/d...</td>\n",
       "      <td>breitbart</td>\n",
       "      <td>immigration</td>\n",
       "      <td>right</td>\n",
       "      <td>No agreement</td>\n",
       "      <td>No agreement</td>\n",
       "      <td>['flood']</td>\n",
       "    </tr>\n",
       "    <tr>\n",
       "      <th>3</th>\n",
       "      <td>The tragedy of America’s 18 years in Afghanist...</td>\n",
       "      <td>http://feedproxy.google.com/~r/breitbart/~3/ER...</td>\n",
       "      <td>breitbart</td>\n",
       "      <td>international-politics-and-world-news</td>\n",
       "      <td>right</td>\n",
       "      <td>Biased</td>\n",
       "      <td>Somewhat factual but also opinionated</td>\n",
       "      <td>['tragedy', 'stubborn']</td>\n",
       "    </tr>\n",
       "    <tr>\n",
       "      <th>4</th>\n",
       "      <td>The justices threw out a challenge from gun ri...</td>\n",
       "      <td>https://www.huffpost.com/entry/supreme-court-g...</td>\n",
       "      <td>msnbc</td>\n",
       "      <td>gun-control</td>\n",
       "      <td>left</td>\n",
       "      <td>Non-biased</td>\n",
       "      <td>Entirely factual</td>\n",
       "      <td>[]</td>\n",
       "    </tr>\n",
       "  </tbody>\n",
       "</table>\n",
       "</div>"
      ],
      "text/plain": [
       "                                                text  \\\n",
       "0  The Republican president assumed he was helpin...   \n",
       "1  Though the indictment of a woman for her own p...   \n",
       "2  Ingraham began the exchange by noting American...   \n",
       "3  The tragedy of America’s 18 years in Afghanist...   \n",
       "4  The justices threw out a challenge from gun ri...   \n",
       "\n",
       "                                           news_link     outlet  \\\n",
       "0  http://www.msnbc.com/rachel-maddow-show/auto-i...      msnbc   \n",
       "1  https://eu.usatoday.com/story/news/nation/2019...  usa-today   \n",
       "2  https://www.breitbart.com/economy/2020/01/12/d...  breitbart   \n",
       "3  http://feedproxy.google.com/~r/breitbart/~3/ER...  breitbart   \n",
       "4  https://www.huffpost.com/entry/supreme-court-g...      msnbc   \n",
       "\n",
       "                                   topic    type    label_bias  \\\n",
       "0                            environment    left        Biased   \n",
       "1                               abortion  center    Non-biased   \n",
       "2                            immigration   right  No agreement   \n",
       "3  international-politics-and-world-news   right        Biased   \n",
       "4                            gun-control    left    Non-biased   \n",
       "\n",
       "                           label_opinion             biased_words  \n",
       "0             Expresses writer’s opinion                       []  \n",
       "1  Somewhat factual but also opinionated                       []  \n",
       "2                           No agreement                ['flood']  \n",
       "3  Somewhat factual but also opinionated  ['tragedy', 'stubborn']  \n",
       "4                       Entirely factual                       []  "
      ]
     },
     "execution_count": 4,
     "metadata": {},
     "output_type": "execute_result"
    }
   ],
   "source": [
    "df=pd.read_csv(\"../../data/final_labels_SG1.csv\")\n",
    "df.head()"
   ]
  },
  {
   "cell_type": "markdown",
   "metadata": {},
   "source": [
    "Checking the number of instances for each topic appear in the dataset. We want to identify which of them are potentially sensitive and isolate them."
   ]
  },
  {
   "cell_type": "code",
   "execution_count": 5,
   "metadata": {},
   "outputs": [
    {
     "name": "stdout",
     "output_type": "stream",
     "text": [
      "topic\n",
      "environment                              135\n",
      "white-nationalism                        131\n",
      "gender                                   128\n",
      "student-debt                             127\n",
      "abortion                                 126\n",
      "sport                                    126\n",
      "gun-control                              124\n",
      "immigration                              122\n",
      "vaccines                                 122\n",
      "coronavirus                              122\n",
      "trump-presidency                         120\n",
      "middle-class                             118\n",
      "elections-2020                           111\n",
      "international-politics-and-world-news     88\n",
      "Name: count, dtype: int64\n",
      "label_bias\n",
      "Non-biased      800\n",
      "Biased          746\n",
      "No agreement    154\n",
      "Name: count, dtype: int64\n"
     ]
    }
   ],
   "source": [
    "print(df['topic'].value_counts())\n",
    "print(df['label_bias'].value_counts())"
   ]
  },
  {
   "cell_type": "markdown",
   "metadata": {},
   "source": [
    "We decide that gender and immigration are sensitive topics. We make a new dataframe containing rows whose topic are gender or immigration."
   ]
  },
  {
   "cell_type": "code",
   "execution_count": 6,
   "metadata": {},
   "outputs": [
    {
     "data": {
      "text/html": [
       "<div>\n",
       "<style scoped>\n",
       "    .dataframe tbody tr th:only-of-type {\n",
       "        vertical-align: middle;\n",
       "    }\n",
       "\n",
       "    .dataframe tbody tr th {\n",
       "        vertical-align: top;\n",
       "    }\n",
       "\n",
       "    .dataframe thead th {\n",
       "        text-align: right;\n",
       "    }\n",
       "</style>\n",
       "<table border=\"1\" class=\"dataframe\">\n",
       "  <thead>\n",
       "    <tr style=\"text-align: right;\">\n",
       "      <th></th>\n",
       "      <th>text</th>\n",
       "      <th>news_link</th>\n",
       "      <th>outlet</th>\n",
       "      <th>topic</th>\n",
       "      <th>type</th>\n",
       "      <th>label_bias</th>\n",
       "      <th>label_opinion</th>\n",
       "      <th>biased_words</th>\n",
       "    </tr>\n",
       "  </thead>\n",
       "  <tbody>\n",
       "    <tr>\n",
       "      <th>1</th>\n",
       "      <td>WILL noted gender dysphoria is a mental health...</td>\n",
       "      <td>https://www.breitbart.com/politics/2020/02/26/...</td>\n",
       "      <td>breitbart</td>\n",
       "      <td>gender</td>\n",
       "      <td>right</td>\n",
       "      <td>Non-biased</td>\n",
       "      <td>Entirely factual</td>\n",
       "      <td>[]</td>\n",
       "    </tr>\n",
       "    <tr>\n",
       "      <th>2</th>\n",
       "      <td>A Gallup poll reports that women are still mor...</td>\n",
       "      <td>https://eu.usatoday.com/story/news/nation/2020...</td>\n",
       "      <td>usa-today</td>\n",
       "      <td>gender</td>\n",
       "      <td>center</td>\n",
       "      <td>Non-biased</td>\n",
       "      <td>Entirely factual</td>\n",
       "      <td>[]</td>\n",
       "    </tr>\n",
       "    <tr>\n",
       "      <th>3</th>\n",
       "      <td>They came to the United States from all corner...</td>\n",
       "      <td>https://www.foxnews.com/us/war-criminals-among...</td>\n",
       "      <td>fox-news</td>\n",
       "      <td>immigration</td>\n",
       "      <td>right</td>\n",
       "      <td>Biased</td>\n",
       "      <td>No agreement</td>\n",
       "      <td>['claiming']</td>\n",
       "    </tr>\n",
       "    <tr>\n",
       "      <th>4</th>\n",
       "      <td>In Tuesday night's debate, the two progressive...</td>\n",
       "      <td>https://www.nbcnews.com/politics/2020-election...</td>\n",
       "      <td>msnbc</td>\n",
       "      <td>gender</td>\n",
       "      <td>left</td>\n",
       "      <td>Biased</td>\n",
       "      <td>Somewhat factual but also opinionated</td>\n",
       "      <td>['tit-for-tat']</td>\n",
       "    </tr>\n",
       "    <tr>\n",
       "      <th>5</th>\n",
       "      <td>The photograph of Katie Bouman sitting in fron...</td>\n",
       "      <td>https://www.alternet.org/2019/04/how-the-first...</td>\n",
       "      <td>alternet</td>\n",
       "      <td>gender</td>\n",
       "      <td>left</td>\n",
       "      <td>Biased</td>\n",
       "      <td>Expresses writer’s opinion</td>\n",
       "      <td>['coterie', 'sexist', 'trolls']</td>\n",
       "    </tr>\n",
       "    <tr>\n",
       "      <th>...</th>\n",
       "      <td>...</td>\n",
       "      <td>...</td>\n",
       "      <td>...</td>\n",
       "      <td>...</td>\n",
       "      <td>...</td>\n",
       "      <td>...</td>\n",
       "      <td>...</td>\n",
       "      <td>...</td>\n",
       "    </tr>\n",
       "    <tr>\n",
       "      <th>246</th>\n",
       "      <td>Democrats this week approved legislation to re...</td>\n",
       "      <td>https://www.foxnews.com/politics/democrats-rej...</td>\n",
       "      <td>fox-news</td>\n",
       "      <td>immigration</td>\n",
       "      <td>right</td>\n",
       "      <td>Non-biased</td>\n",
       "      <td>Entirely factual</td>\n",
       "      <td>[]</td>\n",
       "    </tr>\n",
       "    <tr>\n",
       "      <th>247</th>\n",
       "      <td>Democrat presidential candidate Joe Biden urge...</td>\n",
       "      <td>http://feedproxy.google.com/~r/breitbart/~3/3i...</td>\n",
       "      <td>breitbart</td>\n",
       "      <td>gender</td>\n",
       "      <td>right</td>\n",
       "      <td>Non-biased</td>\n",
       "      <td>Entirely factual</td>\n",
       "      <td>['claiming']</td>\n",
       "    </tr>\n",
       "    <tr>\n",
       "      <th>248</th>\n",
       "      <td>Last week, Ankara broke the 2015 agreement wit...</td>\n",
       "      <td>https://www.breitbart.com/europe/2020/03/05/hu...</td>\n",
       "      <td>breitbart</td>\n",
       "      <td>immigration</td>\n",
       "      <td>right</td>\n",
       "      <td>Biased</td>\n",
       "      <td>No agreement</td>\n",
       "      <td>[]</td>\n",
       "    </tr>\n",
       "    <tr>\n",
       "      <th>249</th>\n",
       "      <td>The Trump administration gave the Border Patro...</td>\n",
       "      <td>https://www.alternet.org/2020/04/leaked-memo-r...</td>\n",
       "      <td>alternet</td>\n",
       "      <td>immigration</td>\n",
       "      <td>left</td>\n",
       "      <td>No agreement</td>\n",
       "      <td>No agreement</td>\n",
       "      <td>[]</td>\n",
       "    </tr>\n",
       "    <tr>\n",
       "      <th>250</th>\n",
       "      <td>Even after climton's loss in 2016, the network...</td>\n",
       "      <td>https://www.alternet.org/2019/04/fox-news-is-d...</td>\n",
       "      <td>alternet</td>\n",
       "      <td>gender</td>\n",
       "      <td>left</td>\n",
       "      <td>Biased</td>\n",
       "      <td>Expresses writer’s opinion</td>\n",
       "      <td>['juice', 'up', 'marauding', 'feminist', 'evil']</td>\n",
       "    </tr>\n",
       "  </tbody>\n",
       "</table>\n",
       "<p>250 rows × 8 columns</p>\n",
       "</div>"
      ],
      "text/plain": [
       "                                                  text  \\\n",
       "1    WILL noted gender dysphoria is a mental health...   \n",
       "2    A Gallup poll reports that women are still mor...   \n",
       "3    They came to the United States from all corner...   \n",
       "4    In Tuesday night's debate, the two progressive...   \n",
       "5    The photograph of Katie Bouman sitting in fron...   \n",
       "..                                                 ...   \n",
       "246  Democrats this week approved legislation to re...   \n",
       "247  Democrat presidential candidate Joe Biden urge...   \n",
       "248  Last week, Ankara broke the 2015 agreement wit...   \n",
       "249  The Trump administration gave the Border Patro...   \n",
       "250  Even after climton's loss in 2016, the network...   \n",
       "\n",
       "                                             news_link     outlet  \\\n",
       "1    https://www.breitbart.com/politics/2020/02/26/...  breitbart   \n",
       "2    https://eu.usatoday.com/story/news/nation/2020...  usa-today   \n",
       "3    https://www.foxnews.com/us/war-criminals-among...   fox-news   \n",
       "4    https://www.nbcnews.com/politics/2020-election...      msnbc   \n",
       "5    https://www.alternet.org/2019/04/how-the-first...   alternet   \n",
       "..                                                 ...        ...   \n",
       "246  https://www.foxnews.com/politics/democrats-rej...   fox-news   \n",
       "247  http://feedproxy.google.com/~r/breitbart/~3/3i...  breitbart   \n",
       "248  https://www.breitbart.com/europe/2020/03/05/hu...  breitbart   \n",
       "249  https://www.alternet.org/2020/04/leaked-memo-r...   alternet   \n",
       "250  https://www.alternet.org/2019/04/fox-news-is-d...   alternet   \n",
       "\n",
       "           topic    type    label_bias                          label_opinion  \\\n",
       "1         gender   right    Non-biased                       Entirely factual   \n",
       "2         gender  center    Non-biased                       Entirely factual   \n",
       "3    immigration   right        Biased                           No agreement   \n",
       "4         gender    left        Biased  Somewhat factual but also opinionated   \n",
       "5         gender    left        Biased             Expresses writer’s opinion   \n",
       "..           ...     ...           ...                                    ...   \n",
       "246  immigration   right    Non-biased                       Entirely factual   \n",
       "247       gender   right    Non-biased                       Entirely factual   \n",
       "248  immigration   right        Biased                           No agreement   \n",
       "249  immigration    left  No agreement                           No agreement   \n",
       "250       gender    left        Biased             Expresses writer’s opinion   \n",
       "\n",
       "                                         biased_words  \n",
       "1                                                  []  \n",
       "2                                                  []  \n",
       "3                                        ['claiming']  \n",
       "4                                     ['tit-for-tat']  \n",
       "5                     ['coterie', 'sexist', 'trolls']  \n",
       "..                                                ...  \n",
       "246                                                []  \n",
       "247                                      ['claiming']  \n",
       "248                                                []  \n",
       "249                                                []  \n",
       "250  ['juice', 'up', 'marauding', 'feminist', 'evil']  \n",
       "\n",
       "[250 rows x 8 columns]"
      ]
     },
     "execution_count": 6,
     "metadata": {},
     "output_type": "execute_result"
    }
   ],
   "source": [
    "df_gender = df[df['topic'].str.contains('gender')]\n",
    "df_immigration = df[df['topic'].str.contains('immigration')]\n",
    "\n",
    "df_main = pd.concat([df_gender,df_immigration], axis=0)\n",
    "df_main = df_main.sample(n=len(df_main)) # Shuffle rows\n",
    "df_main = df_main.reset_index(drop=True)  # Reset indexing\n",
    "df_main.index = df_main.index + 1 \n",
    "df_main"
   ]
  },
  {
   "cell_type": "markdown",
   "metadata": {},
   "source": [
    "Embedding and encoding the data using USE. At the moment we are processing the entire dataset due to the small size of the data."
   ]
  },
  {
   "cell_type": "code",
   "execution_count": 7,
   "metadata": {},
   "outputs": [
    {
     "name": "stdout",
     "output_type": "stream",
     "text": [
      "tf.Tensor([1700  512], shape=(2,), dtype=int32)\n"
     ]
    }
   ],
   "source": [
    "text = df['text'].tolist()\n",
    "bias = df['label_bias']\n",
    "text_embeddings = embed(text)\n",
    "print(tf.shape(text_embeddings))"
   ]
  },
  {
   "cell_type": "code",
   "execution_count": 8,
   "metadata": {},
   "outputs": [],
   "source": [
    "# Convert tensor into NumPy array\n",
    "text_embeddings_np = text_embeddings.numpy()\n",
    "\n",
    "le = LabelEncoder()\n",
    "bias_encoded = le.fit_transform(bias)\n"
   ]
  },
  {
   "cell_type": "markdown",
   "metadata": {},
   "source": [
    "**Model training**"
   ]
  },
  {
   "cell_type": "markdown",
   "metadata": {},
   "source": [
    "Training a model to predict the bias based on the text embeddings, using various models. We find the SVM produces the highest accuracy over an average of 10 models. Note this is predicting whether the text is biased based on the text, using the entire dataset (1700 rows)"
   ]
  },
  {
   "cell_type": "code",
   "execution_count": 9,
   "metadata": {},
   "outputs": [
    {
     "name": "stdout",
     "output_type": "stream",
     "text": [
      "SVM: Average Accuracy over 10 iterations: 0.6135294117647059\n"
     ]
    }
   ],
   "source": [
    "models = {\n",
    "    #\"Logistic Regression\": LogisticRegression(),\n",
    "    #\"Random Forest\": RandomForestClassifier(),\n",
    "    #\"Gradient Boosting\": GradientBoostingClassifier(),\n",
    "    #\"Neural Network\": MLPClassifier(hidden_layer_sizes=(200,), max_iter=250),\n",
    "    #\"XGBoost\": xgb.XGBClassifier(),\n",
    "    \"SVM\": SVC(kernel='linear')\n",
    "}\n",
    "\n",
    "results = {}\n",
    "\n",
    "for model_name, classifier in models.items():\n",
    "    accuracies = []\n",
    "    for _ in range(10):\n",
    "        X_train, X_test, y_train, y_test = train_test_split(text_embeddings_np, bias_encoded, test_size=0.1)\n",
    "        classifier.fit(X_train, y_train)\n",
    "        y_pred = classifier.predict(X_test)\n",
    "        acc = accuracy_score(y_test, y_pred)\n",
    "        accuracies.append(acc)\n",
    "    average_accuracy = np.mean(accuracies)\n",
    "    results[model_name] = average_accuracy\n",
    "\n",
    "for model_name, avg_accuracy in results.items():\n",
    "    print(f\"{model_name}: Average Accuracy over 10 iterations: {avg_accuracy}\")"
   ]
  },
  {
   "cell_type": "markdown",
   "metadata": {},
   "source": [
    "We now want to debias the dataset according to the two sensitive topics we defined above, gender and immigration. We use the smaller dataframe with the other topics removed. As before we encode and embed the data."
   ]
  },
  {
   "cell_type": "code",
   "execution_count": 10,
   "metadata": {},
   "outputs": [],
   "source": [
    "text_debias = df_main['text'].tolist()\n",
    "bias_debias = df_main['label_bias']\n",
    "topic_debias = df_main['topic']\n",
    "le = LabelEncoder()\n",
    "bias_debias_encoded = le.fit_transform(bias_debias)\n",
    "topic_debias_encoded = le.fit_transform(topic_debias)\n",
    "text_embeddings_debias = embed(text_debias)\n",
    "text_embeddings_debias_np = text_embeddings_debias.numpy()\n"
   ]
  },
  {
   "cell_type": "markdown",
   "metadata": {},
   "source": [
    "**Debiasing**"
   ]
  },
  {
   "cell_type": "markdown",
   "metadata": {},
   "source": [
    "We now perform debiasing by training another model to predict the sensitive features (immigration/gender) on the text to obtain a projection matrix $P$"
   ]
  },
  {
   "cell_type": "code",
   "execution_count": 11,
   "metadata": {},
   "outputs": [],
   "source": [
    "X_train_topic, X_test_topic, y_train_topic, y_test_topic = train_test_split(text_embeddings_debias_np, topic_debias_encoded, test_size = 0.1, shuffle = False, stratify = None)"
   ]
  },
  {
   "cell_type": "code",
   "execution_count": 12,
   "metadata": {},
   "outputs": [],
   "source": [
    "# Get projection matrix\n",
    "def get_projection_matrix(num_clfs, X_train, y_train, X_test, y_test, y_train_main, y_test_main, dim=300):\n",
    "    is_autoregressive = True\n",
    "    min_acc = 0.\n",
    "    \n",
    "    clf = SGDClassifier\n",
    "    params = {'warm_start': True, 'loss': 'log_loss', 'n_jobs': 64, 'max_iter': 100, 'random_state': 0}\n",
    "\n",
    "    P = debias.get_debiasing_projection(clf, params, num_clfs, dim, is_autoregressive,\n",
    "                                           min_acc, X_train, y_train, X_test, y_test,\n",
    "                                           by_class=True, y_train_main=y_train_main, y_test_main=y_test_main)\n",
    "    return P\n",
    "\n",
    "num_clfs = 40\n",
    "y_test_topic = np.array(y_test_topic)\n",
    "y_train_topic = np.array(y_train_topic)\n",
    "y_test = np.array(y_test)\n",
    "y_train = np.array(y_train)\n",
    "\n",
    "n_examples = 250"
   ]
  },
  {
   "cell_type": "code",
   "execution_count": 13,
   "metadata": {},
   "outputs": [
    {
     "name": "stderr",
     "output_type": "stream",
     "text": [
      "iteration: 199, accuracy: 0.32: 100%|██████████| 200/200 [01:00<00:00,  3.30it/s]\n"
     ]
    }
   ],
   "source": [
    "P = get_projection_matrix(200, X_train_topic[:n_examples],\n",
    "                          y_train_topic[:n_examples], X_test_topic[:n_examples], y_test_topic[:n_examples],\n",
    "                             y_train[:n_examples], y_test[:n_examples], dim = 512)"
   ]
  },
  {
   "cell_type": "markdown",
   "metadata": {},
   "source": [
    "Applying the projection matrix $P$ to the embedded data and training another classiifer on the debiased data"
   ]
  },
  {
   "cell_type": "code",
   "execution_count": 14,
   "metadata": {},
   "outputs": [],
   "source": [
    "# Apply projection matrix to embeddings\n",
    "projected_embeddings = text_embeddings_debias_np.dot(P)"
   ]
  },
  {
   "cell_type": "code",
   "execution_count": 15,
   "metadata": {},
   "outputs": [
    {
     "name": "stdout",
     "output_type": "stream",
     "text": [
      "Average accuracy: 0.49399999999999994\n"
     ]
    }
   ],
   "source": [
    "accuracies = []\n",
    "for _ in range(20):\n",
    "    # Split dataset\n",
    "    X_train_p, X_test_p, y_train_p, y_test_p = train_test_split(projected_embeddings, bias_debias_encoded, test_size=0.1)\n",
    "    \n",
    "    # Initialise classifier\n",
    "    clf = SVC(kernel='linear')\n",
    "    \n",
    "    # Fit classifier\n",
    "    clf.fit(X_train_p, y_train_p)\n",
    "    \n",
    "    # Predictions\n",
    "    y_pred_p = clf.predict(X_test_p)\n",
    "    \n",
    "    # Calculate accuracy and store it\n",
    "    acc = accuracy_score(y_test_p, y_pred_p)\n",
    "    accuracies.append(acc)\n",
    "\n",
    "average_accuracy = np.mean(accuracies)\n",
    "\n",
    "print(f\"Average accuracy: {average_accuracy}\")"
   ]
  },
  {
   "cell_type": "markdown",
   "metadata": {},
   "source": [
    "**Semantic Similarities between sentences**"
   ]
  },
  {
   "cell_type": "code",
   "execution_count": 16,
   "metadata": {},
   "outputs": [],
   "source": [
    "# Defining plotting functions from USE documentation\n",
    "def plot_similarity(labels, features, rotation):\n",
    "  corr = np.inner(features, features)\n",
    "  sns.set(font_scale=1.2)\n",
    "  g = sns.heatmap(\n",
    "      corr,\n",
    "      xticklabels=labels,\n",
    "      yticklabels=labels,\n",
    "      vmin=0,\n",
    "      vmax=1,\n",
    "      cmap=\"YlOrRd\")\n",
    "  g.set_xticklabels(labels, rotation=rotation)\n",
    "  g.set_title(\"Semantic Textual Similarity\")\n",
    "\n",
    "def run_and_plot(messages_):\n",
    "  message_embeddings_ = embed(messages_)\n",
    "  plot_similarity([1,2,3], message_embeddings_, 90)"
   ]
  },
  {
   "cell_type": "code",
   "execution_count": 25,
   "metadata": {},
   "outputs": [
    {
     "data": {
      "text/html": [
       "<div>\n",
       "<style scoped>\n",
       "    .dataframe tbody tr th:only-of-type {\n",
       "        vertical-align: middle;\n",
       "    }\n",
       "\n",
       "    .dataframe tbody tr th {\n",
       "        vertical-align: top;\n",
       "    }\n",
       "\n",
       "    .dataframe thead th {\n",
       "        text-align: right;\n",
       "    }\n",
       "</style>\n",
       "<table border=\"1\" class=\"dataframe\">\n",
       "  <thead>\n",
       "    <tr style=\"text-align: right;\">\n",
       "      <th></th>\n",
       "      <th>text</th>\n",
       "      <th>news_link</th>\n",
       "      <th>outlet</th>\n",
       "      <th>topic</th>\n",
       "      <th>type</th>\n",
       "      <th>label_bias</th>\n",
       "      <th>label_opinion</th>\n",
       "      <th>biased_words</th>\n",
       "    </tr>\n",
       "  </thead>\n",
       "  <tbody>\n",
       "    <tr>\n",
       "      <th>1</th>\n",
       "      <td>WILL noted gender dysphoria is a mental health...</td>\n",
       "      <td>https://www.breitbart.com/politics/2020/02/26/...</td>\n",
       "      <td>breitbart</td>\n",
       "      <td>gender</td>\n",
       "      <td>right</td>\n",
       "      <td>Non-biased</td>\n",
       "      <td>Entirely factual</td>\n",
       "      <td>[]</td>\n",
       "    </tr>\n",
       "    <tr>\n",
       "      <th>2</th>\n",
       "      <td>A Gallup poll reports that women are still mor...</td>\n",
       "      <td>https://eu.usatoday.com/story/news/nation/2020...</td>\n",
       "      <td>usa-today</td>\n",
       "      <td>gender</td>\n",
       "      <td>center</td>\n",
       "      <td>Non-biased</td>\n",
       "      <td>Entirely factual</td>\n",
       "      <td>[]</td>\n",
       "    </tr>\n",
       "    <tr>\n",
       "      <th>3</th>\n",
       "      <td>They came to the United States from all corner...</td>\n",
       "      <td>https://www.foxnews.com/us/war-criminals-among...</td>\n",
       "      <td>fox-news</td>\n",
       "      <td>immigration</td>\n",
       "      <td>right</td>\n",
       "      <td>Biased</td>\n",
       "      <td>No agreement</td>\n",
       "      <td>['claiming']</td>\n",
       "    </tr>\n",
       "    <tr>\n",
       "      <th>4</th>\n",
       "      <td>In Tuesday night's debate, the two progressive...</td>\n",
       "      <td>https://www.nbcnews.com/politics/2020-election...</td>\n",
       "      <td>msnbc</td>\n",
       "      <td>gender</td>\n",
       "      <td>left</td>\n",
       "      <td>Biased</td>\n",
       "      <td>Somewhat factual but also opinionated</td>\n",
       "      <td>['tit-for-tat']</td>\n",
       "    </tr>\n",
       "    <tr>\n",
       "      <th>5</th>\n",
       "      <td>The photograph of Katie Bouman sitting in fron...</td>\n",
       "      <td>https://www.alternet.org/2019/04/how-the-first...</td>\n",
       "      <td>alternet</td>\n",
       "      <td>gender</td>\n",
       "      <td>left</td>\n",
       "      <td>Biased</td>\n",
       "      <td>Expresses writer’s opinion</td>\n",
       "      <td>['coterie', 'sexist', 'trolls']</td>\n",
       "    </tr>\n",
       "    <tr>\n",
       "      <th>6</th>\n",
       "      <td>Victoria’s Secret chose the middle of a worldw...</td>\n",
       "      <td>https://www.breitbart.com/entertainment/2020/0...</td>\n",
       "      <td>breitbart</td>\n",
       "      <td>gender</td>\n",
       "      <td>right</td>\n",
       "      <td>Non-biased</td>\n",
       "      <td>Entirely factual</td>\n",
       "      <td>[]</td>\n",
       "    </tr>\n",
       "    <tr>\n",
       "      <th>7</th>\n",
       "      <td>An organization backed by Saudi Arabia accused...</td>\n",
       "      <td>https://www.reuters.com/article/us-saudi-asylu...</td>\n",
       "      <td>reuters</td>\n",
       "      <td>gender</td>\n",
       "      <td>center</td>\n",
       "      <td>Non-biased</td>\n",
       "      <td>Entirely factual</td>\n",
       "      <td>[]</td>\n",
       "    </tr>\n",
       "    <tr>\n",
       "      <th>8</th>\n",
       "      <td>People from populations targeted by these immi...</td>\n",
       "      <td>https://www.reuters.com/article/us-health-ment...</td>\n",
       "      <td>reuters</td>\n",
       "      <td>immigration</td>\n",
       "      <td>center</td>\n",
       "      <td>Non-biased</td>\n",
       "      <td>Entirely factual</td>\n",
       "      <td>['might']</td>\n",
       "    </tr>\n",
       "    <tr>\n",
       "      <th>9</th>\n",
       "      <td>For example, business leaders say the nation’s...</td>\n",
       "      <td>https://www.breitbart.com/economy/2020/01/09/c...</td>\n",
       "      <td>breitbart</td>\n",
       "      <td>immigration</td>\n",
       "      <td>right</td>\n",
       "      <td>Non-biased</td>\n",
       "      <td>Entirely factual</td>\n",
       "      <td>[]</td>\n",
       "    </tr>\n",
       "    <tr>\n",
       "      <th>10</th>\n",
       "      <td>The Trump Administration hasn’t built a single...</td>\n",
       "      <td>https://www.alternet.org/2019/08/private-gofun...</td>\n",
       "      <td>alternet</td>\n",
       "      <td>immigration</td>\n",
       "      <td>left</td>\n",
       "      <td>Biased</td>\n",
       "      <td>Somewhat factual but also opinionated</td>\n",
       "      <td>['claims', 'riling']</td>\n",
       "    </tr>\n",
       "  </tbody>\n",
       "</table>\n",
       "</div>"
      ],
      "text/plain": [
       "                                                 text  \\\n",
       "1   WILL noted gender dysphoria is a mental health...   \n",
       "2   A Gallup poll reports that women are still mor...   \n",
       "3   They came to the United States from all corner...   \n",
       "4   In Tuesday night's debate, the two progressive...   \n",
       "5   The photograph of Katie Bouman sitting in fron...   \n",
       "6   Victoria’s Secret chose the middle of a worldw...   \n",
       "7   An organization backed by Saudi Arabia accused...   \n",
       "8   People from populations targeted by these immi...   \n",
       "9   For example, business leaders say the nation’s...   \n",
       "10  The Trump Administration hasn’t built a single...   \n",
       "\n",
       "                                            news_link     outlet        topic  \\\n",
       "1   https://www.breitbart.com/politics/2020/02/26/...  breitbart       gender   \n",
       "2   https://eu.usatoday.com/story/news/nation/2020...  usa-today       gender   \n",
       "3   https://www.foxnews.com/us/war-criminals-among...   fox-news  immigration   \n",
       "4   https://www.nbcnews.com/politics/2020-election...      msnbc       gender   \n",
       "5   https://www.alternet.org/2019/04/how-the-first...   alternet       gender   \n",
       "6   https://www.breitbart.com/entertainment/2020/0...  breitbart       gender   \n",
       "7   https://www.reuters.com/article/us-saudi-asylu...    reuters       gender   \n",
       "8   https://www.reuters.com/article/us-health-ment...    reuters  immigration   \n",
       "9   https://www.breitbart.com/economy/2020/01/09/c...  breitbart  immigration   \n",
       "10  https://www.alternet.org/2019/08/private-gofun...   alternet  immigration   \n",
       "\n",
       "      type  label_bias                          label_opinion  \\\n",
       "1    right  Non-biased                       Entirely factual   \n",
       "2   center  Non-biased                       Entirely factual   \n",
       "3    right      Biased                           No agreement   \n",
       "4     left      Biased  Somewhat factual but also opinionated   \n",
       "5     left      Biased             Expresses writer’s opinion   \n",
       "6    right  Non-biased                       Entirely factual   \n",
       "7   center  Non-biased                       Entirely factual   \n",
       "8   center  Non-biased                       Entirely factual   \n",
       "9    right  Non-biased                       Entirely factual   \n",
       "10    left      Biased  Somewhat factual but also opinionated   \n",
       "\n",
       "                       biased_words  \n",
       "1                                []  \n",
       "2                                []  \n",
       "3                      ['claiming']  \n",
       "4                   ['tit-for-tat']  \n",
       "5   ['coterie', 'sexist', 'trolls']  \n",
       "6                                []  \n",
       "7                                []  \n",
       "8                         ['might']  \n",
       "9                                []  \n",
       "10             ['claims', 'riling']  "
      ]
     },
     "execution_count": 25,
     "metadata": {},
     "output_type": "execute_result"
    }
   ],
   "source": [
    "# Visualise dataframe to pick out some sentences\n",
    "df_main.head(10)"
   ]
  },
  {
   "cell_type": "markdown",
   "metadata": {},
   "source": [
    "Semantic similarities before debiasing. We have picked 3 sentences,  number 2, 43 and 42 from the list above. \n",
    "\n",
    "Sentence 2: **A year after a Democratic wave swept an unprecedented number of women and people of color into higher office all across America, and at a time when Trump’s approval rating is cratering, women should not be afraid of nominating another woman to drive Trump and his brand of pig-headed patriarchy out of the Oval Office.**\n",
    "\n",
    "topic: gender, biased, contains two biased words \"cratering\" and \"pig-headed\"\n",
    "\n",
    "Sentence 43: **Borrowing from Hillary Clinton, leftist Italian media have labeled those attending the pro-family Congress a “list of deplorables,” calling pro-life and pro-family advocates “neofascists” and “homophobes.”**\n",
    "\n",
    "topic: gender, biased, contains one biased word \"leftist\"\n",
    "\n",
    "Sentence 42: **The Roman Catholic Church allows only men to be ordained as priests and women have traditionally been consigned to the shadows of its administration.**\n",
    "\n",
    "topic: gender, non-biased, contains no biased words\n"
   ]
  },
  {
   "cell_type": "code",
   "execution_count": 18,
   "metadata": {},
   "outputs": [
    {
     "data": {
      "image/png": "[encoded data removed]",
      "text/plain": [
       "<Figure size 640x480 with 2 Axes>"
      ]
     },
     "metadata": {},
     "output_type": "display_data"
    }
   ],
   "source": [
    "messages = [text_embeddings[2], text_embeddings[43], text_embeddings[42]]\n",
    "plot_similarity([1,2,3],messages,90)"
   ]
  },
  {
   "cell_type": "code",
   "execution_count": 19,
   "metadata": {},
   "outputs": [
    {
     "data": {
      "image/png": "[encoded data removed]",
      "text/plain": [
       "<Figure size 640x480 with 2 Axes>"
      ]
     },
     "metadata": {},
     "output_type": "display_data"
    }
   ],
   "source": [
    "messages_debiased  = [projected_embeddings[2], projected_embeddings[43], projected_embeddings[42]]\n",
    "plot_similarity([1,2,3],messages_debiased,90)"
   ]
  },
  {
   "cell_type": "markdown",
   "metadata": {},
   "source": [
    "Manual debiasing by removing the biased words"
   ]
  },
  {
   "cell_type": "code",
   "execution_count": 20,
   "metadata": {},
   "outputs": [
    {
     "name": "stdout",
     "output_type": "stream",
     "text": [
      "A Gallup poll reports that women are still more likely to do laundry, clean the house, do grocery shopping, prepare meals, wash dishes and make decisions about furniture and decorations – even among younger generations who are reportedly more egalitarian as ever.\n"
     ]
    }
   ],
   "source": [
    "sentence_1 = df_main['text'][2]\n",
    "print(sentence_1)\n",
    "\n",
    "sentence_1d = 'A year after a Democratic wave swept an unprecedented number of women and people of color into higher office all across America, and at a time when Trump’s approval rating is _, women should not be afraid of nominating another woman to drive Trump and his brand of patriarchy out of the Oval Office.'"
   ]
  },
  {
   "cell_type": "code",
   "execution_count": 21,
   "metadata": {},
   "outputs": [
    {
     "name": "stdout",
     "output_type": "stream",
     "text": [
      "But Sanders’ growing popularity – even after expressing sympathetic views of Castro and other authoritarian regimes – underscores a problem for Florida Democrats, especially in South Florida, which has a large number of Cubans, Venezuelans and Nicaraguans whose families suffered under dictators.\n"
     ]
    }
   ],
   "source": [
    "sentence_2 = df_main['text'][43]\n",
    "print(sentence_2)\n",
    "sentence_2d = 'Borrowing from Hillary Clinton, Italian media have labeled those attending the pro-family Congress a “list of deplorables,” calling pro-life and pro-family advocates “neofascists” and “homophobes.”'"
   ]
  },
  {
   "cell_type": "code",
   "execution_count": 22,
   "metadata": {},
   "outputs": [
    {
     "name": "stdout",
     "output_type": "stream",
     "text": [
      "Polls show the transgender ideology is deeply unpopular, especially among women and parents.\n"
     ]
    }
   ],
   "source": [
    "sentence_3 = df_main['text'][42]\n",
    "print(sentence_3)"
   ]
  },
  {
   "cell_type": "code",
   "execution_count": 23,
   "metadata": {},
   "outputs": [
    {
     "data": {
      "image/png": "[encoded data removed]",
      "text/plain": [
       "<Figure size 640x480 with 2 Axes>"
      ]
     },
     "metadata": {},
     "output_type": "display_data"
    }
   ],
   "source": [
    "messages_manual_debias = [sentence_1d, sentence_2d, sentence_3]\n",
    "run_and_plot(messages_manual_debias)"
   ]
  },
  {
   "cell_type": "code",
   "execution_count": null,
   "metadata": {},
   "outputs": [],
   "source": []
  }
 ],
 "metadata": {
  "kernelspec": {
   "display_name": "base",
   "language": "python",
   "name": "python3"
  },
  "language_info": {
   "codemirror_mode": {
    "name": "ipython",
    "version": 3
   },
   "file_extension": ".py",
   "mimetype": "text/x-python",
   "name": "python",
   "nbconvert_exporter": "python",
   "pygments_lexer": "ipython3",
   "version": "3.10.4"
  }
 },
 "nbformat": 4,
 "nbformat_minor": 2
}
