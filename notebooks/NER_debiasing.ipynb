{
 "cells": [
  {
   "cell_type": "markdown",
   "metadata": {},
   "source": [
    "# Using NER to \"manually\" debias sentences"
   ]
  },
  {
   "cell_type": "code",
   "execution_count": 1,
   "metadata": {},
   "outputs": [
    {
     "name": "stdout",
     "output_type": "stream",
     "text": [
      "WARNING:tensorflow:From c:\\Users\\tchoudhury\\AppData\\Local\\anaconda3\\Lib\\site-packages\\tf_keras\\src\\losses.py:2976: The name tf.losses.sparse_softmax_cross_entropy is deprecated. Please use tf.compat.v1.losses.sparse_softmax_cross_entropy instead.\n",
      "\n"
     ]
    }
   ],
   "source": [
    "# Import media bias dataset\n",
    "import pandas as pd\n",
    "import transformers\n",
    "from transformers import AutoTokenizer, AutoModelForTokenClassification\n",
    "from transformers import pipeline\n",
    "from absl import logging\n",
    "import tensorflow as tf\n",
    "import tensorflow_hub as hub\n",
    "import matplotlib.pyplot as plt\n",
    "import numpy as np\n",
    "import os\n",
    "import pandas as pd\n",
    "import re\n",
    "import seaborn as sns\n",
    "from sklearn.preprocessing import LabelEncoder\n",
    "from sklearn.metrics import accuracy_score\n",
    "\n"
   ]
  },
  {
   "cell_type": "markdown",
   "metadata": {},
   "source": [
    "The dataset we are using can be found [here](https://github.com/Media-Bias-Group/Neural-Media-Bias-Detection-Using-Distant-Supervision-With-BABE/tree/main/data) as \"final_labels_sg1\". It is a dataset containing news headlines which have been labelled manually as biased or non-biased, including any potential biased words. In this notebook we want to identify if a country or city is mentioned in the text, and if so, remove the corresponding biased words from the text. We can then compare the textual similarity between a debiased sentence and an originally non-biased sentence, where the sentiment is similar, to assess the debiasing."
   ]
  },
  {
   "cell_type": "code",
   "execution_count": 2,
   "metadata": {},
   "outputs": [
    {
     "data": {
      "text/html": [
       "<div>\n",
       "<style scoped>\n",
       "    .dataframe tbody tr th:only-of-type {\n",
       "        vertical-align: middle;\n",
       "    }\n",
       "\n",
       "    .dataframe tbody tr th {\n",
       "        vertical-align: top;\n",
       "    }\n",
       "\n",
       "    .dataframe thead th {\n",
       "        text-align: right;\n",
       "    }\n",
       "</style>\n",
       "<table border=\"1\" class=\"dataframe\">\n",
       "  <thead>\n",
       "    <tr style=\"text-align: right;\">\n",
       "      <th></th>\n",
       "      <th>text</th>\n",
       "      <th>news_link</th>\n",
       "      <th>outlet</th>\n",
       "      <th>topic</th>\n",
       "      <th>type</th>\n",
       "      <th>label_bias</th>\n",
       "      <th>label_opinion</th>\n",
       "      <th>biased_words</th>\n",
       "    </tr>\n",
       "  </thead>\n",
       "  <tbody>\n",
       "    <tr>\n",
       "      <th>0</th>\n",
       "      <td>The Republican president assumed he was helpin...</td>\n",
       "      <td>http://www.msnbc.com/rachel-maddow-show/auto-i...</td>\n",
       "      <td>msnbc</td>\n",
       "      <td>environment</td>\n",
       "      <td>left</td>\n",
       "      <td>Biased</td>\n",
       "      <td>Expresses writer’s opinion</td>\n",
       "      <td>[]</td>\n",
       "    </tr>\n",
       "    <tr>\n",
       "      <th>1</th>\n",
       "      <td>Though the indictment of a woman for her own p...</td>\n",
       "      <td>https://eu.usatoday.com/story/news/nation/2019...</td>\n",
       "      <td>usa-today</td>\n",
       "      <td>abortion</td>\n",
       "      <td>center</td>\n",
       "      <td>Non-biased</td>\n",
       "      <td>Somewhat factual but also opinionated</td>\n",
       "      <td>[]</td>\n",
       "    </tr>\n",
       "    <tr>\n",
       "      <th>2</th>\n",
       "      <td>Ingraham began the exchange by noting American...</td>\n",
       "      <td>https://www.breitbart.com/economy/2020/01/12/d...</td>\n",
       "      <td>breitbart</td>\n",
       "      <td>immigration</td>\n",
       "      <td>right</td>\n",
       "      <td>No agreement</td>\n",
       "      <td>No agreement</td>\n",
       "      <td>['flood']</td>\n",
       "    </tr>\n",
       "  </tbody>\n",
       "</table>\n",
       "</div>"
      ],
      "text/plain": [
       "                                                text  \\\n",
       "0  The Republican president assumed he was helpin...   \n",
       "1  Though the indictment of a woman for her own p...   \n",
       "2  Ingraham began the exchange by noting American...   \n",
       "\n",
       "                                           news_link     outlet        topic  \\\n",
       "0  http://www.msnbc.com/rachel-maddow-show/auto-i...      msnbc  environment   \n",
       "1  https://eu.usatoday.com/story/news/nation/2019...  usa-today     abortion   \n",
       "2  https://www.breitbart.com/economy/2020/01/12/d...  breitbart  immigration   \n",
       "\n",
       "     type    label_bias                          label_opinion biased_words  \n",
       "0    left        Biased             Expresses writer’s opinion           []  \n",
       "1  center    Non-biased  Somewhat factual but also opinionated           []  \n",
       "2   right  No agreement                           No agreement    ['flood']  "
      ]
     },
     "execution_count": 2,
     "metadata": {},
     "output_type": "execute_result"
    }
   ],
   "source": [
    "url='https://docs.google.com/spreadsheets/d/1KKPAiOppopEzbnINsdl-OVR8WOg2ly1a/edit?usp=drive_link&ouid=109883226317661265367&rtpof=true&sd=true'\n",
    "file_id=url.split('/')[-2]\n",
    "dwn_url='https://drive.google.com/uc?id=' + file_id\n",
    "df = pd.read_excel(dwn_url)\n",
    "df.head(3)\n"
   ]
  },
  {
   "cell_type": "markdown",
   "metadata": {},
   "source": [
    "We will use Named-Entity Recognition (NER) to identify whether the sentence contains a named city or country. These are pre-trained models designed to pick out names or entities within a text, for example cities or countries. It is possible to train your own NER model using spaCy to identify entities specific to your domain however here we will use one that is pre-trained to identify cities and countries, as these could be a potential source of bias depending on what city or country is mentioned. As for now, we are not looking at the specific city or country, rather just checking whether one is mentioned or not in the text."
   ]
  },
  {
   "cell_type": "code",
   "execution_count": 3,
   "metadata": {},
   "outputs": [],
   "source": [
    "tokenizer = AutoTokenizer.from_pretrained(\"ml6team/bert-base-uncased-city-country-ner\")\n",
    "model = AutoModelForTokenClassification.from_pretrained(\"ml6team/bert-base-uncased-city-country-ner\")\n",
    "nlp = pipeline('ner', model=model, tokenizer=tokenizer, aggregation_strategy=\"simple\", device=0)"
   ]
  },
  {
   "cell_type": "markdown",
   "metadata": {},
   "source": [
    "Applying the NER model to the text in the dataframe and adding a new column \"ner\" that contains the entities (if any)"
   ]
  },
  {
   "cell_type": "code",
   "execution_count": 4,
   "metadata": {},
   "outputs": [
    {
     "name": "stderr",
     "output_type": "stream",
     "text": [
      "c:\\Users\\tchoudhury\\AppData\\Local\\anaconda3\\Lib\\site-packages\\transformers\\models\\bert\\modeling_bert.py:439: UserWarning: 1Torch was not compiled with flash attention. (Triggered internally at C:\\cb\\pytorch_1000000000000\\work\\aten\\src\\ATen\\native\\transformers\\cuda\\sdp_utils.cpp:455.)\n",
      "  attn_output = torch.nn.functional.scaled_dot_product_attention(\n",
      "You seem to be using the pipelines sequentially on GPU. In order to maximize efficiency please use a dataset\n"
     ]
    }
   ],
   "source": [
    "df_places = pd.DataFrame(df['text'].apply(nlp))\n",
    "df_places = df_places.rename(columns={'text':'ner'})"
   ]
  },
  {
   "cell_type": "markdown",
   "metadata": {},
   "source": [
    "We now have a dataframe containing the text, whether or not a city or country appears in the text, whether or not the text is biased, and any potential biased words in the text"
   ]
  },
  {
   "cell_type": "code",
   "execution_count": 5,
   "metadata": {},
   "outputs": [],
   "source": [
    "df_ner = pd.concat([df_places,df], axis=1)"
   ]
  },
  {
   "cell_type": "markdown",
   "metadata": {},
   "source": [
    "Removing the biased words from the sentences, using the following logic: If the 'ner' and 'biased_words' columns are not empty, then remove the biased words from the corresponding text."
   ]
  },
  {
   "cell_type": "code",
   "execution_count": 6,
   "metadata": {},
   "outputs": [],
   "source": [
    "import ast\n",
    "# Convert string representations of lists into actual lists\n",
    "df_ner['ner'] = df_ner['ner'].apply(lambda x: ast.literal_eval(x) if isinstance(x, str) else x)\n",
    "df_ner['biased_words'] = df_ner['biased_words'].apply(lambda x: ast.literal_eval(x) if isinstance(x, str) else x)\n"
   ]
  },
  {
   "cell_type": "code",
   "execution_count": 7,
   "metadata": {},
   "outputs": [],
   "source": [
    "def remove_biased_words(row):\n",
    "    text = row['text']\n",
    "    \n",
    "    # Initialize the filtered sentence with the original text\n",
    "    filtered_sentence = text\n",
    "    \n",
    "    # Only proceed if both 'ner' and 'biased_words' are not empty\n",
    "    if row['ner'] and row['biased_words']:\n",
    "        biased_words = set(word.lower() for word in row['biased_words'])\n",
    "        words = text.split()\n",
    "        filtered_words = [word for word in words if word.lower() not in biased_words]\n",
    "        filtered_sentence = ' '.join(filtered_words)\n",
    "    \n",
    "    return filtered_sentence\n",
    "\n",
    "# Apply the function to each row\n",
    "df_ner['text'] = df_ner.apply(remove_biased_words, axis=1)"
   ]
  },
  {
   "cell_type": "markdown",
   "metadata": {},
   "source": [
    "```df_main``` is a dataframe containing the original text in one column and the \"debiased text\" in another"
   ]
  },
  {
   "cell_type": "code",
   "execution_count": 8,
   "metadata": {},
   "outputs": [],
   "source": [
    "df_ner = df_ner.rename(columns={'text':'debiased_text'})\n",
    "df_main = pd.concat([df['text'], df_ner['debiased_text']], axis=1)"
   ]
  },
  {
   "cell_type": "markdown",
   "metadata": {},
   "source": [
    "Importing Universal Sentence Encoder (USE) for similarity and sentiment analysis. USE is a deep learning model which encodes textual inputs into high-dimensional vector spaces, preserving any semantic information, i.e. sentences with similar semantic meaning will have similar embeddings. \n",
    "\n",
    "Our hypothesis is: suppose there are two sentences one being biased and one non-biased, with similar semtantic meanings (i.e. talking about similar subjects). After debiasing the biased sentence we should still expect a similar semantic meaning. If the semantic meaning changes it could be because the biased words are the contributing factor to the sentence sentiment. "
   ]
  },
  {
   "cell_type": "code",
   "execution_count": 9,
   "metadata": {},
   "outputs": [
    {
     "name": "stdout",
     "output_type": "stream",
     "text": [
      "WARNING:tensorflow:From c:\\Users\\tchoudhury\\AppData\\Local\\anaconda3\\Lib\\site-packages\\tensorflow_hub\\resolver.py:120: The name tf.gfile.MakeDirs is deprecated. Please use tf.io.gfile.makedirs instead.\n",
      "\n"
     ]
    },
    {
     "name": "stderr",
     "output_type": "stream",
     "text": [
      "WARNING:tensorflow:From c:\\Users\\tchoudhury\\AppData\\Local\\anaconda3\\Lib\\site-packages\\tensorflow_hub\\resolver.py:120: The name tf.gfile.MakeDirs is deprecated. Please use tf.io.gfile.makedirs instead.\n",
      "\n"
     ]
    },
    {
     "name": "stdout",
     "output_type": "stream",
     "text": [
      "WARNING:tensorflow:From c:\\Users\\tchoudhury\\AppData\\Local\\anaconda3\\Lib\\site-packages\\tensorflow_hub\\module_v2.py:126: The name tf.saved_model.load_v2 is deprecated. Please use tf.compat.v2.saved_model.load instead.\n",
      "\n"
     ]
    },
    {
     "name": "stderr",
     "output_type": "stream",
     "text": [
      "WARNING:tensorflow:From c:\\Users\\tchoudhury\\AppData\\Local\\anaconda3\\Lib\\site-packages\\tensorflow_hub\\module_v2.py:126: The name tf.saved_model.load_v2 is deprecated. Please use tf.compat.v2.saved_model.load instead.\n",
      "\n"
     ]
    },
    {
     "name": "stdout",
     "output_type": "stream",
     "text": [
      "module https://tfhub.dev/google/universal-sentence-encoder/4 loaded\n"
     ]
    }
   ],
   "source": [
    "module_url = \"https://tfhub.dev/google/universal-sentence-encoder/4\"\n",
    "model = hub.load(module_url)\n",
    "print (\"module %s loaded\" % module_url)\n",
    "def embed(input):\n",
    "  return model(input)"
   ]
  },
  {
   "cell_type": "markdown",
   "metadata": {},
   "source": [
    "Attempting to pick out suitable sentences for comparison. We will filter by topic: immigration only as these are more likely to yield semantically similar sentences."
   ]
  },
  {
   "cell_type": "code",
   "execution_count": 10,
   "metadata": {},
   "outputs": [
    {
     "data": {
      "text/html": [
       "<div>\n",
       "<style scoped>\n",
       "    .dataframe tbody tr th:only-of-type {\n",
       "        vertical-align: middle;\n",
       "    }\n",
       "\n",
       "    .dataframe tbody tr th {\n",
       "        vertical-align: top;\n",
       "    }\n",
       "\n",
       "    .dataframe thead th {\n",
       "        text-align: right;\n",
       "    }\n",
       "</style>\n",
       "<table border=\"1\" class=\"dataframe\">\n",
       "  <thead>\n",
       "    <tr style=\"text-align: right;\">\n",
       "      <th></th>\n",
       "      <th>ner</th>\n",
       "      <th>debiased_text</th>\n",
       "      <th>news_link</th>\n",
       "      <th>outlet</th>\n",
       "      <th>topic</th>\n",
       "      <th>type</th>\n",
       "      <th>label_bias</th>\n",
       "      <th>label_opinion</th>\n",
       "      <th>biased_words</th>\n",
       "    </tr>\n",
       "  </thead>\n",
       "  <tbody>\n",
       "    <tr>\n",
       "      <th>2</th>\n",
       "      <td>[]</td>\n",
       "      <td>Ingraham began the ex...</td>\n",
       "      <td>https://www.breitbart...</td>\n",
       "      <td>breitbart</td>\n",
       "      <td>immigration</td>\n",
       "      <td>right</td>\n",
       "      <td>No agreement</td>\n",
       "      <td>No agreement</td>\n",
       "      <td>[flood]</td>\n",
       "    </tr>\n",
       "    <tr>\n",
       "      <th>6</th>\n",
       "      <td>[{'entity_group': 'CI...</td>\n",
       "      <td>After the airstrike t...</td>\n",
       "      <td>https://eu.usatoday.c...</td>\n",
       "      <td>usa-today</td>\n",
       "      <td>immigration</td>\n",
       "      <td>center</td>\n",
       "      <td>Non-biased</td>\n",
       "      <td>Entirely factual</td>\n",
       "      <td>[]</td>\n",
       "    </tr>\n",
       "    <tr>\n",
       "      <th>11</th>\n",
       "      <td>[{'entity_group': 'CI...</td>\n",
       "      <td>Last week, Ankara bro...</td>\n",
       "      <td>https://www.breitbart...</td>\n",
       "      <td>breitbart</td>\n",
       "      <td>immigration</td>\n",
       "      <td>right</td>\n",
       "      <td>Biased</td>\n",
       "      <td>No agreement</td>\n",
       "      <td>[]</td>\n",
       "    </tr>\n",
       "    <tr>\n",
       "      <th>28</th>\n",
       "      <td>[]</td>\n",
       "      <td>In practical terms, T...</td>\n",
       "      <td>http://www.msnbc.com/...</td>\n",
       "      <td>msnbc</td>\n",
       "      <td>immigration</td>\n",
       "      <td>left</td>\n",
       "      <td>Biased</td>\n",
       "      <td>Somewhat factual but ...</td>\n",
       "      <td>[dramatically, curtai...</td>\n",
       "    </tr>\n",
       "    <tr>\n",
       "      <th>29</th>\n",
       "      <td>[{'entity_group': 'CO...</td>\n",
       "      <td>Victorina Morales, an...</td>\n",
       "      <td>https://eu.usatoday.c...</td>\n",
       "      <td>usa-today</td>\n",
       "      <td>immigration</td>\n",
       "      <td>center</td>\n",
       "      <td>Non-biased</td>\n",
       "      <td>Entirely factual</td>\n",
       "      <td>[]</td>\n",
       "    </tr>\n",
       "    <tr>\n",
       "      <th>...</th>\n",
       "      <td>...</td>\n",
       "      <td>...</td>\n",
       "      <td>...</td>\n",
       "      <td>...</td>\n",
       "      <td>...</td>\n",
       "      <td>...</td>\n",
       "      <td>...</td>\n",
       "      <td>...</td>\n",
       "      <td>...</td>\n",
       "    </tr>\n",
       "    <tr>\n",
       "      <th>1618</th>\n",
       "      <td>[{'entity_group': 'CI...</td>\n",
       "      <td>In October, Breitbart...</td>\n",
       "      <td>https://www.breitbart...</td>\n",
       "      <td>breitbart</td>\n",
       "      <td>immigration</td>\n",
       "      <td>right</td>\n",
       "      <td>Biased</td>\n",
       "      <td>Entirely factual</td>\n",
       "      <td>[allegedly]</td>\n",
       "    </tr>\n",
       "    <tr>\n",
       "      <th>1623</th>\n",
       "      <td>[{'entity_group': 'CI...</td>\n",
       "      <td>But as early as this ...</td>\n",
       "      <td>https://eu.usatoday.c...</td>\n",
       "      <td>usa-today</td>\n",
       "      <td>immigration</td>\n",
       "      <td>center</td>\n",
       "      <td>Non-biased</td>\n",
       "      <td>Entirely factual</td>\n",
       "      <td>[]</td>\n",
       "    </tr>\n",
       "    <tr>\n",
       "      <th>1645</th>\n",
       "      <td>[]</td>\n",
       "      <td>The Trump Administrat...</td>\n",
       "      <td>https://www.alternet....</td>\n",
       "      <td>alternet</td>\n",
       "      <td>immigration</td>\n",
       "      <td>left</td>\n",
       "      <td>Biased</td>\n",
       "      <td>Somewhat factual but ...</td>\n",
       "      <td>[claims, riling]</td>\n",
       "    </tr>\n",
       "    <tr>\n",
       "      <th>1672</th>\n",
       "      <td>[]</td>\n",
       "      <td>Her plight, along wit...</td>\n",
       "      <td>https://eu.usatoday.c...</td>\n",
       "      <td>usa-today</td>\n",
       "      <td>immigration</td>\n",
       "      <td>center</td>\n",
       "      <td>Non-biased</td>\n",
       "      <td>Expresses writer’s op...</td>\n",
       "      <td>[]</td>\n",
       "    </tr>\n",
       "    <tr>\n",
       "      <th>1687</th>\n",
       "      <td>[]</td>\n",
       "      <td>The coalition claimed...</td>\n",
       "      <td>https://www.foxnews.c...</td>\n",
       "      <td>fox-news</td>\n",
       "      <td>immigration</td>\n",
       "      <td>right</td>\n",
       "      <td>No agreement</td>\n",
       "      <td>Entirely factual</td>\n",
       "      <td>[claimed]</td>\n",
       "    </tr>\n",
       "  </tbody>\n",
       "</table>\n",
       "<p>122 rows × 9 columns</p>\n",
       "</div>"
      ],
      "text/plain": [
       "                           ner             debiased_text  \\\n",
       "2                           []  Ingraham began the ex...   \n",
       "6     [{'entity_group': 'CI...  After the airstrike t...   \n",
       "11    [{'entity_group': 'CI...  Last week, Ankara bro...   \n",
       "28                          []  In practical terms, T...   \n",
       "29    [{'entity_group': 'CO...  Victorina Morales, an...   \n",
       "...                        ...                       ...   \n",
       "1618  [{'entity_group': 'CI...  In October, Breitbart...   \n",
       "1623  [{'entity_group': 'CI...  But as early as this ...   \n",
       "1645                        []  The Trump Administrat...   \n",
       "1672                        []  Her plight, along wit...   \n",
       "1687                        []  The coalition claimed...   \n",
       "\n",
       "                     news_link     outlet        topic    type    label_bias  \\\n",
       "2     https://www.breitbart...  breitbart  immigration   right  No agreement   \n",
       "6     https://eu.usatoday.c...  usa-today  immigration  center    Non-biased   \n",
       "11    https://www.breitbart...  breitbart  immigration   right        Biased   \n",
       "28    http://www.msnbc.com/...      msnbc  immigration    left        Biased   \n",
       "29    https://eu.usatoday.c...  usa-today  immigration  center    Non-biased   \n",
       "...                        ...        ...          ...     ...           ...   \n",
       "1618  https://www.breitbart...  breitbart  immigration   right        Biased   \n",
       "1623  https://eu.usatoday.c...  usa-today  immigration  center    Non-biased   \n",
       "1645  https://www.alternet....   alternet  immigration    left        Biased   \n",
       "1672  https://eu.usatoday.c...  usa-today  immigration  center    Non-biased   \n",
       "1687  https://www.foxnews.c...   fox-news  immigration   right  No agreement   \n",
       "\n",
       "                 label_opinion              biased_words  \n",
       "2                 No agreement                   [flood]  \n",
       "6             Entirely factual                        []  \n",
       "11                No agreement                        []  \n",
       "28    Somewhat factual but ...  [dramatically, curtai...  \n",
       "29            Entirely factual                        []  \n",
       "...                        ...                       ...  \n",
       "1618          Entirely factual               [allegedly]  \n",
       "1623          Entirely factual                        []  \n",
       "1645  Somewhat factual but ...          [claims, riling]  \n",
       "1672  Expresses writer’s op...                        []  \n",
       "1687          Entirely factual                 [claimed]  \n",
       "\n",
       "[122 rows x 9 columns]"
      ]
     },
     "execution_count": 10,
     "metadata": {},
     "output_type": "execute_result"
    }
   ],
   "source": [
    "pd.options.display.max_colwidth = 25\n",
    "# Filter dataframe to contain the 'immigration' topic only\n",
    "\n",
    "df_immigration = df_ner[df_ner['topic']=='immigration']\n",
    "df_immigration"
   ]
  },
  {
   "cell_type": "code",
   "execution_count": 11,
   "metadata": {},
   "outputs": [
    {
     "name": "stdout",
     "output_type": "stream",
     "text": [
      "Non-biased sentence: Victorina Morales, an undocumented immigrant from Guatemala, told reporters in a conference call on Tuesday that she was allowed to work at the resort after she submitted a fraudulent Social Security number and green card, which she alleges her supervisors knew were phony.\n",
      "Biased Sentence: In October, Breitbart London reported that French police are allegedly actively assisting migrants to avoid detection by UK Border Force, telling them when and when not to attempt to cross the channel, according to a people smuggler.\n",
      "Debiased Sentence In October, Breitbart London reported that French police are actively assisting migrants to avoid detection by UK Border Force, telling them when and when not to attempt to cross the channel, according to a people smuggler.\n"
     ]
    }
   ],
   "source": [
    "sentence_1 = df_main['text'][29]\n",
    "sentence_2 = df_main['text'][1618]\n",
    "sentence_2d = df_main['debiased_text'][1618]\n",
    "\n",
    "print(f'Non-biased sentence: {sentence_1}')\n",
    "print(f'Biased Sentence: {sentence_2}')\n",
    "print(f'Debiased Sentence {sentence_2d}')"
   ]
  },
  {
   "cell_type": "code",
   "execution_count": 12,
   "metadata": {},
   "outputs": [],
   "source": [
    "# Plotting functions\n",
    "def plot_similarity(labels, features, rotation):\n",
    "  corr = np.inner(features, features)\n",
    "  sns.set(font_scale=1.2)\n",
    "  g = sns.heatmap(\n",
    "      corr,\n",
    "      xticklabels=labels,\n",
    "      yticklabels=labels,\n",
    "      vmin=0,\n",
    "      vmax=1,\n",
    "      cmap=\"YlOrRd\")\n",
    "  g.set_xticklabels(labels, rotation=rotation)\n",
    "  g.set_title(\"Semantic Textual Similarity\")\n",
    "\n",
    "def run_and_plot(messages_):\n",
    "  message_embeddings_ = embed(messages_)\n",
    "  plot_similarity(['Sentence 1', 'Sentence 2'], message_embeddings_, 90)"
   ]
  },
  {
   "cell_type": "markdown",
   "metadata": {},
   "source": [
    "Textual similarity between ```sentence_1``` and ```sentence_2```"
   ]
  },
  {
   "cell_type": "code",
   "execution_count": 13,
   "metadata": {},
   "outputs": [
    {
     "data": {
      "image/png": "[encoded data removed]",
      "text/plain": [
       "<Figure size 640x480 with 2 Axes>"
      ]
     },
     "metadata": {},
     "output_type": "display_data"
    }
   ],
   "source": [
    "run_and_plot([sentence_1, sentence_2])"
   ]
  },
  {
   "cell_type": "markdown",
   "metadata": {},
   "source": [
    "Textual similarity between ```sentence_1``` and ```sentence_2d```"
   ]
  },
  {
   "cell_type": "code",
   "execution_count": 14,
   "metadata": {},
   "outputs": [
    {
     "data": {
      "image/png": "[encoded data removed]",
      "text/plain": [
       "<Figure size 640x480 with 2 Axes>"
      ]
     },
     "metadata": {},
     "output_type": "display_data"
    }
   ],
   "source": [
    "run_and_plot([sentence_1, sentence_2d])"
   ]
  },
  {
   "cell_type": "markdown",
   "metadata": {},
   "source": [
    "# Testing debiasing using a classifier "
   ]
  },
  {
   "cell_type": "markdown",
   "metadata": {},
   "source": [
    "Now that we have a debiased dataset (based on removing the biased words from sentences contaning country and/or city names) we can train a classifier to predict the bias using the biased dataset and then testing whether prediction of a biased sentence changes to non-biased by feeding in the non-biased sentence into the model. "
   ]
  },
  {
   "cell_type": "markdown",
   "metadata": {},
   "source": [
    "Convert the text to sentence embeddings using USE"
   ]
  },
  {
   "cell_type": "code",
   "execution_count": 15,
   "metadata": {},
   "outputs": [
    {
     "name": "stdout",
     "output_type": "stream",
     "text": [
      "module https://tfhub.dev/google/universal-sentence-encoder/4 loaded\n"
     ]
    }
   ],
   "source": [
    "module_url = \"https://tfhub.dev/google/universal-sentence-encoder/4\"\n",
    "model = hub.load(module_url)\n",
    "print (\"module %s loaded\" % module_url)\n",
    "def embed(input):\n",
    "  return model(input)\n",
    "\n",
    "\n",
    "text = df['text'].tolist()\n",
    "debiased_text = df_ner['debiased_text'].tolist()\n",
    "bias = df['label_bias']\n",
    "\n",
    "# Embed text\n",
    "text_embeddings = embed(text)\n",
    "text_embeddings = text_embeddings.numpy()\n",
    "\n",
    "# Embed debiased text\n",
    "debiased_text_embeddings = embed(debiased_text)\n",
    "debiased_text_embeddings = debiased_text_embeddings.numpy()\n",
    "\n",
    "# Encode bias labels\n",
    "le = LabelEncoder()\n",
    "bias_encoded = le.fit_transform(bias)\n"
   ]
  },
  {
   "cell_type": "markdown",
   "metadata": {},
   "source": [
    "Train a classifier using the text as the input and the bias as the target output"
   ]
  },
  {
   "cell_type": "code",
   "execution_count": 18,
   "metadata": {},
   "outputs": [
    {
     "name": "stdout",
     "output_type": "stream",
     "text": [
      "SVM: Average Accuracy over 10 iterations: 0.6464705882352941\n"
     ]
    }
   ],
   "source": [
    "from sklearn.svm import SVC\n",
    "from sklearn.model_selection import train_test_split\n",
    "\n",
    "models = {\n",
    "    #\"Logistic Regression\": LogisticRegression(),\n",
    "    #\"Random Forest\": RandomForestClassifier(),\n",
    "    #\"Gradient Boosting\": GradientBoostingClassifier(),\n",
    "    #\"Neural Network\": MLPClassifier(hidden_layer_sizes=(200,), max_iter=250),\n",
    "    #\"XGBoost\": xgb.XGBClassifier(),\n",
    "    \"SVM\": SVC(kernel='linear')\n",
    "}\n",
    "\n",
    "results = {}\n",
    "\n",
    "for model_name, model in models.items():\n",
    "    accuracies = []\n",
    "    for _ in range(10):\n",
    "        X_train, X_test, y_train, y_test = train_test_split(text_embeddings, bias_encoded, test_size=0.1)\n",
    "        model.fit(X_train, y_train)\n",
    "        y_pred = model.predict(X_test)\n",
    "        acc = accuracy_score(y_test, y_pred)\n",
    "        accuracies.append(acc)\n",
    "    average_accuracy = np.mean(accuracies)\n",
    "    results[model_name] = average_accuracy\n",
    "\n",
    "for model_name, avg_accuracy in results.items():\n",
    "    print(f\"{model_name}: Average Accuracy over 10 iterations: {avg_accuracy}\")"
   ]
  },
  {
   "cell_type": "markdown",
   "metadata": {},
   "source": [
    "Identify a biased sentence from the dataset and it's corresponding debiased counterpart. If debiasing is successful using this method, we would expect the model output to be 0 when the first sentence is fed in and then 1 for the second. "
   ]
  },
  {
   "cell_type": "code",
   "execution_count": 19,
   "metadata": {},
   "outputs": [],
   "source": [
    "idx = 35\n",
    "# An instance of a biased sentence \n",
    "x = text_embeddings[idx].reshape(1,-1)\n",
    "# An intance of the same sentence with the bias words removed\n",
    "x_d = debiased_text_embeddings[idx].reshape(1,-1)"
   ]
  },
  {
   "cell_type": "markdown",
   "metadata": {},
   "source": [
    "0 = Biased,\n",
    "1 = Non Biased,\n",
    "2 = No agreement"
   ]
  },
  {
   "cell_type": "markdown",
   "metadata": {},
   "source": [
    "It appears the output remains the same when the biased words are removed. This is somewhat expected, firstly, the model accuracy is only ~60% which is slightly better than guessing. The model may not even predict the bias correctly in the first place. Secondly, based on looking at the semantic meaning analysis above, we notice the semantic meaning between a biased and debiased sentence doesn't really change. Whilst this is something we want to a certain extent, this could indicate that removing a few words from the sentence isn't enough to change the semantic meaning enough to change the semantic bias. We want to preserve most if not all of the semantic meaning of the sentence, but change the sentence enough to remove the bias.\n",
    "\n",
    "This is most likely due to the wide variety of semantic meanings between the sentences (this can be observed anecdotally just by reading some of the sentences in the dataset) along with lack of training data for the model.\n",
    "\n",
    "This method could work better if we use an LLM or SLM to make the prediction and debias by using counterfactual generation instead of simply removing the biased words; the biased words in the dataset are manually labelled and could be subject to interpretation."
   ]
  },
  {
   "cell_type": "code",
   "execution_count": 20,
   "metadata": {},
   "outputs": [
    {
     "name": "stdout",
     "output_type": "stream",
     "text": [
      "[2]\n",
      "[2]\n"
     ]
    }
   ],
   "source": [
    "print(model.predict(x))\n",
    "print(model.predict(x_d))\n",
    "\n"
   ]
  },
  {
   "cell_type": "markdown",
   "metadata": {},
   "source": [
    "# Using FinBert and FinGPT"
   ]
  },
  {
   "cell_type": "markdown",
   "metadata": {},
   "source": [
    "Download FinGPT (WARNING: this requires a ~25GB download)"
   ]
  },
  {
   "cell_type": "code",
   "execution_count": 1,
   "metadata": {},
   "outputs": [
    {
     "name": "stderr",
     "output_type": "stream",
     "text": [
      "The argument `trust_remote_code` is to be used with Auto classes. It has no effect here and is ignored.\n",
      "The `load_in_4bit` and `load_in_8bit` arguments are deprecated and will be removed in the future versions. Please, pass a `BitsAndBytesConfig` object in `quantization_config` argument instead.\n"
     ]
    },
    {
     "data": {
      "application/vnd.jupyter.widget-view+json": {
       "model_id": "ff28cab1ffd1495283e5997879db2c9f",
       "version_major": 2,
       "version_minor": 0
      },
      "text/plain": [
       "Loading checkpoint shards:   0%|          | 0/3 [00:00<?, ?it/s]"
      ]
     },
     "metadata": {},
     "output_type": "display_data"
    }
   ],
   "source": [
    "from transformers import AutoModel, AutoTokenizer, AutoModelForCausalLM, LlamaForCausalLM, LlamaTokenizerFast\n",
    "from peft import PeftModel  # 0.5.0\n",
    "\n",
    "# Load Models\n",
    "base_model = \"NousResearch/Llama-2-13b-hf\" \n",
    "peft_model = \"FinGPT/fingpt-sentiment_llama2-13b_lora\"\n",
    "tokenizer = LlamaTokenizerFast.from_pretrained(base_model, trust_remote_code=True)\n",
    "tokenizer.pad_token = tokenizer.eos_token\n",
    "fingpt = LlamaForCausalLM.from_pretrained(base_model, trust_remote_code=True, device_map = \"cuda:0\", load_in_8bit = True,)\n",
    "fingpt = PeftModel.from_pretrained(fingpt, peft_model)\n",
    "fingpt = fingpt.eval()\n"
   ]
  },
  {
   "cell_type": "markdown",
   "metadata": {},
   "source": [
    "Create prompts. Here, the sentences are the same ones used above, including the first sentence which is a non-biased sentence, the second sentence which is a biased sentence and the third sentence which is the same as the second sentence, with the biased words removed."
   ]
  },
  {
   "cell_type": "code",
   "execution_count": 2,
   "metadata": {},
   "outputs": [],
   "source": [
    "# Make prompts\n",
    "prompt = [\n",
    "'''Instruction: Is this news headline biased? Please choose an answer from {biased/neutral/non-biased}\n",
    "Input: Victorina Morales, an undocumented immigrant from Guatemala, told reporters in a conference call on Tuesday that she was allowed to work at the resort after she submitted a fraudulent Social Security number and green card, which she alleges her supervisors knew were phony .\n",
    "Answer: ''',\n",
    "'''Instruction: Is this news headline biased? Please choose an answer from {biased/neutral/non-biased}\n",
    "Input: In October, Breitbart London reported that French police are allegedly actively assisting migrants to avoid detection by UK Border Force, telling them when and when not to attempt to cross the channel, according to a people smuggler .\n",
    "Answer: ''',\n",
    "'''Instruction: Is this news headline biased? Please choose an answer from {biased/neutral/non-biased}\n",
    "Input: In October, Breitbart London reported that French police are actively assisting migrants to avoid detection by UK Border Force, telling them when and when not to attempt to cross the channel, according to a people smuggler .\n",
    "Answer: ''',\n",
    "]"
   ]
  },
  {
   "cell_type": "markdown",
   "metadata": {},
   "source": [
    "FinGPT predicts all of the sentences to have neural biases. Perhaps we can look at the sentiment instead in hope that removing the biased words from the sentences would at least change the sentiment, irrespective of what the sentiment actually is."
   ]
  },
  {
   "cell_type": "code",
   "execution_count": 3,
   "metadata": {},
   "outputs": [
    {
     "name": "stderr",
     "output_type": "stream",
     "text": [
      "c:\\Users\\tchoudhury\\AppData\\Local\\anaconda3\\Lib\\site-packages\\transformers\\tokenization_utils_base.py:2778: UserWarning: `max_length` is ignored when `padding`=`True` and there is no truncation strategy. To pad to max length, use `padding='max_length'`.\n",
      "  warnings.warn(\n",
      "c:\\Users\\tchoudhury\\AppData\\Local\\anaconda3\\Lib\\site-packages\\transformers\\generation\\utils.py:1797: UserWarning: You are calling .generate() with the `input_ids` being on a device type different than your model's device. `input_ids` is on cpu, whereas the model is on cuda. You may experience unexpected behaviors or slower generation. Please make sure that you have put `input_ids` to the correct device by calling for example input_ids = input_ids.to('cuda') before running `.generate()`.\n",
      "  warnings.warn(\n",
      "c:\\Users\\tchoudhury\\AppData\\Local\\anaconda3\\Lib\\site-packages\\transformers\\models\\llama\\modeling_llama.py:648: UserWarning: 1Torch was not compiled with flash attention. (Triggered internally at C:\\cb\\pytorch_1000000000000\\work\\aten\\src\\ATen\\native\\transformers\\cuda\\sdp_utils.cpp:455.)\n",
      "  attn_output = torch.nn.functional.scaled_dot_product_attention(\n"
     ]
    },
    {
     "name": "stdout",
     "output_type": "stream",
     "text": [
      " neutral</s>\n",
      " neutral</s>\n",
      " neutral</s>\n"
     ]
    }
   ],
   "source": [
    "\n",
    "# Generate results\n",
    "tokens = tokenizer(prompt, return_tensors='pt', padding=True, max_length=512)\n",
    "res = fingpt.generate(**tokens, max_length=512)\n",
    "res_sentences = [tokenizer.decode(i) for i in res]\n",
    "out_text = [o.split(\"Answer: \")[1] for o in res_sentences]\n",
    "\n",
    "# show results\n",
    "for sentiment in out_text:\n",
    "    print(sentiment)\n",
    "\n",
    "# Output:    \n",
    "# non-biased\n",
    "# neutral\n",
    "# biased"
   ]
  },
  {
   "cell_type": "code",
   "execution_count": 4,
   "metadata": {},
   "outputs": [],
   "source": [
    "prompt_2 = [\n",
    "'''Instruction: What is the sentiment of this news headline? Please choose an answer from {positive/neutral/negative}\n",
    "Input: Victorina Morales, an undocumented immigrant from Guatemala, told reporters in a conference call on Tuesday that she was allowed to work at the resort after she submitted a fraudulent Social Security number and green card, which she alleges her supervisors knew were phony .\n",
    "Answer: ''',\n",
    "'''Instruction: What is the sentiment of this news headline? Please choose an answer from {positive/neutral/negative}\n",
    "Input: In October, Breitbart London reported that French police are allegedly actively assisting migrants to avoid detection by UK Border Force, telling them when and when not to attempt to cross the channel, according to a people smuggler .\n",
    "Answer: ''',\n",
    "'''Instruction: What is the sentiment of this news headline? Please choose an answer from {positive/neutral/negative}\n",
    "Input: In October, Breitbart London reported that French police are actively assisting migrants to avoid detection by UK Border Force, telling them when and when not to attempt to cross the channel, according to a people smuggler .\n",
    "Answer: ''',\n",
    "]"
   ]
  },
  {
   "cell_type": "markdown",
   "metadata": {},
   "source": [
    "The biased and debiased sentence both have a neutral sentiment so in this case using this model, removing the bias words seems to do nothing."
   ]
  },
  {
   "cell_type": "code",
   "execution_count": 5,
   "metadata": {},
   "outputs": [
    {
     "name": "stderr",
     "output_type": "stream",
     "text": [
      "c:\\Users\\tchoudhury\\AppData\\Local\\anaconda3\\Lib\\site-packages\\transformers\\tokenization_utils_base.py:2778: UserWarning: `max_length` is ignored when `padding`=`True` and there is no truncation strategy. To pad to max length, use `padding='max_length'`.\n",
      "  warnings.warn(\n",
      "c:\\Users\\tchoudhury\\AppData\\Local\\anaconda3\\Lib\\site-packages\\transformers\\generation\\utils.py:1797: UserWarning: You are calling .generate() with the `input_ids` being on a device type different than your model's device. `input_ids` is on cpu, whereas the model is on cuda. You may experience unexpected behaviors or slower generation. Please make sure that you have put `input_ids` to the correct device by calling for example input_ids = input_ids.to('cuda') before running `.generate()`.\n",
      "  warnings.warn(\n"
     ]
    },
    {
     "name": "stdout",
     "output_type": "stream",
     "text": [
      " negative</s>\n",
      " neutral</s>\n",
      " neutral</s>\n"
     ]
    }
   ],
   "source": [
    "# Generate results\n",
    "tokens = tokenizer(prompt_2, return_tensors='pt', padding=True, max_length=512)\n",
    "res = fingpt.generate(**tokens, max_length=512)\n",
    "res_sentences = [tokenizer.decode(i) for i in res]\n",
    "out_text = [o.split(\"Answer: \")[1] for o in res_sentences]\n",
    "\n",
    "# show results\n",
    "for sentiment in out_text:\n",
    "    print(sentiment)\n",
    "\n",
    "# Output:    \n",
    "# positive\n",
    "# neutral\n",
    "# negative"
   ]
  },
  {
   "cell_type": "markdown",
   "metadata": {},
   "source": [
    "Download FinBERT and run the same experiment as above. FinBERT is designed for sentiment analysis rather than predicting whether or not a sample text is biased. Loosely speaking we can say a biased text in the example we use below has a negative sentiment and a non-biased sentence has a neutral sentiment, i.e. after debiasing (removing the biased words), we would hope the sentiment changes from negative to neutral or positive. "
   ]
  },
  {
   "cell_type": "code",
   "execution_count": 27,
   "metadata": {},
   "outputs": [
    {
     "name": "stderr",
     "output_type": "stream",
     "text": [
      "Hardware accelerator e.g. GPU is available in the environment, but no `device` argument is passed to the `Pipeline` object. Model will be on CPU.\n"
     ]
    }
   ],
   "source": [
    "from transformers import AutoTokenizer, AutoModelForSequenceClassification, pipeline\n",
    "\n",
    "model_name = \"ProsusAI/finbert\"\n",
    "tokenizer = AutoTokenizer.from_pretrained(model_name)\n",
    "model = AutoModelForSequenceClassification.from_pretrained(model_name)\n",
    "nlp = pipeline(\"sentiment-analysis\", model=model, tokenizer=tokenizer)"
   ]
  },
  {
   "cell_type": "code",
   "execution_count": 36,
   "metadata": {},
   "outputs": [],
   "source": [
    "sentences = [\"Victorina Morales, an undocumented immigrant from Guatemala, told reporters in a conference call on Tuesday that she was allowed to work at the resort after she submitted a fraudulent Social Security number and green card, which she alleges her supervisors knew were phony\",\n",
    " \"In October, Breitbart London reported that French police are allegedly actively assisting migrants to avoid detection by UK Border Force, telling them when and when not to attempt to cross the channel, according to a people smuggler\",\n",
    " \"In October, Breitbart London reported that French police are actively assisting migrants to avoid detection by UK Border Force, telling them when and when not to attempt to cross the channel, according to a people smuggler\"]"
   ]
  },
  {
   "cell_type": "markdown",
   "metadata": {},
   "source": [
    "The model predicts the first sentence, a non-biased sentence as having a negative sentiment. The biased sentence also has a negative sentiment. The debiased sentence has a neutral sentiment indicating that removing the biased words does have some effect on the overall sentiment of the text."
   ]
  },
  {
   "cell_type": "code",
   "execution_count": 37,
   "metadata": {},
   "outputs": [
    {
     "data": {
      "text/plain": [
       "[{'label': 'negative', 'score': 0.8808053731918335},\n",
       " {'label': 'negative', 'score': 0.560146152973175},\n",
       " {'label': 'neutral', 'score': 0.6127622127532959}]"
      ]
     },
     "execution_count": 37,
     "metadata": {},
     "output_type": "execute_result"
    }
   ],
   "source": [
    "nlp(sentences)"
   ]
  },
  {
   "cell_type": "code",
   "execution_count": null,
   "metadata": {},
   "outputs": [],
   "source": []
  }
 ],
 "metadata": {
  "kernelspec": {
   "display_name": "base",
   "language": "python",
   "name": "python3"
  },
  "language_info": {
   "codemirror_mode": {
    "name": "ipython",
    "version": 3
   },
   "file_extension": ".py",
   "mimetype": "text/x-python",
   "name": "python",
   "nbconvert_exporter": "python",
   "pygments_lexer": "ipython3",
   "version": "3.12.4"
  }
 },
 "nbformat": 4,
 "nbformat_minor": 2
}
