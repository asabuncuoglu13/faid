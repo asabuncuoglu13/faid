{
 "cells": [
  {
   "cell_type": "code",
   "execution_count": 22,
   "metadata": {},
   "outputs": [],
   "source": [
    "import numpy as np\n",
    "import pandas as pd\n",
    "import torch\n",
    "from sklearn.preprocessing import LabelEncoder"
   ]
  },
  {
   "cell_type": "code",
   "execution_count": 23,
   "metadata": {},
   "outputs": [
    {
     "data": {
      "text/html": [
       "<div>\n",
       "<style scoped>\n",
       "    .dataframe tbody tr th:only-of-type {\n",
       "        vertical-align: middle;\n",
       "    }\n",
       "\n",
       "    .dataframe tbody tr th {\n",
       "        vertical-align: top;\n",
       "    }\n",
       "\n",
       "    .dataframe thead th {\n",
       "        text-align: right;\n",
       "    }\n",
       "</style>\n",
       "<table border=\"1\" class=\"dataframe\">\n",
       "  <thead>\n",
       "    <tr style=\"text-align: right;\">\n",
       "      <th></th>\n",
       "      <th>Prompt</th>\n",
       "      <th>Sex</th>\n",
       "      <th>labels</th>\n",
       "    </tr>\n",
       "  </thead>\n",
       "  <tbody>\n",
       "    <tr>\n",
       "      <th>0</th>\n",
       "      <td>Using the following characteristics, assess wh...</td>\n",
       "      <td>male</td>\n",
       "      <td>good</td>\n",
       "    </tr>\n",
       "    <tr>\n",
       "      <th>1</th>\n",
       "      <td>Using the following characteristics, assess wh...</td>\n",
       "      <td>female</td>\n",
       "      <td>bad</td>\n",
       "    </tr>\n",
       "    <tr>\n",
       "      <th>2</th>\n",
       "      <td>Using the following characteristics, assess wh...</td>\n",
       "      <td>male</td>\n",
       "      <td>good</td>\n",
       "    </tr>\n",
       "    <tr>\n",
       "      <th>3</th>\n",
       "      <td>Using the following characteristics, assess wh...</td>\n",
       "      <td>male</td>\n",
       "      <td>good</td>\n",
       "    </tr>\n",
       "    <tr>\n",
       "      <th>4</th>\n",
       "      <td>Using the following characteristics, assess wh...</td>\n",
       "      <td>male</td>\n",
       "      <td>bad</td>\n",
       "    </tr>\n",
       "    <tr>\n",
       "      <th>...</th>\n",
       "      <td>...</td>\n",
       "      <td>...</td>\n",
       "      <td>...</td>\n",
       "    </tr>\n",
       "    <tr>\n",
       "      <th>995</th>\n",
       "      <td>Using the following characteristics, assess wh...</td>\n",
       "      <td>female</td>\n",
       "      <td>good</td>\n",
       "    </tr>\n",
       "    <tr>\n",
       "      <th>996</th>\n",
       "      <td>Using the following characteristics, assess wh...</td>\n",
       "      <td>male</td>\n",
       "      <td>good</td>\n",
       "    </tr>\n",
       "    <tr>\n",
       "      <th>997</th>\n",
       "      <td>Using the following characteristics, assess wh...</td>\n",
       "      <td>male</td>\n",
       "      <td>good</td>\n",
       "    </tr>\n",
       "    <tr>\n",
       "      <th>998</th>\n",
       "      <td>Using the following characteristics, assess wh...</td>\n",
       "      <td>male</td>\n",
       "      <td>bad</td>\n",
       "    </tr>\n",
       "    <tr>\n",
       "      <th>999</th>\n",
       "      <td>Using the following characteristics, assess wh...</td>\n",
       "      <td>male</td>\n",
       "      <td>good</td>\n",
       "    </tr>\n",
       "  </tbody>\n",
       "</table>\n",
       "<p>1000 rows × 3 columns</p>\n",
       "</div>"
      ],
      "text/plain": [
       "                                                Prompt     Sex labels\n",
       "0    Using the following characteristics, assess wh...    male   good\n",
       "1    Using the following characteristics, assess wh...  female    bad\n",
       "2    Using the following characteristics, assess wh...    male   good\n",
       "3    Using the following characteristics, assess wh...    male   good\n",
       "4    Using the following characteristics, assess wh...    male    bad\n",
       "..                                                 ...     ...    ...\n",
       "995  Using the following characteristics, assess wh...  female   good\n",
       "996  Using the following characteristics, assess wh...    male   good\n",
       "997  Using the following characteristics, assess wh...    male   good\n",
       "998  Using the following characteristics, assess wh...    male    bad\n",
       "999  Using the following characteristics, assess wh...    male   good\n",
       "\n",
       "[1000 rows x 3 columns]"
      ]
     },
     "execution_count": 23,
     "metadata": {},
     "output_type": "execute_result"
    }
   ],
   "source": [
    "url='https://drive.google.com/file/d/1N7z7Nn4IuQjZSv1eqLh32HKrKKaLrsoQ/view?usp=sharing'\n",
    "file_id=url.split('/')[-2]\n",
    "dwn_url='https://drive.google.com/uc?id=' + file_id\n",
    "df=pd.read_csv(dwn_url)\n",
    "df = df.rename({'Risk':'labels'}, axis = 'columns')\n",
    "df"
   ]
  },
  {
   "cell_type": "code",
   "execution_count": 24,
   "metadata": {},
   "outputs": [],
   "source": [
    "from transformers import AutoTokenizer\n",
    "tokenizer = AutoTokenizer.from_pretrained(\"distilbert-base-uncased\")"
   ]
  },
  {
   "cell_type": "code",
   "execution_count": 25,
   "metadata": {},
   "outputs": [],
   "source": [
    "# Tokenize responses \n",
    "tokenized_data = tokenizer(\n",
    "    df['Prompt'].tolist(),\n",
    "    max_length = 512,\n",
    "    padding = True,\n",
    "    truncation = True,\n",
    "    return_tensors=\"pt\"\n",
    ")\n",
    "\n",
    "# Encode labels\n",
    "le = LabelEncoder()\n",
    "labels = le.fit_transform(df['labels']) \n",
    "labels = torch.tensor(labels.tolist())"
   ]
  },
  {
   "cell_type": "code",
   "execution_count": 26,
   "metadata": {},
   "outputs": [],
   "source": [
    "from torch.utils.data import Dataset\n",
    "\n",
    "class SentimentData(Dataset):\n",
    "    def __init__(self, tokenized_data, labels):\n",
    "        self.input_ids = tokenized_data['input_ids']\n",
    "        self.attention_mask = tokenized_data['attention_mask']\n",
    "        self.labels = labels\n",
    "\n",
    "    def __len__(self):\n",
    "        return len(self.labels)\n",
    "    \n",
    "    def __getitem__(self, idx):\n",
    "        return {\n",
    "            'input_ids': self.input_ids[idx],\n",
    "            'attention_mask': self.attention_mask[idx],\n",
    "            'labels': self.labels[idx]\n",
    "        }\n",
    "\n",
    "dataset = SentimentData(tokenized_data, labels)"
   ]
  },
  {
   "cell_type": "code",
   "execution_count": 27,
   "metadata": {},
   "outputs": [
    {
     "name": "stderr",
     "output_type": "stream",
     "text": [
      "Some weights of DistilBertForSequenceClassification were not initialized from the model checkpoint at distilbert-base-uncased and are newly initialized: ['classifier.bias', 'classifier.weight', 'pre_classifier.bias', 'pre_classifier.weight']\n",
      "You should probably TRAIN this model on a down-stream task to be able to use it for predictions and inference.\n"
     ]
    }
   ],
   "source": [
    "from transformers import AutoModelForSequenceClassification\n",
    "\n",
    "model = AutoModelForSequenceClassification.from_pretrained(\n",
    "    \"distilbert-base-uncased\", num_labels=3)"
   ]
  },
  {
   "cell_type": "code",
   "execution_count": 28,
   "metadata": {},
   "outputs": [
    {
     "name": "stdout",
     "output_type": "stream",
     "text": [
      "Parameters in last 2 layers: 592899\n"
     ]
    }
   ],
   "source": [
    "def count_parameters(model):\n",
    "    return sum(p.numel() for p in model.parameters() if p.requires_grad)\n",
    "\n",
    "num_param = count_parameters(model.pre_classifier) + count_parameters(model.classifier)\n",
    "print(\"Parameters in last 2 layers:\", num_param)"
   ]
  },
  {
   "cell_type": "code",
   "execution_count": 29,
   "metadata": {},
   "outputs": [],
   "source": [
    "for param in model.parameters():\n",
    "    param.requires_grad = False"
   ]
  },
  {
   "cell_type": "code",
   "execution_count": 30,
   "metadata": {},
   "outputs": [],
   "source": [
    "def make_adapter(in_dim, bottleneck_dim, out_dim):\n",
    "    adapter_layers = torch.nn.Sequential(\n",
    "        torch.nn.Linear(in_dim, bottleneck_dim),\n",
    "        torch.nn.GELU(),\n",
    "        torch.nn.Linear(bottleneck_dim, out_dim),\n",
    "    )\n",
    "    return adapter_layers"
   ]
  },
  {
   "cell_type": "code",
   "execution_count": 31,
   "metadata": {},
   "outputs": [
    {
     "name": "stdout",
     "output_type": "stream",
     "text": [
      "Number of adapter parameters added: 599424\n"
     ]
    }
   ],
   "source": [
    "total_size = 0\n",
    "bottleneck_size = 32 # hyperparameter\n",
    "\n",
    "for block_idx in range(6):\n",
    "\n",
    "    ###################################################\n",
    "    # insert 1st adapter layer into transformer block\n",
    "    ###################################################\n",
    "\n",
    "    orig_layer_1 = model.distilbert.transformer.layer[block_idx].attention.out_lin\n",
    "\n",
    "    adapter_layers_1 = make_adapter(\n",
    "        in_dim=orig_layer_1.out_features, \n",
    "        bottleneck_dim=bottleneck_size, \n",
    "        out_dim=orig_layer_1.out_features)\n",
    "\n",
    "    new_1 = torch.nn.Sequential(orig_layer_1, *adapter_layers_1)\n",
    "    model.distilbert.transformer.layer[block_idx].attention.out_lin = new_1\n",
    "    \n",
    "    total_size += count_parameters(adapter_layers_1)\n",
    "\n",
    "    ###################################################\n",
    "    # insert 2nd adapter layer into transformer block\n",
    "    ###################################################\n",
    "\n",
    "    orig_layer_2 = model.distilbert.transformer.layer[block_idx].ffn.lin2\n",
    "\n",
    "    adapter_layers_2 = make_adapter(\n",
    "        in_dim=orig_layer_2.out_features, \n",
    "        bottleneck_dim=bottleneck_size, \n",
    "        out_dim=orig_layer_2.out_features)\n",
    "\n",
    "    new_2 = torch.nn.Sequential(orig_layer_2, *adapter_layers_2)\n",
    "    model.distilbert.transformer.layer[block_idx].ffn.lin2 = new_2\n",
    "    \n",
    "    total_size += count_parameters(adapter_layers_2)\n",
    "    \n",
    "\n",
    "print(\"Number of adapter parameters added:\", total_size)"
   ]
  },
  {
   "cell_type": "code",
   "execution_count": 32,
   "metadata": {},
   "outputs": [],
   "source": [
    "from torch.utils.data import DataLoader\n",
    "train_dataloader = DataLoader(dataset)\n",
    "eval_dataloader = DataLoader(dataset)"
   ]
  },
  {
   "cell_type": "code",
   "execution_count": 33,
   "metadata": {},
   "outputs": [],
   "source": [
    "from torch.optim import AdamW\n",
    "optimizer = AdamW(model.parameters(), lr = 5e-5)"
   ]
  },
  {
   "cell_type": "code",
   "execution_count": 34,
   "metadata": {},
   "outputs": [
    {
     "data": {
      "text/plain": [
       "DistilBertForSequenceClassification(\n",
       "  (distilbert): DistilBertModel(\n",
       "    (embeddings): Embeddings(\n",
       "      (word_embeddings): Embedding(30522, 768, padding_idx=0)\n",
       "      (position_embeddings): Embedding(512, 768)\n",
       "      (LayerNorm): LayerNorm((768,), eps=1e-12, elementwise_affine=True)\n",
       "      (dropout): Dropout(p=0.1, inplace=False)\n",
       "    )\n",
       "    (transformer): Transformer(\n",
       "      (layer): ModuleList(\n",
       "        (0-5): 6 x TransformerBlock(\n",
       "          (attention): MultiHeadSelfAttention(\n",
       "            (dropout): Dropout(p=0.1, inplace=False)\n",
       "            (q_lin): Linear(in_features=768, out_features=768, bias=True)\n",
       "            (k_lin): Linear(in_features=768, out_features=768, bias=True)\n",
       "            (v_lin): Linear(in_features=768, out_features=768, bias=True)\n",
       "            (out_lin): Sequential(\n",
       "              (0): Linear(in_features=768, out_features=768, bias=True)\n",
       "              (1): Linear(in_features=768, out_features=32, bias=True)\n",
       "              (2): GELU(approximate='none')\n",
       "              (3): Linear(in_features=32, out_features=768, bias=True)\n",
       "            )\n",
       "          )\n",
       "          (sa_layer_norm): LayerNorm((768,), eps=1e-12, elementwise_affine=True)\n",
       "          (ffn): FFN(\n",
       "            (dropout): Dropout(p=0.1, inplace=False)\n",
       "            (lin1): Linear(in_features=768, out_features=3072, bias=True)\n",
       "            (lin2): Sequential(\n",
       "              (0): Linear(in_features=3072, out_features=768, bias=True)\n",
       "              (1): Linear(in_features=768, out_features=32, bias=True)\n",
       "              (2): GELU(approximate='none')\n",
       "              (3): Linear(in_features=32, out_features=768, bias=True)\n",
       "            )\n",
       "            (activation): GELUActivation()\n",
       "          )\n",
       "          (output_layer_norm): LayerNorm((768,), eps=1e-12, elementwise_affine=True)\n",
       "        )\n",
       "      )\n",
       "    )\n",
       "  )\n",
       "  (pre_classifier): Linear(in_features=768, out_features=768, bias=True)\n",
       "  (classifier): Linear(in_features=768, out_features=3, bias=True)\n",
       "  (dropout): Dropout(p=0.2, inplace=False)\n",
       ")"
      ]
     },
     "execution_count": 34,
     "metadata": {},
     "output_type": "execute_result"
    }
   ],
   "source": [
    "from transformers import get_scheduler\n",
    "num_epochs = 3\n",
    "num_training_steps = num_epochs*len(train_dataloader)\n",
    "lr_scheduler = get_scheduler(\n",
    "    name=\"linear\", optimizer=optimizer, num_warmup_steps=0, num_training_steps=num_training_steps)\n",
    "\n",
    "device = torch.device(\"cuda\") if torch.cuda.is_available() else torch.device(\"cpu\")\n",
    "model.to(device)"
   ]
  },
  {
   "cell_type": "code",
   "execution_count": 35,
   "metadata": {},
   "outputs": [
    {
     "data": {
      "application/vnd.jupyter.widget-view+json": {
       "model_id": "1d999e8285244d9b9cb828fab4015f4a",
       "version_major": 2,
       "version_minor": 0
      },
      "text/plain": [
       "  0%|          | 0/3000 [00:00<?, ?it/s]"
      ]
     },
     "metadata": {},
     "output_type": "display_data"
    },
    {
     "name": "stdout",
     "output_type": "stream",
     "text": [
      "Epoch 1/3, Loss: 0.3685868978500366\n",
      "Epoch 2/3, Loss: 0.4493759870529175\n",
      "Epoch 3/3, Loss: 0.3839338421821594\n"
     ]
    }
   ],
   "source": [
    "from tqdm.auto import tqdm\n",
    "model.train()\n",
    "\n",
    "progress_bar = tqdm(range(num_training_steps))\n",
    "\n",
    "# Training loop\n",
    "for epoch in range(num_epochs):\n",
    "    for batch in train_dataloader:\n",
    "        batch = {k: v.to(device) for k, v in batch.items()}\n",
    "\n",
    "        # Forward pass\n",
    "        outputs = model(input_ids=batch['input_ids'], attention_mask=batch['attention_mask'], labels=batch['labels'])\n",
    "        \n",
    "        # Compute loss\n",
    "        loss = outputs.loss\n",
    "        loss.backward() \n",
    "\n",
    "        # Update parameters\n",
    "        optimizer.step()\n",
    "        lr_scheduler.step()\n",
    "        optimizer.zero_grad()\n",
    "\n",
    "        # Update progress bar\n",
    "        progress_bar.update(1)\n",
    "\n",
    "    print(f\"Epoch {epoch+1}/{num_epochs}, Loss: {loss.item()}\")\n",
    "\n",
    "    model.save_pretrained(\"./fine_tuned_distilbert_CS\")"
   ]
  },
  {
   "cell_type": "code",
   "execution_count": 36,
   "metadata": {},
   "outputs": [
    {
     "data": {
      "text/plain": [
       "{'accuracy': 0.7}"
      ]
     },
     "execution_count": 36,
     "metadata": {},
     "output_type": "execute_result"
    }
   ],
   "source": [
    "import evaluate\n",
    "\n",
    "metric = evaluate.load(\"accuracy\")\n",
    "\n",
    "model.eval()\n",
    "\n",
    "for batch in eval_dataloader:\n",
    "\n",
    "    batch = {k: v.to(device) for k, v in batch.items()}\n",
    "\n",
    "    with torch.no_grad():\n",
    "\n",
    "        outputs = model(**batch)\n",
    "\n",
    "    logits = outputs.logits\n",
    "\n",
    "    predictions = torch.argmax(logits, dim=-1)\n",
    "\n",
    "    metric.add_batch(predictions=predictions, references=batch[\"labels\"])\n",
    "\n",
    "metric.compute()"
   ]
  },
  {
   "cell_type": "code",
   "execution_count": 37,
   "metadata": {},
   "outputs": [
    {
     "name": "stderr",
     "output_type": "stream",
     "text": [
      "Some weights of the model checkpoint at ./fine_tuned_distilbert_CS were not used when initializing DistilBertForSequenceClassification: ['distilbert.transformer.layer.0.attention.out_lin.0.bias', 'distilbert.transformer.layer.0.attention.out_lin.0.weight', 'distilbert.transformer.layer.0.attention.out_lin.1.bias', 'distilbert.transformer.layer.0.attention.out_lin.1.weight', 'distilbert.transformer.layer.0.attention.out_lin.3.bias', 'distilbert.transformer.layer.0.attention.out_lin.3.weight', 'distilbert.transformer.layer.0.ffn.lin2.0.bias', 'distilbert.transformer.layer.0.ffn.lin2.0.weight', 'distilbert.transformer.layer.0.ffn.lin2.1.bias', 'distilbert.transformer.layer.0.ffn.lin2.1.weight', 'distilbert.transformer.layer.0.ffn.lin2.3.bias', 'distilbert.transformer.layer.0.ffn.lin2.3.weight', 'distilbert.transformer.layer.1.attention.out_lin.0.bias', 'distilbert.transformer.layer.1.attention.out_lin.0.weight', 'distilbert.transformer.layer.1.attention.out_lin.1.bias', 'distilbert.transformer.layer.1.attention.out_lin.1.weight', 'distilbert.transformer.layer.1.attention.out_lin.3.bias', 'distilbert.transformer.layer.1.attention.out_lin.3.weight', 'distilbert.transformer.layer.1.ffn.lin2.0.bias', 'distilbert.transformer.layer.1.ffn.lin2.0.weight', 'distilbert.transformer.layer.1.ffn.lin2.1.bias', 'distilbert.transformer.layer.1.ffn.lin2.1.weight', 'distilbert.transformer.layer.1.ffn.lin2.3.bias', 'distilbert.transformer.layer.1.ffn.lin2.3.weight', 'distilbert.transformer.layer.2.attention.out_lin.0.bias', 'distilbert.transformer.layer.2.attention.out_lin.0.weight', 'distilbert.transformer.layer.2.attention.out_lin.1.bias', 'distilbert.transformer.layer.2.attention.out_lin.1.weight', 'distilbert.transformer.layer.2.attention.out_lin.3.bias', 'distilbert.transformer.layer.2.attention.out_lin.3.weight', 'distilbert.transformer.layer.2.ffn.lin2.0.bias', 'distilbert.transformer.layer.2.ffn.lin2.0.weight', 'distilbert.transformer.layer.2.ffn.lin2.1.bias', 'distilbert.transformer.layer.2.ffn.lin2.1.weight', 'distilbert.transformer.layer.2.ffn.lin2.3.bias', 'distilbert.transformer.layer.2.ffn.lin2.3.weight', 'distilbert.transformer.layer.3.attention.out_lin.0.bias', 'distilbert.transformer.layer.3.attention.out_lin.0.weight', 'distilbert.transformer.layer.3.attention.out_lin.1.bias', 'distilbert.transformer.layer.3.attention.out_lin.1.weight', 'distilbert.transformer.layer.3.attention.out_lin.3.bias', 'distilbert.transformer.layer.3.attention.out_lin.3.weight', 'distilbert.transformer.layer.3.ffn.lin2.0.bias', 'distilbert.transformer.layer.3.ffn.lin2.0.weight', 'distilbert.transformer.layer.3.ffn.lin2.1.bias', 'distilbert.transformer.layer.3.ffn.lin2.1.weight', 'distilbert.transformer.layer.3.ffn.lin2.3.bias', 'distilbert.transformer.layer.3.ffn.lin2.3.weight', 'distilbert.transformer.layer.4.attention.out_lin.0.bias', 'distilbert.transformer.layer.4.attention.out_lin.0.weight', 'distilbert.transformer.layer.4.attention.out_lin.1.bias', 'distilbert.transformer.layer.4.attention.out_lin.1.weight', 'distilbert.transformer.layer.4.attention.out_lin.3.bias', 'distilbert.transformer.layer.4.attention.out_lin.3.weight', 'distilbert.transformer.layer.4.ffn.lin2.0.bias', 'distilbert.transformer.layer.4.ffn.lin2.0.weight', 'distilbert.transformer.layer.4.ffn.lin2.1.bias', 'distilbert.transformer.layer.4.ffn.lin2.1.weight', 'distilbert.transformer.layer.4.ffn.lin2.3.bias', 'distilbert.transformer.layer.4.ffn.lin2.3.weight', 'distilbert.transformer.layer.5.attention.out_lin.0.bias', 'distilbert.transformer.layer.5.attention.out_lin.0.weight', 'distilbert.transformer.layer.5.attention.out_lin.1.bias', 'distilbert.transformer.layer.5.attention.out_lin.1.weight', 'distilbert.transformer.layer.5.attention.out_lin.3.bias', 'distilbert.transformer.layer.5.attention.out_lin.3.weight', 'distilbert.transformer.layer.5.ffn.lin2.0.bias', 'distilbert.transformer.layer.5.ffn.lin2.0.weight', 'distilbert.transformer.layer.5.ffn.lin2.1.bias', 'distilbert.transformer.layer.5.ffn.lin2.1.weight', 'distilbert.transformer.layer.5.ffn.lin2.3.bias', 'distilbert.transformer.layer.5.ffn.lin2.3.weight']\n",
      "- This IS expected if you are initializing DistilBertForSequenceClassification from the checkpoint of a model trained on another task or with another architecture (e.g. initializing a BertForSequenceClassification model from a BertForPreTraining model).\n",
      "- This IS NOT expected if you are initializing DistilBertForSequenceClassification from the checkpoint of a model that you expect to be exactly identical (initializing a BertForSequenceClassification model from a BertForSequenceClassification model).\n",
      "Some weights of DistilBertForSequenceClassification were not initialized from the model checkpoint at ./fine_tuned_distilbert_CS and are newly initialized: ['distilbert.transformer.layer.0.attention.out_lin.bias', 'distilbert.transformer.layer.0.attention.out_lin.weight', 'distilbert.transformer.layer.0.ffn.lin2.bias', 'distilbert.transformer.layer.0.ffn.lin2.weight', 'distilbert.transformer.layer.1.attention.out_lin.bias', 'distilbert.transformer.layer.1.attention.out_lin.weight', 'distilbert.transformer.layer.1.ffn.lin2.bias', 'distilbert.transformer.layer.1.ffn.lin2.weight', 'distilbert.transformer.layer.2.attention.out_lin.bias', 'distilbert.transformer.layer.2.attention.out_lin.weight', 'distilbert.transformer.layer.2.ffn.lin2.bias', 'distilbert.transformer.layer.2.ffn.lin2.weight', 'distilbert.transformer.layer.3.attention.out_lin.bias', 'distilbert.transformer.layer.3.attention.out_lin.weight', 'distilbert.transformer.layer.3.ffn.lin2.bias', 'distilbert.transformer.layer.3.ffn.lin2.weight', 'distilbert.transformer.layer.4.attention.out_lin.bias', 'distilbert.transformer.layer.4.attention.out_lin.weight', 'distilbert.transformer.layer.4.ffn.lin2.bias', 'distilbert.transformer.layer.4.ffn.lin2.weight', 'distilbert.transformer.layer.5.attention.out_lin.bias', 'distilbert.transformer.layer.5.attention.out_lin.weight', 'distilbert.transformer.layer.5.ffn.lin2.bias', 'distilbert.transformer.layer.5.ffn.lin2.weight']\n",
      "You should probably TRAIN this model on a down-stream task to be able to use it for predictions and inference.\n"
     ]
    }
   ],
   "source": [
    "from transformers import DistilBertTokenizer, DistilBertForSequenceClassification\n",
    "model = DistilBertForSequenceClassification.from_pretrained(\"./fine_tuned_distilbert_CS\")\n",
    "tokenizer = DistilBertTokenizer.from_pretrained(\"distilbert-base-uncased\")"
   ]
  },
  {
   "cell_type": "code",
   "execution_count": 38,
   "metadata": {},
   "outputs": [
    {
     "data": {
      "text/plain": [
       "DistilBertForSequenceClassification(\n",
       "  (distilbert): DistilBertModel(\n",
       "    (embeddings): Embeddings(\n",
       "      (word_embeddings): Embedding(30522, 768, padding_idx=0)\n",
       "      (position_embeddings): Embedding(512, 768)\n",
       "      (LayerNorm): LayerNorm((768,), eps=1e-12, elementwise_affine=True)\n",
       "      (dropout): Dropout(p=0.1, inplace=False)\n",
       "    )\n",
       "    (transformer): Transformer(\n",
       "      (layer): ModuleList(\n",
       "        (0-5): 6 x TransformerBlock(\n",
       "          (attention): MultiHeadSelfAttention(\n",
       "            (dropout): Dropout(p=0.1, inplace=False)\n",
       "            (q_lin): Linear(in_features=768, out_features=768, bias=True)\n",
       "            (k_lin): Linear(in_features=768, out_features=768, bias=True)\n",
       "            (v_lin): Linear(in_features=768, out_features=768, bias=True)\n",
       "            (out_lin): Linear(in_features=768, out_features=768, bias=True)\n",
       "          )\n",
       "          (sa_layer_norm): LayerNorm((768,), eps=1e-12, elementwise_affine=True)\n",
       "          (ffn): FFN(\n",
       "            (dropout): Dropout(p=0.1, inplace=False)\n",
       "            (lin1): Linear(in_features=768, out_features=3072, bias=True)\n",
       "            (lin2): Linear(in_features=3072, out_features=768, bias=True)\n",
       "            (activation): GELUActivation()\n",
       "          )\n",
       "          (output_layer_norm): LayerNorm((768,), eps=1e-12, elementwise_affine=True)\n",
       "        )\n",
       "      )\n",
       "    )\n",
       "  )\n",
       "  (pre_classifier): Linear(in_features=768, out_features=768, bias=True)\n",
       "  (classifier): Linear(in_features=768, out_features=3, bias=True)\n",
       "  (dropout): Dropout(p=0.2, inplace=False)\n",
       ")"
      ]
     },
     "execution_count": 38,
     "metadata": {},
     "output_type": "execute_result"
    }
   ],
   "source": [
    "model.eval()"
   ]
  },
  {
   "cell_type": "code",
   "execution_count": 39,
   "metadata": {},
   "outputs": [
    {
     "name": "stdout",
     "output_type": "stream",
     "text": [
      "good\n"
     ]
    }
   ],
   "source": [
    "def get_prediction(text):\n",
    "    # Tokenize the input\n",
    "    inputs = tokenizer(text, return_tensors=\"pt\", padding=True, truncation=True)\n",
    "    \n",
    "    with torch.no_grad():\n",
    "        outputs = model(**inputs)\n",
    "\n",
    "    logits = outputs.logits\n",
    "    probabilities = torch.softmax(logits, dim=1)\n",
    "\n",
    "    predicted_class = torch.argmax(probabilities, dim=1).item()\n",
    "    \n",
    "    label_mapping = {1: 'bad', 2: 'good'} \n",
    "    predicted_label = label_mapping[predicted_class]\n",
    "\n",
    "    return predicted_label\n",
    "\n",
    "# Example instance to predict\n",
    "input_text = df['Prompt'][5]\n",
    "predicted_label = get_prediction(input_text)\n",
    "print(predicted_label)"
   ]
  },
  {
   "cell_type": "code",
   "execution_count": 40,
   "metadata": {},
   "outputs": [
    {
     "data": {
      "text/html": [
       "<div>\n",
       "<style scoped>\n",
       "    .dataframe tbody tr th:only-of-type {\n",
       "        vertical-align: middle;\n",
       "    }\n",
       "\n",
       "    .dataframe tbody tr th {\n",
       "        vertical-align: top;\n",
       "    }\n",
       "\n",
       "    .dataframe thead th {\n",
       "        text-align: right;\n",
       "    }\n",
       "</style>\n",
       "<table border=\"1\" class=\"dataframe\">\n",
       "  <thead>\n",
       "    <tr style=\"text-align: right;\">\n",
       "      <th></th>\n",
       "      <th>Prompt</th>\n",
       "      <th>Sex</th>\n",
       "      <th>labels</th>\n",
       "      <th>Predicted_Label</th>\n",
       "    </tr>\n",
       "  </thead>\n",
       "  <tbody>\n",
       "    <tr>\n",
       "      <th>0</th>\n",
       "      <td>Using the following characteristics, assess wh...</td>\n",
       "      <td>male</td>\n",
       "      <td>good</td>\n",
       "      <td>good</td>\n",
       "    </tr>\n",
       "    <tr>\n",
       "      <th>1</th>\n",
       "      <td>Using the following characteristics, assess wh...</td>\n",
       "      <td>female</td>\n",
       "      <td>bad</td>\n",
       "      <td>good</td>\n",
       "    </tr>\n",
       "    <tr>\n",
       "      <th>2</th>\n",
       "      <td>Using the following characteristics, assess wh...</td>\n",
       "      <td>male</td>\n",
       "      <td>good</td>\n",
       "      <td>good</td>\n",
       "    </tr>\n",
       "    <tr>\n",
       "      <th>3</th>\n",
       "      <td>Using the following characteristics, assess wh...</td>\n",
       "      <td>male</td>\n",
       "      <td>good</td>\n",
       "      <td>good</td>\n",
       "    </tr>\n",
       "    <tr>\n",
       "      <th>4</th>\n",
       "      <td>Using the following characteristics, assess wh...</td>\n",
       "      <td>male</td>\n",
       "      <td>bad</td>\n",
       "      <td>good</td>\n",
       "    </tr>\n",
       "    <tr>\n",
       "      <th>...</th>\n",
       "      <td>...</td>\n",
       "      <td>...</td>\n",
       "      <td>...</td>\n",
       "      <td>...</td>\n",
       "    </tr>\n",
       "    <tr>\n",
       "      <th>995</th>\n",
       "      <td>Using the following characteristics, assess wh...</td>\n",
       "      <td>female</td>\n",
       "      <td>good</td>\n",
       "      <td>good</td>\n",
       "    </tr>\n",
       "    <tr>\n",
       "      <th>996</th>\n",
       "      <td>Using the following characteristics, assess wh...</td>\n",
       "      <td>male</td>\n",
       "      <td>good</td>\n",
       "      <td>good</td>\n",
       "    </tr>\n",
       "    <tr>\n",
       "      <th>997</th>\n",
       "      <td>Using the following characteristics, assess wh...</td>\n",
       "      <td>male</td>\n",
       "      <td>good</td>\n",
       "      <td>good</td>\n",
       "    </tr>\n",
       "    <tr>\n",
       "      <th>998</th>\n",
       "      <td>Using the following characteristics, assess wh...</td>\n",
       "      <td>male</td>\n",
       "      <td>bad</td>\n",
       "      <td>good</td>\n",
       "    </tr>\n",
       "    <tr>\n",
       "      <th>999</th>\n",
       "      <td>Using the following characteristics, assess wh...</td>\n",
       "      <td>male</td>\n",
       "      <td>good</td>\n",
       "      <td>good</td>\n",
       "    </tr>\n",
       "  </tbody>\n",
       "</table>\n",
       "<p>1000 rows × 4 columns</p>\n",
       "</div>"
      ],
      "text/plain": [
       "                                                Prompt     Sex labels  \\\n",
       "0    Using the following characteristics, assess wh...    male   good   \n",
       "1    Using the following characteristics, assess wh...  female    bad   \n",
       "2    Using the following characteristics, assess wh...    male   good   \n",
       "3    Using the following characteristics, assess wh...    male   good   \n",
       "4    Using the following characteristics, assess wh...    male    bad   \n",
       "..                                                 ...     ...    ...   \n",
       "995  Using the following characteristics, assess wh...  female   good   \n",
       "996  Using the following characteristics, assess wh...    male   good   \n",
       "997  Using the following characteristics, assess wh...    male   good   \n",
       "998  Using the following characteristics, assess wh...    male    bad   \n",
       "999  Using the following characteristics, assess wh...    male   good   \n",
       "\n",
       "    Predicted_Label  \n",
       "0              good  \n",
       "1              good  \n",
       "2              good  \n",
       "3              good  \n",
       "4              good  \n",
       "..              ...  \n",
       "995            good  \n",
       "996            good  \n",
       "997            good  \n",
       "998            good  \n",
       "999            good  \n",
       "\n",
       "[1000 rows x 4 columns]"
      ]
     },
     "execution_count": 40,
     "metadata": {},
     "output_type": "execute_result"
    }
   ],
   "source": [
    "predictions = []\n",
    "for index, row in df.iterrows():\n",
    "    input_text = row['Prompt'] \n",
    "    predicted_label = get_prediction(input_text) \n",
    "    predictions.append(predicted_label)\n",
    "\n",
    "df['Predicted_Label'] = predictions\n",
    "df"
   ]
  },
  {
   "cell_type": "code",
   "execution_count": null,
   "metadata": {},
   "outputs": [],
   "source": []
  }
 ],
 "metadata": {
  "kernelspec": {
   "display_name": "base",
   "language": "python",
   "name": "python3"
  },
  "language_info": {
   "codemirror_mode": {
    "name": "ipython",
    "version": 3
   },
   "file_extension": ".py",
   "mimetype": "text/x-python",
   "name": "python",
   "nbconvert_exporter": "python",
   "pygments_lexer": "ipython3",
   "version": "3.12.4"
  }
 },
 "nbformat": 4,
 "nbformat_minor": 2
}
